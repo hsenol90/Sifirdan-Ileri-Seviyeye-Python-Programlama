{
 "cells": [
  {
   "cell_type": "markdown",
   "metadata": {},
   "source": [
    "#### Bir Dosyadan Okunan İçeriği Başka Dosyaya Büyük Harfle Aktarma\n",
    "\n",
    "Soru Açıklaması:\n",
    "\n",
    "Bir dosyadan okuduğunuz tüm harfleri ikinci bir dosyaya büyük harfe çevirerek aktarmanız gerekmektedir."
   ]
  },
  {
   "cell_type": "code",
   "execution_count": 3,
   "metadata": {},
   "outputs": [],
   "source": [
    "buyukHarfeCevirme=open(\"buyukHarfeCevirme.txt\",\"r\")\n",
    "buyukHarfeCevirme2=open(\"buyukHarfeCevirme2.txt\",\"w\")\n",
    "\n",
    "dosyaIcerigi=buyukHarfeCevirme.read()\n",
    "dosyaIcerigi=dosyaIcerigi.upper()\n",
    "buyukHarfeCevirme2.write(dosyaIcerigi)\n",
    "\n",
    "buyukHarfeCevirme.close()\n",
    "buyukHarfeCevirme2.close()"
   ]
  },
  {
   "cell_type": "markdown",
   "metadata": {},
   "source": [
    "#### Dosyadaki Kelime Sayısını Bulma\n",
    "\n",
    "Soru Açıklaması:\n",
    "\n",
    "Bir dosyadan okuma yaparak, dosyadaki kelime sayısını hesaplamanız gerekmektedir."
   ]
  },
  {
   "cell_type": "code",
   "execution_count": 7,
   "metadata": {},
   "outputs": [
    {
     "name": "stdout",
     "output_type": "stream",
     "text": [
      "17\n"
     ]
    }
   ],
   "source": [
    "kelimeSayisiDosya=open(\"kelimeSayisi.txt\",\"r\")\n",
    "dosyaIcerigi=kelimeSayisiDosya.read()\n",
    "kelimeListesi=dosyaIcerigi.split(\" \")\n",
    "print(len(kelimeListesi))\n",
    "kelimeSayisiDosya.close()"
   ]
  },
  {
   "cell_type": "markdown",
   "metadata": {},
   "source": [
    "#### Dosyadaki Cümlelerin İlk Harfini Büyük Harfe Çevirip Başka Dosyaya Aktarma\n",
    "\n",
    "Soru Açıklaması:\n",
    "\n",
    "Bir dosyadan okuduğunuz tüm cümlelerin ilk harflerini ikinci bir dosyaya büyük harfe çevirerek aktarmanız gerekmektedir."
   ]
  },
  {
   "cell_type": "code",
   "execution_count": 9,
   "metadata": {},
   "outputs": [],
   "source": [
    "buyukHarfeCevirme=open(\"buyukHarfeCevirme.txt\",\"r\")\n",
    "buyukHarfeCevirme2=open(\"buyukHarfeCevirme2.txt\",\"w\")\n",
    "dosyaIcerigi=buyukHarfeCevirme.read()\n",
    "cumleListesi=dosyaIcerigi.split(\".\")\n",
    "for cumle in cumleListesi:\n",
    "    cumle+=\".\"\n",
    "    buyukHarfeCevirme2.write(cumle.capitalize())\n",
    "buyukHarfeCevirme.close()\n",
    "buyukHarfeCevirme2.close()"
   ]
  },
  {
   "cell_type": "markdown",
   "metadata": {},
   "source": [
    "#### Öğrenci Not Sistemi\n",
    "\n",
    "Soru Açıklaması:\n",
    "\n",
    "Okuma yapacağınız dosya içerisinde her öğrencinin adı,soyadı,vize ve final notları bulunacak. Bu dosyadan okuduğunuz bilgilerle, ikinci bir dosyaya öğrencinin adı,soyadı,ortalaması,harf notu ve dersten geçme-kalma bilgisini yazdıracaksınız. Harf notlarının aralığını kendiniz belirleyebilirsiniz."
   ]
  },
  {
   "cell_type": "code",
   "execution_count": 13,
   "metadata": {},
   "outputs": [],
   "source": [
    "ogrenciDosya=open(\"ogrenciDosya.txt\",\"r\")\n",
    "ogrenciDosya2=open(\"ogrenciDosya2.txt\",\"w\")\n",
    "ogrencilerinBilgileri=ogrenciDosya.readlines()\n",
    "for ogrenciBilgi in ogrencilerinBilgileri:\n",
    "    ad,soyad,vize,final=ogrenciBilgi.split(\",\")\n",
    "    vize,final=int(vize),int(final)\n",
    "    ortalama=vize*0.4+final*0.6\n",
    "    harfNotu=str()\n",
    "    notBasarisi=str()\n",
    "    if ortalama>=90:\n",
    "        harfNotu+=\"A\"\n",
    "        notBasarisi+=\"Basarili\"\n",
    "    elif ortalama>=80:\n",
    "        harfNotu+=\"B\"\n",
    "        notBasarisi+=\"Basarili\"\n",
    "    elif ortalama>=70:\n",
    "        harfNotu+=\"C\"\n",
    "        notBasarisi+=\"Basarili\"\n",
    "    elif ortalama>=60:\n",
    "        harfNotu+=\"D\"\n",
    "        notBasarisi+=\"Basarili\"\n",
    "    else:\n",
    "        harfNotu+=\"F\"\n",
    "        notBasarisi+=\"Basarisiz\"\n",
    "    yazilacakBilgi=\"Ogrenci Adi Soyadi:{} {}, Vize:{}, Final:{}, Ortalama:{},Harf Notu:{} ve Basari Durumu:{}\\n\".format(ad,soyad,vize,final,ortalama,harfNotu,notBasarisi)\n",
    "    ogrenciDosya2.write(yazilacakBilgi)\n",
    "ogrenciDosya.close()\n",
    "ogrenciDosya2.close()"
   ]
  },
  {
   "cell_type": "code",
   "execution_count": null,
   "metadata": {},
   "outputs": [],
   "source": []
  },
  {
   "cell_type": "code",
   "execution_count": null,
   "metadata": {},
   "outputs": [],
   "source": []
  },
  {
   "cell_type": "code",
   "execution_count": null,
   "metadata": {},
   "outputs": [],
   "source": []
  },
  {
   "cell_type": "code",
   "execution_count": null,
   "metadata": {},
   "outputs": [],
   "source": []
  },
  {
   "cell_type": "code",
   "execution_count": null,
   "metadata": {},
   "outputs": [],
   "source": []
  },
  {
   "cell_type": "code",
   "execution_count": null,
   "metadata": {},
   "outputs": [],
   "source": []
  },
  {
   "cell_type": "code",
   "execution_count": null,
   "metadata": {},
   "outputs": [],
   "source": []
  },
  {
   "cell_type": "code",
   "execution_count": null,
   "metadata": {},
   "outputs": [],
   "source": []
  }
 ],
 "metadata": {
  "kernelspec": {
   "display_name": "Python 3",
   "language": "python",
   "name": "python3"
  },
  "language_info": {
   "codemirror_mode": {
    "name": "ipython",
    "version": 3
   },
   "file_extension": ".py",
   "mimetype": "text/x-python",
   "name": "python",
   "nbconvert_exporter": "python",
   "pygments_lexer": "ipython3",
   "version": "3.8.5"
  }
 },
 "nbformat": 4,
 "nbformat_minor": 4
}

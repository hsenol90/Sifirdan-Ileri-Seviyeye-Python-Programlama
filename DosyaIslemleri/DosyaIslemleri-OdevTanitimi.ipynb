{
 "cells": [
  {
   "cell_type": "markdown",
   "metadata": {},
   "source": [
    "## Dosya İşlemleri - Ödev Soruları"
   ]
  },
  {
   "cell_type": "markdown",
   "metadata": {},
   "source": [
    "#### Dosya İçeriğini Terse Çevirme\n",
    "\n",
    "Soru Açıklaması:\n",
    "Bir dosyadan okuduğunuz tüm kelimeleri ikinci bir dosyaya terse çevirerek aktarmanız gerekmektedir."
   ]
  },
  {
   "cell_type": "markdown",
   "metadata": {},
   "source": [
    "#### Dosyada Kelime Arama\n",
    "\n",
    "Soru Açıklaması:\n",
    "\n",
    "Kullanıcının girdiği bir kelimenin dosya içerisinde olup olmadığını sorgulamanız gerekmektedir."
   ]
  },
  {
   "cell_type": "markdown",
   "metadata": {},
   "source": [
    "#### Dosyada Saklanan Film Verileri İle Sorgu\n",
    "\n",
    "Soru Açıklaması:\n",
    "\n",
    "Kullanıcıdan alacağınız bir filmin dosyada bulunup bulunmadığını sorgulayın. Eğer ki dosyada bulunuyorsa filmin ismini, çıkış tarihini ve puanını konsola yazdırın. Aksi halde \"Aradiginiz film listede yoktur!\" yazdırın.\n",
    "\n",
    "Dosya Icerigi: filmIsmi,filmTarihi,puan olmalı."
   ]
  }
 ],
 "metadata": {
  "kernelspec": {
   "display_name": "Python 3",
   "language": "python",
   "name": "python3"
  },
  "language_info": {
   "codemirror_mode": {
    "name": "ipython",
    "version": 3
   },
   "file_extension": ".py",
   "mimetype": "text/x-python",
   "name": "python",
   "nbconvert_exporter": "python",
   "pygments_lexer": "ipython3",
   "version": "3.8.5"
  }
 },
 "nbformat": 4,
 "nbformat_minor": 4
}

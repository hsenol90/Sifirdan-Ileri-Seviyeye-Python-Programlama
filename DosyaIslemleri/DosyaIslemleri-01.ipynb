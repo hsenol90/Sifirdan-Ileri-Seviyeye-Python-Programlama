{
 "cells": [
  {
   "cell_type": "markdown",
   "metadata": {},
   "source": [
    "## Dosya İşlemleri"
   ]
  },
  {
   "cell_type": "markdown",
   "metadata": {},
   "source": [
    "#### Neden İhtiyacımız Var?\n",
    "\n",
    "Program akışı içerisinde kullanıcıdan aldığımız veya hesapladığımız verileri, bilgileri, değerleri bilgisayarın hafızasında saklarız ancak program sonlandığı zaman bu bilgiler de silinir ve erişilmesi mümkün olmaz. Daha sonradan erişebilmek için bu verileri kalıcı halde saklamamız gerekir. Kalıcı depolama yöntemleri için birçok yöntem mevcuttur, en temel olarak dosyaya yazarak bir disk üzerinde saklayabiliriz ve sonradan erişebiliriz."
   ]
  },
  {
   "cell_type": "markdown",
   "metadata": {},
   "source": [
    "#### Dosya Oluşturma-Açma ve Kapatma\n",
    "1.open() fonksiyonu: Dosya oluşturma veya dosyayı açma işlemleri için kullanılır.\n",
    "\n",
    "2.close() fonksiyonu: Dosya işlemleri bittikten sonra dosyayı kapatmak için kullanılır\n",
    "\n",
    "open(\"dosyanin_tam_yolu\",dosya_acilis_modu)"
   ]
  },
  {
   "cell_type": "markdown",
   "metadata": {},
   "source": [
    "#### Dosya Açılış Modları\n",
    "\n",
    "1.\"w\": \"write\" anlamına geliyor ve dosyayı yazma modunda açmamızı sağlıyor. Eğer ki belirtilen dosya yok ise dosya oluşturulur, var ise eski dosya içeriği silinir.\n",
    "\n",
    "2.\"a\": \"append\" anlamına geliyor ve dosyayı yazma modunda açmamızı sağlıyor. Eğer ki belirtilen dosya yok ise dosya oluşturulur, var ise eski dosyanın sonuna ekleme yapılır.\n",
    "\n",
    "3.\"r\": \"read\" anlamına geliyor ve dosyayı okuma modunda açmamızı sağlıyor. Eğer ki belirilen dosya var ise okuma yapılabilir."
   ]
  },
  {
   "cell_type": "code",
   "execution_count": 6,
   "metadata": {},
   "outputs": [
    {
     "name": "stdout",
     "output_type": "stream",
     "text": [
      "Dosya bulunamadir, okuma islemi yapilamiyor.\n"
     ]
    }
   ],
   "source": [
    "try:\n",
    "    dosya=open(\"ornek.txt\",\"w\")\n",
    "    dosya2=open(\"ornek2.txt\",\"a\")\n",
    "    dosya3=open(\"ornek3.txt\",\"r\")\n",
    "    dosya3.close()\n",
    "    dosya2.close()\n",
    "    dosya.close()\n",
    "except FileNotFoundError:\n",
    "    print(\"Dosya bulunamadir, okuma islemi yapilamiyor.\")"
   ]
  },
  {
   "cell_type": "markdown",
   "metadata": {},
   "source": [
    "#### Dosyaya Veri Yazma\n",
    "\n",
    "1.write() fonksiyonu: Dosyayı açtıktan sonra, write fonksiyonunu kullanarak dosyaya yazma işlemi yapabiliriz. Yan yana yazma işlemi yapılacaktır, alt satıra geçmek için \"\\n\" kullanılabilir"
   ]
  },
  {
   "cell_type": "code",
   "execution_count": 18,
   "metadata": {},
   "outputs": [
    {
     "data": {
      "text/plain": [
       "16"
      ]
     },
     "execution_count": 18,
     "metadata": {},
     "output_type": "execute_result"
    }
   ],
   "source": [
    "dosya=open(\"ornek.txt\",mode=\"w\")\n",
    "dosya.write(\"Ogun Birinci\")\n",
    "dosya.write(\"Python Programlama\\n\")\n",
    "dosya.write(\"Programlama\\tOgun\")\n",
    "dosya.close()"
   ]
  },
  {
   "cell_type": "code",
   "execution_count": 19,
   "metadata": {},
   "outputs": [
    {
     "ename": "UnsupportedOperation",
     "evalue": "not writable",
     "output_type": "error",
     "traceback": [
      "\u001b[1;31m---------------------------------------------------------------------------\u001b[0m",
      "\u001b[1;31mUnsupportedOperation\u001b[0m                      Traceback (most recent call last)",
      "\u001b[1;32m<ipython-input-19-d83474028e1c>\u001b[0m in \u001b[0;36m<module>\u001b[1;34m\u001b[0m\n\u001b[0;32m      1\u001b[0m \u001b[0mdosya2\u001b[0m\u001b[1;33m=\u001b[0m\u001b[0mopen\u001b[0m\u001b[1;33m(\u001b[0m\u001b[1;34m\"ornek2.txt\"\u001b[0m\u001b[1;33m,\u001b[0m\u001b[1;34m\"r\"\u001b[0m\u001b[1;33m)\u001b[0m\u001b[1;33m\u001b[0m\u001b[1;33m\u001b[0m\u001b[0m\n\u001b[1;32m----> 2\u001b[1;33m \u001b[0mdosya2\u001b[0m\u001b[1;33m.\u001b[0m\u001b[0mwrite\u001b[0m\u001b[1;33m(\u001b[0m\u001b[1;34m\"OgunBirinci\"\u001b[0m\u001b[1;33m)\u001b[0m\u001b[1;33m\u001b[0m\u001b[1;33m\u001b[0m\u001b[0m\n\u001b[0m",
      "\u001b[1;31mUnsupportedOperation\u001b[0m: not writable"
     ]
    }
   ],
   "source": [
    "dosya2=open(\"ornek2.txt\",\"r\")\n",
    "dosya2.write(\"OgunBirinci\")"
   ]
  },
  {
   "cell_type": "markdown",
   "metadata": {},
   "source": [
    "#### Dosyadan Veri Okuma\n",
    "1.read() fonksiyonu: Dosyayı açtıktan sonra, read fonksiyonunu kullanarak dosyadan okuma işlemi yapabiliriz.\n",
    "\n",
    "2.readline() fonksiyonu: Dosyayı açtıktan sonra, readline fonksiyonunu kullanarak dosyadan satır satır okuma işlemi yapabiliriz.\n",
    "\n",
    "3.readlines() fonksiyonu: Dosyayı açtıktan sonra, readlines fonksiyonunu kullanarak tüm satırları okuyabilir ve döngü yardımıyla erişebiliriz."
   ]
  },
  {
   "cell_type": "code",
   "execution_count": 20,
   "metadata": {},
   "outputs": [
    {
     "name": "stdout",
     "output_type": "stream",
     "text": [
      "Ogun BirinciPython Programlama\n",
      "Programlama\tOgunn ProgramlamaPython \n",
      "Programlamapython programlama kursu\n",
      "python programlama kursu\n",
      "\n"
     ]
    }
   ],
   "source": [
    "try:\n",
    "    dosya=open(\"ornek.txt\",mode=\"r\")\n",
    "    print(dosya.read())\n",
    "except:\n",
    "    print(\"Dosya bulunamadi!\")"
   ]
  },
  {
   "cell_type": "code",
   "execution_count": 26,
   "metadata": {},
   "outputs": [
    {
     "name": "stdout",
     "output_type": "stream",
     "text": [
      "Ogun BirinciPython Programlama\n",
      "\n",
      "Programlama\tOgunn ProgramlamaPython \n",
      "\n",
      "Programlamapython programlama kursu\n",
      "\n"
     ]
    }
   ],
   "source": [
    "try:\n",
    "    dosya=open(\"ornek.txt\",mode=\"r\")\n",
    "    print(dosya.readline())\n",
    "    print(dosya.readline())\n",
    "    print(dosya.readline())\n",
    "    \n",
    "except:\n",
    "    print(\"Dosya bulunamadi!\")"
   ]
  },
  {
   "cell_type": "code",
   "execution_count": 33,
   "metadata": {},
   "outputs": [
    {
     "name": "stdout",
     "output_type": "stream",
     "text": [
      "Ogun BirinciPython Programlama\n",
      "\n",
      "Programlama\tOgunn ProgramlamaPython \n",
      "\n",
      "Programlamapython programlama kursu\n",
      "\n",
      "python programlama kursu\n",
      "\n",
      "\n",
      "\n",
      "Python Programlama Kursu\n",
      "\n",
      "Python Programlama Kursu\n",
      "\n",
      "Python Programlama Kursu\n"
     ]
    }
   ],
   "source": [
    "try:\n",
    "    dosya=open(\"ornek.txt\",mode=\"r\")\n",
    "    tumSatirlar=dosya.readlines()\n",
    "    for satir in tumSatirlar:\n",
    "        print(satir)\n",
    "except:\n",
    "    print(\"Dosya bulunamadi!\")\n",
    "    "
   ]
  },
  {
   "cell_type": "markdown",
   "metadata": {},
   "source": [
    "#### Dosyayı Silmeden Veri Yazma\n",
    "\n",
    "1.append() modu: Dosyayı açtıktan sonra, write fonksiyonunu kullanarak dosyaya yazma işlemi yapabiliriz."
   ]
  },
  {
   "cell_type": "code",
   "execution_count": 35,
   "metadata": {},
   "outputs": [
    {
     "data": {
      "text/plain": [
       "25"
      ]
     },
     "execution_count": 35,
     "metadata": {},
     "output_type": "execute_result"
    }
   ],
   "source": [
    "dosya=open(\"ornek.txt\",mode=\"a\")\n",
    "dosya.write(\"\\nPython Programlama Kursu\")"
   ]
  },
  {
   "cell_type": "code",
   "execution_count": null,
   "metadata": {},
   "outputs": [],
   "source": []
  }
 ],
 "metadata": {
  "kernelspec": {
   "display_name": "Python 3",
   "language": "python",
   "name": "python3"
  },
  "language_info": {
   "codemirror_mode": {
    "name": "ipython",
    "version": 3
   },
   "file_extension": ".py",
   "mimetype": "text/x-python",
   "name": "python",
   "nbconvert_exporter": "python",
   "pygments_lexer": "ipython3",
   "version": "3.8.5"
  }
 },
 "nbformat": 4,
 "nbformat_minor": 4
}

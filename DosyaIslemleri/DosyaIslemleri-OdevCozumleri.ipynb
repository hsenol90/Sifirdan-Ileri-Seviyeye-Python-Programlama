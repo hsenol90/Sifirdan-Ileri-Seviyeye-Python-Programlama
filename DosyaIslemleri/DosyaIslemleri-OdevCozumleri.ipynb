{
 "cells": [
  {
   "cell_type": "markdown",
   "metadata": {},
   "source": [
    "## Dosya İşlemleri - Ödev Çözümleri"
   ]
  },
  {
   "cell_type": "markdown",
   "metadata": {},
   "source": [
    "#### Dosya İçeriğini Terse Çevirme\n",
    "\n",
    "Soru Açıklaması:\n",
    "Bir dosyadan okuduğunuz tüm kelimeleri ikinci bir dosyaya terse çevirerek aktarmanız gerekmektedir."
   ]
  },
  {
   "cell_type": "code",
   "execution_count": 3,
   "metadata": {},
   "outputs": [],
   "source": [
    "terseCevirme=open(\"terseCevirme.txt\",\"r\")\n",
    "terseCevirme2=open(\"terseCevirme2.txt\",\"w\")\n",
    "dosyaIcerigi=terseCevirme.read()\n",
    "dosyaIcerigi=dosyaIcerigi[::-1]\n",
    "terseCevirme2.write(dosyaIcerigi)\n",
    "terseCevirme.close()\n",
    "terseCevirme2.close()"
   ]
  },
  {
   "cell_type": "markdown",
   "metadata": {},
   "source": [
    "#### Dosyada Kelime Arama\n",
    "\n",
    "Soru Açıklaması:\n",
    "\n",
    "Kullanıcının girdiği bir kelimenin dosya içerisinde olup olmadığını sorgulamanız gerekmektedir."
   ]
  },
  {
   "cell_type": "code",
   "execution_count": 6,
   "metadata": {},
   "outputs": [
    {
     "name": "stdout",
     "output_type": "stream",
     "text": [
      "Lutfen aranacak kelimeyi giriniz:asdf\n",
      "Aradiginiz kelime dosyada bulunmuyor!\n"
     ]
    }
   ],
   "source": [
    "arananKelime=input(\"Lutfen aranacak kelimeyi giriniz:\")\n",
    "kelimeArama=open(\"kelimeArama.txt\",\"r\")\n",
    "dosyaIcerigi=kelimeArama.read()\n",
    "kelimeListesi=dosyaIcerigi.split(\" \")\n",
    "if arananKelime in kelimeListesi:\n",
    "    print(\"Aradiginiz kelime dosyanin {} kelimesidir\".format(int(kelimeListesi.index(arananKelime))+1))\n",
    "else:\n",
    "    print(\"Aradiginiz kelime dosyada bulunmuyor!\")\n",
    "kelimeArama.close()"
   ]
  },
  {
   "cell_type": "markdown",
   "metadata": {},
   "source": [
    "#### Dosyada Saklanan Film Verileri İle Sorgu\n",
    "\n",
    "Soru Açıklaması:\n",
    "\n",
    "Kullanıcıdan alacağınız bir filmin dosyada bulunup bulunmadığını sorgulayın. Eğer ki dosyada bulunuyorsa filmin ismini, çıkış tarihini ve puanını konsola yazdırın. Aksi halde \"Aradiginiz film listede yoktur!\" yazdırın.\n",
    "\n",
    "Dosya Icerigi: filmIsmi,filmTarihi,puan olmalı."
   ]
  },
  {
   "cell_type": "code",
   "execution_count": 11,
   "metadata": {},
   "outputs": [
    {
     "name": "stdout",
     "output_type": "stream",
     "text": [
      "Lutfen aradiginiz filmin ismini giriniz:Interstellar\n",
      "Aradiginiz film listede yoktur!\n"
     ]
    }
   ],
   "source": [
    "arananFilm=input(\"Lutfen aradiginiz filmin ismini giriniz:\")\n",
    "filmDosyasi=open(\"filmDosyasi.txt\",\"r\")\n",
    "filmBilgileri=filmDosyasi.readlines()\n",
    "\n",
    "bulunduMu=False\n",
    "for filmBilgi in filmBilgileri:\n",
    "    filmIsim,filmTarih,filmPuan=filmBilgi.split(\",\")\n",
    "    if filmIsim==arananFilm:\n",
    "        print(\"Film Ismi:{}\\nCikis Tarihi:{}\\nFilm Puani:{}\".format(filmIsim,filmTarih,filmPuan))\n",
    "        bulunduMu=True\n",
    "        break\n",
    "        \n",
    "if bulunduMu==False:\n",
    "    print(\"Aradiginiz film listede yoktur!\")\n",
    "        "
   ]
  },
  {
   "cell_type": "code",
   "execution_count": null,
   "metadata": {},
   "outputs": [],
   "source": []
  },
  {
   "cell_type": "code",
   "execution_count": null,
   "metadata": {},
   "outputs": [],
   "source": []
  },
  {
   "cell_type": "code",
   "execution_count": null,
   "metadata": {},
   "outputs": [],
   "source": []
  },
  {
   "cell_type": "code",
   "execution_count": null,
   "metadata": {},
   "outputs": [],
   "source": []
  },
  {
   "cell_type": "code",
   "execution_count": null,
   "metadata": {},
   "outputs": [],
   "source": []
  },
  {
   "cell_type": "code",
   "execution_count": null,
   "metadata": {},
   "outputs": [],
   "source": []
  },
  {
   "cell_type": "code",
   "execution_count": null,
   "metadata": {},
   "outputs": [],
   "source": []
  }
 ],
 "metadata": {
  "kernelspec": {
   "display_name": "Python 3",
   "language": "python",
   "name": "python3"
  },
  "language_info": {
   "codemirror_mode": {
    "name": "ipython",
    "version": 3
   },
   "file_extension": ".py",
   "mimetype": "text/x-python",
   "name": "python",
   "nbconvert_exporter": "python",
   "pygments_lexer": "ipython3",
   "version": "3.8.5"
  }
 },
 "nbformat": 4,
 "nbformat_minor": 4
}

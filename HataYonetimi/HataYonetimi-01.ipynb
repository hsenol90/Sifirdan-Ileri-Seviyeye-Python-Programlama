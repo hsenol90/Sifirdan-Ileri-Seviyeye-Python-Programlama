{
 "cells": [
  {
   "cell_type": "markdown",
   "metadata": {},
   "source": [
    "## Hata Yönetimi"
   ]
  },
  {
   "cell_type": "markdown",
   "metadata": {},
   "source": [
    "#### Neden İhtiyacımız Var?\n",
    "\n",
    "Yazdığımız kodların sorunsuz çalışabilmesi için kodda oluşabilecek tüm olası hataları önceden düşünüp bunlara önlemler almamız gerekir. Örneğin internetten veri çektiğimiz bir projede, internet bağlantısının kopması durumunda programın çalışması aksayacaktır. Böyle durumlara karşı önceden hazırlıklı olmalı ve çözümler sunmamız gerekir."
   ]
  },
  {
   "cell_type": "markdown",
   "metadata": {},
   "source": [
    "#### Hata Çeşitleri\n",
    "\n",
    "1. Syntax Hatası: Kodu yazarken yanlış yazdığımız kodlardan meydana gelir. Bu durumlarda derleyici bize direkt hata verir ve düzeltebiliriz.\n",
    "\n",
    "2. Mantık Hatası: Kodun işleyişinde yaptığımız hatalardır, derleyici tarafından bize bir uyarı verilmediği için yakalanması daha zor hatalardır."
   ]
  },
  {
   "cell_type": "markdown",
   "metadata": {},
   "source": [
    "#### Hata Türleri:\n",
    "\n",
    "AssertionError,AttributeError,EOFError,FloatingPointError,GeneratorExit,ImportError,IndexError,KeyError,KeyboardInterrupt,MemoryError,NameError,\n",
    "NotImplementedError,OSError,OverflowError,ReferenceError,RuntimeError,StopIteration,SyntaxError,IndentationError,TabError,SystemError,SystemExit,\n",
    "TypeError,UnboundLocalError,UnicodeError,UnicodeEncodeError,UnicodeDecodeError,UnicodeTranslateError,ValueError,ZeroDivisionError\n"
   ]
  },
  {
   "cell_type": "markdown",
   "metadata": {},
   "source": [
    "#### Hata Yakalama(Try-Except Yapısı)\n",
    "\n",
    "Kodda hata olma ihtimali olan yapıyı Try bloğunun içerisine, hata meydana geldiğinde çalışacak olan ifade ise Except bloğuna yazılır."
   ]
  },
  {
   "cell_type": "code",
   "execution_count": 10,
   "metadata": {},
   "outputs": [
    {
     "name": "stdout",
     "output_type": "stream",
     "text": [
      "Lutfen ilk sayiyi giriniz:5\n",
      "Lutfen ikinci sayiyi giriniz:a\n",
      "Hatali deger girdiniz!\n"
     ]
    }
   ],
   "source": [
    "try:\n",
    "    sayi1=int(input(\"Lutfen ilk sayiyi giriniz:\"))\n",
    "    sayi2=int(input(\"Lutfen ikinci sayiyi giriniz:\"))\n",
    "    print(sayi1/sayi2)\n",
    "except:\n",
    "    print(\"Hatali deger girdiniz!\")"
   ]
  },
  {
   "cell_type": "code",
   "execution_count": 13,
   "metadata": {},
   "outputs": [
    {
     "name": "stdout",
     "output_type": "stream",
     "text": [
      "Lutfen ilk sayiyi giriniz:5\n",
      "Lutfen ikinci sayiyi giriniz:x\n",
      "Sayi girmelisiniz!\n"
     ]
    }
   ],
   "source": [
    "try:\n",
    "    sayi1=int(input(\"Lutfen ilk sayiyi giriniz:\"))\n",
    "    sayi2=int(input(\"Lutfen ikinci sayiyi giriniz:\"))\n",
    "    print(sayi1/sayi2)\n",
    "except TypeError:\n",
    "    print(\"Bolme Islemi uygun degildir!\")\n",
    "except ValueError:\n",
    "    print(\"Sayi girmelisiniz!\")\n",
    "except ZeroDivisionError:\n",
    "    print(\"Ikinci sayi 0 olamaz!\")"
   ]
  },
  {
   "cell_type": "code",
   "execution_count": 15,
   "metadata": {},
   "outputs": [
    {
     "name": "stdout",
     "output_type": "stream",
     "text": [
      "Lutfen ilk sayiyi giriniz:5\n",
      "Lutfen ikinci sayiyi giriniz:0\n",
      "Bir hata meydana geldi!\n"
     ]
    }
   ],
   "source": [
    "try:\n",
    "    sayi1=int(input(\"Lutfen ilk sayiyi giriniz:\"))\n",
    "    sayi2=int(input(\"Lutfen ikinci sayiyi giriniz:\"))\n",
    "    print(sayi1/sayi2)\n",
    "except TypeError:\n",
    "    print(\"Bolme Islemi uygun degildir!\")\n",
    "except ValueError:\n",
    "    print(\"Sayi girmelisiniz!\")\n",
    "except:\n",
    "    print(\"Bir hata meydana geldi!\")"
   ]
  },
  {
   "cell_type": "markdown",
   "metadata": {},
   "source": [
    "### DİKKAT\n",
    "except: bloğu sonda bulunmalı! Eğer ki en başa koyarsanız Syntax hatası alacaksınız!"
   ]
  },
  {
   "cell_type": "code",
   "execution_count": 16,
   "metadata": {},
   "outputs": [
    {
     "ename": "SyntaxError",
     "evalue": "default 'except:' must be last (<ipython-input-16-27e5e023190b>, line 4)",
     "output_type": "error",
     "traceback": [
      "\u001b[1;36m  File \u001b[1;32m\"<ipython-input-16-27e5e023190b>\"\u001b[1;36m, line \u001b[1;32m4\u001b[0m\n\u001b[1;33m    print(sayi1/sayi2)\u001b[0m\n\u001b[1;37m    ^\u001b[0m\n\u001b[1;31mSyntaxError\u001b[0m\u001b[1;31m:\u001b[0m default 'except:' must be last\n"
     ]
    }
   ],
   "source": [
    "try:\n",
    "    sayi1=int(input(\"Lutfen ilk sayiyi giriniz:\"))\n",
    "    sayi2=int(input(\"Lutfen ikinci sayiyi giriniz:\"))\n",
    "    print(sayi1/sayi2)\n",
    "except:\n",
    "    print(\"Bir hata meydana geldi!\")\n",
    "except TypeError:\n",
    "    print(\"Bolme Islemi uygun degildir!\")\n",
    "except ValueError:\n",
    "    print(\"Sayi girmelisiniz!\")"
   ]
  },
  {
   "cell_type": "markdown",
   "metadata": {},
   "source": [
    "#### Finally İfadesi\n",
    "Program çalışırken bir hata olsun veya olmasın kesinlikle çalışacak olan kod bloğudur."
   ]
  },
  {
   "cell_type": "code",
   "execution_count": 19,
   "metadata": {},
   "outputs": [
    {
     "name": "stdout",
     "output_type": "stream",
     "text": [
      "Lutfen ilk sayiyi giriniz:5\n",
      "Lutfen ikinci sayiyi giriniz:3\n",
      "1.6666666666666667\n",
      "Program sonlandiriliyor..\n"
     ]
    }
   ],
   "source": [
    "try:\n",
    "    sayi1=int(input(\"Lutfen ilk sayiyi giriniz:\"))\n",
    "    sayi2=int(input(\"Lutfen ikinci sayiyi giriniz:\"))\n",
    "    print(sayi1/sayi2)\n",
    "except TypeError:\n",
    "    print(\"Bolme Islemi uygun degildir!\")\n",
    "except ValueError:\n",
    "    print(\"Sayi girmelisiniz!\")\n",
    "except:\n",
    "    print(\"Bir hata meydana geldi!\")\n",
    "finally:\n",
    "    print(\"Program sonlandiriliyor..\")"
   ]
  },
  {
   "cell_type": "markdown",
   "metadata": {},
   "source": [
    "#### Kendi Hatalarımızı Tanımlama\n",
    "\n",
    "Bazı durumlarda hazır olarak verilen hatalar bize yeterli olmayabilir, bu yüzden yazacağımız kodlarda kendi hatalarımızı oluşturmamız gerekebilir. İki farklı şekilde üretebiliriz;\n",
    "1. raise Exception() ile: Direkt olarak except kısmında yakalanacaktır.\n",
    "2. raise hazir_hata_sinifi() ile: Hazır olarak tanımlanmış hata sınıfların kullanıldığı için özel olarak yakalanacaktır. Oluşturacağınız hata, hazır hata sınıflarından en çok hangisine uyuyorsa onunla yazmalısınız."
   ]
  },
  {
   "cell_type": "code",
   "execution_count": 24,
   "metadata": {},
   "outputs": [
    {
     "name": "stdout",
     "output_type": "stream",
     "text": [
      "Lutfen pozitif bir sayi giriniz:-5\n",
      "Girilen sayi negatif olamaz!\n"
     ]
    }
   ],
   "source": [
    "try:\n",
    "    sayi1=int(input(\"Lutfen pozitif bir sayi giriniz:\"))\n",
    "    if sayi1<0:\n",
    "        raise Exception()\n",
    "except:\n",
    "    print(\"Girilen sayi negatif olamaz!\")"
   ]
  },
  {
   "cell_type": "code",
   "execution_count": 27,
   "metadata": {},
   "outputs": [
    {
     "name": "stdout",
     "output_type": "stream",
     "text": [
      "Lutfen pozitif bir sayi giriniz:-5\n",
      "Girilen sayi negatif olamaz!\n"
     ]
    }
   ],
   "source": [
    "try:\n",
    "    sayi2=int(input(\"Lutfen pozitif bir sayi giriniz:\"))\n",
    "    if sayi2<0:\n",
    "        raise ValueError(\"Girilen sayi negatif olamaz!\")\n",
    "except TypeError:\n",
    "    print(\"Hatali type\")\n",
    "except ValueError:\n",
    "    print(\"Girilen sayi negatif olamaz!\")"
   ]
  },
  {
   "cell_type": "markdown",
   "metadata": {},
   "source": [
    "#### Assertion İfadesi\n",
    "\n",
    "Assert ifadesi ile doğruluk veya yanlışlığından emin olmadığımız durumlar tanımlayabiliriz. Eğer ki yanlış ise AssertionError hatası alırız, doğruysa herhangi bir hata olmadan program çalışmaya devam eder. AssertionError içerisinde verilecek hata mesajını da biz belirleyebiliriz."
   ]
  },
  {
   "cell_type": "code",
   "execution_count": 30,
   "metadata": {},
   "outputs": [
    {
     "name": "stdout",
     "output_type": "stream",
     "text": [
      "Lutfen pozitif bir sayi giriniz:-5\n"
     ]
    },
    {
     "ename": "AssertionError",
     "evalue": "",
     "output_type": "error",
     "traceback": [
      "\u001b[1;31m---------------------------------------------------------------------------\u001b[0m",
      "\u001b[1;31mAssertionError\u001b[0m                            Traceback (most recent call last)",
      "\u001b[1;32m<ipython-input-30-783b85812d57>\u001b[0m in \u001b[0;36m<module>\u001b[1;34m\u001b[0m\n\u001b[0;32m      1\u001b[0m \u001b[0msayi1\u001b[0m\u001b[1;33m=\u001b[0m\u001b[0mint\u001b[0m\u001b[1;33m(\u001b[0m\u001b[0minput\u001b[0m\u001b[1;33m(\u001b[0m\u001b[1;34m\"Lutfen pozitif bir sayi giriniz:\"\u001b[0m\u001b[1;33m)\u001b[0m\u001b[1;33m)\u001b[0m\u001b[1;33m\u001b[0m\u001b[1;33m\u001b[0m\u001b[0m\n\u001b[1;32m----> 2\u001b[1;33m \u001b[1;32massert\u001b[0m \u001b[0msayi1\u001b[0m\u001b[1;33m>\u001b[0m\u001b[1;36m0\u001b[0m\u001b[1;33m\u001b[0m\u001b[1;33m\u001b[0m\u001b[0m\n\u001b[0m",
      "\u001b[1;31mAssertionError\u001b[0m: "
     ]
    }
   ],
   "source": [
    "sayi1=int(input(\"Lutfen pozitif bir sayi giriniz:\"))\n",
    "assert sayi1>0"
   ]
  },
  {
   "cell_type": "code",
   "execution_count": 32,
   "metadata": {},
   "outputs": [
    {
     "name": "stdout",
     "output_type": "stream",
     "text": [
      "Lutfen pozitif bir sayi giriniz:-5\n"
     ]
    },
    {
     "ename": "AssertionError",
     "evalue": "Sayi Negatif Olamaz!",
     "output_type": "error",
     "traceback": [
      "\u001b[1;31m---------------------------------------------------------------------------\u001b[0m",
      "\u001b[1;31mAssertionError\u001b[0m                            Traceback (most recent call last)",
      "\u001b[1;32m<ipython-input-32-50c403961ad5>\u001b[0m in \u001b[0;36m<module>\u001b[1;34m\u001b[0m\n\u001b[0;32m      1\u001b[0m \u001b[0msayi1\u001b[0m\u001b[1;33m=\u001b[0m\u001b[0mint\u001b[0m\u001b[1;33m(\u001b[0m\u001b[0minput\u001b[0m\u001b[1;33m(\u001b[0m\u001b[1;34m\"Lutfen pozitif bir sayi giriniz:\"\u001b[0m\u001b[1;33m)\u001b[0m\u001b[1;33m)\u001b[0m\u001b[1;33m\u001b[0m\u001b[1;33m\u001b[0m\u001b[0m\n\u001b[1;32m----> 2\u001b[1;33m \u001b[1;32massert\u001b[0m \u001b[0msayi1\u001b[0m\u001b[1;33m>\u001b[0m\u001b[1;36m0\u001b[0m\u001b[1;33m,\u001b[0m \u001b[1;34m\"Sayi Negatif Olamaz!\"\u001b[0m\u001b[1;33m\u001b[0m\u001b[1;33m\u001b[0m\u001b[0m\n\u001b[0m",
      "\u001b[1;31mAssertionError\u001b[0m: Sayi Negatif Olamaz!"
     ]
    }
   ],
   "source": [
    "sayi1=int(input(\"Lutfen pozitif bir sayi giriniz:\"))\n",
    "assert sayi1>0, \"Sayi Negatif Olamaz!\""
   ]
  },
  {
   "cell_type": "code",
   "execution_count": 35,
   "metadata": {},
   "outputs": [
    {
     "name": "stdout",
     "output_type": "stream",
     "text": [
      "Lutfen pozitif bir sayi giriniz:x\n",
      "Sayi Negatif Olamaz\n"
     ]
    }
   ],
   "source": [
    "try:\n",
    "    sayi1=int(input(\"Lutfen pozitif bir sayi giriniz:\"))\n",
    "    assert sayi1>0\n",
    "except:\n",
    "    print(\"Sayi Negatif Olamaz\")"
   ]
  },
  {
   "cell_type": "code",
   "execution_count": 36,
   "metadata": {},
   "outputs": [
    {
     "name": "stdout",
     "output_type": "stream",
     "text": [
      "Lutfen pozitif bir sayi giriniz:x\n",
      "Sayi girmelisiniz!\n"
     ]
    }
   ],
   "source": [
    "try:\n",
    "    sayi1=int(input(\"Lutfen pozitif bir sayi giriniz:\"))\n",
    "    assert sayi1>0\n",
    "except AssertionError:\n",
    "    print(\"Sayi Negatif Olamaz\")\n",
    "except ValueError:\n",
    "    print(\"Sayi girmelisiniz!\")"
   ]
  },
  {
   "cell_type": "code",
   "execution_count": null,
   "metadata": {},
   "outputs": [],
   "source": []
  },
  {
   "cell_type": "code",
   "execution_count": null,
   "metadata": {},
   "outputs": [],
   "source": []
  },
  {
   "cell_type": "code",
   "execution_count": null,
   "metadata": {},
   "outputs": [],
   "source": []
  },
  {
   "cell_type": "code",
   "execution_count": null,
   "metadata": {},
   "outputs": [],
   "source": []
  }
 ],
 "metadata": {
  "kernelspec": {
   "display_name": "Python 3",
   "language": "python",
   "name": "python3"
  }
 },
 "nbformat": 4,
 "nbformat_minor": 4
}

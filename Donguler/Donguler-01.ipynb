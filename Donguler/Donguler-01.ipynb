{
 "cells": [
  {
   "cell_type": "markdown",
   "metadata": {},
   "source": [
    "## Döngüler\n",
    "Belirli bir koşul durumu sağlandığı sürece, kod bloğu içerisindeki kodların tekrar tekrar çalışmasını sağlayan yapılara döngü denir. \n",
    "1. While Döngüsü\n",
    "2. For Döngüsü"
   ]
  },
  {
   "cell_type": "markdown",
   "metadata": {},
   "source": [
    "#### While Döngüsü\n",
    "\n",
    "### Ne Zaman Kullanırız?\n",
    "\n",
    "While döngüsünü genel olarak belirli sayıda tekrar edilecek durumlarda, belirli koşul durumlarına göre kullanırız.\n",
    "\n",
    "### Syntax Yapısı:\n",
    "\n",
    "while kontrol_edilecek_kosul:\n",
    "\n",
    "    dongu_icerisinde_yapilacak_islemler\n",
    "\n",
    "### Açıklama:\n",
    "Eğer ki kontrol_edilecek_kosul değeri True değere eşit olduğu sürece dongu_icerisinde_yapilacak_islemler sürekli bir şekilde çalışacaktır"
   ]
  },
  {
   "cell_type": "code",
   "execution_count": 2,
   "metadata": {},
   "outputs": [
    {
     "name": "stdout",
     "output_type": "stream",
     "text": [
      "Dongu burada basliyor...\n",
      "\n",
      "Dongu sonlandi...\n"
     ]
    }
   ],
   "source": [
    "i=0\n",
    "print(\"Dongu burada basliyor...\")\n",
    "while i<10:\n",
    "    print(i,end=\" \")\n",
    "    i+=1\n",
    "print(\"\\nDongu sonlandi...\")"
   ]
  },
  {
   "cell_type": "markdown",
   "metadata": {},
   "source": [
    "#### Yukarıdaki Kodun Açıklaması:\n",
    "\n",
    "1.İterasyon:  i Değişkeninin Değeri=0    Yazdırılan Değer:0     -> i değeri arttırılıyor ve değeri 1  oluyor   Koşul:True\n",
    "\n",
    "2.İterasyon:  i Değişkeninin Değeri=1    Yazdırılan Değer:1     -> i değeri arttırılıyor ve değeri 2  oluyor   Koşul:True\n",
    "\n",
    "3.İterasyon:  i Değişkeninin Değeri=2    Yazdırılan Değer:2     -> i değeri arttırılıyor ve değeri 3  oluyor   Koşul:True\n",
    "\n",
    "4.İterasyon:  i Değişkeninin Değeri=3    Yazdırılan Değer:3     -> i değeri arttırılıyor ve değeri 4  oluyor   Koşul:True\n",
    "\n",
    "5.İterasyon:  i Değişkeninin Değeri=4    Yazdırılan Değer:4     -> i değeri arttırılıyor ve değeri 5  oluyor   Koşul:True\n",
    "\n",
    "6.İterasyon:  i Değişkeninin Değeri=5    Yazdırılan Değer:5     -> i değeri arttırılıyor ve değeri 6  oluyor   Koşul:True\n",
    "\n",
    "7.İterasyon:  i Değişkeninin Değeri=6    Yazdırılan Değer:6     -> i değeri arttırılıyor ve değeri 7  oluyor   Koşul:True\n",
    "\n",
    "8.İterasyon:  i Değişkeninin Değeri=7    Yazdırılan Değer:7     -> i değeri arttırılıyor ve değeri 8  oluyor   Koşul:True\n",
    "\n",
    "9.İterasyon:  i Değişkeninin Değeri=8    Yazdırılan Değer:8     -> i değeri arttırılıyor ve değeri 9  oluyor   Koşul:True\n",
    "\n",
    "10.İterasyon: i Değişkeninin Değeri=9    Yazdırılan Değer:9     -> i değeri arttırılıyor ve değeri 10 oluyor   Koşul:False\n",
    "\n",
    "Döngü Sonlandı."
   ]
  },
  {
   "cell_type": "markdown",
   "metadata": {},
   "source": [
    "##### İkiden fazla sorgunun yapılması"
   ]
  },
  {
   "cell_type": "code",
   "execution_count": 3,
   "metadata": {},
   "outputs": [
    {
     "name": "stdout",
     "output_type": "stream",
     "text": [
      "Dongu basliyor...\n",
      "0\n",
      "1\n",
      "2\n",
      "3\n",
      "4\n",
      "\n",
      "Dongu sonlandi...\n"
     ]
    }
   ],
   "source": [
    "i=0\n",
    "j=5\n",
    "print(\"Dongu basliyor...\")\n",
    "while i<10 and j<10:\n",
    "    print(i)\n",
    "    i+=1\n",
    "    j+=1\n",
    "print(\"\\nDongu sonlandi...\")"
   ]
  },
  {
   "cell_type": "markdown",
   "metadata": {},
   "source": [
    "#### Yukarıdaki Kodun Açıklaması:\n",
    "\n",
    "1.İterasyon:  i, j Değişken Değerleri:0,5 Yazdırılan Değer:0  -> i ve j değeri arttırılıyor ve değeri 1,6  oluyor   Koşul:True \n",
    "\n",
    "2.İterasyon:  i, j Değişken Değerleri:1,6 Yazdırılan Değer:1  -> i ve j değeri arttırılıyor ve değeri 2,7  oluyor   Koşul:True\n",
    "\n",
    "3.İterasyon:  i, j Değişken Değerleri:2,7 Yazdırılan Değer:2  -> i ve j değeri arttırılıyor ve değeri 3,8  oluyor   Koşul:True\n",
    "\n",
    "4.İterasyon:  i, j Değişken Değerleri:3,8 Yazdırılan Değer:3  -> i ve j değeri arttırılıyor ve değeri 4,9  oluyor   Koşul:True\n",
    "\n",
    "5.İterasyon:  i, j Değişken Değerleri:4,9 Yazdırılan Değer:4  -> i ve j değeri arttırılıyor ve değeri 5,10 oluyor   Koşul:False\n"
   ]
  },
  {
   "cell_type": "markdown",
   "metadata": {},
   "source": [
    "### DİKKAT! SONSUZ BİR DÖNGÜ OLUŞABİLİR\n",
    "Koşulunuzda kontrol ettiğiniz durum eğer ki hiçbir zaman değişmeyecekse, sürekli True sonuç verecek bir koşulsa; bu döngünüzün sonsuza kadar devam etmesine sebep olabilir"
   ]
  },
  {
   "cell_type": "code",
   "execution_count": 6,
   "metadata": {},
   "outputs": [
    {
     "name": "stdout",
     "output_type": "stream",
     "text": [
      "0\n",
      "1\n",
      "2\n",
      "3\n",
      "4\n",
      "5\n",
      "6\n",
      "7\n",
      "8\n",
      "9\n",
      "10\n",
      "11\n",
      "12\n",
      "13\n",
      "14\n",
      "15\n",
      "16\n",
      "17\n",
      "18\n",
      "19\n",
      "20\n",
      "21\n",
      "22\n",
      "23\n",
      "24\n",
      "25\n",
      "26\n",
      "27\n",
      "28\n",
      "29\n",
      "30\n",
      "31\n",
      "32\n",
      "33\n",
      "34\n",
      "35\n",
      "36\n",
      "37\n",
      "38\n",
      "39\n",
      "40\n",
      "41\n",
      "42\n",
      "43\n",
      "44\n",
      "45\n",
      "46\n",
      "47\n",
      "48\n",
      "49\n",
      "50\n",
      "51\n",
      "52\n",
      "53\n",
      "54\n",
      "55\n",
      "56\n",
      "57\n",
      "58\n",
      "59\n",
      "60\n",
      "61\n",
      "62\n",
      "63\n",
      "64\n",
      "65\n",
      "66\n",
      "67\n",
      "68\n",
      "69\n",
      "70\n",
      "71\n",
      "72\n",
      "73\n",
      "74\n",
      "75\n",
      "76\n",
      "77\n",
      "78\n",
      "79\n",
      "80\n",
      "81\n",
      "82\n",
      "83\n",
      "84\n",
      "85\n",
      "86\n",
      "87\n",
      "88\n",
      "89\n",
      "90\n",
      "91\n",
      "92\n",
      "93\n",
      "94\n",
      "95\n",
      "96\n",
      "97\n",
      "98\n",
      "99\n"
     ]
    }
   ],
   "source": [
    "i=0\n",
    "while i<100:\n",
    "    print(i)"
   ]
  },
  {
   "cell_type": "markdown",
   "metadata": {},
   "source": [
    "#### Yukarıdaki Kodun Açıklaması:\n",
    "\n",
    "i değişkeninin değeri döngü içerisinde hiç arttırılmadığı için i<100 şartı hep sağlanıyor(True) ve sonsuz bir döngü oluşuyor"
   ]
  }
 ],
 "metadata": {
  "kernelspec": {
   "display_name": "Python 3",
   "language": "python",
   "name": "python3"
  },
  "language_info": {
   "codemirror_mode": {
    "name": "ipython",
    "version": 3
   },
   "file_extension": ".py",
   "mimetype": "text/x-python",
   "name": "python",
   "nbconvert_exporter": "python",
   "pygments_lexer": "ipython3",
   "version": "3.8.5"
  }
 },
 "nbformat": 4,
 "nbformat_minor": 4
}

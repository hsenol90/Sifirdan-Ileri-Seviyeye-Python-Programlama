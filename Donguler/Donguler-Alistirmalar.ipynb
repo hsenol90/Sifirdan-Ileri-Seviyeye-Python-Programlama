{
 "cells": [
  {
   "cell_type": "markdown",
   "metadata": {},
   "source": [
    "## Döngüler- Alıştırmalar"
   ]
  },
  {
   "cell_type": "markdown",
   "metadata": {},
   "source": [
    "### For Döngüsü ile Faktöriyel Hesaplama\n",
    "##### Örnek Faktöriyel Sonucu\n",
    "\n",
    "0!=1\n",
    "\n",
    "1!=1\n",
    "\n",
    "2!=2x1=2\n",
    "\n",
    "3!=3x2x1=3\n",
    "\n",
    "4!=4x3x2x1=24\n",
    "\n",
    "5!= 5x4x3x2x1=120\n",
    "\n",
    "6!= 6x5x4x3x2x1=720\n"
   ]
  },
  {
   "cell_type": "code",
   "execution_count": 24,
   "metadata": {},
   "outputs": [
    {
     "name": "stdout",
     "output_type": "stream",
     "text": [
      "Lutfen faktoriyeli hesaplanacak olan sayiyi giriniz:5\n",
      "5!=120\n"
     ]
    }
   ],
   "source": [
    "faktoriyelSonuc=1\n",
    "sayi=int(input(\"Lutfen faktoriyeli hesaplanacak olan sayiyi giriniz:\"))\n",
    "for i in range(2,sayi+1):#2,3,4,5,6\n",
    "    faktoriyelSonuc*=i#faktoriyelSonuc=faktoriyelSonuc*i\n",
    "print(\"{}!={}\".format(sayi,faktoriyelSonuc))"
   ]
  },
  {
   "cell_type": "markdown",
   "metadata": {},
   "source": [
    "### While Döngüsü ile Faktöriyel Hesaplama\n",
    "##### Örnek Faktöriyel Sonucu\n",
    "\n",
    "0!=1\n",
    "\n",
    "1!=1\n",
    "\n",
    "2!=2*1=2\n",
    "\n",
    "3!=3*2*1=3\n",
    "\n",
    "4!=4*3*2*1=24\n",
    "\n",
    "5!= 5*4*3*2*1=120\n",
    "\n",
    "6!= 6*5*4*3*2*1=720"
   ]
  },
  {
   "cell_type": "code",
   "execution_count": 26,
   "metadata": {},
   "outputs": [
    {
     "name": "stdout",
     "output_type": "stream",
     "text": [
      "Lutfen faktoriyeli hesaplanacak olan sayiyi giriniz:6\n",
      "6!=720\n"
     ]
    }
   ],
   "source": [
    "faktoriyelSonuc=1\n",
    "sayac=2\n",
    "sayi=int(input(\"Lutfen faktoriyeli hesaplanacak olan sayiyi giriniz:\"))\n",
    "while sayac<=sayi:\n",
    "    faktoriyelSonuc*=sayac#faktoriyelSonuc=faktoriyelSonuc*i\n",
    "    sayac+=1\n",
    "print(\"{}!={}\".format(sayi,faktoriyelSonuc))"
   ]
  },
  {
   "cell_type": "markdown",
   "metadata": {},
   "source": [
    "### While Döngüsü ile Sayının Kaç Basamaklı Olduğunu Bulma\n",
    "\n",
    "##### Örnek Bir Basamak Sorgusu:\n",
    "\n",
    "sayi=12345\n",
    "\n",
    "1.İterasyon Sonunda: geciciSayi=1234, basamakSayisi=1\n",
    "\n",
    "2.İterasyon Sonunda: geciciSayi=123,  basamakSayisi=2\n",
    "\n",
    "3.İterasyon Sonunda: geciciSayi=12,   basamakSayisi=3\n",
    "\n",
    "4.İterasyon Sonunda: geciciSayi=1,    basamakSayisi=4\n",
    "\n",
    "5.İterasyon Sonunda: geciciSayi=0,    basamakSayisi=5"
   ]
  },
  {
   "cell_type": "code",
   "execution_count": 30,
   "metadata": {},
   "outputs": [
    {
     "name": "stdout",
     "output_type": "stream",
     "text": [
      "Lutfen hesaplanacak olan sayiyi giriniz:1234\n",
      "1234 sayisi 4 basamaklidir.\n"
     ]
    }
   ],
   "source": [
    "sayi=int(input(\"Lutfen hesaplanacak olan sayiyi giriniz:\"))\n",
    "geciciSayi=sayi\n",
    "basamakSayisi=0\n",
    "while geciciSayi!=0:\n",
    "    geciciSayi//=10\n",
    "    basamakSayisi+=1\n",
    "print(\"{} sayisi {} basamaklidir.\".format(sayi,basamakSayisi))\n",
    "    "
   ]
  },
  {
   "cell_type": "markdown",
   "metadata": {},
   "source": [
    "### For Döngüsü ile Sayının Asal Sayı Olup Olmadığını Sorgulama\n",
    "\n",
    "##### Örnek Asal Sayı Sorgusu:\n",
    "\n",
    "sorgulanacakSayı=5\n",
    "bolundumu=False\n",
    "sayac=2\n",
    "\n",
    "1.İterasyonun Sonunda bolundumu=False, sayac=3\n",
    "\n",
    "2.İterasyonun Sonunda bolundumu=False, sayac=4\n",
    "\n",
    "3.İterasyonun Sonunda bolundumu=False, sayac=5\n",
    "\n",
    "5 sayısı 2,3,4 sayılarına bölünmediği için asal bir sayıdır.\n",
    "\n",
    "sorgulanacakSayı=6\n",
    "bolundumu=False\n",
    "sayac=2\n",
    "\n",
    "1.İterasyonun Sonunda bolundumu=True, sayac=3\n",
    "\n",
    "6 sayısı 2 sayısına bölündüğü için asal bir sayı değildir.\n"
   ]
  },
  {
   "cell_type": "code",
   "execution_count": 36,
   "metadata": {},
   "outputs": [
    {
     "name": "stdout",
     "output_type": "stream",
     "text": [
      "Sorgulanacak sayiyi giriniz:5\n",
      "5 sayisi asal bir sayidir.\n"
     ]
    }
   ],
   "source": [
    "sorgulanacakSayi=int(input(\"Sorgulanacak sayiyi giriniz:\"))\n",
    "bolunduMu=False\n",
    "\n",
    "for i in range(2,sorgulanacakSayi):\n",
    "    if sorgulanacakSayi%i==0:\n",
    "        bolunduMu=True\n",
    "        break\n",
    "        \n",
    "if bolunduMu:\n",
    "    print(\"{} sayisi asal bir sayi degildir\".format(sorgulanacakSayi))\n",
    "else:\n",
    "    print(\"{} sayisi asal bir sayidir.\".format(sorgulanacakSayi))"
   ]
  },
  {
   "cell_type": "markdown",
   "metadata": {},
   "source": [
    "### While Döngüsü ile EBOB-EKOK Hesaplama\n",
    "\n",
    "##### Örnek EBOB-EKOK Sorgusu:\n",
    "\n",
    "sayi1:4 ve sayi2:6 \n",
    "\n",
    "buyukSayi=6,kucukSayi=4 olacak\n",
    "\n",
    "EBOB HESAPLAMA:\n",
    "\n",
    "İlk olarak sayac değeri 4'e eşit.\n",
    "\n",
    "1.İterasyonun Sonucunda: 6%4==0(False) and  4%4==0(True)   ->  IF bloğuna girmeyecek, sayac=3 oldu\n",
    "\n",
    "2.İterasyonun Sonucunda: 6%3==0(True)  and  4%3==0(False)  -> IF bloğuna girmeyecek, sayac=2 oldu\n",
    "\n",
    "3.İterasyonun Sonucunda: 6%2==0(True)  and  4%2==0(True)   ->  IF bloğuna girecek, EBOB=2 oldu ve döngü sonlandı\n",
    "\n",
    "EKOK HESAPLAMA:\n",
    "\n",
    "İlk olarak sayac değeri 6'a eşit\n",
    "\n",
    "1.İterasyonun Sonucunda: 6%12==0(False)  and 6%4==0(False)  -> IF bloğuna girmeyecek, sayac=7 oldu\n",
    "\n",
    "2.İterasyonun Sonucunda: 7%12==0(False)  and 7%4==0(False)  -> IF bloğuna girmeyecek, sayac=8 oldu\n",
    "\n",
    "3.İterasyonun Sonucunda: 8%12==0(False)  and 8%4==0(True)   -> IF bloğuna girmeyecek, sayac=9 oldu\n",
    "\n",
    "4.İterasyonun Sonucunda: 9%12==0(False)  and 9%4==0(False)  -> IF bloğuna girmeyecek, sayac=10 oldu\n",
    "\n",
    "5.İterasyonun Sonucunda: 10%12==0(False) and 10%4==0(False) -> IF bloğuna girmeyecek, sayac=11 oldu\n",
    "\n",
    "6.İterasyonun Sonucunda: 11%12==0(False) and 11%4==0(False) -> IF bloğuna girmeyecek, sayac=12 oldu\n",
    "\n",
    "7.İterasyonun Sonucunda: 12%12==0(True)  and 12%4==0(False) -> IF bloğuna girecek, EKOK=12 oldu ve döngü sonlandı\n"
   ]
  },
  {
   "cell_type": "code",
   "execution_count": 3,
   "metadata": {},
   "outputs": [
    {
     "name": "stdout",
     "output_type": "stream",
     "text": [
      "Lutfen EBOB-EKOK hesaplanacak iki sayiyi giriniz:5,7\n",
      "5 ve 7 sayilarinin EBOB degeri:1 ve EKOK degeri:35\n"
     ]
    }
   ],
   "source": [
    "sayi1,sayi2=map(int,input(\"Lutfen EBOB-EKOK hesaplanacak iki sayiyi giriniz:\").split(\",\"))\n",
    "buyukSayi=int()\n",
    "kucukSayi=int()\n",
    "EKOK=int()\n",
    "EBOB=int()\n",
    "if sayi1>sayi2:\n",
    "    buyukSayi=sayi1\n",
    "    kucukSayi=sayi2\n",
    "else:\n",
    "    buyukSayi=sayi2\n",
    "    kucukSayi=sayi1\n",
    "#EKOK HESAPLAMA\n",
    "sayac=buyukSayi\n",
    "while True:\n",
    "    if sayac%buyukSayi==0 and sayac%kucukSayi==0:\n",
    "        EKOK=sayac\n",
    "        break\n",
    "    sayac+=1\n",
    "#EBOB HESAPLAMA\n",
    "sayac=kucukSayi\n",
    "while True:\n",
    "    if buyukSayi%sayac==0 and kucukSayi%sayac==0:\n",
    "        EBOB=sayac\n",
    "        break\n",
    "    sayac-=1\n",
    "print(\"{} ve {} sayilarinin EBOB degeri:{} ve EKOK degeri:{}\".format(sayi1,sayi2,EBOB,EKOK))"
   ]
  },
  {
   "cell_type": "markdown",
   "metadata": {},
   "source": [
    "### For Döngüsü ile Cümledeki Boşluk Sayısını Hesaplama\n",
    "\n",
    "#### Örnek Boşluk Sayısı Hesaplama Sorgusu:\n",
    "\n",
    "cumle=\"a bcd e f\"\n",
    "\n",
    "1.İterasyon: Harf-> \"a\", boslukSayisi=0\n",
    "\n",
    "2.İterasyon: Harf-> \" \", boslukSayisi=1\n",
    "\n",
    "3.İterasyon: Harf-> \"b\", boslukSayisi=1\n",
    "\n",
    "4.İterasyon: Harf-> \"c\", boslukSayisi=1\n",
    "\n",
    "5.İterasyon: Harf-> \"d\", boslukSayisi=1\n",
    "\n",
    "6.İterasyon: Harf-> \" \", boslukSayisi=2\n",
    "\n",
    "7.İterasyon: Harf-> \"e\", boslukSayisi=2\n",
    "\n",
    "8.İterasyon: Harf-> \" \", boslukSayisi=3\n",
    "\n",
    "9.İterasyon: Harf-> \"f\", boslukSayisi=3\n"
   ]
  },
  {
   "cell_type": "code",
   "execution_count": null,
   "metadata": {},
   "outputs": [],
   "source": [
    "boslukSayisi=0\n",
    "cumle=input(\"Lutfen cumleyi giriniz:\")\n",
    "\n",
    "for harf in cumle:\n",
    "    if harf==\" \":\n",
    "        boslukSayisi+=1\n",
    "print(\"'{}' cumlesinde toplam {} bosluk karakteri geciyor\".format(cumle,boslukSayisi))"
   ]
  },
  {
   "cell_type": "markdown",
   "metadata": {},
   "source": [
    "### While Döngüsü ile Sayının Tersini Hesaplama\n",
    "\n",
    "sayi=1234\n",
    "\n",
    "1.İterasyon Sonunda: kalan=4, sayininTersi=4, geciciSayi=123\n",
    "\n",
    "2.İterasyon Sonunda: kalan=3, sayininTersi=43, geciciSayi=12\n",
    "\n",
    "3.İterasyon Sonunda: kalan=2, sayininTersi=432, geciciSayi=1  \n",
    "\n",
    "4.İterasyon Sonunda: kalan=1, sayininTersi=4321, geciciSayi=0\n"
   ]
  },
  {
   "cell_type": "code",
   "execution_count": 41,
   "metadata": {},
   "outputs": [
    {
     "name": "stdout",
     "output_type": "stream",
     "text": [
      "Lutfen tersi hesaplanacak sayiyi giriniz:123\n",
      "123 sayisinin tersi:321 \n"
     ]
    }
   ],
   "source": [
    "sayi=int(input(\"Lutfen tersi hesaplanacak sayiyi giriniz:\"))\n",
    "geciciSayi=sayi\n",
    "sayininTersi=0\n",
    "\n",
    "while geciciSayi!=0:\n",
    "    kalan=geciciSayi%10  #1\n",
    "    sayininTersi=sayininTersi*10+kalan #321\n",
    "    geciciSayi//=10\n",
    "print(\"{} sayisinin tersi:{} \".format(sayi,sayininTersi))"
   ]
  }
 ],
 "metadata": {
  "kernelspec": {
   "display_name": "Python 3",
   "language": "python",
   "name": "python3"
  },
  "language_info": {
   "codemirror_mode": {
    "name": "ipython",
    "version": 3
   },
   "file_extension": ".py",
   "mimetype": "text/x-python",
   "name": "python",
   "nbconvert_exporter": "python",
   "pygments_lexer": "ipython3",
   "version": "3.8.5"
  }
 },
 "nbformat": 4,
 "nbformat_minor": 4
}

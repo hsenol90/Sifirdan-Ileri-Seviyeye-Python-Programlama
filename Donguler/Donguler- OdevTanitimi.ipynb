{
 "cells": [
  {
   "cell_type": "markdown",
   "metadata": {},
   "source": [
    "## Döngüler Ödev Soruları\n"
   ]
  },
  {
   "cell_type": "markdown",
   "metadata": {},
   "source": [
    "### 1.Soru: Döngü İle Üçgen Çizdirme\n",
    "\n",
    "Soru Açıklaması: Kullanıcıdan alacağınız bir üçgen limitine göre aşağıdaki üçgen şekillerini çizdirmeniz gerekmektedir.\n"
   ]
  },
  {
   "cell_type": "code",
   "execution_count": null,
   "metadata": {},
   "outputs": [],
   "source": [
    "Örneğin üçgen limiti 6 ise;\n",
    "\n",
    "x            xxxxxx         xxxxxxxxxxx             x\n",
    "\n",
    "xx           xxxxx          xxxxxxxxx              xxx\n",
    "\n",
    "xxx          xxxx           xxxxxxx               xxxxx  \n",
    "\n",
    "xxxx         xxx            xxxxx                xxxxxxx \n",
    "\n",
    "xxxxx        xx             xxx                 xxxxxxxxx\n",
    "\n",
    "xxxxxx       x              x                  xxxxxxxxxxx"
   ]
  },
  {
   "cell_type": "markdown",
   "metadata": {},
   "source": [
    "### 2.Soru: Şifre Sorgulama\n",
    "\n",
    "Soru Açıklaması: Kullanıcıdan alacağınız şifrenin uygunluk durumunu kontrol etmeniz gerekmektedir, eğer ki tüm şifre şartları sağlanıyorsa \"Şifre Uygundur\" aksi halde hata mesajı bastırılacaktır.\n",
    "\n",
    "Koşul 1->  Şifrede hem büyük harf hem de küçük harf kullanılması gerek.\n",
    "\n",
    "Koşul 2->  Şifre içerisinde bir sayı kullanılmış olması gerek.\n",
    "\n",
    "Koşul 3->  Şifrenin 8 karakterden uzun olması gerek.\n",
    "\n",
    "Koşul 4->  Şifrenin 16 karakterden kısa olması gerek.\n",
    "\n",
    "Örneğin;\n",
    "\n",
    "şifre=\"ogunBrnc123\" ise \"Şifre Uygundur\"\n",
    "\n",
    "şifre=\"ogunbrnc123\" ise \"Büyük harf kullanılması gerekmektedir\"\n",
    "\n",
    "şifre=\"oB12\" ise \"Şifrenin en az 8 karakter içermesi gerekmektedir\"\n",
    "\n",
    "şifre=\"OgunBirinci1234554321\" ise \"Şifrenin en fazla 16 karakter içermesi gerekmektedir\"\n",
    "\n",
    "şifre=\"ogbrncbrnc\" ise \"Şifrede sayı kullanması gerekmektedir\""
   ]
  },
  {
   "cell_type": "markdown",
   "metadata": {},
   "source": [
    "### 3.Soru: Mükemmel Sayı Sorgusu\n",
    "\n",
    "Soru Açıklaması: Kullanıcıdan bir adet sayı alınıp sayının mükemmel sayı olup olmadığı sorgulanacak.\n",
    "\n",
    "Mükemmel Sayı: Kendisi hariç bütün pozitif bölen sayıları topladığınız zaman kendisini veren sayılara mükemmel sayı denir.\n",
    "\n",
    "Örneğin;\n",
    "6 sayısı mükemmel bir sayıdır çünkü pozitif bölenlerini yani 3,2,1 sayılarını topladığımızda 6 sayısını verir.\n",
    "\n",
    "##### Ekstra:\n",
    "1-1000 arasındaki tüm mükemmel sayıları yazdırınız.\n",
    "    \n"
   ]
  },
  {
   "cell_type": "markdown",
   "metadata": {},
   "source": [
    "### 4.Soru: Belirli Aralıktaki Asal Sayıları Yazdırma\n",
    "\n",
    "Soru Açıklaması: Kullanıcıdan bir değer aralığı alıp o aralıktaki tüm asal sayıları yazdıran program yapınız(Asal sayı sorgulamayı derste görmüştük)\n",
    "\n",
    "Örneğin;\n",
    "Kullanıcı değer aralığı olarak 20 girdiyse, 1 ile 20 arasındaki asal sayıları yazdıracaksınız"
   ]
  },
  {
   "cell_type": "markdown",
   "metadata": {},
   "source": [
    "### 5.Soru: Armstrong Sayı Sorgusu\n",
    "\n",
    "Soru Açıklaması: Kullanıcının girdiği bir sayının Armstrong sayısı olup olmadığını sorgulayın.\n",
    "\n",
    "Armstrong Sayı: Sayı basamaklarının ayrı ayrı küpleri alınıp toplandığında kendisini veren sayılara Armstrong sayı denir.\n",
    "\n",
    "Örneğin 371 sayısı: 3^3+7^3+1^3=371\n",
    "\n",
    "##### Ekstra:\n",
    "1-1000 arasındaki tüm Armstrong sayıları yazdırınız."
   ]
  },
  {
   "cell_type": "markdown",
   "metadata": {},
   "source": [
    "### 6.Soru: Break ve Continue Kullanarak Mükemmel Sayı Sorgusu:\n",
    "\n",
    "Soru Açıklaması: Kullanıcıdan bir adet sayı alınıp sayının mükemmel sayı olup olmadığı sorgulanacak ancak bu sefer sonsuz bir döngü oluşturup sadece break ve continue keywordleri ile yapmanız gerekmektedir\n",
    "\n",
    "Mükemmel Sayı: Kendisi hariç bütün pozitif bölen sayıları topladığınız zaman kendisini veren sayılara mükemmel sayı denir.\n",
    "\n",
    "\n",
    "Örneğin;\n",
    "6 sayısı mükemmel bir sayıdır çünkü pozitif bölenlerini yani 3,2,1 sayılarını topladığımızda 6 sayısını verir."
   ]
  }
 ],
 "metadata": {
  "kernelspec": {
   "display_name": "Python 3",
   "language": "python",
   "name": "python3"
  },
  "language_info": {
   "codemirror_mode": {
    "name": "ipython",
    "version": 3
   },
   "file_extension": ".py",
   "mimetype": "text/x-python",
   "name": "python",
   "nbconvert_exporter": "python",
   "pygments_lexer": "ipython3",
   "version": "3.8.5"
  }
 },
 "nbformat": 4,
 "nbformat_minor": 4
}

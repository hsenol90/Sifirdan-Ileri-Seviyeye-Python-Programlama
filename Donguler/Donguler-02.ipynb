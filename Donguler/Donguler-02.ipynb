{
 "cells": [
  {
   "cell_type": "markdown",
   "metadata": {},
   "source": [
    "## Döngüler\n",
    "Belirli bir koşul durumu sağlandığı sürece, kod bloğu içerisindeki kodların tekrar tekrar çalışmasını sağlayan yapılara döngü denir. \n",
    "1. While Döngüsü\n",
    "2. For Döngüsü"
   ]
  },
  {
   "cell_type": "markdown",
   "metadata": {},
   "source": [
    "#### For Döngüsü\n",
    "\n",
    "### Ne Zaman Kullanırız?\n",
    "\n",
    "For döngüsünü genel olarak belirli sayıda tekrar edilecek durumlarda veya Liste-String gibi veri kümelerinin elemanları üzerinde gezinmek için kullanırız.\n",
    "\n",
    "### Syntax Yapısı:\n",
    "\n",
    "for degisken in veri_kumesi:\n",
    "\n",
    "    dongu_icerisinde_yapilacak_islemler\n",
    "\n",
    "### Açıklama:\n",
    "\n",
    "Veri kümesi içerisinde elemanlar üzerinde tek tek gezinmemizi sağlayacak, veri kümesinin uzunluğunun aşıldığı durumda False sonuç üretecek ve döngü sonlanacak"
   ]
  },
  {
   "cell_type": "markdown",
   "metadata": {},
   "source": [
    "##### String Üzerinde Döngü Yardımıyla Gezinme"
   ]
  },
  {
   "cell_type": "code",
   "execution_count": 10,
   "metadata": {},
   "outputs": [
    {
     "name": "stdout",
     "output_type": "stream",
     "text": [
      "o g u n b i r i n c i "
     ]
    }
   ],
   "source": [
    "str1=\"ogunbirinci\"\n",
    "for ch in str1:\n",
    "    print(ch,end=\" \")"
   ]
  },
  {
   "cell_type": "markdown",
   "metadata": {},
   "source": [
    "##### Liste Üzerinde Döngü Yardımıyla Gezinme"
   ]
  },
  {
   "cell_type": "code",
   "execution_count": 13,
   "metadata": {},
   "outputs": [
    {
     "name": "stdout",
     "output_type": "stream",
     "text": [
      "1 2 3 4 5 buradan devam ediyor\n"
     ]
    }
   ],
   "source": [
    "elemanListesi=[1,2,3,4,5]\n",
    "for eleman in elemanListesi:\n",
    "    print(eleman,end=\" \")\n",
    "print(\"buradan devam ediyor\")"
   ]
  },
  {
   "cell_type": "markdown",
   "metadata": {},
   "source": [
    "#### Range Fonksiyonu\n",
    "\n",
    "###### Ne İçin Kullanılır?\n",
    "Fonksiyona vereceğimiz belirli argümanlara göre sıralı sayı üretmemizi sağlar\n",
    "\n",
    "##### Nasıl Kullanılır?\n",
    "1. range(son_deger): 0 ile son_deger arasında 1'er 1'er artarak sayı üretir, son_deger dahil değildir.\n",
    "2. range(ilk_deger,son_deger): ilk_deger ile son_deger arasında 1'er 1'er artarak sayı uretir, son_deger dahil değildir\n",
    "3. range(ilk_deger,son_deger,artis_miktari): ilk_deger ile son_deger arasında artis_miktari kadar artarak sayı uretir, son_deger dahil değildir."
   ]
  },
  {
   "cell_type": "code",
   "execution_count": 14,
   "metadata": {},
   "outputs": [
    {
     "name": "stdout",
     "output_type": "stream",
     "text": [
      "0 1 2 3 4 5 6 7 8 9 10 11 12 13 14 15 16 17 18 19 20 21 22 23 24 25 26 27 28 29 30 31 32 33 34 35 36 37 38 39 40 41 42 43 44 45 46 47 48 49 50 51 52 53 54 55 56 57 58 59 60 61 62 63 64 65 66 67 68 69 70 71 72 73 74 75 76 77 78 79 80 81 82 83 84 85 86 87 88 89 90 91 92 93 94 95 96 97 98 99 "
     ]
    }
   ],
   "source": [
    "for sayi in range(100):\n",
    "    print(sayi,end=\" \")"
   ]
  },
  {
   "cell_type": "code",
   "execution_count": 15,
   "metadata": {},
   "outputs": [
    {
     "name": "stdout",
     "output_type": "stream",
     "text": [
      "50 51 52 53 54 55 56 57 58 59 60 61 62 63 64 65 66 67 68 69 70 71 72 73 74 75 76 77 78 79 80 81 82 83 84 85 86 87 88 89 90 91 92 93 94 95 96 97 98 99 "
     ]
    }
   ],
   "source": [
    "for sayi in range(50,100):\n",
    "    print(sayi,end=\" \")"
   ]
  },
  {
   "cell_type": "code",
   "execution_count": 17,
   "metadata": {},
   "outputs": [
    {
     "name": "stdout",
     "output_type": "stream",
     "text": [
      "10 15 20 25 30 35 40 45 50 55 60 65 70 75 80 85 90 95 100 105 110 115 120 125 130 135 140 145 150 155 160 165 170 175 180 185 190 195 "
     ]
    }
   ],
   "source": [
    "for sayi in range(10,200,5):\n",
    "    print(sayi,end=\" \")"
   ]
  }
 ],
 "metadata": {
  "kernelspec": {
   "display_name": "Python 3",
   "language": "python",
   "name": "python3"
  },
  "language_info": {
   "codemirror_mode": {
    "name": "ipython",
    "version": 3
   },
   "file_extension": ".py",
   "mimetype": "text/x-python",
   "name": "python",
   "nbconvert_exporter": "python",
   "pygments_lexer": "ipython3",
   "version": "3.8.5"
  }
 },
 "nbformat": 4,
 "nbformat_minor": 4
}

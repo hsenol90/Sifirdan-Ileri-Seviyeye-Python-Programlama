{
 "cells": [
  {
   "cell_type": "markdown",
   "metadata": {},
   "source": [
    "## Döngüler Ödev Çözümleri\n"
   ]
  },
  {
   "cell_type": "markdown",
   "metadata": {},
   "source": [
    "### 1.Soru: Döngü İle Üçgen Çizdirme\n",
    "\n",
    "Soru Açıklaması: Kullanıcıdan alacağınız bir üçgen limitine göre aşağıdaki üçgen şekillerini çizdirmeniz gerekmektedir.\n",
    "\n",
    "Örneğin üçgen limiti 6 ise;"
   ]
  },
  {
   "cell_type": "code",
   "execution_count": null,
   "metadata": {},
   "outputs": [],
   "source": [
    "x            xxxxxx         xxxxxxxxxxx             x\n",
    "\n",
    "xx           xxxxx          xxxxxxxxx              xxx\n",
    "\n",
    "xxx          xxxx           xxxxxxx               xxxxx  \n",
    "\n",
    "xxxx         xxx            xxxxx                xxxxxxx \n",
    "\n",
    "xxxxx        xx             xxx                 xxxxxxxxx\n",
    "\n",
    "xxxxxx       x              x                  xxxxxxxxxxx"
   ]
  },
  {
   "cell_type": "code",
   "execution_count": 7,
   "metadata": {},
   "outputs": [
    {
     "name": "stdout",
     "output_type": "stream",
     "text": [
      "Lutfen ucgen limitini giriniz:5\n",
      "x\n",
      "xx\n",
      "xxx\n",
      "xxxx\n",
      "xxxxx\n"
     ]
    }
   ],
   "source": [
    "ucgenLimit=int(input(\"Lutfen ucgen limitini giriniz:\"))\n",
    "for i in range(1,ucgenLimit+1):\n",
    "    for j in range(0,i):\n",
    "        print(\"x\",end=\"\")\n",
    "    print(end=\"\\n\")"
   ]
  },
  {
   "cell_type": "code",
   "execution_count": 8,
   "metadata": {},
   "outputs": [
    {
     "name": "stdout",
     "output_type": "stream",
     "text": [
      "Lutfen ucgen limitini giriniz:5\n",
      "xxxxx\n",
      "xxxx\n",
      "xxx\n",
      "xx\n",
      "x\n"
     ]
    }
   ],
   "source": [
    "ucgenLimit=int(input(\"Lutfen ucgen limitini giriniz:\"))\n",
    "for i in range(0,ucgenLimit):\n",
    "    for j in range(ucgenLimit-i,0,-1):\n",
    "        print(\"x\",end=\"\")\n",
    "    print(end=\"\\n\")"
   ]
  },
  {
   "cell_type": "code",
   "execution_count": 5,
   "metadata": {},
   "outputs": [
    {
     "name": "stdout",
     "output_type": "stream",
     "text": [
      "Lutfen ucgen limitini giriniz:15\n",
      "xxxxxxxxxxxxxxx\n",
      "xxxxxxxxxxxxx\n",
      "xxxxxxxxxxx\n",
      "xxxxxxxxx\n",
      "xxxxxxx\n",
      "xxxxx\n",
      "xxx\n",
      "x\n"
     ]
    }
   ],
   "source": [
    "ucgenLimit=int(input(\"Lutfen ucgen limitini giriniz:\"))\n",
    "for i in range(0,ucgenLimit,2):\n",
    "    for j in range(ucgenLimit-i,0,-1):\n",
    "        print(\"x\",end=\"\")\n",
    "    print(end=\"\\n\")"
   ]
  },
  {
   "cell_type": "code",
   "execution_count": 6,
   "metadata": {},
   "outputs": [
    {
     "name": "stdout",
     "output_type": "stream",
     "text": [
      "Lutfen ucgen limitini giriniz:15\n",
      "       x       \n",
      "      xxx      \n",
      "     xxxxx     \n",
      "    xxxxxxx    \n",
      "   xxxxxxxxx   \n",
      "  xxxxxxxxxxx  \n",
      " xxxxxxxxxxxxx \n",
      "xxxxxxxxxxxxxxx\n"
     ]
    }
   ],
   "source": [
    "ucgenLimit=int(input(\"Lutfen ucgen limitini giriniz:\"))\n",
    "for i in range(1,ucgenLimit+1,2):\n",
    "    for j in range(0,(ucgenLimit-i)//2):\n",
    "        print(end=\" \")\n",
    "    for j in range(0,i):\n",
    "        print(\"x\",end=\"\")\n",
    "    for j in range(0,(ucgenLimit-i)//2):\n",
    "        print(end=\" \")\n",
    "    print(end=\"\\n\")"
   ]
  },
  {
   "cell_type": "markdown",
   "metadata": {},
   "source": [
    "### 2.Soru: Şifre Sorgulama\n",
    "\n",
    "Soru Açıklaması: Kullanıcıdan alacağınız şifrenin uygunluk durumunu kontrol etmeniz gerekmektedir, eğer ki tüm şifre şartları sağlanıyorsa \"Şifre Uygundur\" aksi halde hata mesajı bastırılacaktır.\n",
    "\n",
    "Koşul 1->  Şifrede hem büyük harf hem de küçük harf kullanılması gerek.\n",
    "\n",
    "Koşul 2->  Şifre içerisinde bir sayı kullanılmış olması gerek.\n",
    "\n",
    "Koşul 3->  Şifrenin 8 karakterden uzun olması gerek.\n",
    "\n",
    "Koşul 4->  Şifrenin 16 karakterden kısa olması gerek.\n",
    "\n",
    "Örneğin;\n",
    "\n",
    "şifre=\"ogunBrnc123\" ise \"Şifre Uygundur\"\n",
    "\n",
    "şifre=\"ogunbrnc123\" ise \"Büyük harf kullanılması gerekmektedir\"\n",
    "\n",
    "şifre=\"oB12\" ise \"Şifrenin en az 8 karakter içermesi gerekmektedir\"\n",
    "\n",
    "şifre=\"OgunBirinci1234554321\" ise \"Şifrenin en fazla 16 karakter içermesi gerekmektedir\"\n",
    "\n",
    "şifre=\"Ogbrncbrnc\" ise \"Şifrede sayı kullanması gerekmektedir\""
   ]
  },
  {
   "cell_type": "code",
   "execution_count": 13,
   "metadata": {},
   "outputs": [
    {
     "name": "stdout",
     "output_type": "stream",
     "text": [
      "Lutfen sifreyi giriniz:Ogbrncbrnc\n",
      "Sayi kullanilmasi gerekmektedir.\n"
     ]
    }
   ],
   "source": [
    "kucukHarfSorgu=False\n",
    "buyukHarfSorgu=False\n",
    "sayiSorgu=False\n",
    "karakterSayisi=0\n",
    "\n",
    "sifre=input(\"Lutfen sifreyi giriniz:\")\n",
    "for ch in sifre:\n",
    "    if buyukHarfSorgu==False and ch>=\"A\" and ch<=\"Z\":\n",
    "        buyukHarfSorgu=True\n",
    "    elif kucukHarfSorgu==False and ch>='a' and ch<='z':\n",
    "        kucukHarfSorgu=True\n",
    "    elif sayiSorgu==False and ch>='0' and ch<='9':\n",
    "        sayiSorgu=True\n",
    "    karakterSayisi+=1\n",
    "if buyukHarfSorgu==False:\n",
    "    print(\"Buyuk harf kullanilmasi gerekmektedir.\")\n",
    "elif kucukHarfSorgu==False:\n",
    "    print(\"Kucuk harf kullanilmasi gerekmektedir.\")\n",
    "elif sayiSorgu==False:\n",
    "    print(\"Sayi kullanilmasi gerekmektedir.\")\n",
    "elif karakterSayisi<8:\n",
    "    print(\"Sifre minimum 8 karakter icermelidir.\")\n",
    "elif karakterSayisi>16:\n",
    "    print(\"Sifre maksimum 16 karakter icermelidir.\")\n",
    "else:\n",
    "    print(\"Sifre Uygundur!\")\n",
    "        \n",
    "    \n"
   ]
  },
  {
   "cell_type": "markdown",
   "metadata": {},
   "source": [
    "### 3.Soru: Mükemmel Sayı Sorgusu\n",
    "\n",
    "Soru Açıklaması: Kullanıcıdan bir adet sayı alınıp sayının mükemmel sayı olup olmadığı sorgulanacak.\n",
    "\n",
    "Mükemmel Sayı: Kendisi hariç bütün pozitif bölen sayıları topladığınız zaman kendisini veren sayılara mükemmel sayı denir.\n",
    "\n",
    "Örneğin;\n",
    "6 sayısı mükemmel bir sayıdır çünkü pozitif bölenlerini yani 3,2,1 sayılarını topladığımızda 6 sayısını verir.\n",
    "\n",
    "##### Ekstra:\n",
    "1-1000 arasındaki tüm mükemmel sayıları yazdırınız.\n",
    "    \n"
   ]
  },
  {
   "cell_type": "code",
   "execution_count": 20,
   "metadata": {},
   "outputs": [
    {
     "name": "stdout",
     "output_type": "stream",
     "text": [
      "Sorgulanacak sayiyi giriniz:4\n",
      "4 sayisi mukemmel bir sayi degildir.\n"
     ]
    }
   ],
   "source": [
    "toplam=0\n",
    "sorgulanacakSayi=int(input(\"Sorgulanacak sayiyi giriniz:\"))\n",
    "for i in range(1,sorgulanacakSayi):\n",
    "    if sorgulanacakSayi%i==0:\n",
    "        toplam+=i\n",
    "if toplam==sorgulanacakSayi:\n",
    "    print(\"{} sayisi mukemmel bir sayidir.\".format(sorgulanacakSayi))\n",
    "else:\n",
    "    print(\"{} sayisi mukemmel bir sayi degildir.\".format(sorgulanacakSayi))\n"
   ]
  },
  {
   "cell_type": "code",
   "execution_count": 22,
   "metadata": {},
   "outputs": [
    {
     "name": "stdout",
     "output_type": "stream",
     "text": [
      "6 sayisi mukemmel bir sayidir.\n",
      "28 sayisi mukemmel bir sayidir.\n",
      "496 sayisi mukemmel bir sayidir.\n",
      "8128 sayisi mukemmel bir sayidir.\n"
     ]
    }
   ],
   "source": [
    "for i in range(2,1000):\n",
    "    toplam=0\n",
    "    for j in range(1,i):\n",
    "        if i%j==0:\n",
    "            toplam+=j\n",
    "    if i==toplam:\n",
    "        print(\"{} sayisi mukemmel bir sayidir.\".format(i))"
   ]
  },
  {
   "cell_type": "markdown",
   "metadata": {},
   "source": [
    "### 4.Soru: Belirli Aralıktaki Asal Sayıları Yazdırma\n",
    "\n",
    "Soru Açıklaması: Kullanıcıdan bir değer aralığı alıp o aralıktaki tüm asal sayıları yazdıran program yapınız(Asal sayı sorgulamayı derste görmüştük)\n",
    "\n",
    "Örneğin;\n",
    "Kullanıcı değer aralığı olarak 20 girdiyse, 1 ile 20 arasındaki asal sayıları yazdıracaksınız"
   ]
  },
  {
   "cell_type": "code",
   "execution_count": 25,
   "metadata": {},
   "outputs": [
    {
     "name": "stdout",
     "output_type": "stream",
     "text": [
      "Lutfen alt ve ust limit bilgilerini giriniz2,100\n",
      "2 3 5 7 11 13 17 19 23 29 31 37 41 43 47 53 59 61 67 71 73 79 83 89 97 "
     ]
    }
   ],
   "source": [
    "altLimit,ustLimit=map(int,input(\"Lutfen alt ve ust limit bilgilerini giriniz\").split(\",\"))\n",
    "for i in range(altLimit,ustLimit+1):\n",
    "    bolunmeSorgusu=False\n",
    "    for j in range(2,i):\n",
    "        if i%j==0:\n",
    "            bolunmeSorgusu=True\n",
    "            break\n",
    "    if not bolunmeSorgusu:\n",
    "        print(i,end=\" \")"
   ]
  },
  {
   "cell_type": "markdown",
   "metadata": {},
   "source": [
    "### 5.Soru: Armstrong Sayı Sorgusu\n",
    "\n",
    "Soru Açıklaması: Kullanıcının girdiği bir sayının Armstrong sayısı olup olmadığını sorgulayın.\n",
    "\n",
    "Armstrong Sayı: Sayı basamaklarının ayrı ayrı küpleri alınıp toplandığında kendisini veren sayılara Armstrong sayı denir.\n",
    "\n",
    "Örneğin 371 sayısı: 3^3+7^3+1^3=371\n",
    "\n",
    "##### Ekstra:\n",
    "1-1000 arasındaki tüm Armstrong sayıları yazdırınız."
   ]
  },
  {
   "cell_type": "code",
   "execution_count": 28,
   "metadata": {},
   "outputs": [
    {
     "name": "stdout",
     "output_type": "stream",
     "text": [
      "Lutfen sorgulanacak sayiyi giriniz:371\n",
      "371 sayisi bir Armstrong sayisidir\n"
     ]
    }
   ],
   "source": [
    "sayi=int(input(\"Lutfen sorgulanacak sayiyi giriniz:\"))\n",
    "geciciSayi=sayi\n",
    "toplam=0\n",
    "\n",
    "while geciciSayi!=0:\n",
    "    basamak=geciciSayi%10\n",
    "    toplam+=basamak**3\n",
    "    geciciSayi//=10\n",
    "if toplam==sayi:\n",
    "    print(\"{} sayisi bir Armstrong sayisidir\".format(sayi))\n",
    "else:\n",
    "    print(\"{} sayisi bir Armstrong sayisi degildir\".format(sayi))"
   ]
  },
  {
   "cell_type": "code",
   "execution_count": 29,
   "metadata": {},
   "outputs": [
    {
     "name": "stdout",
     "output_type": "stream",
     "text": [
      "1 sayisi bir Armstrong sayisidir\n",
      "153 sayisi bir Armstrong sayisidir\n",
      "370 sayisi bir Armstrong sayisidir\n",
      "371 sayisi bir Armstrong sayisidir\n",
      "407 sayisi bir Armstrong sayisidir\n"
     ]
    }
   ],
   "source": [
    "for i in range(1,1000):\n",
    "    geciciSayi=i\n",
    "    toplam=0\n",
    "    while geciciSayi!=0:\n",
    "        basamak=geciciSayi%10\n",
    "        toplam+=basamak**3\n",
    "        geciciSayi//=10\n",
    "    if i==toplam:\n",
    "        print(\"{} sayisi bir Armstrong sayisidir\".format(i))"
   ]
  },
  {
   "cell_type": "markdown",
   "metadata": {},
   "source": [
    "### 6.Soru: Break ve Continue Kullanarak Mükemmel Sayı Sorgusu:\n",
    "\n",
    "Soru Açıklaması: Kullanıcıdan bir adet sayı alınıp sayının mükemmel sayı olup olmadığı sorgulanacak ancak bu sefer sonsuz bir döngü oluşturup sadece break ve continue keywordleri ile yapmanız gerekmektedir\n",
    "\n",
    "Mükemmel Sayı: Kendisi hariç bütün pozitif bölen sayıları topladığınız zaman kendisini veren sayılara mükemmel sayı denir.\n",
    "\n",
    "\n",
    "Örneğin;\n",
    "6 sayısı mükemmel bir sayıdır çünkü pozitif bölenlerini yani 3,2,1 sayılarını topladığımızda 6 sayısını verir."
   ]
  },
  {
   "cell_type": "code",
   "execution_count": 34,
   "metadata": {},
   "outputs": [
    {
     "name": "stdout",
     "output_type": "stream",
     "text": [
      "Lutfen sorgulanacak sayiyi giriniz:6\n",
      "6 sayisi mukemmel bir sayidir\n"
     ]
    }
   ],
   "source": [
    "sorgulanacakSayi=int(input(\"Lutfen sorgulanacak sayiyi giriniz:\"))\n",
    "sayac=1\n",
    "toplam=0\n",
    "while True:\n",
    "    if sayac==sorgulanacakSayi:\n",
    "        break\n",
    "    if sorgulanacakSayi%sayac==0:\n",
    "        toplam+=sayac\n",
    "    sayac+=1\n",
    "if toplam==sorgulanacakSayi:\n",
    "    print(\"{} sayisi mukemmel bir sayidir\".format(sorgulanacakSayi))\n",
    "else:\n",
    "    print(\"{} sayisi mukemmel bir sayi degildir\".format(sorgulanacakSayi))"
   ]
  }
 ],
 "metadata": {
  "kernelspec": {
   "display_name": "Python 3",
   "language": "python",
   "name": "python3"
  },
  "language_info": {
   "codemirror_mode": {
    "name": "ipython",
    "version": 3
   },
   "file_extension": ".py",
   "mimetype": "text/x-python",
   "name": "python",
   "nbconvert_exporter": "python",
   "pygments_lexer": "ipython3",
   "version": "3.8.5"
  }
 },
 "nbformat": 4,
 "nbformat_minor": 4
}

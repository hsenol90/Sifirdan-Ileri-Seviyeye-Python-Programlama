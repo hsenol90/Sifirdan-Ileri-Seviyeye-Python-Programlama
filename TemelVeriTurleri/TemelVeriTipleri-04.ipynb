{
 "cells": [
  {
   "cell_type": "markdown",
   "metadata": {},
   "source": [
    "## sep ve end kavramları"
   ]
  },
  {
   "cell_type": "markdown",
   "metadata": {},
   "source": [
    "#### end kavramı\n",
    "print fonksiyonuyla yazdığımız metnin ne ile biteceğini belirlememizi sağlar"
   ]
  },
  {
   "cell_type": "code",
   "execution_count": 3,
   "metadata": {},
   "outputs": [
    {
     "name": "stdout",
     "output_type": "stream",
     "text": [
      "Ogun Birinci\n",
      ":)Merhaba Dunya!!"
     ]
    }
   ],
   "source": [
    "print(\"Ogun Birinci\",end=\"\\n:)\")\n",
    "print(\"Merhaba Dunya!\",end='!')"
   ]
  },
  {
   "cell_type": "markdown",
   "metadata": {},
   "source": [
    "#### sep kavramı\n",
    "print fonksiyonuyla yazdığımız metinleri birbirinden ne ile ayıracağımızı belirlememizi sağlar"
   ]
  },
  {
   "cell_type": "code",
   "execution_count": 7,
   "metadata": {},
   "outputs": [
    {
     "name": "stdout",
     "output_type": "stream",
     "text": [
      "Merhaba Dunya Ogun\n"
     ]
    }
   ],
   "source": [
    "print(\"Merhaba\",\"Dunya\",\"Ogun\",sep=' ')"
   ]
  },
  {
   "cell_type": "markdown",
   "metadata": {},
   "source": [
    "##### Ayrıca şu şekilde tüm karakterleri de ayırabiliriz"
   ]
  },
  {
   "cell_type": "code",
   "execution_count": 11,
   "metadata": {},
   "outputs": [
    {
     "name": "stdout",
     "output_type": "stream",
     "text": [
      "M e r h a b a D u n y a O g u n B i r i n c i\n"
     ]
    }
   ],
   "source": [
    "print(*\"MerhabaDunyaOgunBirinci\",sep=' ')"
   ]
  }
 ],
 "metadata": {
  "kernelspec": {
   "display_name": "Python 3",
   "language": "python",
   "name": "python3"
  },
  "language_info": {
   "codemirror_mode": {
    "name": "ipython",
    "version": 3
   },
   "file_extension": ".py",
   "mimetype": "text/x-python",
   "name": "python",
   "nbconvert_exporter": "python",
   "pygments_lexer": "ipython3",
   "version": "3.8.5"
  }
 },
 "nbformat": 4,
 "nbformat_minor": 4
}

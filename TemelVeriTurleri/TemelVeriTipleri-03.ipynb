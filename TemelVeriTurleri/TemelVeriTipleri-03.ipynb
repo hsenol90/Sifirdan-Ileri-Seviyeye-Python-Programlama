{
 "cells": [
  {
   "cell_type": "markdown",
   "metadata": {},
   "source": [
    "## print fonksiyonunda kullanılan özel karakterler"
   ]
  },
  {
   "cell_type": "markdown",
   "metadata": {},
   "source": [
    "### \\n karakteri\n",
    "Bir sonraki satıra geçmeyi sağlar"
   ]
  },
  {
   "cell_type": "code",
   "execution_count": 5,
   "metadata": {},
   "outputs": [
    {
     "name": "stdout",
     "output_type": "stream",
     "text": [
      "Ogun\n",
      "Birinci\n",
      "Ikinci\n",
      "Ucuncu\n"
     ]
    }
   ],
   "source": [
    "print(\"Ogun\\nBirinci\\nIkinci\\nUcuncu\")"
   ]
  },
  {
   "cell_type": "markdown",
   "metadata": {},
   "source": [
    "### \\t karakteri\n",
    "Bir tab karakteri kadar boşluk koyulmasını sağlar"
   ]
  },
  {
   "cell_type": "code",
   "execution_count": 7,
   "metadata": {},
   "outputs": [
    {
     "name": "stdout",
     "output_type": "stream",
     "text": [
      "Ogun\tBirinci\n",
      "OgunBirinci\n"
     ]
    }
   ],
   "source": [
    "print(\"Ogun\\tBirinci\")\n",
    "print(\"OgunBirinci\")"
   ]
  },
  {
   "cell_type": "markdown",
   "metadata": {},
   "source": [
    "### \\b karakteri\n",
    "Bir karakter silmeyi sağlar, normalde kullandığımız \"backspace\" görevini görür"
   ]
  },
  {
   "cell_type": "code",
   "execution_count": 8,
   "metadata": {},
   "outputs": [
    {
     "name": "stdout",
     "output_type": "stream",
     "text": [
      "Ogun Birinci\n",
      "Ogun \bBirinci\n"
     ]
    }
   ],
   "source": [
    "print(\"Ogun Birinci\")\n",
    "print(\"Ogun \\bBirinci\") "
   ]
  },
  {
   "cell_type": "markdown",
   "metadata": {},
   "source": [
    "### \\r karakteri\n",
    "Soldaki tüm karakterleri silmeyi sağlar"
   ]
  },
  {
   "cell_type": "code",
   "execution_count": 9,
   "metadata": {},
   "outputs": [
    {
     "name": "stdout",
     "output_type": "stream",
     "text": [
      "Ogun\r",
      "Birinci\n"
     ]
    }
   ],
   "source": [
    "print(\"Ogun\\rBirinci\")"
   ]
  },
  {
   "cell_type": "markdown",
   "metadata": {},
   "source": [
    "### Çift \\ kullanma\n",
    "Eğer ki \\\\\\\\ şeklinde kullanırsak direkt olarak \"\\\\\" yazmamıza olanak sağlar"
   ]
  },
  {
   "cell_type": "code",
   "execution_count": 12,
   "metadata": {},
   "outputs": [
    {
     "name": "stdout",
     "output_type": "stream",
     "text": [
      "Ogun\\Birinci\n"
     ]
    }
   ],
   "source": [
    "print(\"Ogun\\\\Birinci\")"
   ]
  },
  {
   "cell_type": "code",
   "execution_count": null,
   "metadata": {},
   "outputs": [],
   "source": []
  }
 ],
 "metadata": {
  "kernelspec": {
   "display_name": "Python 3",
   "language": "python",
   "name": "python3"
  },
  "language_info": {
   "codemirror_mode": {
    "name": "ipython",
    "version": 3
   },
   "file_extension": ".py",
   "mimetype": "text/x-python",
   "name": "python",
   "nbconvert_exporter": "python",
   "pygments_lexer": "ipython3",
   "version": "3.8.5"
  }
 },
 "nbformat": 4,
 "nbformat_minor": 4
}

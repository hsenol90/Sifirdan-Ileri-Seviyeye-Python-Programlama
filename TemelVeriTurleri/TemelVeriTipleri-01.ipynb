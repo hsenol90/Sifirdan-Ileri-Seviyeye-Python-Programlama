{
 "cells": [
  {
   "cell_type": "markdown",
   "metadata": {},
   "source": [
    "## Temel veri tipleri nelerdir?"
   ]
  },
  {
   "cell_type": "markdown",
   "metadata": {},
   "source": [
    "#### 1. Sayısal Veri Tipi: Integer, Float, Complex"
   ]
  },
  {
   "cell_type": "markdown",
   "metadata": {},
   "source": [
    "##### Integer: Tam sayılar için kullanılıyor\n"
   ]
  },
  {
   "cell_type": "code",
   "execution_count": 11,
   "metadata": {},
   "outputs": [
    {
     "name": "stdout",
     "output_type": "stream",
     "text": [
      "0\n",
      "<class 'int'>\n",
      "25\n",
      "<class 'int'>\n"
     ]
    }
   ],
   "source": [
    "a=int()\n",
    "print(a)\n",
    "print(type(a))\n",
    "b=25\n",
    "print(b)\n",
    "print(type(b))"
   ]
  },
  {
   "cell_type": "markdown",
   "metadata": {},
   "source": [
    "##### Float: Ondalıklı sayılar için kullanılıyor\n"
   ]
  },
  {
   "cell_type": "code",
   "execution_count": 13,
   "metadata": {},
   "outputs": [
    {
     "name": "stdout",
     "output_type": "stream",
     "text": [
      "0.0\n",
      "<class 'float'>\n",
      "12.5\n",
      "<class 'float'>\n"
     ]
    }
   ],
   "source": [
    "x=float()\n",
    "print(x)\n",
    "print(type(x))\n",
    "y=12.5\n",
    "print(y)\n",
    "print(type(y))"
   ]
  },
  {
   "cell_type": "markdown",
   "metadata": {},
   "source": [
    "##### Complex: Karmaşık sayılar için kullanılıyor"
   ]
  },
  {
   "cell_type": "code",
   "execution_count": 15,
   "metadata": {},
   "outputs": [
    {
     "name": "stdout",
     "output_type": "stream",
     "text": [
      "0j\n",
      "<class 'complex'>\n",
      "(1+2j)\n",
      "<class 'complex'>\n"
     ]
    }
   ],
   "source": [
    "k=complex()\n",
    "print(k)\n",
    "print(type(k))\n",
    "l=1+2j\n",
    "print(l)\n",
    "print(type(l))"
   ]
  },
  {
   "cell_type": "markdown",
   "metadata": {},
   "source": [
    "#### 2. Karakter Dizisi Veri Tipi: String"
   ]
  },
  {
   "cell_type": "markdown",
   "metadata": {},
   "source": [
    "##### Çift tırnak ile oluşturabilirsiniz"
   ]
  },
  {
   "cell_type": "code",
   "execution_count": 16,
   "metadata": {},
   "outputs": [
    {
     "name": "stdout",
     "output_type": "stream",
     "text": [
      "ogun\n",
      "<class 'str'>\n"
     ]
    }
   ],
   "source": [
    "str1=\"ogun\"\n",
    "print(str1)\n",
    "print(type(str1))"
   ]
  },
  {
   "cell_type": "markdown",
   "metadata": {},
   "source": [
    "##### Tek tırnak ile oluşturabilirsiniz"
   ]
  },
  {
   "cell_type": "code",
   "execution_count": 19,
   "metadata": {},
   "outputs": [
    {
     "name": "stdout",
     "output_type": "stream",
     "text": [
      "\n",
      "<class 'str'>\n"
     ]
    }
   ],
   "source": [
    "str2='birinci'\n",
    "print(str2)\n",
    "print(type(str2))"
   ]
  },
  {
   "cell_type": "markdown",
   "metadata": {},
   "source": [
    "##### Üç tırnak ile oluşturabilirsiniz"
   ]
  },
  {
   "cell_type": "code",
   "execution_count": 21,
   "metadata": {},
   "outputs": [
    {
     "name": "stdout",
     "output_type": "stream",
     "text": [
      "\n",
      "ogun\n",
      "birinci\n",
      "ikinci\n",
      "\n",
      "<class 'str'>\n"
     ]
    }
   ],
   "source": [
    "str3=\"\"\"\n",
    "ogun\n",
    "birinci\n",
    "\"\"\"\n",
    "print(str3)\n",
    "print(type(str3))"
   ]
  },
  {
   "cell_type": "markdown",
   "metadata": {},
   "source": [
    "##### str() keywordü ile oluşturabilirsiniz"
   ]
  },
  {
   "cell_type": "code",
   "execution_count": 22,
   "metadata": {},
   "outputs": [
    {
     "name": "stdout",
     "output_type": "stream",
     "text": [
      "\n",
      "<class 'str'>\n"
     ]
    }
   ],
   "source": [
    "str4=str()\n",
    "print(str4)\n",
    "print(type(str4))"
   ]
  },
  {
   "cell_type": "markdown",
   "metadata": {},
   "source": [
    "##### Direkt olarak [] ile karakterlere erişim sağlayabilirsiniz"
   ]
  },
  {
   "cell_type": "code",
   "execution_count": 32,
   "metadata": {},
   "outputs": [
    {
     "name": "stdout",
     "output_type": "stream",
     "text": [
      "ogunbirinci\n",
      "o\n",
      "ogunbirinci\n"
     ]
    }
   ],
   "source": [
    "str5=\"ogunbirinci\"\n",
    "print(str5)\n",
    "print(str5[0])\n",
    "print(str5[:])"
   ]
  },
  {
   "cell_type": "markdown",
   "metadata": {},
   "source": [
    "##### DİKKAT !\n",
    "İç içe çift tırnak veya iç içe tek tırnak kullanılamaz!"
   ]
  },
  {
   "cell_type": "code",
   "execution_count": 38,
   "metadata": {},
   "outputs": [
    {
     "name": "stdout",
     "output_type": "stream",
     "text": [
      "Ogun Birinci su an \"Python\" programlama dersini cekiyor\n"
     ]
    }
   ],
   "source": [
    "metin='Ogun Birinci su an \"Python\" programlama dersini cekiyor'\n",
    "print(metin)"
   ]
  },
  {
   "cell_type": "markdown",
   "metadata": {},
   "source": [
    "#### 3. Mantıksal Veri Tipi: True-False"
   ]
  },
  {
   "cell_type": "code",
   "execution_count": 41,
   "metadata": {},
   "outputs": [
    {
     "name": "stdout",
     "output_type": "stream",
     "text": [
      "<class 'bool'>\n",
      "True\n",
      "<class 'bool'>\n",
      "False\n",
      "<class 'bool'>\n",
      "False\n"
     ]
    }
   ],
   "source": [
    "a=True\n",
    "b=False\n",
    "c=bool()\n",
    "print(type(a))\n",
    "print(a)\n",
    "print(type(b))\n",
    "print(b)\n",
    "print(type(c))\n",
    "print(c)\n"
   ]
  },
  {
   "cell_type": "code",
   "execution_count": 44,
   "metadata": {},
   "outputs": [
    {
     "name": "stdout",
     "output_type": "stream",
     "text": [
      "False\n",
      "<class 'bool'>\n"
     ]
    }
   ],
   "source": [
    "c=1==3\n",
    "print(c)\n",
    "print(type(c))"
   ]
  },
  {
   "cell_type": "code",
   "execution_count": null,
   "metadata": {},
   "outputs": [],
   "source": []
  }
 ],
 "metadata": {
  "kernelspec": {
   "display_name": "Python 3",
   "language": "python",
   "name": "python3"
  },
  "language_info": {
   "codemirror_mode": {
    "name": "ipython",
    "version": 3
   },
   "file_extension": ".py",
   "mimetype": "text/x-python",
   "name": "python",
   "nbconvert_exporter": "python",
   "pygments_lexer": "ipython3",
   "version": "3.8.5"
  }
 },
 "nbformat": 4,
 "nbformat_minor": 4
}

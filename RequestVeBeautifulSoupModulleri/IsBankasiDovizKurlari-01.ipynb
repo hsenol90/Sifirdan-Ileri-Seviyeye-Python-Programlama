{
 "cells": [
  {
   "cell_type": "markdown",
   "metadata": {},
   "source": [
    "## İş Bankası Web Sitesinden Döviz Kurlarını Çekme"
   ]
  },
  {
   "cell_type": "code",
   "execution_count": 1,
   "metadata": {},
   "outputs": [],
   "source": [
    "import requests\n",
    "from bs4 import BeautifulSoup"
   ]
  },
  {
   "cell_type": "code",
   "execution_count": 4,
   "metadata": {},
   "outputs": [
    {
     "name": "stdout",
     "output_type": "stream",
     "text": [
      "\r\n",
      "                                            Amerikan Doları\r\n",
      "                                         \r\n",
      "                                        8,1847\r\n",
      "                                     \r\n",
      "                                        8,3758\r\n",
      "                                    \n",
      "\t\t\t\t ********************************\n"
     ]
    }
   ],
   "source": [
    "url=\"https://www.isbank.com.tr/doviz-kurlari\"\n",
    "sayfaCevabi=requests.get(url)\n",
    "if sayfaCevabi.status_code==200:\n",
    "    htmlIcerik=sayfaCevabi.content\n",
    "    soup=BeautifulSoup(htmlIcerik,\"html.parser\")\n",
    "    for icerik in soup.find_all(\"tr\",{\"id\":\"dk_L0\"}):\n",
    "        etiket=icerik.find(\"span\").text\n",
    "        alis=icerik.find_all(\"td\")[1:][0].text\n",
    "        satis=icerik.find_all(\"td\")[1:][1].text\n",
    "        print(etiket,alis,satis)\n",
    "        print(\"\\t\\t\\t\\t ********************************\")\n",
    "\n",
    "    for icerik in soup.find_all(\"tr\",{\"class\":\"dk_L1\"}):\n",
    "        etiket=icerik.find(\"span\").text\n",
    "        alis=icerik.find_all(\"td\")[1:][0].text\n",
    "        satis=icerik.find_all(\"td\")[1:][1].text\n",
    "        print(etiket,alis,satis)\n",
    "        print(\"\\t\\t\\t\\t ********************************\")\n",
    "else:\n",
    "    print(\"hata\")"
   ]
  },
  {
   "cell_type": "code",
   "execution_count": null,
   "metadata": {},
   "outputs": [],
   "source": []
  }
 ],
 "metadata": {
  "kernelspec": {
   "display_name": "Python 3",
   "language": "python",
   "name": "python3"
  },
  "language_info": {
   "codemirror_mode": {
    "name": "ipython",
    "version": 3
   },
   "file_extension": ".py",
   "mimetype": "text/x-python",
   "name": "python",
   "nbconvert_exporter": "python",
   "pygments_lexer": "ipython3",
   "version": "3.8.5"
  }
 },
 "nbformat": 4,
 "nbformat_minor": 4
}

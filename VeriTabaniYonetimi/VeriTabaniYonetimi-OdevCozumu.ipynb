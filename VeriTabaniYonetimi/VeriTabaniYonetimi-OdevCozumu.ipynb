{
 "cells": [
  {
   "cell_type": "markdown",
   "metadata": {},
   "source": [
    "## Otel Rezervasyon Sistemi"
   ]
  },
  {
   "cell_type": "markdown",
   "metadata": {},
   "source": [
    "1. Oda Bilgisi Yazdırma\n",
    "2. Oda Filtreleme\n",
    "3. Oda Ekleme\n",
    "4. Oda Rezerve Etme\n",
    "5. Oda Çıkış İşlemi\n",
    "\n",
    "İşlemleri yaptırılacak."
   ]
  },
  {
   "cell_type": "code",
   "execution_count": 30,
   "metadata": {},
   "outputs": [],
   "source": [
    "import sqlite3\n",
    "class Oda:\n",
    "    odaListesi=[]\n",
    "    def __init__(self,odaNo,kisiSayisi,musaitlik):\n",
    "        self.kisiSayisi=kisiSayisi\n",
    "        self.odaNo=odaNo\n",
    "        self.musaitlik=musaitlik\n",
    "        self.odaListesi.append(self)\n",
    "    \n",
    "    @classmethod\n",
    "    def odalariYazdir(cls):\n",
    "        for oda in cls.odaListesi:\n",
    "            print(\"Oda No:{}, Kisi Sayisi:{}, Musaitlik Durumu:{}\".format(oda.odaNo,oda.kisiSayisi,oda.musaitlik))\n",
    "            \n",
    "class VeriTabaniBaglantisi:\n",
    "    def __init__(self,veriTabaniIsim,tabloIsim):\n",
    "        self.veritabani=sqlite3.connect(veriTabaniIsim)\n",
    "        self.tablo=tabloIsim\n",
    "        self.imlec=self.veritabani.cursor()\n",
    "        self.imlec.execute(\"CREATE TABLE IF NOT EXISTS {}(odaNO INTEGER PRIMARY KEY AUTOINCREMENT,kisiSayisi INTEGER NOT NULL, odaMusaitlik INTEGER)\".format(self.tablo))\n",
    "        \n",
    "    def odalariGetir(self):\n",
    "        sorgu=\"SELECT * FROM {}\".format(self.tablo)\n",
    "        self.imlec.execute(sorgu)\n",
    "        Oda.odaListesi.clear()\n",
    "        for oda in self.imlec:\n",
    "            yeniOda=Oda(oda[0],oda[1],oda[2])\n",
    "    \n",
    "    def odaEkle(self,kisiSayisi):\n",
    "        sorgu=\"INSERT INTO {}(kisiSayisi,odaMusaitlik) VALUES(?,?)\".format(self.tablo)\n",
    "        self.imlec.execute(sorgu,(kisiSayisi,1))\n",
    "        self.veritabani.commit()\n",
    "        self.odalariGetir()\n",
    "        \n",
    "    def odayiDoldur(self,odaNo):\n",
    "        sorgu=\"SELECT odaMusaitlik FROM {} WHERE odaNO={}\".format(self.tablo,odaNo)\n",
    "        self.imlec.execute(sorgu)\n",
    "        musaitlik=self.imlec.fetchone()[0]\n",
    "        if musaitlik==1:\n",
    "            sorgu2=\"UPDATE {} SET odaMusaitlik=0 WHERE odaNO={}\".format(self.tablo,odaNo)\n",
    "            self.imlec.execute(sorgu2)\n",
    "            self.veritabani.commit()\n",
    "            self.odalariGetir()\n",
    "            print(\"Oda Rezerve Edildi!\")\n",
    "        else:\n",
    "            print(\"Oda Musait Degildir!!\")\n",
    "    \n",
    "    def odayiBosalt(self,odaNo):\n",
    "        sorgu=\"SELECT odaMusaitlik FROM {} WHERE odaNO={}\".format(self.tablo,odaNo)\n",
    "        self.imlec.execute(sorgu)\n",
    "        musaitlik=self.imlec.fetchone()[0]\n",
    "        if musaitlik==0:\n",
    "            sorgu2=\"UPDATE {} SET odaMusaitlik=1 WHERE odaNo={}\".format(self.tablo,odaNo)\n",
    "            self.imlec.execute(sorgu2)\n",
    "            self.veritabani.commit()\n",
    "            self.odalariGetir()\n",
    "            print(\"Oda Bosaltildi\")\n",
    "        else:\n",
    "            print(\"Oda zaten bos durumdadir!!\") \n",
    "    \n",
    "    def odaSorgula(self,kisiSayisi):\n",
    "        sorgu=\"SELECT * FROM {} WHERE kisiSayisi={} and odaMusaitlik=1\".format(self.tablo,kisiSayisi)\n",
    "        self.imlec.execute(sorgu)\n",
    "        for oda in self.imlec:\n",
    "            print(\"Oda No:{}, Musaitlik Durumu: Musait, Kisi Sayisi:{}\".format(oda[0],oda[1]))\n",
    "    \n",
    "    def baglantiyiKes(self):\n",
    "        self.veritabani.close()\n",
    "        "
   ]
  },
  {
   "cell_type": "code",
   "execution_count": 31,
   "metadata": {},
   "outputs": [],
   "source": [
    "veritabani=VeriTabaniBaglantisi(\"RezervasyonSistemi.db\",\"Oda\")"
   ]
  },
  {
   "cell_type": "code",
   "execution_count": 5,
   "metadata": {},
   "outputs": [],
   "source": [
    "veritabani.odaEkle(1)\n",
    "veritabani.odaEkle(2)\n",
    "veritabani.odaEkle(3)\n",
    "veritabani.odaEkle(2)\n",
    "veritabani.odaEkle(3)\n",
    "veritabani.odaEkle(1)"
   ]
  },
  {
   "cell_type": "code",
   "execution_count": 25,
   "metadata": {},
   "outputs": [
    {
     "name": "stdout",
     "output_type": "stream",
     "text": [
      "Oda No:1, Kisi Sayisi:1, Musaitlik Durumu:1\n",
      "Oda No:2, Kisi Sayisi:2, Musaitlik Durumu:1\n",
      "Oda No:3, Kisi Sayisi:3, Musaitlik Durumu:1\n",
      "Oda No:4, Kisi Sayisi:2, Musaitlik Durumu:1\n",
      "Oda No:5, Kisi Sayisi:3, Musaitlik Durumu:0\n",
      "Oda No:6, Kisi Sayisi:1, Musaitlik Durumu:0\n"
     ]
    }
   ],
   "source": [
    "veritabani.odalariGetir()\n",
    "Oda.odalariYazdir()"
   ]
  },
  {
   "cell_type": "code",
   "execution_count": 12,
   "metadata": {},
   "outputs": [
    {
     "name": "stdout",
     "output_type": "stream",
     "text": [
      "Oda Musait Degildir!!\n",
      "Oda No:1, Kisi Sayisi:1, Musaitlik Durumu:0\n",
      "Oda No:2, Kisi Sayisi:2, Musaitlik Durumu:1\n",
      "Oda No:3, Kisi Sayisi:3, Musaitlik Durumu:1\n",
      "Oda No:4, Kisi Sayisi:2, Musaitlik Durumu:1\n",
      "Oda No:5, Kisi Sayisi:3, Musaitlik Durumu:1\n",
      "Oda No:6, Kisi Sayisi:1, Musaitlik Durumu:1\n"
     ]
    }
   ],
   "source": [
    "veritabani.odayiDoldur(1)\n",
    "Oda.odalariYazdir()"
   ]
  },
  {
   "cell_type": "code",
   "execution_count": 16,
   "metadata": {},
   "outputs": [
    {
     "name": "stdout",
     "output_type": "stream",
     "text": [
      "Oda Rezerve Edildi!\n",
      "Oda Rezerve Edildi!\n",
      "Oda Rezerve Edildi!\n",
      "Oda No:1, Kisi Sayisi:1, Musaitlik Durumu:0\n",
      "Oda No:2, Kisi Sayisi:2, Musaitlik Durumu:1\n",
      "Oda No:3, Kisi Sayisi:3, Musaitlik Durumu:0\n",
      "Oda No:4, Kisi Sayisi:2, Musaitlik Durumu:1\n",
      "Oda No:5, Kisi Sayisi:3, Musaitlik Durumu:0\n",
      "Oda No:6, Kisi Sayisi:1, Musaitlik Durumu:0\n"
     ]
    }
   ],
   "source": [
    "veritabani.odayiDoldur(3)\n",
    "veritabani.odayiDoldur(5)\n",
    "veritabani.odayiDoldur(6)\n",
    "Oda.odalariYazdir()"
   ]
  },
  {
   "cell_type": "code",
   "execution_count": 21,
   "metadata": {},
   "outputs": [
    {
     "name": "stdout",
     "output_type": "stream",
     "text": [
      "Oda Bosaltildi\n"
     ]
    }
   ],
   "source": [
    "veritabani.odayiBosalt(3)"
   ]
  },
  {
   "cell_type": "code",
   "execution_count": 22,
   "metadata": {},
   "outputs": [
    {
     "name": "stdout",
     "output_type": "stream",
     "text": [
      "Oda No:1, Kisi Sayisi:1, Musaitlik Durumu:1\n",
      "Oda No:2, Kisi Sayisi:2, Musaitlik Durumu:1\n",
      "Oda No:3, Kisi Sayisi:3, Musaitlik Durumu:1\n",
      "Oda No:4, Kisi Sayisi:2, Musaitlik Durumu:1\n",
      "Oda No:5, Kisi Sayisi:3, Musaitlik Durumu:0\n",
      "Oda No:6, Kisi Sayisi:1, Musaitlik Durumu:0\n"
     ]
    }
   ],
   "source": [
    "Oda.odalariYazdir()"
   ]
  },
  {
   "cell_type": "code",
   "execution_count": 33,
   "metadata": {},
   "outputs": [
    {
     "ename": "ProgrammingError",
     "evalue": "Cannot operate on a closed database.",
     "output_type": "error",
     "traceback": [
      "\u001b[1;31m---------------------------------------------------------------------------\u001b[0m",
      "\u001b[1;31mProgrammingError\u001b[0m                          Traceback (most recent call last)",
      "\u001b[1;32m<ipython-input-33-42f5b492f0ef>\u001b[0m in \u001b[0;36m<module>\u001b[1;34m\u001b[0m\n\u001b[1;32m----> 1\u001b[1;33m \u001b[0mveritabani\u001b[0m\u001b[1;33m.\u001b[0m\u001b[0modaSorgula\u001b[0m\u001b[1;33m(\u001b[0m\u001b[1;36m2\u001b[0m\u001b[1;33m)\u001b[0m\u001b[1;33m\u001b[0m\u001b[1;33m\u001b[0m\u001b[0m\n\u001b[0m",
      "\u001b[1;32m<ipython-input-30-6d8baeb9dd6c>\u001b[0m in \u001b[0;36modaSorgula\u001b[1;34m(self, kisiSayisi)\u001b[0m\n\u001b[0;32m     61\u001b[0m     \u001b[1;32mdef\u001b[0m \u001b[0modaSorgula\u001b[0m\u001b[1;33m(\u001b[0m\u001b[0mself\u001b[0m\u001b[1;33m,\u001b[0m\u001b[0mkisiSayisi\u001b[0m\u001b[1;33m)\u001b[0m\u001b[1;33m:\u001b[0m\u001b[1;33m\u001b[0m\u001b[1;33m\u001b[0m\u001b[0m\n\u001b[0;32m     62\u001b[0m         \u001b[0msorgu\u001b[0m\u001b[1;33m=\u001b[0m\u001b[1;34m\"SELECT * FROM {} WHERE kisiSayisi={} and odaMusaitlik=1\"\u001b[0m\u001b[1;33m.\u001b[0m\u001b[0mformat\u001b[0m\u001b[1;33m(\u001b[0m\u001b[0mself\u001b[0m\u001b[1;33m.\u001b[0m\u001b[0mtablo\u001b[0m\u001b[1;33m,\u001b[0m\u001b[0mkisiSayisi\u001b[0m\u001b[1;33m)\u001b[0m\u001b[1;33m\u001b[0m\u001b[1;33m\u001b[0m\u001b[0m\n\u001b[1;32m---> 63\u001b[1;33m         \u001b[0mself\u001b[0m\u001b[1;33m.\u001b[0m\u001b[0mimlec\u001b[0m\u001b[1;33m.\u001b[0m\u001b[0mexecute\u001b[0m\u001b[1;33m(\u001b[0m\u001b[0msorgu\u001b[0m\u001b[1;33m)\u001b[0m\u001b[1;33m\u001b[0m\u001b[1;33m\u001b[0m\u001b[0m\n\u001b[0m\u001b[0;32m     64\u001b[0m         \u001b[1;32mfor\u001b[0m \u001b[0moda\u001b[0m \u001b[1;32min\u001b[0m \u001b[0mself\u001b[0m\u001b[1;33m.\u001b[0m\u001b[0mimlec\u001b[0m\u001b[1;33m:\u001b[0m\u001b[1;33m\u001b[0m\u001b[1;33m\u001b[0m\u001b[0m\n\u001b[0;32m     65\u001b[0m             \u001b[0mprint\u001b[0m\u001b[1;33m(\u001b[0m\u001b[1;34m\"Oda No:{}, Musaitlik Durumu: Musait, Kisi Sayisi:{}\"\u001b[0m\u001b[1;33m.\u001b[0m\u001b[0mformat\u001b[0m\u001b[1;33m(\u001b[0m\u001b[0moda\u001b[0m\u001b[1;33m[\u001b[0m\u001b[1;36m0\u001b[0m\u001b[1;33m]\u001b[0m\u001b[1;33m,\u001b[0m\u001b[0moda\u001b[0m\u001b[1;33m[\u001b[0m\u001b[1;36m1\u001b[0m\u001b[1;33m]\u001b[0m\u001b[1;33m)\u001b[0m\u001b[1;33m)\u001b[0m\u001b[1;33m\u001b[0m\u001b[1;33m\u001b[0m\u001b[0m\n",
      "\u001b[1;31mProgrammingError\u001b[0m: Cannot operate on a closed database."
     ]
    }
   ],
   "source": [
    "veritabani.odaSorgula(2)"
   ]
  },
  {
   "cell_type": "code",
   "execution_count": 32,
   "metadata": {},
   "outputs": [],
   "source": [
    "veritabani.baglantiyiKes()"
   ]
  },
  {
   "cell_type": "code",
   "execution_count": null,
   "metadata": {},
   "outputs": [],
   "source": []
  }
 ],
 "metadata": {
  "kernelspec": {
   "display_name": "Python 3",
   "language": "python",
   "name": "python3"
  },
  "language_info": {
   "codemirror_mode": {
    "name": "ipython",
    "version": 3
   },
   "file_extension": ".py",
   "mimetype": "text/x-python",
   "name": "python",
   "nbconvert_exporter": "python",
   "pygments_lexer": "ipython3",
   "version": "3.8.5"
  }
 },
 "nbformat": 4,
 "nbformat_minor": 4
}

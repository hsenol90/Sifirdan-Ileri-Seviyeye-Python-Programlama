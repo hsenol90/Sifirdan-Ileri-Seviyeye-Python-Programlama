{
 "cells": [
  {
   "cell_type": "markdown",
   "metadata": {},
   "source": [
    "## Veri Tabanı Yönetimi- Alıştırmalar"
   ]
  },
  {
   "cell_type": "markdown",
   "metadata": {},
   "source": [
    "## Öğrenci Not Sistemi"
   ]
  },
  {
   "cell_type": "markdown",
   "metadata": {},
   "source": [
    "1. Ogrenci Ekleme\n",
    "2. Ogrenci Silme\n",
    "3. Ogrenci Listeleme\n",
    "4. Ogrenci Notu Guncelleme\n",
    "5. Ogrencileri Notlara Gore Filtreleme"
   ]
  },
  {
   "cell_type": "code",
   "execution_count": 39,
   "metadata": {},
   "outputs": [],
   "source": [
    "import sqlite3\n",
    "class Ogrenci:\n",
    "    ogrenciListesi=[]\n",
    "    def __init__(self,isim,soyisim,no,puan):\n",
    "        self.isim=isim\n",
    "        self.soyisim=soyisim\n",
    "        self.ogrenciNo=no\n",
    "        self.puan=puan\n",
    "        \n",
    "    @classmethod\n",
    "    def ogrenciEkle(cls,isim,soyisim,ogrenciNo,puan):\n",
    "        yeniOgrenci=Ogrenci(isim,soyisim,ogrenciNo,puan)\n",
    "        cls.ogrenciListesi.append(yeniOgrenci)\n",
    "        \n",
    "    @classmethod\n",
    "    def listeyiYazdir(cls):\n",
    "        for ogrenci in cls.ogrenciListesi:\n",
    "            print(\"Ogrenci Adi:{}, Ogrenci Soyadi:{},Ogrenci No:{},Ogrenci Puan:{}\".format(ogrenci.isim,ogrenci.soyisim,ogrenci.ogrenciNo,ogrenci.puan))\n",
    "            \n",
    "class VeriTabaniBaglantisi:\n",
    "    def __init__(self,veriTabaniIsim,tabloIsim):\n",
    "        self.veritabani=sqlite3.connect(veriTabaniIsim)\n",
    "        self.imlec=self.veritabani.cursor()\n",
    "        self.tablo=tabloIsim\n",
    "        self.imlec.execute(\"CREATE TABLE IF NOT EXISTS {}(OgrenciAdi nvarchar(20),OgrenciSoyadi nvarchar(20),OgrenciNo INTEGER PRIMARY KEY AUTOINCREMENT,OgrenciPuan INTEGER)\".format(self.tablo))\n",
    "        \n",
    "    def ogrencileriGetir(self):\n",
    "        sorgu=\"SELECT * FROM {}\".format(self.tablo)\n",
    "        self.imlec.execute(sorgu)\n",
    "        Ogrenci.ogrenciListesi.clear()\n",
    "        for ogrenci in self.imlec:\n",
    "            Ogrenci.ogrenciEkle(ogrenci[0],ogrenci[1],ogrenci[2],ogrenci[3])\n",
    "    \n",
    "    def ogrenciEkle(self,isim,soyisim,puan):\n",
    "        sorgu=\"INSERT INTO {}(OgrenciAdi,OgrenciSoyadi,OgrenciPuan) VALUES(?,?,?)\".format(self.tablo)\n",
    "        self.imlec.execute(sorgu,(isim,soyisim,puan))\n",
    "        self.veritabani.commit()\n",
    "        self.ogrencileriGetir()\n",
    "        \n",
    "    def ogrenciSil(self,ogrenciNo):\n",
    "        sorgu=\"DELETE FROM {} WHERE ogrenciNo={}\".format(self.tablo,ogrenciNo)\n",
    "        self.imlec.execute(sorgu)\n",
    "        self.veritabani.commit()\n",
    "        self.ogrencileriGetir()\n",
    "    \n",
    "    def notGuncelle(self,ogrenciNo,yeniNot):\n",
    "        sorgu=\"UPDATE {} SET OgrenciPuan={} WHERE OgrenciNo={}\".format(self.tablo,yeniNot,ogrenciNo)\n",
    "        self.imlec.execute(sorgu)\n",
    "        self.veritabani.commit()\n",
    "        self.ogrencileriGetir()\n",
    "    \n",
    "    def ogrenciFiltrele(self,puanAlt,puanUst):\n",
    "        sorgu=\"SELECT * FROM {} WHERE OgrenciPuan>={} and OgrenciPuan<={}\".format(self.tablo,puanAlt,puanUst)\n",
    "        self.imlec.execute(sorgu)\n",
    "        for ogrenci in self.imlec:\n",
    "            print(\"Ogrenci Adi:{}, Ogrenci Soyadi:{}, Ogrenci No:{}, Ogrenci Puan:{}\".format(ogrenci[0],ogrenci[1],ogrenci[2],ogrenci[3]))\n",
    "        \n",
    "    def baglantiyiKes(self):\n",
    "        self.veritabani.close()\n",
    "        \n",
    "    \n",
    "    "
   ]
  },
  {
   "cell_type": "code",
   "execution_count": 40,
   "metadata": {},
   "outputs": [],
   "source": [
    "veritabani=VeriTabaniBaglantisi(\"OgrenciNotSistemi.db\",\"Ogrenci\")"
   ]
  },
  {
   "cell_type": "code",
   "execution_count": 5,
   "metadata": {},
   "outputs": [],
   "source": [
    "veritabani.ogrenciEkle(\"Ogun\",\"Birinci\",70)\n",
    "veritabani.ogrenciEkle(\"Burak\",\"Ikinci\",80)\n",
    "veritabani.ogrenciEkle(\"Elzem\",\"Yazici\",90)"
   ]
  },
  {
   "cell_type": "code",
   "execution_count": 41,
   "metadata": {},
   "outputs": [
    {
     "name": "stdout",
     "output_type": "stream",
     "text": [
      "Ogrenci Adi:Burak, Ogrenci Soyadi:Ikinci,Ogrenci No:2,Ogrenci Puan:68\n",
      "Ogrenci Adi:Elzem, Ogrenci Soyadi:Yazici,Ogrenci No:3,Ogrenci Puan:87\n"
     ]
    }
   ],
   "source": [
    "veritabani.ogrencileriGetir()\n",
    "Ogrenci.listeyiYazdir()"
   ]
  },
  {
   "cell_type": "code",
   "execution_count": 21,
   "metadata": {},
   "outputs": [],
   "source": [
    "veritabani.ogrenciSil(12)"
   ]
  },
  {
   "cell_type": "code",
   "execution_count": 22,
   "metadata": {},
   "outputs": [
    {
     "name": "stdout",
     "output_type": "stream",
     "text": [
      "Ogrenci Adi:Burak, Ogrenci Soyadi:Ikinci,Ogrenci No:2,Ogrenci Puan:80\n",
      "Ogrenci Adi:Elzem, Ogrenci Soyadi:Yazici,Ogrenci No:3,Ogrenci Puan:90\n"
     ]
    }
   ],
   "source": [
    "Ogrenci.listeyiYazdir()"
   ]
  },
  {
   "cell_type": "code",
   "execution_count": 36,
   "metadata": {},
   "outputs": [
    {
     "name": "stdout",
     "output_type": "stream",
     "text": [
      "Ogrenci Adi:Burak, Ogrenci Soyadi:Ikinci,Ogrenci No:2,Ogrenci Puan:68\n",
      "Ogrenci Adi:Elzem, Ogrenci Soyadi:Yazici,Ogrenci No:3,Ogrenci Puan:87\n"
     ]
    }
   ],
   "source": [
    "veritabani.notGuncelle(2,68)\n",
    "veritabani.notGuncelle(3,87)\n",
    "Ogrenci.listeyiYazdir()"
   ]
  },
  {
   "cell_type": "code",
   "execution_count": 43,
   "metadata": {},
   "outputs": [
    {
     "ename": "ProgrammingError",
     "evalue": "Cannot operate on a closed database.",
     "output_type": "error",
     "traceback": [
      "\u001b[1;31m---------------------------------------------------------------------------\u001b[0m",
      "\u001b[1;31mProgrammingError\u001b[0m                          Traceback (most recent call last)",
      "\u001b[1;32m<ipython-input-43-2b3205feeda8>\u001b[0m in \u001b[0;36m<module>\u001b[1;34m\u001b[0m\n\u001b[1;32m----> 1\u001b[1;33m \u001b[0mveritabani\u001b[0m\u001b[1;33m.\u001b[0m\u001b[0mogrenciFiltrele\u001b[0m\u001b[1;33m(\u001b[0m\u001b[1;36m70\u001b[0m\u001b[1;33m,\u001b[0m\u001b[1;36m90\u001b[0m\u001b[1;33m)\u001b[0m\u001b[1;33m\u001b[0m\u001b[1;33m\u001b[0m\u001b[0m\n\u001b[0m",
      "\u001b[1;32m<ipython-input-39-d9db9731875c>\u001b[0m in \u001b[0;36mogrenciFiltrele\u001b[1;34m(self, puanAlt, puanUst)\u001b[0m\n\u001b[0;32m     53\u001b[0m     \u001b[1;32mdef\u001b[0m \u001b[0mogrenciFiltrele\u001b[0m\u001b[1;33m(\u001b[0m\u001b[0mself\u001b[0m\u001b[1;33m,\u001b[0m\u001b[0mpuanAlt\u001b[0m\u001b[1;33m,\u001b[0m\u001b[0mpuanUst\u001b[0m\u001b[1;33m)\u001b[0m\u001b[1;33m:\u001b[0m\u001b[1;33m\u001b[0m\u001b[1;33m\u001b[0m\u001b[0m\n\u001b[0;32m     54\u001b[0m         \u001b[0msorgu\u001b[0m\u001b[1;33m=\u001b[0m\u001b[1;34m\"SELECT * FROM {} WHERE OgrenciPuan>={} and OgrenciPuan<={}\"\u001b[0m\u001b[1;33m.\u001b[0m\u001b[0mformat\u001b[0m\u001b[1;33m(\u001b[0m\u001b[0mself\u001b[0m\u001b[1;33m.\u001b[0m\u001b[0mtablo\u001b[0m\u001b[1;33m,\u001b[0m\u001b[0mpuanAlt\u001b[0m\u001b[1;33m,\u001b[0m\u001b[0mpuanUst\u001b[0m\u001b[1;33m)\u001b[0m\u001b[1;33m\u001b[0m\u001b[1;33m\u001b[0m\u001b[0m\n\u001b[1;32m---> 55\u001b[1;33m         \u001b[0mself\u001b[0m\u001b[1;33m.\u001b[0m\u001b[0mimlec\u001b[0m\u001b[1;33m.\u001b[0m\u001b[0mexecute\u001b[0m\u001b[1;33m(\u001b[0m\u001b[0msorgu\u001b[0m\u001b[1;33m)\u001b[0m\u001b[1;33m\u001b[0m\u001b[1;33m\u001b[0m\u001b[0m\n\u001b[0m\u001b[0;32m     56\u001b[0m         \u001b[1;32mfor\u001b[0m \u001b[0mogrenci\u001b[0m \u001b[1;32min\u001b[0m \u001b[0mself\u001b[0m\u001b[1;33m.\u001b[0m\u001b[0mimlec\u001b[0m\u001b[1;33m:\u001b[0m\u001b[1;33m\u001b[0m\u001b[1;33m\u001b[0m\u001b[0m\n\u001b[0;32m     57\u001b[0m             \u001b[0mprint\u001b[0m\u001b[1;33m(\u001b[0m\u001b[1;34m\"Ogrenci Adi:{}, Ogrenci Soyadi:{}, Ogrenci No:{}, Ogrenci Puan:{}\"\u001b[0m\u001b[1;33m.\u001b[0m\u001b[0mformat\u001b[0m\u001b[1;33m(\u001b[0m\u001b[0mogrenci\u001b[0m\u001b[1;33m[\u001b[0m\u001b[1;36m0\u001b[0m\u001b[1;33m]\u001b[0m\u001b[1;33m,\u001b[0m\u001b[0mogrenci\u001b[0m\u001b[1;33m[\u001b[0m\u001b[1;36m1\u001b[0m\u001b[1;33m]\u001b[0m\u001b[1;33m,\u001b[0m\u001b[0mogrenci\u001b[0m\u001b[1;33m[\u001b[0m\u001b[1;36m2\u001b[0m\u001b[1;33m]\u001b[0m\u001b[1;33m,\u001b[0m\u001b[0mogrenci\u001b[0m\u001b[1;33m[\u001b[0m\u001b[1;36m3\u001b[0m\u001b[1;33m]\u001b[0m\u001b[1;33m)\u001b[0m\u001b[1;33m)\u001b[0m\u001b[1;33m\u001b[0m\u001b[1;33m\u001b[0m\u001b[0m\n",
      "\u001b[1;31mProgrammingError\u001b[0m: Cannot operate on a closed database."
     ]
    }
   ],
   "source": [
    "veritabani.ogrenciFiltrele(70,90)"
   ]
  },
  {
   "cell_type": "code",
   "execution_count": 42,
   "metadata": {},
   "outputs": [],
   "source": [
    "veritabani.baglantiyiKes()"
   ]
  },
  {
   "cell_type": "code",
   "execution_count": null,
   "metadata": {},
   "outputs": [],
   "source": []
  }
 ],
 "metadata": {
  "kernelspec": {
   "display_name": "Python 3",
   "language": "python",
   "name": "python3"
  },
  "language_info": {
   "codemirror_mode": {
    "name": "ipython",
    "version": 3
   },
   "file_extension": ".py",
   "mimetype": "text/x-python",
   "name": "python",
   "nbconvert_exporter": "python",
   "pygments_lexer": "ipython3",
   "version": "3.8.5"
  }
 },
 "nbformat": 4,
 "nbformat_minor": 4
}

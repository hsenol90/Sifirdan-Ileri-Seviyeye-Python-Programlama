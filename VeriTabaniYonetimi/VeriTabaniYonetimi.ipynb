{
 "cells": [
  {
   "cell_type": "markdown",
   "metadata": {},
   "source": [
    "## Veri Tabanı Yönetimi(SqLite)"
   ]
  },
  {
   "cell_type": "markdown",
   "metadata": {},
   "source": [
    "#### Neden İhtiyacımız Var?\n",
    "\n",
    "Veritabanı, verileri kalıcı ve düzenli bir şekilde saklamamızı, verileri güncellememizi-silmemizi ve yeni veri eklememizi sağlayan veri yığınlarıdır. Veritabanında veriler satır ve sütun şeklinde saklanır. Her bir sütuna veriyle alakalı hangi verinin nasıl saklanacağı bilgisi yazılır, her bir ayrı veri ise satırlara kaydedilir.\n",
    "\n",
    "Örneğin;\n",
    "\n",
    "            ogrenciAdi,ogrenciSoyadi,ogrenciNo\n",
    "           1.Ogun      Birinci        1\n",
    "           2.Beril     Kucukdilek     2\n",
    "           3.Ahmet     Ozer           3\n",
    "           4.Aleyna    Unsal          4\n",
    "           5.Elzem     Yazici         5\n",
    "           6.Elif      Kalmac         6\n",
    "           \n",
    "Gördüğünüz gibi,yukarıdaki yapı bir tablo olarak ifade edilir; sütunlardaki veriler hep ilişkiseldir. Her bir satırdaki veri ise bir öğrencinin verilerini tutar.\n",
    "\n",
    "#### Nasıl Yöneteceğiz?\n",
    "Birçok programlama dilinde veritabanı yönetmek için temel SQL sorguları mevcuttur. Biz de Python programlama dilinde hazır olarak sunulmuş SqLite kütüphanesini kullanarak SQL sorguları ile veritabanını yöneteceğiz.\n",
    "1. Veri Ekleme(Create)\n",
    "2. Veri Alma(Read)\n",
    "3. Veri Güncelleme(Update)\n",
    "4. Veri Silme(Delete)\n"
   ]
  },
  {
   "cell_type": "markdown",
   "metadata": {},
   "source": [
    "#### Veri Tabanı Oluşturma - Bağlanma ve connect() Fonksiyonu\n",
    "\n",
    "##### Syntax Yapısı\n",
    "sqlite3.connect(\"veritabani_adi.uzanti\")\n",
    "\n",
    "Buradaki uzantı .sqlite veya .db olabilir, eğer ki verdiğiniz isim ile bir veri tabanı yoksa bulunduğunuz dizin veya verdiğiniz dizine bu veritabanı oluşturulur eğer ki varsa bağlantı kurulur."
   ]
  },
  {
   "cell_type": "code",
   "execution_count": 3,
   "metadata": {},
   "outputs": [],
   "source": [
    "import sqlite3\n",
    "veritabani=sqlite3.connect(\"ogrenci.db\")\n",
    "veritabani2=sqlite3.connect(\"ogrenci.sqlite\")"
   ]
  },
  {
   "cell_type": "markdown",
   "metadata": {},
   "source": [
    "#### İmleç(Cursor) Tanımlama\n",
    "\n",
    "##### Neden İhtiyacımız Var?\n",
    "\n",
    "Oluşturduğumuz veya bağlantı kurduğumuz veri tabanı üzerinde işlem yapabilmemiz için bir adet cursor(imleç) oluşturmamız gerekiyor. Tüm işlemleri de bu imleci kullanarak yapacağız."
   ]
  },
  {
   "cell_type": "code",
   "execution_count": 4,
   "metadata": {},
   "outputs": [],
   "source": [
    "imlec=veritabani.cursor()\n",
    "imlec2=veritabani2.cursor()"
   ]
  },
  {
   "cell_type": "markdown",
   "metadata": {},
   "source": [
    "#### Tablo Oluşturma, Veri Tipleri\n",
    "\n",
    "Tabloları oluştururken yazılacak verilerin veri tiplerini önceden belirtmemiz gerekiyor, bu veri tipleri;\n",
    "\n",
    "1. INTEGER: Tam sayılar için\n",
    "2. REAL: Ondalıklı sayılar için\n",
    "3. TEXT: Karakter dizileri için\n",
    "4. BLOB: Binary format için\n",
    "kullanılıyor.\n",
    "\n",
    "Bir tabloyu oluşturmak için sorgu içerisinde CREATE komutu kullanmamız gerekiyor, syntax yapısı şu şekilde;\n",
    "\n",
    "CREATE TABLE tablo_adi(sutun1,sutun2,sutun3...)\"\n",
    "\n",
    "Bu komutu çalıştırmak için ise oluşturduğumuz imleç ile birlikte execute() fonksiyonunu kullanmamız gerekiyor"
   ]
  },
  {
   "cell_type": "code",
   "execution_count": 5,
   "metadata": {},
   "outputs": [
    {
     "data": {
      "text/plain": [
       "<sqlite3.Cursor at 0x15bfadfe650>"
      ]
     },
     "execution_count": 5,
     "metadata": {},
     "output_type": "execute_result"
    }
   ],
   "source": [
    "sorgu=\"CREATE TABLE Ogrenci(OgrenciAdi TEXT,OgrenciSoyadi TEXT,OgrenciNO INTEGER)\"\n",
    "imlec.execute(sorgu)"
   ]
  },
  {
   "cell_type": "markdown",
   "metadata": {},
   "source": [
    "#### DİKKAT\n",
    "Eğer ki tablo zaten var ise, tekrar oluşturmaya çalıştığımızda hata alırız!"
   ]
  },
  {
   "cell_type": "code",
   "execution_count": 6,
   "metadata": {},
   "outputs": [
    {
     "ename": "OperationalError",
     "evalue": "table Ogrenci already exists",
     "output_type": "error",
     "traceback": [
      "\u001b[1;31m---------------------------------------------------------------------------\u001b[0m",
      "\u001b[1;31mOperationalError\u001b[0m                          Traceback (most recent call last)",
      "\u001b[1;32m<ipython-input-6-8e4cdc3b4da3>\u001b[0m in \u001b[0;36m<module>\u001b[1;34m\u001b[0m\n\u001b[0;32m      1\u001b[0m \u001b[0msorgu\u001b[0m\u001b[1;33m=\u001b[0m\u001b[1;34m\"CREATE TABLE Ogrenci(OgrenciAdi TEXT,OgrenciSoyadi TEXT,OgrenciNO INTEGER)\"\u001b[0m\u001b[1;33m\u001b[0m\u001b[1;33m\u001b[0m\u001b[0m\n\u001b[1;32m----> 2\u001b[1;33m \u001b[0mimlec\u001b[0m\u001b[1;33m.\u001b[0m\u001b[0mexecute\u001b[0m\u001b[1;33m(\u001b[0m\u001b[0msorgu\u001b[0m\u001b[1;33m)\u001b[0m\u001b[1;33m\u001b[0m\u001b[1;33m\u001b[0m\u001b[0m\n\u001b[0m",
      "\u001b[1;31mOperationalError\u001b[0m: table Ogrenci already exists"
     ]
    }
   ],
   "source": [
    "sorgu=\"CREATE TABLE Ogrenci(OgrenciAdi TEXT,OgrenciSoyadi TEXT,OgrenciNO INTEGER)\"\n",
    "imlec.execute(sorgu)"
   ]
  },
  {
   "cell_type": "markdown",
   "metadata": {},
   "source": [
    "#### Bunu nasıl engelleriz?\n",
    "IF NOT EXISTS komutu ile engelleyebiliriz; eğer ki tablo yok ise  anlamına geliyor."
   ]
  },
  {
   "cell_type": "code",
   "execution_count": 7,
   "metadata": {},
   "outputs": [
    {
     "data": {
      "text/plain": [
       "<sqlite3.Cursor at 0x15bfadfe650>"
      ]
     },
     "execution_count": 7,
     "metadata": {},
     "output_type": "execute_result"
    }
   ],
   "source": [
    "sorgu=\"CREATE TABLE IF NOT EXISTS Ogrenci(OgrenciAdi TEXT,OgrenciSoyadi TEXT,OgrenciNO INTEGER)\"\n",
    "imlec.execute(sorgu)"
   ]
  },
  {
   "cell_type": "markdown",
   "metadata": {},
   "source": [
    "#### Tabloya Kayıt Ekleme\n",
    "\n",
    "Bir tabloya yeni kayıt eklemek aslında yeni bir satır eklemek anlamına geliyor, bunun için de INSERT INTO komutunu kullanıyoruz;\n",
    "\n",
    "INSERT INTO tablo_adi(sutun1,sutun2,sutun3..) VALUES(deger1,deger2,deger3..)\n",
    "\n",
    "İmleç ile ekleme,güncelleme veya silme yaptıktan sonra bu işlemler geçici bir veri kümesi üzerinde yapılır. Kalıcı olmasını istiyorsanız ve veritabanına yansımasını istiyorsanız commit() komutunu kullanmanız gerekir.\n",
    "\n"
   ]
  },
  {
   "cell_type": "code",
   "execution_count": 8,
   "metadata": {},
   "outputs": [
    {
     "data": {
      "text/plain": [
       "<sqlite3.Cursor at 0x15bfadfe650>"
      ]
     },
     "execution_count": 8,
     "metadata": {},
     "output_type": "execute_result"
    }
   ],
   "source": [
    "sorgu2=\"INSERT INTO Ogrenci(OgrenciAdi,OgrenciSoyadi,OgrenciNO) VALUES('Ogun','Birinci',1)\"\n",
    "imlec.execute(sorgu2)"
   ]
  },
  {
   "cell_type": "code",
   "execution_count": 11,
   "metadata": {},
   "outputs": [],
   "source": [
    "veritabani.commit()"
   ]
  },
  {
   "cell_type": "markdown",
   "metadata": {},
   "source": [
    "##### Parametre ile Ekleme\n",
    "\n",
    "Bazı durumlarda dışarıdan gelen verilere göre ekleme yapmamız gerekebilir. Bu durumlarda VALUES() kısmına ne yazacağız? Bu durumlarda VALUES(?) şeklinde yazarak ardından parametreyi vereceğiz."
   ]
  },
  {
   "cell_type": "code",
   "execution_count": 10,
   "metadata": {},
   "outputs": [
    {
     "data": {
      "text/plain": [
       "<sqlite3.Cursor at 0x15bfadfe650>"
      ]
     },
     "execution_count": 10,
     "metadata": {},
     "output_type": "execute_result"
    }
   ],
   "source": [
    "sorgu3=\"INSERT INTO Ogrenci(OgrenciAdi,OgrenciSoyadi,OgrenciNO) VALUES(?,?,?)\"\n",
    "ogrenciBilgisi=(\"Burak\",\"Ikinci\",2)\n",
    "imlec.execute(sorgu3,ogrenciBilgisi)"
   ]
  },
  {
   "cell_type": "code",
   "execution_count": 12,
   "metadata": {},
   "outputs": [],
   "source": [
    "ogrenciBilgisi2=(\"Elzem\",\"Yazici\",3)\n",
    "imlec.execute(sorgu3,ogrenciBilgisi2)\n",
    "veritabani.commit()"
   ]
  },
  {
   "cell_type": "markdown",
   "metadata": {},
   "source": [
    "#### Kayıt Listeleme\n",
    "\n",
    "Bir tablodaki verileri veya verilerin bir kısmını görüntülemek,listelemek,almak için SELECT komutu kullanıyoruz, şu şekilde;\n",
    "\n",
    "SELECT sutun1,sutun2,sutun3... FROM tablo_adi WHERE sorgu_kosulu"
   ]
  },
  {
   "cell_type": "code",
   "execution_count": 13,
   "metadata": {},
   "outputs": [
    {
     "data": {
      "text/plain": [
       "<sqlite3.Cursor at 0x15bfadfe650>"
      ]
     },
     "execution_count": 13,
     "metadata": {},
     "output_type": "execute_result"
    }
   ],
   "source": [
    "sorgu4=\"SELECT OgrenciAdi,OgrenciSoyadi,OgrenciNO FROM Ogrenci\"\n",
    "imlec.execute(sorgu4)"
   ]
  },
  {
   "cell_type": "markdown",
   "metadata": {},
   "source": [
    "#### Verilerin Görüntülenmesi\n",
    "\n",
    "SELECT komutuyla verileri alabileceğimizi-listeleyebileceğimizi az önce görmüştük, peki bu verileri nasıl alacağız? nasıl görüntüleyeceğiz?\n",
    "\n",
    "1. FETCHALL: SELECT ile getirilen tüm verileri almak için kullanılır.\n",
    "2. FETCHONE: SELECT ile getirilen tek bir satır veriyi okumak için kullanılır, her çağırıldığında bir sonraki satır okunur.\n",
    "3. FETCHMANY: SELECT ile getirilen verilerden istediğimiz kadar satır okumak için kullanılır."
   ]
  },
  {
   "cell_type": "code",
   "execution_count": 14,
   "metadata": {},
   "outputs": [
    {
     "name": "stdout",
     "output_type": "stream",
     "text": [
      "[('Ogun', 'Birinci', 1), ('Burak', 'Ikinci', 2), ('Elzem', 'Yazici', 3)]\n"
     ]
    }
   ],
   "source": [
    "sorgu4=\"SELECT OgrenciAdi,OgrenciSoyadi,OgrenciNO FROM Ogrenci\"\n",
    "imlec.execute(sorgu4)\n",
    "sonuc1=imlec.fetchall()\n",
    "print(sonuc1)"
   ]
  },
  {
   "cell_type": "code",
   "execution_count": 16,
   "metadata": {},
   "outputs": [
    {
     "name": "stdout",
     "output_type": "stream",
     "text": [
      "('Ogun', 'Birinci', 1)\n",
      "('Burak', 'Ikinci', 2)\n"
     ]
    }
   ],
   "source": [
    "sorgu4=\"SELECT OgrenciAdi,OgrenciSoyadi,OgrenciNO FROM Ogrenci\"\n",
    "imlec.execute(sorgu4)\n",
    "sonuc2=imlec.fetchone()\n",
    "sonuc3=imlec.fetchone()\n",
    "print(sonuc2)\n",
    "print(sonuc3)"
   ]
  },
  {
   "cell_type": "code",
   "execution_count": 21,
   "metadata": {},
   "outputs": [
    {
     "name": "stdout",
     "output_type": "stream",
     "text": [
      "[('Ogun', 'Birinci', 1), ('Burak', 'Ikinci', 2), ('Elzem', 'Yazici', 3)]\n"
     ]
    }
   ],
   "source": [
    "sorgu4=\"SELECT OgrenciAdi,OgrenciSoyadi,OgrenciNO FROM Ogrenci\"\n",
    "imlec.execute(sorgu4)\n",
    "sonuc4=imlec.fetchmany(3)\n",
    "print(sonuc4)"
   ]
  },
  {
   "cell_type": "markdown",
   "metadata": {},
   "source": [
    "#### İmleç Üzerinden Veri Okuma\n",
    "\n",
    "Fonksiyon kullanmadan direkt olarak SELECT ile getirilen verileri imlec üzerinden okuyabiliriz;"
   ]
  },
  {
   "cell_type": "code",
   "execution_count": 28,
   "metadata": {},
   "outputs": [
    {
     "name": "stdout",
     "output_type": "stream",
     "text": [
      "Ikinci\n",
      "Yazici\n"
     ]
    }
   ],
   "source": [
    "sorgu4=\"SELECT OgrenciAdi,OgrenciSoyadi,OgrenciNO FROM Ogrenci WHERE OgrenciNo>1\"\n",
    "imlec.execute(sorgu4)\n",
    "for ogrenci in imlec:\n",
    "    print(ogrenci[1])"
   ]
  },
  {
   "cell_type": "markdown",
   "metadata": {},
   "source": [
    "#### Kayıt Güncelleme\n",
    "\n",
    "Bir tablodaki verileri güncellemek istiyorsak UPDATE komutunu kullanıyoruz, şu şekilde;\n",
    "\n",
    "UPDATE tablo_adi SET sutun1=yeni_deger1,sutun2=yeni_deger2..."
   ]
  },
  {
   "cell_type": "code",
   "execution_count": 30,
   "metadata": {},
   "outputs": [],
   "source": [
    "sorgu5=\"UPDATE Ogrenci SET OgrenciAdi='Oguz',OgrenciSoyadi='Birinci',OgrenciNO=3\"\n",
    "imlec.execute(sorgu5)\n",
    "veritabani.commit()"
   ]
  },
  {
   "cell_type": "markdown",
   "metadata": {},
   "source": [
    "##### DİKKAT\n",
    "Eğer ki spesifik bir sorguya göre güncelleme yapmazsanız tüm satırları etkiler!\n",
    "\n",
    "Peki nasıl koşul ekleyeceğiz? WHERE komutu ile sorgulamalar yapabiliriz."
   ]
  },
  {
   "cell_type": "code",
   "execution_count": 42,
   "metadata": {},
   "outputs": [],
   "source": [
    "sorgu5=\"UPDATE Ogrenci SET OgrenciAdi='Ogun',OgrenciSoyadi='Birinci',OgrenciNO=4 WHERE OgrenciAdi='Oguz'\"\n",
    "imlec.execute(sorgu5)\n",
    "veritabani.commit()"
   ]
  },
  {
   "cell_type": "code",
   "execution_count": 43,
   "metadata": {},
   "outputs": [
    {
     "name": "stdout",
     "output_type": "stream",
     "text": [
      "[('Ogun', 'Birinci', 4), ('Burak', 'Ikinci', 2), ('Elzem', 'Yazici', 3)]\n"
     ]
    }
   ],
   "source": [
    "sorgu4=\"SELECT OgrenciAdi,OgrenciSoyadi,OgrenciNO FROM Ogrenci\"\n",
    "imlec.execute(sorgu4)\n",
    "sonuc1=imlec.fetchall()\n",
    "print(sonuc1)"
   ]
  },
  {
   "cell_type": "markdown",
   "metadata": {},
   "source": [
    "#### Kayıt Silme\n",
    "\n",
    "Bir tablodan veri silmek istiyorsak DELETE FROM komutunu kullanıyoruz, şu şekilde;\n",
    "\n",
    "DELETE FROM tablo_adi WHERE silme_kosulu"
   ]
  },
  {
   "cell_type": "code",
   "execution_count": 51,
   "metadata": {},
   "outputs": [
    {
     "ename": "ProgrammingError",
     "evalue": "Cannot operate on a closed database.",
     "output_type": "error",
     "traceback": [
      "\u001b[1;31m---------------------------------------------------------------------------\u001b[0m",
      "\u001b[1;31mProgrammingError\u001b[0m                          Traceback (most recent call last)",
      "\u001b[1;32m<ipython-input-51-7aa533852b08>\u001b[0m in \u001b[0;36m<module>\u001b[1;34m\u001b[0m\n\u001b[0;32m      1\u001b[0m \u001b[0msorgu6\u001b[0m\u001b[1;33m=\u001b[0m\u001b[1;34m\"DELETE FROM Ogrenci WHERE OgrenciAdi='Ogun'\"\u001b[0m\u001b[1;33m\u001b[0m\u001b[1;33m\u001b[0m\u001b[0m\n\u001b[1;32m----> 2\u001b[1;33m \u001b[0mimlec\u001b[0m\u001b[1;33m.\u001b[0m\u001b[0mexecute\u001b[0m\u001b[1;33m(\u001b[0m\u001b[0msorgu6\u001b[0m\u001b[1;33m)\u001b[0m\u001b[1;33m\u001b[0m\u001b[1;33m\u001b[0m\u001b[0m\n\u001b[0m\u001b[0;32m      3\u001b[0m \u001b[0mveritabani\u001b[0m\u001b[1;33m.\u001b[0m\u001b[0mcommit\u001b[0m\u001b[1;33m(\u001b[0m\u001b[1;33m)\u001b[0m\u001b[1;33m\u001b[0m\u001b[1;33m\u001b[0m\u001b[0m\n",
      "\u001b[1;31mProgrammingError\u001b[0m: Cannot operate on a closed database."
     ]
    }
   ],
   "source": [
    "sorgu6=\"DELETE FROM Ogrenci WHERE OgrenciAdi='Ogun'\"\n",
    "imlec.execute(sorgu6)\n",
    "veritabani.commit()"
   ]
  },
  {
   "cell_type": "code",
   "execution_count": 49,
   "metadata": {},
   "outputs": [
    {
     "name": "stdout",
     "output_type": "stream",
     "text": [
      "[('Burak', 'Ikinci', 2), ('Elzem', 'Yazici', 3)]\n"
     ]
    }
   ],
   "source": [
    "sorgu4=\"SELECT * FROM Ogrenci\"\n",
    "imlec.execute(sorgu4)\n",
    "sonuc1=imlec.fetchall()\n",
    "print(sonuc1)"
   ]
  },
  {
   "cell_type": "markdown",
   "metadata": {},
   "source": [
    "#### Veri Tabanı Bağlantısının Kesilmesi\n",
    "\n",
    "Veritabanı üzerinde işlemleri yaptıktan sonra veritabanı bağlantısını close() fonksiyonu ile kesmemiz gerekiyor."
   ]
  },
  {
   "cell_type": "code",
   "execution_count": 50,
   "metadata": {},
   "outputs": [],
   "source": [
    "veritabani.close()"
   ]
  }
 ],
 "metadata": {
  "kernelspec": {
   "display_name": "Python 3",
   "language": "python",
   "name": "python3"
  },
  "language_info": {
   "codemirror_mode": {
    "name": "ipython",
    "version": 3
   },
   "file_extension": ".py",
   "mimetype": "text/x-python",
   "name": "python",
   "nbconvert_exporter": "python",
   "pygments_lexer": "ipython3",
   "version": "3.8.5"
  }
 },
 "nbformat": 4,
 "nbformat_minor": 4
}

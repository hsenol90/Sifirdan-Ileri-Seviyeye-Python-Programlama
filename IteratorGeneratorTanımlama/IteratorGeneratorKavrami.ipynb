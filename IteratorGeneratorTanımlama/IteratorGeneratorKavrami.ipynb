{
 "cells": [
  {
   "cell_type": "markdown",
   "metadata": {},
   "source": [
    "### Iterator Nedir? Neden İhtiyacımız Var?"
   ]
  },
  {
   "cell_type": "code",
   "execution_count": null,
   "metadata": {},
   "outputs": [],
   "source": [
    "Iterator(Yineleyici), sayılabilir sayıda değer içeren bir nesnedir.\n",
    "\n",
    "__iter__() ve __next__() metotları içerir"
   ]
  },
  {
   "cell_type": "markdown",
   "metadata": {},
   "source": [
    "#### Liste Üzerinde Iterator Tanımlama"
   ]
  },
  {
   "cell_type": "code",
   "execution_count": 6,
   "metadata": {},
   "outputs": [
    {
     "name": "stdout",
     "output_type": "stream",
     "text": [
      "C\n",
      "C++\n",
      "Python\n"
     ]
    }
   ],
   "source": [
    "myList=[\"C\",\"C++\",\"Python\"]\n",
    "myIt=iter(myList)\n",
    "\n",
    "print(next(myIt))\n",
    "print(next(myIt))\n",
    "print(next(myIt))"
   ]
  },
  {
   "cell_type": "code",
   "execution_count": 7,
   "metadata": {},
   "outputs": [
    {
     "ename": "StopIteration",
     "evalue": "",
     "output_type": "error",
     "traceback": [
      "\u001b[1;31m---------------------------------------------------------------------------\u001b[0m",
      "\u001b[1;31mStopIteration\u001b[0m                             Traceback (most recent call last)",
      "\u001b[1;32m<ipython-input-7-2e5548d56c50>\u001b[0m in \u001b[0;36m<module>\u001b[1;34m\u001b[0m\n\u001b[1;32m----> 1\u001b[1;33m \u001b[0mprint\u001b[0m\u001b[1;33m(\u001b[0m\u001b[0mnext\u001b[0m\u001b[1;33m(\u001b[0m\u001b[0mmyIt\u001b[0m\u001b[1;33m)\u001b[0m\u001b[1;33m)\u001b[0m\u001b[1;33m\u001b[0m\u001b[1;33m\u001b[0m\u001b[0m\n\u001b[0m",
      "\u001b[1;31mStopIteration\u001b[0m: "
     ]
    }
   ],
   "source": [
    "print(next(myIt))"
   ]
  },
  {
   "cell_type": "markdown",
   "metadata": {},
   "source": [
    "#### String Üzerinde Iterator Tanımlama"
   ]
  },
  {
   "cell_type": "code",
   "execution_count": 8,
   "metadata": {},
   "outputs": [
    {
     "name": "stdout",
     "output_type": "stream",
     "text": [
      "P\n",
      "y\n",
      "t\n",
      "h\n",
      "o\n",
      "n\n"
     ]
    }
   ],
   "source": [
    "myStr=\"Python\"\n",
    "myIt=iter(myStr)\n",
    "\n",
    "print(next(myIt))\n",
    "print(next(myIt))\n",
    "print(next(myIt))\n",
    "print(next(myIt))\n",
    "print(next(myIt))\n",
    "print(next(myIt))"
   ]
  },
  {
   "cell_type": "code",
   "execution_count": 9,
   "metadata": {},
   "outputs": [
    {
     "ename": "StopIteration",
     "evalue": "",
     "output_type": "error",
     "traceback": [
      "\u001b[1;31m---------------------------------------------------------------------------\u001b[0m",
      "\u001b[1;31mStopIteration\u001b[0m                             Traceback (most recent call last)",
      "\u001b[1;32m<ipython-input-9-2e5548d56c50>\u001b[0m in \u001b[0;36m<module>\u001b[1;34m\u001b[0m\n\u001b[1;32m----> 1\u001b[1;33m \u001b[0mprint\u001b[0m\u001b[1;33m(\u001b[0m\u001b[0mnext\u001b[0m\u001b[1;33m(\u001b[0m\u001b[0mmyIt\u001b[0m\u001b[1;33m)\u001b[0m\u001b[1;33m)\u001b[0m\u001b[1;33m\u001b[0m\u001b[1;33m\u001b[0m\u001b[0m\n\u001b[0m",
      "\u001b[1;31mStopIteration\u001b[0m: "
     ]
    }
   ],
   "source": [
    "print(next(myIt))"
   ]
  },
  {
   "cell_type": "markdown",
   "metadata": {},
   "source": [
    "#### Döngü Üzerinden Iterator Kullanımı"
   ]
  },
  {
   "cell_type": "code",
   "execution_count": 11,
   "metadata": {},
   "outputs": [
    {
     "name": "stdout",
     "output_type": "stream",
     "text": [
      "C\n",
      "C++\n",
      "Python\n"
     ]
    }
   ],
   "source": [
    "myList=[\"C\",\"C++\",\"Python\"]\n",
    "myIt=iter(myList)\n",
    "\n",
    "while True:\n",
    "    try:\n",
    "        print(next(myIt))\n",
    "    except:\n",
    "        break"
   ]
  },
  {
   "cell_type": "markdown",
   "metadata": {},
   "source": [
    "#### Kendi Sınıfımız İçin __next__() ve __iter__() Fonksiyonları "
   ]
  },
  {
   "cell_type": "code",
   "execution_count": 12,
   "metadata": {},
   "outputs": [
    {
     "name": "stdout",
     "output_type": "stream",
     "text": [
      "0\n",
      "1\n",
      "2\n",
      "3\n",
      "4\n"
     ]
    }
   ],
   "source": [
    "class Sayi:\n",
    "    def __iter__(self):\n",
    "        self.sayi=0\n",
    "        return self\n",
    "    def __next__(self):\n",
    "        gecici=self.sayi\n",
    "        self.sayi+=1\n",
    "        return gecici\n",
    "\n",
    "sayi=Sayi()\n",
    "sayiIt=iter(sayi)\n",
    "\n",
    "print(next(sayiIt))\n",
    "print(next(sayiIt))\n",
    "print(next(sayiIt))\n",
    "print(next(sayiIt))\n",
    "print(next(sayiIt))"
   ]
  },
  {
   "cell_type": "markdown",
   "metadata": {},
   "source": [
    "#### Kendi Sınıfımız İçin StopIteration Hatası Tanımlama"
   ]
  },
  {
   "cell_type": "code",
   "execution_count": 13,
   "metadata": {},
   "outputs": [],
   "source": [
    "class Sayi:\n",
    "    def __iter__(self):\n",
    "        self.sayi=0\n",
    "        return self\n",
    "    def __next__(self):\n",
    "        if self.sayi<5:\n",
    "            gecici=self.sayi\n",
    "            self.sayi+=1\n",
    "            return gecici\n",
    "        else:\n",
    "            raise StopIteration"
   ]
  },
  {
   "cell_type": "code",
   "execution_count": 14,
   "metadata": {},
   "outputs": [
    {
     "name": "stdout",
     "output_type": "stream",
     "text": [
      "0\n",
      "1\n",
      "2\n",
      "3\n",
      "4\n"
     ]
    },
    {
     "ename": "StopIteration",
     "evalue": "",
     "output_type": "error",
     "traceback": [
      "\u001b[1;31m---------------------------------------------------------------------------\u001b[0m",
      "\u001b[1;31mStopIteration\u001b[0m                             Traceback (most recent call last)",
      "\u001b[1;32m<ipython-input-14-2f15ac731195>\u001b[0m in \u001b[0;36m<module>\u001b[1;34m\u001b[0m\n\u001b[0;32m      3\u001b[0m \u001b[1;33m\u001b[0m\u001b[0m\n\u001b[0;32m      4\u001b[0m \u001b[1;32mwhile\u001b[0m \u001b[1;32mTrue\u001b[0m\u001b[1;33m:\u001b[0m\u001b[1;33m\u001b[0m\u001b[1;33m\u001b[0m\u001b[0m\n\u001b[1;32m----> 5\u001b[1;33m     \u001b[0mprint\u001b[0m\u001b[1;33m(\u001b[0m\u001b[0mnext\u001b[0m\u001b[1;33m(\u001b[0m\u001b[0msayiIt\u001b[0m\u001b[1;33m)\u001b[0m\u001b[1;33m)\u001b[0m\u001b[1;33m\u001b[0m\u001b[1;33m\u001b[0m\u001b[0m\n\u001b[0m",
      "\u001b[1;32m<ipython-input-13-8ecdfa6b0e1a>\u001b[0m in \u001b[0;36m__next__\u001b[1;34m(self)\u001b[0m\n\u001b[0;32m      9\u001b[0m             \u001b[1;32mreturn\u001b[0m \u001b[0mgecici\u001b[0m\u001b[1;33m\u001b[0m\u001b[1;33m\u001b[0m\u001b[0m\n\u001b[0;32m     10\u001b[0m         \u001b[1;32melse\u001b[0m\u001b[1;33m:\u001b[0m\u001b[1;33m\u001b[0m\u001b[1;33m\u001b[0m\u001b[0m\n\u001b[1;32m---> 11\u001b[1;33m             \u001b[1;32mraise\u001b[0m \u001b[0mStopIteration\u001b[0m\u001b[1;33m\u001b[0m\u001b[1;33m\u001b[0m\u001b[0m\n\u001b[0m",
      "\u001b[1;31mStopIteration\u001b[0m: "
     ]
    }
   ],
   "source": [
    "sayi=Sayi()\n",
    "sayiIt=iter(sayi)\n",
    "\n",
    "while True:\n",
    "    print(next(sayiIt))"
   ]
  },
  {
   "cell_type": "code",
   "execution_count": 15,
   "metadata": {},
   "outputs": [
    {
     "name": "stdout",
     "output_type": "stream",
     "text": [
      "0\n",
      "1\n",
      "2\n",
      "3\n",
      "4\n"
     ]
    }
   ],
   "source": [
    "sayi=Sayi()\n",
    "sayiIt=iter(sayi)\n",
    "\n",
    "while True:\n",
    "    try:\n",
    "        print(next(sayiIt))\n",
    "    except:\n",
    "        break"
   ]
  },
  {
   "cell_type": "markdown",
   "metadata": {},
   "source": [
    "### Generator Nedir? Neden İhtiyacımız Var?"
   ]
  },
  {
   "cell_type": "markdown",
   "metadata": {},
   "source": [
    "Normal fonksiyonlardan farklı olarak, geriye bir iterator dönen fonksiyonlardır. Generator fonksiyonlar, return ifadenin yerine kullanılacak en az 1 tane yield ifade içermelidir. \n",
    "\n",
    "__iter__ , __next__() ve StopIteration otomatik olarak oluşturulur."
   ]
  },
  {
   "cell_type": "code",
   "execution_count": 3,
   "metadata": {},
   "outputs": [],
   "source": [
    "def deger_arttir():\n",
    "    sayi=0\n",
    "    yield sayi\n",
    "    \n",
    "    sayi+=1\n",
    "    yield sayi\n",
    "    \n",
    "    sayi+=1\n",
    "    yield sayi"
   ]
  },
  {
   "cell_type": "code",
   "execution_count": 7,
   "metadata": {},
   "outputs": [
    {
     "name": "stdout",
     "output_type": "stream",
     "text": [
      "<generator object deger_arttir at 0x000001AAE851C040>\n"
     ]
    }
   ],
   "source": [
    "deger_arttir_iter=deger_arttir()\n",
    "print(deger_arttir_iter)"
   ]
  },
  {
   "cell_type": "code",
   "execution_count": 5,
   "metadata": {},
   "outputs": [
    {
     "name": "stdout",
     "output_type": "stream",
     "text": [
      "0\n",
      "1\n",
      "2\n"
     ]
    }
   ],
   "source": [
    "print(next(deger_arttir_iter))\n",
    "print(next(deger_arttir_iter))\n",
    "print(next(deger_arttir_iter))"
   ]
  },
  {
   "cell_type": "code",
   "execution_count": 6,
   "metadata": {},
   "outputs": [
    {
     "ename": "StopIteration",
     "evalue": "",
     "output_type": "error",
     "traceback": [
      "\u001b[1;31m---------------------------------------------------------------------------\u001b[0m",
      "\u001b[1;31mStopIteration\u001b[0m                             Traceback (most recent call last)",
      "\u001b[1;32m<ipython-input-6-a6be4a352df6>\u001b[0m in \u001b[0;36m<module>\u001b[1;34m\u001b[0m\n\u001b[1;32m----> 1\u001b[1;33m \u001b[0mprint\u001b[0m\u001b[1;33m(\u001b[0m\u001b[0mnext\u001b[0m\u001b[1;33m(\u001b[0m\u001b[0mdeger_arttir_iter\u001b[0m\u001b[1;33m)\u001b[0m\u001b[1;33m)\u001b[0m\u001b[1;33m\u001b[0m\u001b[1;33m\u001b[0m\u001b[0m\n\u001b[0m",
      "\u001b[1;31mStopIteration\u001b[0m: "
     ]
    }
   ],
   "source": [
    "print(next(deger_arttir_iter))"
   ]
  },
  {
   "cell_type": "code",
   "execution_count": 8,
   "metadata": {},
   "outputs": [
    {
     "name": "stdout",
     "output_type": "stream",
     "text": [
      "0\n",
      "1\n",
      "2\n"
     ]
    }
   ],
   "source": [
    "while True:\n",
    "    try:\n",
    "        print(next(deger_arttir_iter))\n",
    "    except:\n",
    "        break"
   ]
  },
  {
   "cell_type": "markdown",
   "metadata": {},
   "source": [
    "#### String İfade Döndüren Generator"
   ]
  },
  {
   "cell_type": "code",
   "execution_count": 9,
   "metadata": {},
   "outputs": [],
   "source": [
    "def kup_yazdir():\n",
    "    sayiListesi=[i**3 for i in range(50)]\n",
    "    for i,j in enumerate(sayiListesi):\n",
    "        yield \"{}^3:{}\".format(i,j)"
   ]
  },
  {
   "cell_type": "code",
   "execution_count": 10,
   "metadata": {},
   "outputs": [
    {
     "name": "stdout",
     "output_type": "stream",
     "text": [
      "<generator object kup_yazdir at 0x000001AAE851C580>\n"
     ]
    }
   ],
   "source": [
    "kup_yazdir_iter=kup_yazdir()\n",
    "print(kup_yazdir_iter)"
   ]
  },
  {
   "cell_type": "code",
   "execution_count": 12,
   "metadata": {},
   "outputs": [
    {
     "name": "stdout",
     "output_type": "stream",
     "text": [
      "0^3:0\n",
      "1^3:1\n",
      "2^3:8\n",
      "3^3:27\n",
      "4^3:64\n",
      "5^3:125\n",
      "6^3:216\n",
      "7^3:343\n",
      "8^3:512\n",
      "9^3:729\n",
      "10^3:1000\n",
      "11^3:1331\n",
      "12^3:1728\n",
      "13^3:2197\n",
      "14^3:2744\n",
      "15^3:3375\n",
      "16^3:4096\n",
      "17^3:4913\n",
      "18^3:5832\n",
      "19^3:6859\n",
      "20^3:8000\n",
      "21^3:9261\n",
      "22^3:10648\n",
      "23^3:12167\n",
      "24^3:13824\n",
      "25^3:15625\n",
      "26^3:17576\n",
      "27^3:19683\n",
      "28^3:21952\n",
      "29^3:24389\n",
      "30^3:27000\n",
      "31^3:29791\n",
      "32^3:32768\n",
      "33^3:35937\n",
      "34^3:39304\n",
      "35^3:42875\n",
      "36^3:46656\n",
      "37^3:50653\n",
      "38^3:54872\n",
      "39^3:59319\n",
      "40^3:64000\n",
      "41^3:68921\n",
      "42^3:74088\n",
      "43^3:79507\n",
      "44^3:85184\n",
      "45^3:91125\n",
      "46^3:97336\n",
      "47^3:103823\n",
      "48^3:110592\n",
      "49^3:117649\n"
     ]
    }
   ],
   "source": [
    "for i in kup_yazdir():\n",
    "    print(i)"
   ]
  },
  {
   "cell_type": "markdown",
   "metadata": {},
   "source": [
    "#### () ile Generator Tanımlama"
   ]
  },
  {
   "cell_type": "code",
   "execution_count": 18,
   "metadata": {},
   "outputs": [
    {
     "name": "stdout",
     "output_type": "stream",
     "text": [
      "[0, 1, 2, 3, 4, 5, 6, 7, 8, 9, 10, 11, 12, 13, 14, 15, 16, 17, 18, 19]\n"
     ]
    }
   ],
   "source": [
    "sayiListesi=[i for i in range(20)]\n",
    "print(sayiListesi)"
   ]
  },
  {
   "cell_type": "code",
   "execution_count": 20,
   "metadata": {},
   "outputs": [
    {
     "name": "stdout",
     "output_type": "stream",
     "text": [
      "<generator object <genexpr> at 0x000001AAE852BAC0>\n"
     ]
    }
   ],
   "source": [
    "generator=(i for i in range(20))\n",
    "print(generator)"
   ]
  },
  {
   "cell_type": "code",
   "execution_count": 21,
   "metadata": {},
   "outputs": [
    {
     "name": "stdout",
     "output_type": "stream",
     "text": [
      "0\n",
      "1\n",
      "2\n",
      "3\n",
      "4\n",
      "5\n",
      "6\n",
      "7\n",
      "8\n",
      "9\n",
      "10\n",
      "11\n",
      "12\n",
      "13\n",
      "14\n",
      "15\n",
      "16\n",
      "17\n",
      "18\n",
      "19\n"
     ]
    }
   ],
   "source": [
    "for i in generator:\n",
    "    print(i)"
   ]
  }
 ],
 "metadata": {
  "kernelspec": {
   "display_name": "Python 3",
   "language": "python",
   "name": "python3"
  },
  "language_info": {
   "codemirror_mode": {
    "name": "ipython",
    "version": 3
   },
   "file_extension": ".py",
   "mimetype": "text/x-python",
   "name": "python",
   "nbconvert_exporter": "python",
   "pygments_lexer": "ipython3",
   "version": "3.8.5"
  }
 },
 "nbformat": 4,
 "nbformat_minor": 4
}

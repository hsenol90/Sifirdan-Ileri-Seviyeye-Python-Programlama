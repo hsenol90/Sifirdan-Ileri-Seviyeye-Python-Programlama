{
 "cells": [
  {
   "cell_type": "markdown",
   "metadata": {},
   "source": [
    "## Listeler"
   ]
  },
  {
   "cell_type": "markdown",
   "metadata": {},
   "source": [
    "#### Neden İhtiyacımız Var?\n",
    "\n",
    "Çok sayıda değişkeni-değeri bir arada saklayabilmek, daha kolay şekilde erişebilmek için kullanıyoruz. Aynı ya da farklı türde birden çok değeri bir arada tutmamıza, ekleme-silme-değer güncelleme gibi işlemler yapmamıza imkan veren bir yapıdır.\n",
    "\n",
    "Örneğin bir sınıftaki 50 farklı kişinin puanlarını 50 farklı değişkende saklamak mı mantıklıdır yoksa sadece bir liste tanımlayıp onun içerisinde saklamak mı?\n",
    "\n",
    "### ÖNEMLİ\n",
    "Listedeki elemanlar hafızada sıralı şekilde bulunurlar, listenin adı başlangıç adresini de ifade eder.\n",
    "\n",
    "Adres Eleman\n",
    "\n",
    "0000  1.Eleman\n",
    "\n",
    "0001  2.Eleman\n",
    "\n",
    "0002  3.Eleman\n",
    "\n",
    "0003  4.Eleman"
   ]
  },
  {
   "cell_type": "markdown",
   "metadata": {},
   "source": [
    "#### Listeler Nasıl Tanımlanır?\n",
    "1. list() keywordü ile\n",
    "2. [] ile"
   ]
  },
  {
   "cell_type": "markdown",
   "metadata": {},
   "source": [
    "##### Boş Liste Tanımlayalım"
   ]
  },
  {
   "cell_type": "code",
   "execution_count": 2,
   "metadata": {},
   "outputs": [
    {
     "name": "stdout",
     "output_type": "stream",
     "text": [
      "<class 'list'>\n",
      "[]\n",
      "<class 'list'>\n",
      "[]\n"
     ]
    }
   ],
   "source": [
    "liste=list()\n",
    "liste2=[]\n",
    "print(type(liste))\n",
    "print(liste)\n",
    "print(type(liste2))\n",
    "print(liste2)"
   ]
  },
  {
   "cell_type": "markdown",
   "metadata": {},
   "source": [
    "##### Integer Liste Tanımlayalım"
   ]
  },
  {
   "cell_type": "code",
   "execution_count": 4,
   "metadata": {},
   "outputs": [
    {
     "name": "stdout",
     "output_type": "stream",
     "text": [
      "<class 'list'>\n",
      "[1, 2, 3, 4, 5]\n"
     ]
    }
   ],
   "source": [
    "liste=[1,2,3,4,5]\n",
    "print(type(liste))\n",
    "print(liste)"
   ]
  },
  {
   "cell_type": "markdown",
   "metadata": {},
   "source": [
    "##### String Liste Tanımlayalım"
   ]
  },
  {
   "cell_type": "code",
   "execution_count": 5,
   "metadata": {},
   "outputs": [
    {
     "name": "stdout",
     "output_type": "stream",
     "text": [
      "<class 'list'>\n",
      "['Python', 'C', 'C++', 'Perl', 'Java']\n"
     ]
    }
   ],
   "source": [
    "liste2=[\"Python\",\"C\",\"C++\",\"Perl\",\"Java\"]\n",
    "print(type(liste2))\n",
    "print(liste2)"
   ]
  },
  {
   "cell_type": "markdown",
   "metadata": {},
   "source": [
    "##### Karışık Liste Tanımlayalım"
   ]
  },
  {
   "cell_type": "code",
   "execution_count": 7,
   "metadata": {},
   "outputs": [
    {
     "name": "stdout",
     "output_type": "stream",
     "text": [
      "<class 'list'>\n",
      "[1, 2, 'Python', 'C', 3, 'Perl', 'Java', True, 3.5, 'C++']\n"
     ]
    }
   ],
   "source": [
    "liste3=[1,2,\"Python\",\"C\",3,\"Perl\",\"Java\",True,3.5,'C++']\n",
    "print(type(liste3))\n",
    "print(liste3)"
   ]
  },
  {
   "cell_type": "markdown",
   "metadata": {},
   "source": [
    "##### Liste Elemanlarına Tek Tek Erişim\n",
    "Liste elemanlarının indeksleri 0'dan başlar."
   ]
  },
  {
   "cell_type": "code",
   "execution_count": 10,
   "metadata": {},
   "outputs": [
    {
     "name": "stdout",
     "output_type": "stream",
     "text": [
      "1\n",
      "2\n",
      "3\n",
      "4\n",
      "5\n"
     ]
    }
   ],
   "source": [
    "liste=[1,2,3,4,5]\n",
    "print(liste[0])\n",
    "print(liste[1])\n",
    "print(liste[-3])\n",
    "print(liste[-2])\n",
    "print(liste[-1])"
   ]
  },
  {
   "cell_type": "markdown",
   "metadata": {},
   "source": [
    "##### Liste Elemanlarına Döngü ile Erişim"
   ]
  },
  {
   "cell_type": "code",
   "execution_count": 13,
   "metadata": {},
   "outputs": [
    {
     "name": "stdout",
     "output_type": "stream",
     "text": [
      "1\n",
      "8\n",
      "27\n",
      "64\n",
      "125\n"
     ]
    }
   ],
   "source": [
    "for eleman in liste:\n",
    "    print(eleman**3)"
   ]
  },
  {
   "cell_type": "markdown",
   "metadata": {},
   "source": [
    "##### Listenin Eleman Sayısını Bulma\n",
    "len() komutu: Listenin eleman sayısını verir."
   ]
  },
  {
   "cell_type": "code",
   "execution_count": 15,
   "metadata": {},
   "outputs": [
    {
     "name": "stdout",
     "output_type": "stream",
     "text": [
      "Listenin eleman sayisi: 9\n"
     ]
    }
   ],
   "source": [
    "elemanSayisi=len(liste)\n",
    "print(\"Listenin eleman sayisi:\",elemanSayisi)"
   ]
  },
  {
   "cell_type": "markdown",
   "metadata": {},
   "source": [
    "##### Liste Elemanlarının İndekslerine  Erişim"
   ]
  },
  {
   "cell_type": "code",
   "execution_count": 20,
   "metadata": {},
   "outputs": [
    {
     "name": "stdout",
     "output_type": "stream",
     "text": [
      "0\n",
      "1\n",
      "2\n",
      "3\n",
      "4\n"
     ]
    }
   ],
   "source": [
    "for i in range(len(liste)):\n",
    "    print(i)"
   ]
  },
  {
   "cell_type": "markdown",
   "metadata": {},
   "source": [
    "##### Listedeki Elemanların Değerlerini Değiştirme"
   ]
  },
  {
   "cell_type": "code",
   "execution_count": 27,
   "metadata": {},
   "outputs": [
    {
     "name": "stdout",
     "output_type": "stream",
     "text": [
      "[1, 2, 3, 4, 5]\n",
      "[0, 1, 3, 4, 5]\n",
      "[0, 1, 4, 9, 16, 25]\n"
     ]
    }
   ],
   "source": [
    "liste=[1,2,3,4,5]\n",
    "print(liste)\n",
    "liste[0]=0\n",
    "liste[1]=1\n",
    "print(liste)\n",
    "liste2=[1,2,3,4,5,6]\n",
    "for i in range(len(liste2)):\n",
    "    liste2[i]=i**2\n",
    "print(liste2)"
   ]
  },
  {
   "cell_type": "markdown",
   "metadata": {},
   "source": [
    "##### Listeyi Parçalama\n",
    "liste[baslangic_indeksi:bitis_indeksi:artis_miktari]"
   ]
  },
  {
   "cell_type": "code",
   "execution_count": 31,
   "metadata": {},
   "outputs": [
    {
     "name": "stdout",
     "output_type": "stream",
     "text": [
      "[4, 5]\n",
      "[1, 2, 3]\n",
      "[1, 3, 5]\n",
      "[5, 4, 3, 2, 1]\n"
     ]
    }
   ],
   "source": [
    "liste=[1,2,3,4,5]\n",
    "liste2=liste[3:]\n",
    "liste3=liste[:3]\n",
    "liste4=liste[::2]\n",
    "liste5=liste[::-1]\n",
    "print(liste2)\n",
    "print(liste3)\n",
    "print(liste4)\n",
    "print(liste5)"
   ]
  },
  {
   "cell_type": "markdown",
   "metadata": {},
   "source": [
    "##### İki Listeyi Birleştirme"
   ]
  },
  {
   "cell_type": "code",
   "execution_count": 35,
   "metadata": {},
   "outputs": [
    {
     "name": "stdout",
     "output_type": "stream",
     "text": [
      "[1, 2, 3, 4, 1, 2, 3, 4]\n"
     ]
    }
   ],
   "source": [
    "liste=[1,2,3,4]\n",
    "liste2=[1,2,3,4]\n",
    "print(liste+liste2)"
   ]
  },
  {
   "cell_type": "markdown",
   "metadata": {},
   "source": [
    "##### Listeye Sonradan Tek Eleman Ekleme"
   ]
  },
  {
   "cell_type": "code",
   "execution_count": 38,
   "metadata": {},
   "outputs": [
    {
     "name": "stdout",
     "output_type": "stream",
     "text": [
      "[1, 2, 3, 4, 5]\n",
      "[1, 2, 3, 4, 5, 5]\n",
      "[6, 2, 3, 4, 5, 5]\n"
     ]
    }
   ],
   "source": [
    "print(liste)\n",
    "liste+=[5]\n",
    "print(liste)\n",
    "liste[0]+=5\n",
    "print(liste)"
   ]
  },
  {
   "cell_type": "markdown",
   "metadata": {},
   "source": [
    "##### Listeyi Aynı Elemanlar İle Çoğaltma"
   ]
  },
  {
   "cell_type": "code",
   "execution_count": 45,
   "metadata": {},
   "outputs": [
    {
     "name": "stdout",
     "output_type": "stream",
     "text": [
      "[1, 2, 3]\n",
      "[1, 2, 3, 1, 2, 3]\n"
     ]
    }
   ],
   "source": [
    "liste=[1,2,3]\n",
    "print(liste)\n",
    "liste*=2\n",
    "print(liste)"
   ]
  },
  {
   "cell_type": "markdown",
   "metadata": {},
   "source": [
    "#### Listeye Eleman Ekleme\n",
    "1. append komutu: Listenin sonuna eleman eklemek için kullanılır\n",
    "2. insert komutu: Listenin belirtilen indisine eleman eklemek için kullanılır"
   ]
  },
  {
   "cell_type": "code",
   "execution_count": 59,
   "metadata": {},
   "outputs": [
    {
     "name": "stdout",
     "output_type": "stream",
     "text": [
      "[1, 2, 3, 4, 5]\n",
      "[1, 2, 3, 4, 5, 10, 'Ogun', 3.5, True]\n"
     ]
    }
   ],
   "source": [
    "liste=[1,2,3,4,5]\n",
    "print(liste)\n",
    "liste.append(10)\n",
    "liste.append(\"Ogun\")\n",
    "liste.append(3.5)\n",
    "liste.append(True)\n",
    "print(liste)"
   ]
  },
  {
   "cell_type": "code",
   "execution_count": 65,
   "metadata": {},
   "outputs": [
    {
     "name": "stdout",
     "output_type": "stream",
     "text": [
      "[1, 2, 3, 4, 5]\n",
      "[10, 1, 2, 3, 4, 5]\n",
      "[10, 1, 2, 'Ogun', 3, 4, 5]\n"
     ]
    }
   ],
   "source": [
    "liste=[1,2,3,4,5]\n",
    "print(liste)\n",
    "liste.insert(0,10)\n",
    "print(liste)\n",
    "liste.insert(3,\"Ogun\")\n",
    "print(liste)"
   ]
  },
  {
   "cell_type": "markdown",
   "metadata": {},
   "source": [
    "#### Listeden Eleman Silme\n",
    "1. remove komutu: Listeden belirtilen değeri çıkartmak için kullanılır\n",
    "2. del komutu: Listenin belirtilen indisinden bir değer silmek veya komple listeyi silmek için kullanılır\n",
    "3. pop komutu: Listenin son elemanını veya belirtilen indisteki elemanı silmeyi ve sildiğimiz elemanı bir değişkene atamak için kullanılır"
   ]
  },
  {
   "cell_type": "code",
   "execution_count": 74,
   "metadata": {},
   "outputs": [
    {
     "name": "stdout",
     "output_type": "stream",
     "text": [
      "[1, 2, 3, 4, 5, 5, 5, 5]\n",
      "[1, 2, 3, 4, 5]\n",
      "[2, 3, 4, 5]\n",
      "[2, 4, 5]\n",
      "3\n"
     ]
    }
   ],
   "source": [
    "liste=[1,2,3,4,5,5,5,5]\n",
    "print(liste)\n",
    "liste.remove(5)\n",
    "liste.remove(5)\n",
    "liste.remove(5)\n",
    "print(liste)\n",
    "del(liste[0])\n",
    "print(liste)\n",
    "x=liste.pop(1)\n",
    "print(liste)\n",
    "print(x)\n",
    "del liste\n",
    "#print(liste)"
   ]
  },
  {
   "cell_type": "markdown",
   "metadata": {},
   "source": [
    "#### Listede Eleman Kontrolü\n",
    "1. in komutu: Eğer ki eleman liste içinde var ise True, yok ise False sonucu verir\n",
    "2. not in komutu: Eğer ki eleman liste içinde var ise False, yok ise True sonucu verir\n",
    "3. index komutu: Aradığınız eleman eğer ki listede varsa, kaçıncı indiste olduğu sonucunu verir, eleman listede yoksa eğer Value Error verir"
   ]
  },
  {
   "cell_type": "code",
   "execution_count": 84,
   "metadata": {},
   "outputs": [
    {
     "name": "stdout",
     "output_type": "stream",
     "text": [
      "True\n",
      "False\n",
      "False\n",
      "True\n",
      "0\n"
     ]
    }
   ],
   "source": [
    "liste=[10,20,30,40,50]\n",
    "\n",
    "print(10 in liste)\n",
    "print(25 in liste)\n",
    "\n",
    "print(10 not in liste)\n",
    "print(25 not in liste)\n",
    "\n",
    "print(liste.index(10))\n",
    "\n",
    "if 25 in liste:\n",
    "    print(liste.index(25))\n",
    "    "
   ]
  },
  {
   "cell_type": "markdown",
   "metadata": {},
   "source": [
    "#### Listeyi Sıralama ve Tersine Çevirme\n",
    "1. sort komutu: Listenin elemanlarını küçükten büyüğe doğru sıralar\n",
    "2. reverse komutu: Listenin elemanlarını tersine çevirir, baştaki sona ve sondaki başa gelir."
   ]
  },
  {
   "cell_type": "code",
   "execution_count": 95,
   "metadata": {
    "scrolled": true
   },
   "outputs": [
    {
     "name": "stdout",
     "output_type": "stream",
     "text": [
      "[25, 43, 21, 54, 23]\n",
      "[23, 54, 21, 43, 25]\n",
      "[23, 54, 21, 43, 25]\n",
      "[21, 23, 25, 43, 54]\n",
      "['python', 'c', 'ruby', 'perl', 'java']\n",
      "['c', 'java', 'perl', 'python', 'ruby']\n",
      "[54, 43, 25, 23, 21]\n"
     ]
    }
   ],
   "source": [
    "liste=[25,43,21,54,23]\n",
    "print(liste)\n",
    "liste.reverse()\n",
    "print(liste)\n",
    "liste2=[\"python\",\"c\",\"ruby\",\"perl\",\"java\"]\n",
    "print(liste)\n",
    "liste.sort()\n",
    "print(liste)\n",
    "print(liste2)\n",
    "liste2.sort()\n",
    "print(liste2)\n",
    "\n",
    "liste.reverse()\n",
    "print(liste)"
   ]
  },
  {
   "cell_type": "markdown",
   "metadata": {},
   "source": [
    "##### Listede Bir Elemanın Kaç Kere Geçtiğini Bulma\n",
    "count komutu: Verdiğiniz elemanın listede kaç kere geçtiği sonucunu verir"
   ]
  },
  {
   "cell_type": "code",
   "execution_count": 100,
   "metadata": {},
   "outputs": [
    {
     "name": "stdout",
     "output_type": "stream",
     "text": [
      "0\n"
     ]
    }
   ],
   "source": [
    "liste=[1,1,1,2,3,1,5,5,6]\n",
    "print(liste.count(10))"
   ]
  },
  {
   "cell_type": "markdown",
   "metadata": {},
   "source": [
    "##### Listenin En Küçük, En Büyük Elemanını ve Toplamını Bulma\n",
    "\n",
    "min komutu: Listenin en küçük elemanını verir\n",
    "\n",
    "max komutu: Listenin en büyük elemanını verir\n",
    "\n",
    "sum komutu: Listedeki elemanların toplamını verir"
   ]
  },
  {
   "cell_type": "code",
   "execution_count": 104,
   "metadata": {},
   "outputs": [
    {
     "name": "stdout",
     "output_type": "stream",
     "text": [
      "1\n",
      "543\n",
      "742\n",
      "1\n",
      "543\n"
     ]
    }
   ],
   "source": [
    "liste=[1,5,96,32,543,65]\n",
    "print(min(liste))\n",
    "print(max(liste))\n",
    "print(sum(liste))\n",
    "\n",
    "liste.sort()\n",
    "print(liste[0])\n",
    "print(liste[-1])\n"
   ]
  },
  {
   "cell_type": "markdown",
   "metadata": {},
   "source": [
    "#### Liste Eleman Üretme Yöntemleri"
   ]
  },
  {
   "cell_type": "code",
   "execution_count": 106,
   "metadata": {},
   "outputs": [
    {
     "name": "stdout",
     "output_type": "stream",
     "text": [
      "[0, 1, 2, 3, 4]\n"
     ]
    }
   ],
   "source": [
    "liste=[i for i in range(5)]\n",
    "print(liste)"
   ]
  },
  {
   "cell_type": "code",
   "execution_count": 110,
   "metadata": {},
   "outputs": [
    {
     "name": "stdout",
     "output_type": "stream",
     "text": [
      "[0, 1, 4, 9, 16]\n"
     ]
    }
   ],
   "source": [
    "liste2=[i**2 for i in range(5)]\n",
    "print(liste2)"
   ]
  },
  {
   "cell_type": "code",
   "execution_count": 111,
   "metadata": {},
   "outputs": [
    {
     "name": "stdout",
     "output_type": "stream",
     "text": [
      "[0, 4, 16, 36, 64]\n"
     ]
    }
   ],
   "source": [
    "liste3=[i**2 for i in range(10) if i%2==0]\n",
    "print(liste3)"
   ]
  }
 ],
 "metadata": {
  "kernelspec": {
   "display_name": "Python 3",
   "language": "python",
   "name": "python3"
  },
  "language_info": {
   "codemirror_mode": {
    "name": "ipython",
    "version": 3
   },
   "file_extension": ".py",
   "mimetype": "text/x-python",
   "name": "python",
   "nbconvert_exporter": "python",
   "pygments_lexer": "ipython3",
   "version": "3.8.5"
  }
 },
 "nbformat": 4,
 "nbformat_minor": 4
}

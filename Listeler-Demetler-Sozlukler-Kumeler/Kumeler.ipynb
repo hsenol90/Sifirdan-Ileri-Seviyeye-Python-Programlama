{
 "cells": [
  {
   "cell_type": "markdown",
   "metadata": {},
   "source": [
    "## Kümeler"
   ]
  },
  {
   "cell_type": "markdown",
   "metadata": {},
   "source": [
    "#### Neden İhtiyacımız Var?\n",
    "Matematikte kullandığımız küme konusunun Python dilindeki karşılığıdır. Listeler ve demetler gibi birden çok elemanın bir arada saklanabilmesine olanak sağlar ancak demetlerin aksine değiştirilebilir yapılardır. "
   ]
  },
  {
   "cell_type": "markdown",
   "metadata": {},
   "source": [
    "#### Kümeler Nasıl Tanımlanır?\n",
    "1. set() keywordü ile\n",
    "2. {} ile, ancak direkt değer atamamız gerekir aksi halde sözlük yapısı oluşur"
   ]
  },
  {
   "cell_type": "markdown",
   "metadata": {},
   "source": [
    "##### Küme Tanımlayalım"
   ]
  },
  {
   "cell_type": "code",
   "execution_count": 7,
   "metadata": {},
   "outputs": [
    {
     "name": "stdout",
     "output_type": "stream",
     "text": [
      "<class 'set'>\n",
      "<class 'dict'>\n",
      "<class 'set'>\n",
      "<class 'set'>\n",
      "<class 'set'>\n",
      "set()\n",
      "{}\n",
      "{1, 2, 3, 4, 5}\n",
      "{'C', 'Python', 'C++', 'Java'}\n",
      "{1, 'C', 5.5}\n",
      "3\n"
     ]
    }
   ],
   "source": [
    "kume=set()\n",
    "kume2={}\n",
    "kume3={1,2,3,4,5}\n",
    "kume4={\"C\",\"Python\",\"Java\",\"C++\"}\n",
    "kume5={1,\"C\",5.5}\n",
    "print(type(kume))\n",
    "print(type(kume2))\n",
    "print(type(kume3))\n",
    "print(type(kume4))\n",
    "print(type(kume5))\n",
    "print(kume)\n",
    "print(kume2)\n",
    "print(kume3)\n",
    "print(kume4)\n",
    "print(kume5)\n",
    "print(len(kume5))"
   ]
  },
  {
   "cell_type": "markdown",
   "metadata": {},
   "source": [
    "##### Kümeye Eleman Ekleme, Çıkarma ve İki Kümenin Farkı\n",
    "\n",
    "1. add() komutu: Var olan bir kümeye eleman eklemek için kullanılır\n",
    "\n",
    "2. remove() komutu: Var olan bir kümeden eleman çıkarmak için kullanılır\n",
    "\n",
    "3. difference() komutu: İlk kümede olup ikinci kümede olmayan elemanları bulmak için kullanılır"
   ]
  },
  {
   "cell_type": "code",
   "execution_count": 9,
   "metadata": {},
   "outputs": [
    {
     "name": "stdout",
     "output_type": "stream",
     "text": [
      "{1, 2, 3, 4, 5, 6, 7}\n"
     ]
    }
   ],
   "source": [
    "sayiKumesi={1,2,3,4,5}\n",
    "sayiKumesi.add(6)\n",
    "sayiKumesi.add(7)\n",
    "print(sayiKumesi)"
   ]
  },
  {
   "cell_type": "code",
   "execution_count": 12,
   "metadata": {},
   "outputs": [
    {
     "name": "stdout",
     "output_type": "stream",
     "text": [
      "{1, 2, 3, 4, 5}\n"
     ]
    }
   ],
   "source": [
    "sayiKumesi.remove(7)\n",
    "print(sayiKumesi)"
   ]
  },
  {
   "cell_type": "code",
   "execution_count": 15,
   "metadata": {},
   "outputs": [
    {
     "name": "stdout",
     "output_type": "stream",
     "text": [
      "{2, 4}\n",
      "{2, 4}\n",
      "{7}\n",
      "{7}\n"
     ]
    }
   ],
   "source": [
    "sayiKumesi2={1,3,5,7}\n",
    "print(sayiKumesi.difference(sayiKumesi2))\n",
    "print(sayiKumesi-sayiKumesi2)\n",
    "print(sayiKumesi2.difference(sayiKumesi))\n",
    "print(sayiKumesi2-sayiKumesi)"
   ]
  },
  {
   "cell_type": "markdown",
   "metadata": {},
   "source": [
    "##### Kesişim Küme, Ayrık Küme,Alt Küme, Kapsayan Küme ve Küme Birleşimi\n",
    "\n",
    "1. intersection() komutu: İki kümede ortak olan elemanları bulmak için kullanılır.\n",
    "\n",
    "2. isdisjoint() komutu: İki kümenin ortak elemanı var mı yok mu bu sorgulanır, eğer ki hiç ortak eleman yoksa True sonuç verir aksi halde False sonuç verir\n",
    "\n",
    "3. issubset() komutu: Bir kümedeki elemanların hepsinin başka bir küme içerisinde var olup olmadığı sorgulanır, eğer ki tüm elemanlar varsa True aksi halde False sonuç verir\n",
    "\n",
    "4. issuperset() komutu: Bir küme, diğer bir kümedeki tüm elemanları içeriyor mu bunu sorgular, eğer ki içeriyiorsa True aksi halde False sonuç verir.\n",
    "\n",
    "5. union() komutu: İki kümenin birleşimini bulmak için kullanılır"
   ]
  },
  {
   "cell_type": "code",
   "execution_count": 23,
   "metadata": {},
   "outputs": [
    {
     "name": "stdout",
     "output_type": "stream",
     "text": [
      "{1, 2, 3, 4}\n",
      "{1, 2, 3, 4}\n",
      "False\n",
      "False\n",
      "True\n",
      "False\n",
      "False\n",
      "True\n",
      "{1, 2, 3, 4, 5, 6}\n",
      "{1, 2, 3, 4, 5, 6}\n",
      "{1, 2, 3, 4, 5, 6}\n"
     ]
    }
   ],
   "source": [
    "kume1={1,2,3,4}\n",
    "kume2={1,2,3,4,5,6}\n",
    "\n",
    "print(kume1.intersection(kume2))\n",
    "print(kume2.intersection(kume1))\n",
    "\n",
    "print(kume1.isdisjoint(kume2))\n",
    "print(kume2.isdisjoint(kume1))\n",
    "\n",
    "print(kume1.issubset(kume2))\n",
    "print(kume2.issubset(kume1))\n",
    "\n",
    "print(kume1.issuperset(kume2))\n",
    "print(kume2.issuperset(kume1))\n",
    "\n",
    "print(kume1.union(kume2))\n",
    "print(kume2.union(kume1))\n",
    "\n",
    "print(kume1 | kume2)"
   ]
  }
 ],
 "metadata": {
  "kernelspec": {
   "display_name": "Python 3",
   "language": "python",
   "name": "python3"
  },
  "language_info": {
   "codemirror_mode": {
    "name": "ipython",
    "version": 3
   },
   "file_extension": ".py",
   "mimetype": "text/x-python",
   "name": "python",
   "nbconvert_exporter": "python",
   "pygments_lexer": "ipython3",
   "version": "3.8.5"
  }
 },
 "nbformat": 4,
 "nbformat_minor": 4
}

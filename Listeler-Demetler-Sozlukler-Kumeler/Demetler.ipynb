{
 "cells": [
  {
   "cell_type": "markdown",
   "metadata": {},
   "source": [
    "## Demetler\n",
    "\n",
    "#### Neden İhtiyacımız Var?\n",
    "\n",
    "Çok sayıda değişkeni-değeri bir arada saklayabilmek, daha kolay şekilde erişebilmek için kullanıyoruz. Aynı ya da farklı türde birden çok değeri bir arada saklamamıza imkan veren bir yapıdır.\n",
    "\n",
    "### ÖNEMLİ\n",
    "Listeden en önemli farklı, demetler oluşturulduktan sonra yeni eleman eklenemez,güncellenemez,silinemez."
   ]
  },
  {
   "cell_type": "markdown",
   "metadata": {},
   "source": [
    "#### Demetler Nasıl Tanımlanır?\n",
    "1. tuple() keywordü ile\n",
    "2. () ile"
   ]
  },
  {
   "cell_type": "markdown",
   "metadata": {},
   "source": [
    "##### Boş Demet Tanımlayalım"
   ]
  },
  {
   "cell_type": "code",
   "execution_count": 1,
   "metadata": {},
   "outputs": [
    {
     "name": "stdout",
     "output_type": "stream",
     "text": [
      "<class 'tuple'>\n",
      "<class 'tuple'>\n"
     ]
    }
   ],
   "source": [
    "demet=tuple()\n",
    "demet2=()\n",
    "print(type(demet))\n",
    "print(type(demet2))"
   ]
  },
  {
   "cell_type": "markdown",
   "metadata": {},
   "source": [
    "##### Integer Demet Tanımlayalım"
   ]
  },
  {
   "cell_type": "code",
   "execution_count": 3,
   "metadata": {},
   "outputs": [
    {
     "name": "stdout",
     "output_type": "stream",
     "text": [
      "<class 'tuple'>\n",
      "(1, 2, 3)\n"
     ]
    }
   ],
   "source": [
    "demet=(1,2,3)\n",
    "print(type(demet))\n",
    "print(demet)"
   ]
  },
  {
   "cell_type": "markdown",
   "metadata": {},
   "source": [
    "##### String Demet Tanımlayalım"
   ]
  },
  {
   "cell_type": "code",
   "execution_count": 5,
   "metadata": {},
   "outputs": [
    {
     "name": "stdout",
     "output_type": "stream",
     "text": [
      "<class 'tuple'>\n",
      "('Python', 'C', 'C++', 'Perl', 'Java')\n"
     ]
    }
   ],
   "source": [
    "demet2=(\"Python\",\"C\",\"C++\",\"Perl\",\"Java\")\n",
    "print(type(demet2))\n",
    "print(demet2)"
   ]
  },
  {
   "cell_type": "markdown",
   "metadata": {},
   "source": [
    "##### Karışık Demet Tanımlayalım"
   ]
  },
  {
   "cell_type": "code",
   "execution_count": 6,
   "metadata": {},
   "outputs": [
    {
     "name": "stdout",
     "output_type": "stream",
     "text": [
      "(1, 2, 'Python', 'C', 3, 'Perl', 3.5, False, True, 'Java', [1, 2, 3])\n"
     ]
    }
   ],
   "source": [
    "demet3=(1,2,\"Python\",\"C\",3,\"Perl\",3.5,False,True,\"Java\",[1,2,3])\n",
    "print(demet3)"
   ]
  },
  {
   "cell_type": "markdown",
   "metadata": {},
   "source": [
    "##### Demet Elemanlarına Tek Tek Erişim"
   ]
  },
  {
   "cell_type": "code",
   "execution_count": 28,
   "metadata": {},
   "outputs": [
    {
     "name": "stdout",
     "output_type": "stream",
     "text": [
      "<class 'tuple'>\n",
      "1\n",
      "2\n",
      "3\n",
      "4\n",
      "5\n"
     ]
    }
   ],
   "source": [
    "demet=(1,2,3,4,5)\n",
    "print(type(demet))\n",
    "\n",
    "print(demet[0])\n",
    "print(demet[1])\n",
    "print(demet[2])\n",
    "print(demet[-2])\n",
    "print(demet[-1])"
   ]
  },
  {
   "cell_type": "markdown",
   "metadata": {},
   "source": [
    "##### Demet Elemanlarına Döngü ile Erişim"
   ]
  },
  {
   "cell_type": "code",
   "execution_count": 30,
   "metadata": {},
   "outputs": [
    {
     "name": "stdout",
     "output_type": "stream",
     "text": [
      "1\n",
      "4\n",
      "9\n",
      "16\n",
      "25\n"
     ]
    }
   ],
   "source": [
    "for eleman in demet:\n",
    "    print(eleman**2)"
   ]
  },
  {
   "cell_type": "markdown",
   "metadata": {},
   "source": [
    "##### Demetin Eleman Sayısını Bulma"
   ]
  },
  {
   "cell_type": "code",
   "execution_count": 31,
   "metadata": {},
   "outputs": [
    {
     "name": "stdout",
     "output_type": "stream",
     "text": [
      "5\n"
     ]
    }
   ],
   "source": [
    "print(len(demet))"
   ]
  },
  {
   "cell_type": "markdown",
   "metadata": {},
   "source": [
    "##### Demet Elemanlarının İndekslerine  Erişim"
   ]
  },
  {
   "cell_type": "code",
   "execution_count": 35,
   "metadata": {},
   "outputs": [
    {
     "name": "stdout",
     "output_type": "stream",
     "text": [
      "1\n",
      "2\n",
      "3\n",
      "4\n",
      "5\n"
     ]
    }
   ],
   "source": [
    "for i in range(len(demet)):\n",
    "    print(demet[i])"
   ]
  },
  {
   "cell_type": "markdown",
   "metadata": {},
   "source": [
    "##### Demeti Parçalama\n",
    "demet[baslangic_indeksi:bitis_indeksi:artis_miktari]"
   ]
  },
  {
   "cell_type": "code",
   "execution_count": 41,
   "metadata": {},
   "outputs": [
    {
     "name": "stdout",
     "output_type": "stream",
     "text": [
      "(1, 2, 3, 4, 5)\n",
      "(4, 5)\n",
      "(1, 2, 3)\n",
      "(1, 3, 5)\n",
      "(5, 4, 3, 2, 1)\n"
     ]
    }
   ],
   "source": [
    "demet=(1,2,3,4,5)\n",
    "demet2=demet[3:]\n",
    "demet3=demet[:3]\n",
    "demet4=demet[::2]\n",
    "demet5=demet[::-1]\n",
    "print(demet)\n",
    "print(demet2)\n",
    "print(demet3)\n",
    "print(demet4)\n",
    "print(demet5)"
   ]
  },
  {
   "cell_type": "markdown",
   "metadata": {},
   "source": [
    "##### Demet İçerisinde Eleman Kontrolü\n",
    "1.in komutu:Eğer ki eleman demet içinde var ise True, yok ise False sonucu verir\n",
    "\n",
    "2.not in komutu:Eğer ki eleman demet içinde var ise False, yok ise True sonucu verir\n",
    "\n",
    "3.index komutu: Aradığınız eleman eğer ki demet içerisinde varsa, kaçıncı indiste olduğu sonucunu verir, eleman yoksa eğer Value Error verir"
   ]
  },
  {
   "cell_type": "code",
   "execution_count": 51,
   "metadata": {},
   "outputs": [
    {
     "name": "stdout",
     "output_type": "stream",
     "text": [
      "True\n",
      "False\n",
      "False\n",
      "True\n",
      "2\n"
     ]
    }
   ],
   "source": [
    "demet=(10,20,30,40,50)\n",
    "print(10 in demet)\n",
    "print(25 in demet)\n",
    "\n",
    "print(10 not in demet)\n",
    "print(25 not in demet)\n",
    "\n",
    "print(demet.index(30))\n",
    "if 60 in demet:\n",
    "    print(demet.index(60))\n",
    "    "
   ]
  },
  {
   "cell_type": "markdown",
   "metadata": {},
   "source": [
    "##### Demetin En Küçük, En Büyük Elemanını ve Toplamını Bulma\n",
    "\n",
    "min komutu: Demetin en küçük elemanını verir\n",
    "\n",
    "max komutu: Demetin en büyük elemanını verir\n",
    "\n",
    "sum komutu: Demetin elemanların toplamını verir"
   ]
  },
  {
   "cell_type": "code",
   "execution_count": 53,
   "metadata": {},
   "outputs": [
    {
     "name": "stdout",
     "output_type": "stream",
     "text": [
      "1\n",
      "543\n",
      "742\n"
     ]
    }
   ],
   "source": [
    "demet=(1,5,96,32,543,65)\n",
    "print(min(demet))\n",
    "print(max(demet))\n",
    "print(sum(demet))"
   ]
  }
 ],
 "metadata": {
  "kernelspec": {
   "display_name": "Python 3",
   "language": "python",
   "name": "python3"
  },
  "language_info": {
   "codemirror_mode": {
    "name": "ipython",
    "version": 3
   },
   "file_extension": ".py",
   "mimetype": "text/x-python",
   "name": "python",
   "nbconvert_exporter": "python",
   "pygments_lexer": "ipython3",
   "version": "3.8.5"
  }
 },
 "nbformat": 4,
 "nbformat_minor": 4
}

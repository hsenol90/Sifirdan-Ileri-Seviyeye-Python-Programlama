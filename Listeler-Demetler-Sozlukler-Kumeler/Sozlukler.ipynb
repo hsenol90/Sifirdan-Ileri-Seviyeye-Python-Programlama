{
 "cells": [
  {
   "cell_type": "markdown",
   "metadata": {},
   "source": [
    "## Sözlükler"
   ]
  },
  {
   "cell_type": "markdown",
   "metadata": {},
   "source": [
    "#### Neden İhtiyacımız Var?\n",
    "\n",
    "Elemanları anahtar-değer(key-value)yapısında saklamak için kullanılır. Sözlükler üzerinde ekleme,silme,güncelleme gibi işlemler yapılabilir"
   ]
  },
  {
   "cell_type": "markdown",
   "metadata": {},
   "source": [
    "#### Sözlükler Nasıl Tanımlanır?\n",
    "1. dict() keywordü ile\n",
    "2. {} ile"
   ]
  },
  {
   "cell_type": "markdown",
   "metadata": {},
   "source": [
    "##### Boş Sözlük Tanımlayalım"
   ]
  },
  {
   "cell_type": "code",
   "execution_count": 1,
   "metadata": {},
   "outputs": [
    {
     "name": "stdout",
     "output_type": "stream",
     "text": [
      "<class 'dict'>\n",
      "<class 'dict'>\n"
     ]
    }
   ],
   "source": [
    "sozluk=dict()\n",
    "sozluk2={}\n",
    "print(type(sozluk))\n",
    "print(type(sozluk2))"
   ]
  },
  {
   "cell_type": "markdown",
   "metadata": {},
   "source": [
    "##### Eleman İle Sözlük Tanımlayalım ve Değere Erişelim\n",
    "##### Syntax Yapısı\n",
    "{\"anahtar1\":\"deger1\",\"anahtar2\",\"deger2\"}"
   ]
  },
  {
   "cell_type": "code",
   "execution_count": 13,
   "metadata": {},
   "outputs": [
    {
     "name": "stdout",
     "output_type": "stream",
     "text": [
      "bir\n",
      "iki\n",
      "uc\n"
     ]
    }
   ],
   "source": [
    "sayiSozlugu={\"1\":\"bir\",\"2\":\"iki\",\"3\":\"uc\"}\n",
    "print(sayiSozlugu[\"1\"])\n",
    "print(sayiSozlugu[\"2\"])\n",
    "print(sayiSozlugu[\"3\"])"
   ]
  },
  {
   "cell_type": "markdown",
   "metadata": {},
   "source": [
    "##### Döngü Yardımıyla Erişelim"
   ]
  },
  {
   "cell_type": "code",
   "execution_count": 3,
   "metadata": {},
   "outputs": [
    {
     "name": "stdout",
     "output_type": "stream",
     "text": [
      "1:bir\n",
      "2:iki\n",
      "3:uc\n"
     ]
    }
   ],
   "source": [
    "for anahtar in sayiSozlugu:\n",
    "    print(\"{}:{}\".format(anahtar,sayiSozlugu[anahtar]))"
   ]
  },
  {
   "cell_type": "markdown",
   "metadata": {},
   "source": [
    "### DİKKAT\n",
    "Sözlükte olmayan bir anahtar kullanılırsa KeyError hatası oluşur\n",
    "\n",
    "1. in komutu: Eğer ki anahtar sözlükte varsa True yoksa False sonucu verir\n",
    "\n",
    "2. not in komutu: Eğer ki anahtar sözlükte varsa False yoksa True sonucu verir"
   ]
  },
  {
   "cell_type": "code",
   "execution_count": 10,
   "metadata": {},
   "outputs": [
    {
     "name": "stdout",
     "output_type": "stream",
     "text": [
      "uc\n"
     ]
    }
   ],
   "source": [
    "if \"3\" in sayiSozlugu:\n",
    "    print(sayiSozlugu[\"3\"])\n",
    "else:\n",
    "    print(\"Boyle bir anahtar yok!\")"
   ]
  },
  {
   "cell_type": "markdown",
   "metadata": {},
   "source": [
    "##### GET KOMUTU\n",
    "İçerisine yazdığınız anahtara ait değerin getirilmesini sağlar. Eğer ki değer yoksa hata üretmez ve NONE sonuç verir."
   ]
  },
  {
   "cell_type": "code",
   "execution_count": 11,
   "metadata": {},
   "outputs": [
    {
     "name": "stdout",
     "output_type": "stream",
     "text": [
      "bir\n",
      "iki\n",
      "uc\n",
      "None\n"
     ]
    }
   ],
   "source": [
    "print(sayiSozlugu.get(\"1\"))\n",
    "print(sayiSozlugu.get(\"2\"))\n",
    "print(sayiSozlugu.get(\"3\"))\n",
    "print(sayiSozlugu.get(\"4\"))"
   ]
  },
  {
   "cell_type": "markdown",
   "metadata": {},
   "source": [
    "##### Sözlüğe Eleman Ekleme , Eleman Değeri Değiştirme ve  Eleman Silme\n",
    "Yeni bir anahtar-değer ilişkisi eklerken aşağıdaki syntax yapısı kullanılır\n",
    "\n",
    "sozlukIsmi[\"anahtar\"]=\"deger\""
   ]
  },
  {
   "cell_type": "code",
   "execution_count": 17,
   "metadata": {},
   "outputs": [
    {
     "name": "stdout",
     "output_type": "stream",
     "text": [
      "{'1': 'bir', '2': 'iki', '3': 'uc', '4': 'dort', '0': 'sifir'}\n",
      "{'1': 'bir', '2': 'iki', '3': 'uc', '4': 'Dort', '0': 'sifir'}\n",
      "{'1': 'bir', '2': 'iki', '3': 'uc', '0': 'sifir'}\n"
     ]
    }
   ],
   "source": [
    "sayiSozlugu[\"4\"]=\"dort\"\n",
    "sayiSozlugu[\"0\"]=\"sifir\"\n",
    "print(sayiSozlugu)\n",
    "sayiSozlugu[\"4\"]=\"Dort\"\n",
    "print(sayiSozlugu)\n",
    "del sayiSozlugu[\"4\"]\n",
    "print(sayiSozlugu)"
   ]
  },
  {
   "cell_type": "markdown",
   "metadata": {},
   "source": [
    "##### items(),keys(),values() Kavramları\n",
    "\n",
    "1.items():  Hem anahtar hem de değerlere aynı anda erişmemizi sağlar\n",
    "\n",
    "2.keys():   Sözlükteki anahtarlara tek tek erişmemizi sağlar.\n",
    "\n",
    "3.values(): Sözlükteki değerlere tek tek erişmemizi sağlar"
   ]
  },
  {
   "cell_type": "code",
   "execution_count": 20,
   "metadata": {},
   "outputs": [
    {
     "name": "stdout",
     "output_type": "stream",
     "text": [
      "1:bir\n",
      "2:iki\n",
      "3:uc\n",
      "0:sifir\n"
     ]
    }
   ],
   "source": [
    "for anahtar,deger in sayiSozlugu.items():\n",
    "    print(\"{}:{}\".format(anahtar,deger))"
   ]
  },
  {
   "cell_type": "code",
   "execution_count": 22,
   "metadata": {},
   "outputs": [
    {
     "name": "stdout",
     "output_type": "stream",
     "text": [
      "1\n",
      "2\n",
      "3\n",
      "0\n"
     ]
    }
   ],
   "source": [
    "for anahtar in sayiSozlugu.keys():\n",
    "    print(anahtar)"
   ]
  },
  {
   "cell_type": "code",
   "execution_count": 23,
   "metadata": {},
   "outputs": [
    {
     "name": "stdout",
     "output_type": "stream",
     "text": [
      "bir\n",
      "iki\n",
      "uc\n",
      "sifir\n"
     ]
    }
   ],
   "source": [
    "for deger in sayiSozlugu.values():\n",
    "    print(deger)"
   ]
  },
  {
   "cell_type": "markdown",
   "metadata": {},
   "source": [
    "##### Sözlükteki Eleman Sayısını Bulma\n",
    "\n",
    "len(): İçerisine verdiğimiz veri kümesinin uzunluğunu verir."
   ]
  },
  {
   "cell_type": "code",
   "execution_count": 24,
   "metadata": {},
   "outputs": [
    {
     "name": "stdout",
     "output_type": "stream",
     "text": [
      "Sayi Sozlugu 4 eleman icermektedir\n"
     ]
    }
   ],
   "source": [
    "print(\"Sayi Sozlugu {} eleman icermektedir\".format(len(sayiSozlugu)))"
   ]
  },
  {
   "cell_type": "markdown",
   "metadata": {},
   "source": [
    "##### Sözlüğü Güncelleme,  Sözlüğü Kopyalama, Sözlükteki Elemanları Silme, Sözlüğü Silme\n",
    "\n",
    "1. update() : Sözlüğü yeni bir sözlükle güncellemek için kullanılır, var olan anahtarların değerleri güncellenir ve olmayan anahtarlar değerleriyle birlikte sözlüğe eklenir\n",
    "\n",
    "2. copy()   : Sözlüğün elemanlarının bir kopyasını oluşturmak için kullanılır. \n",
    "\n",
    "3. clear()  : Sözlükteki tüm elemanları silmek için kullanılır, sözlük hafızadan silinmez\n",
    "\n",
    "4. del()    : Sözlüğü tamamen hafızadan silmek için kullanılır"
   ]
  },
  {
   "cell_type": "code",
   "execution_count": 25,
   "metadata": {},
   "outputs": [
    {
     "name": "stdout",
     "output_type": "stream",
     "text": [
      "{'1': 'bir', '2': 'iki', '3': 'uc', '0': 'sifir'}\n",
      "{'1': 'BİR', '2': 'İKİ', '3': 'ÜÇ', '0': 'sifir', '4': 'DÖRT', '5': 'BEŞ'}\n"
     ]
    }
   ],
   "source": [
    "sayiGuncel={\"1\":\"BİR\",\"2\":\"İKİ\",\"3\":\"ÜÇ\",\"4\":\"DÖRT\",\"5\":\"BEŞ\"}\n",
    "print(sayiSozlugu)\n",
    "sayiSozlugu.update(sayiGuncel)\n",
    "print(sayiSozlugu)"
   ]
  },
  {
   "cell_type": "code",
   "execution_count": 30,
   "metadata": {},
   "outputs": [
    {
     "name": "stdout",
     "output_type": "stream",
     "text": [
      "{'1': 'BİR', '2': 'İKİ', '3': 'ÜÇ', '0': 'sifir', '4': 'DÖRT', '5': 'BEŞ', '6': 'ALTI', '7': 'YEDİ'}\n",
      "{'1': 'BİR', '2': 'İKİ', '3': 'ÜÇ', '0': 'sifir', '4': 'DÖRT', '5': 'BEŞ', '6': 'ALTI', '7': 'YEDİ'}\n",
      "1571653251776\n",
      "1571653251776\n",
      "{'1': 'BİR', '2': 'İKİ', '3': 'ÜÇ', '0': 'sifir', '4': 'DÖRT', '5': 'BEŞ', '6': 'ALTI', '7': 'YEDİ'}\n",
      "{'1': 'BİR', '2': 'İKİ', '3': 'ÜÇ', '0': 'sifir', '4': 'DÖRT', '5': 'BEŞ', '6': 'ALTI', '7': 'YEDİ', '8': 'SEKİZ'}\n",
      "1571653251776\n",
      "1571653318656\n"
     ]
    }
   ],
   "source": [
    "sayiSozlugu2=sayiSozlugu\n",
    "sayiSozlugu2[\"6\"]=\"ALTI\"\n",
    "sayiSozlugu[\"7\"]=\"YEDİ\"\n",
    "print(sayiSozlugu)\n",
    "print(sayiSozlugu2)\n",
    "print(id(sayiSozlugu))\n",
    "print(id(sayiSozlugu2))\n",
    "\n",
    "sayiSozlugu3=sayiSozlugu.copy()\n",
    "sayiSozlugu3[\"8\"]=\"SEKİZ\"\n",
    "print(sayiSozlugu)\n",
    "print(sayiSozlugu3)\n",
    "print(id(sayiSozlugu))\n",
    "print(id(sayiSozlugu3))"
   ]
  },
  {
   "cell_type": "code",
   "execution_count": 31,
   "metadata": {},
   "outputs": [
    {
     "name": "stdout",
     "output_type": "stream",
     "text": [
      "{}\n",
      "{}\n",
      "{'1': 'BİR', '2': 'İKİ', '3': 'ÜÇ', '0': 'sifir', '4': 'DÖRT', '5': 'BEŞ', '6': 'ALTI', '7': 'YEDİ', '8': 'SEKİZ'}\n"
     ]
    }
   ],
   "source": [
    "sayiSozlugu.clear()\n",
    "print(sayiSozlugu)\n",
    "print(sayiSozlugu2)\n",
    "print(sayiSozlugu3)"
   ]
  },
  {
   "cell_type": "code",
   "execution_count": 32,
   "metadata": {
    "scrolled": true
   },
   "outputs": [
    {
     "ename": "NameError",
     "evalue": "name 'sayiSozlugu' is not defined",
     "output_type": "error",
     "traceback": [
      "\u001b[1;31m---------------------------------------------------------------------------\u001b[0m",
      "\u001b[1;31mNameError\u001b[0m                                 Traceback (most recent call last)",
      "\u001b[1;32m<ipython-input-32-7b0c53046ede>\u001b[0m in \u001b[0;36m<module>\u001b[1;34m\u001b[0m\n\u001b[0;32m      2\u001b[0m \u001b[1;32mdel\u001b[0m \u001b[0msayiSozlugu2\u001b[0m\u001b[1;33m\u001b[0m\u001b[1;33m\u001b[0m\u001b[0m\n\u001b[0;32m      3\u001b[0m \u001b[1;32mdel\u001b[0m \u001b[0msayiSozlugu3\u001b[0m\u001b[1;33m\u001b[0m\u001b[1;33m\u001b[0m\u001b[0m\n\u001b[1;32m----> 4\u001b[1;33m \u001b[0mprint\u001b[0m\u001b[1;33m(\u001b[0m\u001b[0msayiSozlugu\u001b[0m\u001b[1;33m)\u001b[0m\u001b[1;33m\u001b[0m\u001b[1;33m\u001b[0m\u001b[0m\n\u001b[0m\u001b[0;32m      5\u001b[0m \u001b[0mprint\u001b[0m\u001b[1;33m(\u001b[0m\u001b[0msayiSozlugu2\u001b[0m\u001b[1;33m)\u001b[0m\u001b[1;33m\u001b[0m\u001b[1;33m\u001b[0m\u001b[0m\n\u001b[0;32m      6\u001b[0m \u001b[0mprint\u001b[0m\u001b[1;33m(\u001b[0m\u001b[0msayiSozlugu3\u001b[0m\u001b[1;33m)\u001b[0m\u001b[1;33m\u001b[0m\u001b[1;33m\u001b[0m\u001b[0m\n",
      "\u001b[1;31mNameError\u001b[0m: name 'sayiSozlugu' is not defined"
     ]
    }
   ],
   "source": [
    "del sayiSozlugu\n",
    "del sayiSozlugu2\n",
    "del sayiSozlugu3\n",
    "print(sayiSozlugu)\n",
    "print(sayiSozlugu2)\n",
    "print(sayiSozlugu3)"
   ]
  },
  {
   "cell_type": "code",
   "execution_count": null,
   "metadata": {},
   "outputs": [],
   "source": []
  },
  {
   "cell_type": "code",
   "execution_count": null,
   "metadata": {},
   "outputs": [],
   "source": []
  }
 ],
 "metadata": {
  "kernelspec": {
   "display_name": "Python 3",
   "language": "python",
   "name": "python3"
  },
  "language_info": {
   "codemirror_mode": {
    "name": "ipython",
    "version": 3
   },
   "file_extension": ".py",
   "mimetype": "text/x-python",
   "name": "python",
   "nbconvert_exporter": "python",
   "pygments_lexer": "ipython3",
   "version": "3.8.5"
  }
 },
 "nbformat": 4,
 "nbformat_minor": 4
}

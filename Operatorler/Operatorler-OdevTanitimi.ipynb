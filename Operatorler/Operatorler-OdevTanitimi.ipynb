{
 "cells": [
  {
   "cell_type": "markdown",
   "metadata": {},
   "source": [
    "## Operatörler Ödev Soruları"
   ]
  },
  {
   "cell_type": "markdown",
   "metadata": {},
   "source": [
    "### 1.Soru: Delta Değeri Hesaplama\n",
    "Soru Açıklaması:\n",
    "\n",
    "Kullanıcıdan; a,b,c değerlerini isteyerek aşağıdaki formule göre delta değerini hesaplayın. Ardından delta değerinin sıfırdan büyük mü yoksa küçük mü olduğuna göre konsola True-False yazdırın\n",
    "\n",
    "Delta Hesaplama Formulü:b^2-4*a*c\n"
   ]
  },
  {
   "cell_type": "markdown",
   "metadata": {},
   "source": [
    "### 2.Soru: Vize-Final Notu ile Ortalama Hesaplama\n",
    "Soru Açıklaması:\n",
    "\n",
    "Kullanıcıdan; vize ve final notlarını isteyerek aşağıdaki sınav yüzdelerine göre ders ortalamasını hesaplayın. Ardından eğer ki ders ortalaması 60'dan büyükse konsola True, değilse False yazdırın.\n",
    "\n",
    "Ortalama Hesaplama Yüzdesi: Final-> %60, Vize-> %40"
   ]
  },
  {
   "cell_type": "markdown",
   "metadata": {},
   "source": [
    "### 3.Soru: Daire Alan-Çevre Hesaplama\n",
    "Soru Açıklaması:\n",
    "\n",
    "Kullanıcıdan; yarıçap değerini isteyerek aşağıdaki formüllere göre daire'nin çevresini ve alanını hesaplayın.\n",
    "\n",
    "Daire Alan Formulü:pi*r^2\n",
    "\n",
    "Daire Çevre Formulü:2*pi*r"
   ]
  }
 ],
 "metadata": {
  "kernelspec": {
   "display_name": "Python 3",
   "language": "python",
   "name": "python3"
  },
  "language_info": {
   "codemirror_mode": {
    "name": "ipython",
    "version": 3
   },
   "file_extension": ".py",
   "mimetype": "text/x-python",
   "name": "python",
   "nbconvert_exporter": "python",
   "pygments_lexer": "ipython3",
   "version": "3.8.5"
  }
 },
 "nbformat": 4,
 "nbformat_minor": 4
}

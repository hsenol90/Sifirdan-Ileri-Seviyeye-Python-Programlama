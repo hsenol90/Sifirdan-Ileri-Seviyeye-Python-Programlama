{
 "cells": [
  {
   "cell_type": "markdown",
   "metadata": {},
   "source": [
    "## Operatorler nelerdir?"
   ]
  },
  {
   "cell_type": "markdown",
   "metadata": {},
   "source": [
    "##### Aritmetik operatorler: Toplama, Çıkarma, Çarpma, Tam Bölüm, Ondalıklı Bölüm, Mod Alma, Üs Alma\n",
    "##### Karşılaştırma islemlerinde kullanılan operatorler: ==, !=, >, <, >=,<=\n",
    "##### Mantıksal operatorler: AND, OR, NOT, \n",
    "##### Bit duzeyi islemlerde kullanılan operatorler: &, |, ^, ~, <<, >>\n",
    "##### Ekstra: in,not in, is, is not"
   ]
  },
  {
   "cell_type": "markdown",
   "metadata": {},
   "source": [
    "### Bit Düzeyi İşlemleri Nasıl Yapılır?\n",
    "Her bir sayının 0-1 düzeyde karşılığı vardır."
   ]
  },
  {
   "cell_type": "markdown",
   "metadata": {},
   "source": [
    "64-> 1000000 \n",
    "64=2^6*1+2^5*0+2^4*0+2^3*0+2^2*0+2^1*0+2^0*0\n",
    "\n",
    "\n",
    "35->  100011\n",
    "35=2^5*1+2^1*1+2^0*1"
   ]
  },
  {
   "cell_type": "markdown",
   "metadata": {},
   "source": [
    "### Bit Düzeyi İşlemlerinde Kullanılan Operatörler"
   ]
  },
  {
   "cell_type": "markdown",
   "metadata": {},
   "source": [
    "##### &(AND) Operatörü\n",
    "Her iki değer de True(1) ise True aksi halde False(0) üretir"
   ]
  },
  {
   "cell_type": "code",
   "execution_count": 7,
   "metadata": {},
   "outputs": [
    {
     "name": "stdout",
     "output_type": "stream",
     "text": [
      "0\n"
     ]
    }
   ],
   "source": [
    "a=4 #100-> 2^2+0+0\n",
    "b=2 #010-> 2^1+0+0\n",
    "#and 000-> 0+0+0\n",
    "print(a&b)"
   ]
  },
  {
   "cell_type": "markdown",
   "metadata": {},
   "source": [
    "##### |(OR) Operatörü\n",
    "İki değerden biri True(1) ise True aksi halde False(0) üretir"
   ]
  },
  {
   "cell_type": "code",
   "execution_count": 8,
   "metadata": {},
   "outputs": [
    {
     "name": "stdout",
     "output_type": "stream",
     "text": [
      "6\n"
     ]
    }
   ],
   "source": [
    "a=4 #100-> 2^2+0+0\n",
    "b=2 #010-> 2^1+0+0\n",
    "#or #110>  2^2+2^1+0\n",
    "print(a|b)"
   ]
  },
  {
   "cell_type": "markdown",
   "metadata": {},
   "source": [
    "##### ^(XOR) Operatörü\n",
    "Eğer ki iki değer aynı ise False(0), aksi halde True(1) üretir"
   ]
  },
  {
   "cell_type": "code",
   "execution_count": 10,
   "metadata": {},
   "outputs": [
    {
     "name": "stdout",
     "output_type": "stream",
     "text": [
      "1\n"
     ]
    }
   ],
   "source": [
    "a=4  #100-> 2^2+0+0\n",
    "b=5  #101-> 2^2+2^0\n",
    "#xor #001-> 2^0\n",
    "print(a^b)"
   ]
  },
  {
   "cell_type": "markdown",
   "metadata": {},
   "source": [
    "##### ~ Operatörü\n",
    "Not ile aynı mantıkta çalışır; True(1) ise False(0) sonucu üretir, False(0) ise True(1) sonucu üretir"
   ]
  },
  {
   "cell_type": "code",
   "execution_count": 11,
   "metadata": {},
   "outputs": [
    {
     "name": "stdout",
     "output_type": "stream",
     "text": [
      "-5\n"
     ]
    }
   ],
   "source": [
    "a=4 #100-> 2^2+0+0\n",
    "b=~a#011-> 2^0+2^1+0\n",
    "print(b)# eksi cikmasinin sebebi sondaki isaret bitinden kaynaklaniyor"
   ]
  },
  {
   "cell_type": "markdown",
   "metadata": {},
   "source": [
    "##### << Operatörü\n",
    "Bit düzeyinde sola kaydırma işlemi için kullanılıyor, bir bit sola kaydırmak sayıyı 2 ile çarpmak anlamına gelir"
   ]
  },
  {
   "cell_type": "code",
   "execution_count": 14,
   "metadata": {},
   "outputs": [
    {
     "name": "stdout",
     "output_type": "stream",
     "text": [
      "64\n"
     ]
    }
   ],
   "source": [
    "a=4   #100  ->  #1000000\n",
    "b=a<<4\n",
    "print(b)"
   ]
  },
  {
   "cell_type": "markdown",
   "metadata": {},
   "source": [
    "##### >> Operatörü\n",
    "Bit düzeyinde sağa kaydırma işlemi için kullanılıyor, bir bit sağa kaydırmak sayıyı 2'e bölmek anlamına gelir"
   ]
  },
  {
   "cell_type": "code",
   "execution_count": 15,
   "metadata": {},
   "outputs": [
    {
     "name": "stdout",
     "output_type": "stream",
     "text": [
      "1\n"
     ]
    }
   ],
   "source": [
    "a=4 #100    -> #1\n",
    "b=a>>2\n",
    "print(b)"
   ]
  },
  {
   "cell_type": "code",
   "execution_count": null,
   "metadata": {},
   "outputs": [],
   "source": []
  }
 ],
 "metadata": {
  "kernelspec": {
   "display_name": "Python 3",
   "language": "python",
   "name": "python3"
  },
  "language_info": {
   "codemirror_mode": {
    "name": "ipython",
    "version": 3
   },
   "file_extension": ".py",
   "mimetype": "text/x-python",
   "name": "python",
   "nbconvert_exporter": "python",
   "pygments_lexer": "ipython3",
   "version": "3.8.5"
  }
 },
 "nbformat": 4,
 "nbformat_minor": 4
}

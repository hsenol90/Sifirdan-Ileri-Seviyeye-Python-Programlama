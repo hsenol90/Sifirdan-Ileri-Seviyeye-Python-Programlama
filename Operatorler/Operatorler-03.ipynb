{
 "cells": [
  {
   "cell_type": "markdown",
   "metadata": {},
   "source": [
    "## Operatorler nelerdir?"
   ]
  },
  {
   "cell_type": "markdown",
   "metadata": {},
   "source": [
    "##### Aritmetik operatorler: Toplama, Çıkarma, Çarpma, Tam Bölüm, Ondalıklı Bölüm, Mod Alma, Üs Alma\n",
    "##### Karşılaştırma islemlerinde kullanılan operatorler: ==, !=, >, <, >=,<=\n",
    "##### Mantıksal operatorler: AND, OR, NOT, \n",
    "##### Bit duzeyi islemlerde kullanılan operatorler: &, |, ^, ~, <<, >>\n",
    "##### Ekstra: in,not in, is, is not"
   ]
  },
  {
   "cell_type": "markdown",
   "metadata": {},
   "source": [
    "### Mantıksal Operatörler"
   ]
  },
  {
   "cell_type": "code",
   "execution_count": 12,
   "metadata": {},
   "outputs": [
    {
     "name": "stdout",
     "output_type": "stream",
     "text": [
      "False\n",
      "False\n",
      "True\n",
      "False\n",
      "False\n",
      "True\n"
     ]
    }
   ],
   "source": [
    "x=True\n",
    "y=False\n",
    "\n",
    "print(x and y) # her iki ifade de True sonuca esitse, True sonucu verir. Aksi halde False sonucu verir\n",
    "print(not (7>5) and (8>6))\n",
    "\n",
    "print(x or y)# iki ifadeden bir tanesi True sonuca esitse, True sonucu verir. Aksi halde False sonucu verir\n",
    "print((7<5) or (8<6))\n",
    "\n",
    "print(not x)# basina geldigi bool ifadeyi tersine cevirir\n",
    "print(not y)"
   ]
  }
 ],
 "metadata": {
  "kernelspec": {
   "display_name": "Python 3",
   "language": "python",
   "name": "python3"
  },
  "language_info": {
   "codemirror_mode": {
    "name": "ipython",
    "version": 3
   },
   "file_extension": ".py",
   "mimetype": "text/x-python",
   "name": "python",
   "nbconvert_exporter": "python",
   "pygments_lexer": "ipython3",
   "version": "3.8.5"
  }
 },
 "nbformat": 4,
 "nbformat_minor": 4
}

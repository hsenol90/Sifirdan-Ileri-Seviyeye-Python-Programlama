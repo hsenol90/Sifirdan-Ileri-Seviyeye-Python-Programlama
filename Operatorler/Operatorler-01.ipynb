{
 "cells": [
  {
   "cell_type": "markdown",
   "metadata": {},
   "source": [
    "## Operatorler nelerdir?"
   ]
  },
  {
   "cell_type": "markdown",
   "metadata": {},
   "source": [
    "##### Aritmetik operatorler: Toplama, Çıkarma, Çarpma, Tam Bölüm, Ondalıklı Bölüm, Mod Alma, Üs Alma\n",
    "##### Karşılaştırma islemlerinde kullanılan operatorler: ==, !=, >, <, >=,<=\n",
    "##### Mantıksal operatorler: AND, OR, NOT, \n",
    "##### Bit duzeyi islemlerde kullanılan operatorler: &, |, ^, ~, <<, >>\n",
    "##### Ekstra: in,not in, is, is not"
   ]
  },
  {
   "cell_type": "markdown",
   "metadata": {},
   "source": [
    "### Aritmetik Operatorler"
   ]
  },
  {
   "cell_type": "code",
   "execution_count": 2,
   "metadata": {},
   "outputs": [
    {
     "name": "stdout",
     "output_type": "stream",
     "text": [
      "17\n",
      "7\n",
      "60\n",
      "2\n",
      "2.4\n",
      "2\n",
      "248832\n"
     ]
    }
   ],
   "source": [
    "a,b=12,5\n",
    "\n",
    "toplam=a+b\n",
    "cikarma=a-b\n",
    "carpma=a*b\n",
    "tamBolme=a//b\n",
    "ondalikliBolme=a/b\n",
    "modAlma=a%b\n",
    "usAlma=a**b\n",
    "\n",
    "print(toplam)\n",
    "print(cikarma)\n",
    "print(carpma)\n",
    "print(tamBolme)\n",
    "print(ondalikliBolme)\n",
    "print(modAlma)\n",
    "print(usAlma)"
   ]
  },
  {
   "cell_type": "markdown",
   "metadata": {},
   "source": [
    "#### Aritmetik işlem ile atama işlemini aynı anda yapmak"
   ]
  },
  {
   "cell_type": "code",
   "execution_count": 5,
   "metadata": {
    "scrolled": true
   },
   "outputs": [
    {
     "name": "stdout",
     "output_type": "stream",
     "text": [
      "5\n",
      "2\n",
      "25\n",
      "8\n"
     ]
    }
   ],
   "source": [
    "c,d=5,2\n",
    "print(c)\n",
    "print(d)\n",
    "c=c+10\n",
    "c+=10\n",
    "d*=2\n",
    "d=d*2\n",
    "print(c)\n",
    "print(d)"
   ]
  },
  {
   "cell_type": "markdown",
   "metadata": {},
   "source": [
    "#### İşlem Önceliği\n",
    "Matematiksel işlemler için kullandığımız işlem önceliğiyle tamamen aynıdır, parantez kullanarak işlem önceliği belirleyebiliriz"
   ]
  },
  {
   "cell_type": "code",
   "execution_count": 6,
   "metadata": {},
   "outputs": [
    {
     "name": "stdout",
     "output_type": "stream",
     "text": [
      "6.0\n",
      "0.6666666666666666\n"
     ]
    }
   ],
   "source": [
    "a=10/5*3\n",
    "b=10/(5*3)\n",
    "print(a)\n",
    "print(b)"
   ]
  },
  {
   "cell_type": "code",
   "execution_count": null,
   "metadata": {},
   "outputs": [],
   "source": []
  },
  {
   "cell_type": "code",
   "execution_count": null,
   "metadata": {},
   "outputs": [],
   "source": []
  },
  {
   "cell_type": "code",
   "execution_count": null,
   "metadata": {},
   "outputs": [],
   "source": []
  },
  {
   "cell_type": "code",
   "execution_count": null,
   "metadata": {},
   "outputs": [],
   "source": []
  }
 ],
 "metadata": {
  "kernelspec": {
   "display_name": "Python 3",
   "language": "python",
   "name": "python3"
  },
  "language_info": {
   "codemirror_mode": {
    "name": "ipython",
    "version": 3
   },
   "file_extension": ".py",
   "mimetype": "text/x-python",
   "name": "python",
   "nbconvert_exporter": "python",
   "pygments_lexer": "ipython3",
   "version": "3.8.5"
  }
 },
 "nbformat": 4,
 "nbformat_minor": 4
}

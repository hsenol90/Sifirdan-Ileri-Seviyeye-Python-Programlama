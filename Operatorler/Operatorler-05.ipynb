{
 "cells": [
  {
   "cell_type": "markdown",
   "metadata": {},
   "source": [
    "## Operatorler nelerdir?"
   ]
  },
  {
   "cell_type": "markdown",
   "metadata": {},
   "source": [
    "##### Aritmetik operatorler: Toplama, Çıkarma, Çarpma, Tam Bölüm, Ondalıklı Bölüm, Mod Alma, Üs Alma\n",
    "##### Karşılaştırma islemlerinde kullanılan operatorler: ==, !=, >, <, >=,<=\n",
    "##### Mantıksal operatorler: AND, OR, NOT, \n",
    "##### Bit duzeyi islemlerde kullanılan operatorler: &, |, ^, ~, <<, >>\n",
    "##### Ekstra: in,not in, is, is not"
   ]
  },
  {
   "cell_type": "markdown",
   "metadata": {},
   "source": [
    "### Ekstra Operatörler"
   ]
  },
  {
   "cell_type": "markdown",
   "metadata": {},
   "source": [
    "##### in operatörü\n",
    "İlk verilen ifade, ikinci verilen ifade içerisinde geçiyorsa True, aksi halde False sonucu döner"
   ]
  },
  {
   "cell_type": "code",
   "execution_count": 7,
   "metadata": {},
   "outputs": [
    {
     "name": "stdout",
     "output_type": "stream",
     "text": [
      "True\n",
      "False\n"
     ]
    }
   ],
   "source": [
    "a=\"merhaba\"\n",
    "b=\"ba\"\n",
    "c=\"c\"\n",
    "\n",
    "print(b in a)#ilk ifade ikincinin icerisinde geciyor\n",
    "print(c in a)#ilk ifade ikincinin icerisinde gecmiyor"
   ]
  },
  {
   "cell_type": "code",
   "execution_count": 9,
   "metadata": {},
   "outputs": [
    {
     "name": "stdout",
     "output_type": "stream",
     "text": [
      "True\n",
      "False\n"
     ]
    }
   ],
   "source": [
    "a=[1,2,3,4,5]\n",
    "print(5 in a)#5 sayisi listede oldugu icin True\n",
    "print('a' in a)# a karakteri listede olmadigi icin False"
   ]
  },
  {
   "cell_type": "markdown",
   "metadata": {},
   "source": [
    "##### not in operatörü\n",
    "İlk verilen ifade, ikinci verilen ifade içerisinde geçiyorsa False, aksi halde True sonucu döner"
   ]
  },
  {
   "cell_type": "code",
   "execution_count": 10,
   "metadata": {},
   "outputs": [
    {
     "name": "stdout",
     "output_type": "stream",
     "text": [
      "False\n",
      "True\n"
     ]
    }
   ],
   "source": [
    "a=\"merhaba\"\n",
    "b=\"ba\"\n",
    "c=\"c\"\n",
    "\n",
    "print(b not in a)#ilk ifade ikincinin icerisinde geciyor\n",
    "print(c not in a)#ilk ifade ikincinin icerisinde gecmiyor"
   ]
  },
  {
   "cell_type": "code",
   "execution_count": 12,
   "metadata": {},
   "outputs": [
    {
     "name": "stdout",
     "output_type": "stream",
     "text": [
      "True\n",
      "False\n"
     ]
    }
   ],
   "source": [
    "a=[1,2,3,4,5]\n",
    "print('â' not in a)# 'a' karakteri listede olmadigi icin True\n",
    "print(1 not in a)# 1 sayisi listede oldugu icin False"
   ]
  },
  {
   "cell_type": "markdown",
   "metadata": {},
   "source": [
    "##### is operatörü\n",
    "Eğer ki 2 değişken de aynı bellek bölgesindeyse True, aksi halde False sonucu döner"
   ]
  },
  {
   "cell_type": "code",
   "execution_count": 14,
   "metadata": {},
   "outputs": [
    {
     "name": "stdout",
     "output_type": "stream",
     "text": [
      "140731774019488\n",
      "140731774019648\n",
      "False\n"
     ]
    }
   ],
   "source": [
    "x=5\n",
    "y=10\n",
    "print(id(x))\n",
    "print(id(y))\n",
    "print(x is y)"
   ]
  },
  {
   "cell_type": "code",
   "execution_count": 15,
   "metadata": {},
   "outputs": [
    {
     "name": "stdout",
     "output_type": "stream",
     "text": [
      "140731774019488\n",
      "140731774019488\n",
      "True\n"
     ]
    }
   ],
   "source": [
    "x=5\n",
    "y=5\n",
    "print(id(x))\n",
    "print(id(y))\n",
    "print(x is y)"
   ]
  },
  {
   "cell_type": "markdown",
   "metadata": {},
   "source": [
    "##### is not operatörü\n",
    "Eğer ki 2 değişken de aynı bellek bölgesindeyse False, aksi halde True sonucu döner"
   ]
  },
  {
   "cell_type": "code",
   "execution_count": 16,
   "metadata": {},
   "outputs": [
    {
     "name": "stdout",
     "output_type": "stream",
     "text": [
      "140731774019488\n",
      "140731774019648\n",
      "True\n"
     ]
    }
   ],
   "source": [
    "x=5\n",
    "y=10\n",
    "print(id(x))\n",
    "print(id(y))\n",
    "print(x is not y)"
   ]
  },
  {
   "cell_type": "code",
   "execution_count": 17,
   "metadata": {},
   "outputs": [
    {
     "name": "stdout",
     "output_type": "stream",
     "text": [
      "140731774019488\n",
      "140731774019488\n",
      "False\n"
     ]
    }
   ],
   "source": [
    "x=5\n",
    "y=5\n",
    "print(id(x))\n",
    "print(id(y))\n",
    "print(x is not y)"
   ]
  },
  {
   "cell_type": "code",
   "execution_count": null,
   "metadata": {},
   "outputs": [],
   "source": []
  }
 ],
 "metadata": {
  "kernelspec": {
   "display_name": "Python 3",
   "language": "python",
   "name": "python3"
  },
  "language_info": {
   "codemirror_mode": {
    "name": "ipython",
    "version": 3
   },
   "file_extension": ".py",
   "mimetype": "text/x-python",
   "name": "python",
   "nbconvert_exporter": "python",
   "pygments_lexer": "ipython3",
   "version": "3.8.5"
  }
 },
 "nbformat": 4,
 "nbformat_minor": 4
}

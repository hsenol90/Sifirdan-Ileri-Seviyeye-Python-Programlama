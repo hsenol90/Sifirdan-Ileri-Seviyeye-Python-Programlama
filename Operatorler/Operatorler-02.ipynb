{
 "cells": [
  {
   "cell_type": "markdown",
   "metadata": {},
   "source": [
    "## Operatorler nelerdir?"
   ]
  },
  {
   "cell_type": "markdown",
   "metadata": {},
   "source": [
    "##### Aritmetik operatorler: Toplama, Çıkarma, Çarpma, Tam Bölüm, Ondalıklı Bölüm, Mod Alma, Üs Alma\n",
    "##### Karşılaştırma islemlerinde kullanılan operatorler: ==, !=, >, <, >=,<=\n",
    "##### Mantıksal operatorler: AND, OR, NOT, \n",
    "##### Bit duzeyi islemlerde kullanılan operatorler: &, |, ^, ~, <<, >>\n",
    "##### Ekstra: in,not in, is, is not"
   ]
  },
  {
   "cell_type": "markdown",
   "metadata": {},
   "source": [
    "### Karşılaştırma İşlemlerinde Kullanılan Operatörler"
   ]
  },
  {
   "cell_type": "code",
   "execution_count": 8,
   "metadata": {},
   "outputs": [
    {
     "name": "stdout",
     "output_type": "stream",
     "text": [
      "False\n",
      "False\n",
      "True\n",
      "True\n",
      "False\n",
      "False\n",
      "True\n",
      "True\n",
      "False\n",
      "False\n",
      "True\n",
      "True\n"
     ]
    }
   ],
   "source": [
    "a,b,c=5,10,15\n",
    "\n",
    "print(a==b)#eger ki iki ifade esitse True, değilse False\n",
    "print(a==c)\n",
    "\n",
    "print(a!=b)#eger ki iki ifade esit degilse True, esitse False\n",
    "print(a!=c)\n",
    "\n",
    "print(a>b)#eger ki ilk ifade ikinciden buyukse True, degilse False\n",
    "print(a>c)\n",
    "\n",
    "print(a<b)#eger ki ilk ifade ikinciden kucukse True, degilse False\n",
    "print(a<c)\n",
    "\n",
    "print(a>=b)#eger ki ilk ifade ikinciden büyük VEYA eşitse True, değilse False\n",
    "print(a>=c)\n",
    "\n",
    "print(a<=b)#eger ki ilk ifade ikinciden küçük VEYA eşitse True, degilse False\n",
    "print(a<=c)"
   ]
  },
  {
   "cell_type": "markdown",
   "metadata": {},
   "source": [
    "#### Birden fazla sorgu yapılırsa ne olur?"
   ]
  },
  {
   "cell_type": "code",
   "execution_count": 9,
   "metadata": {},
   "outputs": [
    {
     "name": "stdout",
     "output_type": "stream",
     "text": [
      "True\n"
     ]
    }
   ],
   "source": [
    "print(a<b<c)# a<b AND b<c"
   ]
  }
 ],
 "metadata": {
  "kernelspec": {
   "display_name": "Python 3",
   "language": "python",
   "name": "python3"
  },
  "language_info": {
   "codemirror_mode": {
    "name": "ipython",
    "version": 3
   },
   "file_extension": ".py",
   "mimetype": "text/x-python",
   "name": "python",
   "nbconvert_exporter": "python",
   "pygments_lexer": "ipython3",
   "version": "3.8.5"
  }
 },
 "nbformat": 4,
 "nbformat_minor": 4
}

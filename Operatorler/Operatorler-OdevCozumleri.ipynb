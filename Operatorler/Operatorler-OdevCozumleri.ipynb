{
 "cells": [
  {
   "cell_type": "markdown",
   "metadata": {},
   "source": [
    "## Operatörler - Ödev Çözümleri"
   ]
  },
  {
   "cell_type": "markdown",
   "metadata": {},
   "source": [
    "### 1.Soru: Delta Değeri Hesaplama\n",
    "\n",
    "Soru Açıklaması:\n",
    "\n",
    "Kullanıcıdan; a,b,c değerlerini isteyerek aşağıdaki formule göre delta değerini hesaplayın. Ardından delta değerinin sıfırdan büyük mü yoksa küçük mü olduğuna göre konsola True-False yazdırın\n",
    "\n",
    "Delta Hesaplama Formulü:b^2-4*a*c\n"
   ]
  },
  {
   "cell_type": "code",
   "execution_count": 6,
   "metadata": {},
   "outputs": [
    {
     "name": "stdout",
     "output_type": "stream",
     "text": [
      "Lutfen sirasiyla a,b,c degerlerini giriniz:1,10,2\n",
      "Delta Degeri:92\n",
      "Delta 0'dan buyuk-kucuk durumu: True\n"
     ]
    }
   ],
   "source": [
    "a,b,c=map(int,input(\"Lutfen sirasiyla a,b,c degerlerini giriniz:\").split(\",\"))\n",
    "deltaSonucu=b**2-4*a*c\n",
    "print(\"Delta Degeri:{}\".format(deltaSonucu))\n",
    "print(\"Delta 0'dan buyuk-kucuk durumu:\",deltaSonucu>0)"
   ]
  },
  {
   "cell_type": "markdown",
   "metadata": {},
   "source": [
    "### 2.Soru: Vize-Final Notu ile Ortalama Hesaplama\n",
    "Soru Açıklaması:\n",
    "\n",
    "Kullanıcıdan; vize ve final notlarını isteyerek aşağıdaki sınav yüzdelerine göre ders ortalamasını hesaplayın. Ardından eğer ki ders ortalaması 60'dan büyükse konsola True, değilse False yazdırın.\n",
    "\n",
    "Ortalama Hesaplama Yüzdesi: Final-> %60, Vize-> %40"
   ]
  },
  {
   "cell_type": "code",
   "execution_count": 8,
   "metadata": {
    "scrolled": true
   },
   "outputs": [
    {
     "name": "stdout",
     "output_type": "stream",
     "text": [
      "Lutfen vize notunuzu giriniz:80\n",
      "Lutfen final notunuzu giriniz:50\n",
      "Ders Ortalamaniz:62.0 ve dersten gecme durumunuz:True\n"
     ]
    }
   ],
   "source": [
    "vizeNot=int(input(\"Lutfen vize notunuzu giriniz:\"))\n",
    "finalNot=int(input(\"Lutfen final notunuzu giriniz:\"))\n",
    "\n",
    "dersOrtalamasi=vizeNot*0.4+finalNot*0.6\n",
    "print(\"Ders Ortalamaniz:{} ve dersten gecme durumunuz:{}\".format(dersOrtalamasi,dersOrtalamasi>60))"
   ]
  },
  {
   "cell_type": "markdown",
   "metadata": {},
   "source": [
    "### 3.Soru: Daire Alan-Çevre Hesaplama\n",
    "Soru Açıklaması:\n",
    "\n",
    "Kullanıcıdan; yarıçap değerini isteyerek aşağıdaki formüllere göre daire'nin çevresini ve alanını hesaplayın.\n",
    "\n",
    "Daire Alan Formulü:pi*r^2\n",
    "\n",
    "Daire Çevre Formulü:2*pi*r"
   ]
  },
  {
   "cell_type": "code",
   "execution_count": 10,
   "metadata": {},
   "outputs": [
    {
     "name": "stdout",
     "output_type": "stream",
     "text": [
      "Lutfen yaricap degerini giriniz:1.5\n",
      "Girdiginiz yaricap degerine gore daire'nin cevresi:9.4247779607694 birim ve alani:7.0685834705770505 birim^2\n"
     ]
    }
   ],
   "source": [
    "PI=3.1415926535898\n",
    "yaricap=float(input(\"Lutfen yaricap degerini giriniz:\"))\n",
    "\n",
    "daireAlan=PI*yaricap**2\n",
    "daireCevre=2*PI*yaricap\n",
    "\n",
    "print(\"Girdiginiz yaricap degerine gore daire'nin cevresi:{} birim ve alani:{} birim^2\".format(daireCevre,daireAlan))"
   ]
  },
  {
   "cell_type": "code",
   "execution_count": null,
   "metadata": {},
   "outputs": [],
   "source": []
  },
  {
   "cell_type": "code",
   "execution_count": null,
   "metadata": {},
   "outputs": [],
   "source": []
  }
 ],
 "metadata": {
  "kernelspec": {
   "display_name": "Python 3",
   "language": "python",
   "name": "python3"
  },
  "language_info": {
   "codemirror_mode": {
    "name": "ipython",
    "version": 3
   },
   "file_extension": ".py",
   "mimetype": "text/x-python",
   "name": "python",
   "nbconvert_exporter": "python",
   "pygments_lexer": "ipython3",
   "version": "3.8.5"
  }
 },
 "nbformat": 4,
 "nbformat_minor": 4
}

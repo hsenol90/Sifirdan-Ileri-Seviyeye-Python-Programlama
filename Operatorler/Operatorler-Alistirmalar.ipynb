{
 "cells": [
  {
   "cell_type": "markdown",
   "metadata": {},
   "source": [
    "## Girilen para tutarını banknotlara ayırma"
   ]
  },
  {
   "cell_type": "markdown",
   "metadata": {},
   "source": [
    "Girilen tutar: 1480\n",
    "\n",
    "İlk  girilen tutar: 1480TL=7 adet 200 TL bulunmaktadır.\n",
    "\n",
    "Geriye kalan tutar:   80TL=0 adet 100 TL bulunmaktadır.\n",
    "\n",
    "Geriye kalan tutar:   80TL=1 adet 50  TL bulunmaktadır.\n",
    "\n",
    "Geriye kalan tutar:   30TL=1 adet 20  TL bulunmaktadır.\n",
    "\n",
    "Geriye kalan tutar:   10TL=1 adet 10  TL bulunmaktadır.\n",
    "\n",
    "Geriye kalan tutar:   0TL= 0 adet  5  TL bulunmaktadır."
   ]
  },
  {
   "cell_type": "code",
   "execution_count": 2,
   "metadata": {},
   "outputs": [
    {
     "name": "stdout",
     "output_type": "stream",
     "text": [
      "Lutfen bir para miktari giriniz:12584\n",
      "62 adet 200 TL bulunmaktadir\n",
      "1 adet 100 TL bulunmaktadir\n",
      "1 adet 50 TL bulunmaktadir\n",
      "1 adet 20 TL bulunmaktadir\n",
      "1 adet 10 TL bulunmaktadir\n",
      "0 adet 5 TL bulunmaktadir\n"
     ]
    }
   ],
   "source": [
    "girilenParaTutari=int(input(\"Lutfen bir para miktari giriniz:\"))\n",
    "print(\"{} adet 200 TL bulunmaktadir\".format(girilenParaTutari//200))\n",
    "girilenParaTutari%=200 #girilenParaTutari=girilenParaTutari%200\n",
    "print(\"{} adet 100 TL bulunmaktadir\".format(girilenParaTutari//100))\n",
    "girilenParaTutari%=100\n",
    "print(\"{} adet 50 TL bulunmaktadir\".format(girilenParaTutari//50))\n",
    "girilenParaTutari%=50\n",
    "print(\"{} adet 20 TL bulunmaktadir\".format(girilenParaTutari//20))\n",
    "girilenParaTutari%=20\n",
    "print(\"{} adet 10 TL bulunmaktadir\".format(girilenParaTutari//10))\n",
    "girilenParaTutari%=10\n",
    "print(\"{} adet 5 TL bulunmaktadir\".format(girilenParaTutari//5))\n",
    "girilenParaTutari%=5\n"
   ]
  },
  {
   "cell_type": "markdown",
   "metadata": {},
   "source": [
    "## Girilen 3 basamaklı sayının tersini yazdırma"
   ]
  },
  {
   "cell_type": "markdown",
   "metadata": {},
   "source": [
    "\n",
    "Girilen sayı: 123\n",
    "    \n",
    "İlk    iterasyonda sayı:123, yazdırılan basamak: 3\n",
    "        \n",
    "İkinci iterasyonda sayı:12,  yazdırılan basamak: 2\n",
    "        \n",
    "Üçüncü iterasyonda sayı: 1,  yazdırılan basamak: 1"
   ]
  },
  {
   "cell_type": "code",
   "execution_count": 9,
   "metadata": {},
   "outputs": [
    {
     "name": "stdout",
     "output_type": "stream",
     "text": [
      "Lutfen tersi yazdirilacak olan sayiyi giriniz:123\n",
      "321\n",
      "0\n",
      "123\n"
     ]
    }
   ],
   "source": [
    "girilenSayi=int(input(\"Lutfen tersi yazdirilacak olan sayiyi giriniz:\"))\n",
    "geciciSayi=girilenSayi#gecici degiskene atadik\n",
    "\n",
    "#3 sayısını yazdırmak\n",
    "print(geciciSayi%10,end=\"\")\n",
    "geciciSayi=geciciSayi//10  #geciciSayi//=10\n",
    "\n",
    "#2 sayısını yazdırmak\n",
    "print(geciciSayi%10,end=\"\")\n",
    "geciciSayi=geciciSayi//10 \n",
    "\n",
    "#1 sayısını yazdırmak\n",
    "print(geciciSayi%10,end=\"\\n\")\n",
    "geciciSayi=geciciSayi//10 \n",
    "\n",
    "print(geciciSayi)\n",
    "print(girilenSayi)\n"
   ]
  }
 ],
 "metadata": {
  "kernelspec": {
   "display_name": "Python 3",
   "language": "python",
   "name": "python3"
  },
  "language_info": {
   "codemirror_mode": {
    "name": "ipython",
    "version": 3
   },
   "file_extension": ".py",
   "mimetype": "text/x-python",
   "name": "python",
   "nbconvert_exporter": "python",
   "pygments_lexer": "ipython3",
   "version": "3.8.5"
  }
 },
 "nbformat": 4,
 "nbformat_minor": 4
}

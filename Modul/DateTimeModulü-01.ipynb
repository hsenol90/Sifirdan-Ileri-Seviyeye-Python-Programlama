{
 "cells": [
  {
   "cell_type": "markdown",
   "metadata": {},
   "source": [
    "## DateTime Modülü\n",
    "\n",
    "Datetime modülü; zaman, saat ve tarihlerle ilgili işlemler yapabilmemiz için fonksiyon ve nitelikler sunan bazı sınıflardan oluşur.\n",
    "\n",
    "DateTime modülü içerisinde date,time,datetime sınıfları bulunur."
   ]
  },
  {
   "cell_type": "code",
   "execution_count": 41,
   "metadata": {},
   "outputs": [],
   "source": [
    "from datetime import datetime"
   ]
  },
  {
   "cell_type": "markdown",
   "metadata": {},
   "source": [
    "### now Fonksiyonu\n",
    "\n",
    "O an ki tarih, saat ve zaman bilgilerini verir."
   ]
  },
  {
   "cell_type": "code",
   "execution_count": 42,
   "metadata": {},
   "outputs": [
    {
     "data": {
      "text/plain": [
       "datetime.datetime(2021, 9, 4, 13, 32, 27, 494145)"
      ]
     },
     "execution_count": 42,
     "metadata": {},
     "output_type": "execute_result"
    }
   ],
   "source": [
    "suAn=datetime.now()\n",
    "suAn"
   ]
  },
  {
   "cell_type": "code",
   "execution_count": 43,
   "metadata": {},
   "outputs": [
    {
     "name": "stdout",
     "output_type": "stream",
     "text": [
      "2021\n",
      "9\n",
      "4\n",
      "13\n",
      "32\n",
      "27\n",
      "494145\n"
     ]
    }
   ],
   "source": [
    "print(suAn.year)\n",
    "print(suAn.month)\n",
    "print(suAn.day)\n",
    "print(suAn.hour)\n",
    "print(suAn.minute)\n",
    "print(suAn.second)\n",
    "print(suAn.microsecond)"
   ]
  },
  {
   "cell_type": "markdown",
   "metadata": {},
   "source": [
    "### today Fonksiyonu\n",
    "\n",
    "İçerisinde bulunduğumuz gün ile ilgili bilgileri verir"
   ]
  },
  {
   "cell_type": "code",
   "execution_count": 44,
   "metadata": {},
   "outputs": [
    {
     "data": {
      "text/plain": [
       "datetime.datetime(2021, 9, 4, 13, 34, 29, 644403)"
      ]
     },
     "execution_count": 44,
     "metadata": {},
     "output_type": "execute_result"
    }
   ],
   "source": [
    "bugun=datetime.today()\n",
    "bugun"
   ]
  },
  {
   "cell_type": "code",
   "execution_count": 45,
   "metadata": {},
   "outputs": [
    {
     "name": "stdout",
     "output_type": "stream",
     "text": [
      "2021\n",
      "9\n",
      "4\n",
      "13\n",
      "34\n",
      "29\n",
      "644403\n"
     ]
    }
   ],
   "source": [
    "print(bugun.year)\n",
    "print(bugun.month)\n",
    "print(bugun.day)\n",
    "print(bugun.hour)\n",
    "print(bugun.minute)\n",
    "print(bugun.second)\n",
    "print(bugun.microsecond)"
   ]
  },
  {
   "cell_type": "markdown",
   "metadata": {},
   "source": [
    "### ctime Fonksiyonu\n",
    "\n",
    "O an ki tarih ve zaman bilgilerini okunaklı şekilde verir\n"
   ]
  },
  {
   "cell_type": "code",
   "execution_count": 46,
   "metadata": {},
   "outputs": [
    {
     "data": {
      "text/plain": [
       "'Sat Sep  4 13:36:14 2021'"
      ]
     },
     "execution_count": 46,
     "metadata": {},
     "output_type": "execute_result"
    }
   ],
   "source": [
    "suAn=datetime.now()\n",
    "ctimesuAn=datetime.ctime(suAn)\n",
    "ctimesuAn"
   ]
  },
  {
   "cell_type": "code",
   "execution_count": 47,
   "metadata": {},
   "outputs": [
    {
     "data": {
      "text/plain": [
       "datetime.datetime(2021, 9, 4, 13, 36, 14, 12729)"
      ]
     },
     "execution_count": 47,
     "metadata": {},
     "output_type": "execute_result"
    }
   ],
   "source": [
    "suAn"
   ]
  },
  {
   "cell_type": "markdown",
   "metadata": {},
   "source": [
    "### strftime Fonksiyonu\n",
    "\n",
    "Tarih ve zaman bilgilerini biçimlendirmemizi sağlar\n",
    "\n",
    "1. Yıl bilgisini almak için : %Y\n",
    "\n",
    "2. Yıl bilgisinin son 2 hanesini için: %y\n",
    "\n",
    "2. Ay ismini almak için : %B\n",
    "\n",
    "4. Gün ismini almak için : %A\n",
    "\n",
    "5. Saat bilgisini almak için : %X\n",
    "\n",
    "6. Gün bilgisini almak için : %D\n",
    "\n",
    "7. Tarih, saat, zaman için: %c\n"
   ]
  },
  {
   "cell_type": "code",
   "execution_count": 48,
   "metadata": {},
   "outputs": [
    {
     "data": {
      "text/plain": [
       "'Sat Sep  4 13:38:23 2021'"
      ]
     },
     "execution_count": 48,
     "metadata": {},
     "output_type": "execute_result"
    }
   ],
   "source": [
    "suAn=datetime.now()\n",
    "strftimesuAn=datetime.strftime(suAn,\"%c\")\n",
    "strftimesuAn"
   ]
  },
  {
   "cell_type": "code",
   "execution_count": 54,
   "metadata": {},
   "outputs": [
    {
     "data": {
      "text/plain": [
       "'09/04/21'"
      ]
     },
     "execution_count": 54,
     "metadata": {},
     "output_type": "execute_result"
    }
   ],
   "source": [
    "suAn=datetime.now()\n",
    "strftimesuAn=datetime.strftime(suAn,\"%D\")\n",
    "strftimesuAn"
   ]
  },
  {
   "cell_type": "markdown",
   "metadata": {},
   "source": [
    "#### Locale ile Türkçe Yapalım"
   ]
  },
  {
   "cell_type": "code",
   "execution_count": 55,
   "metadata": {},
   "outputs": [
    {
     "data": {
      "text/plain": [
       "'Turkish_Turkey.1254'"
      ]
     },
     "execution_count": 55,
     "metadata": {},
     "output_type": "execute_result"
    }
   ],
   "source": [
    "import locale\n",
    "locale.setlocale(locale.LC_ALL,'')"
   ]
  },
  {
   "cell_type": "code",
   "execution_count": 58,
   "metadata": {},
   "outputs": [
    {
     "data": {
      "text/plain": [
       "'Cumartesi'"
      ]
     },
     "execution_count": 58,
     "metadata": {},
     "output_type": "execute_result"
    }
   ],
   "source": [
    "suAn=datetime.now()\n",
    "strftimesuAn=datetime.strftime(suAn,\"%A\")\n",
    "strftimesuAn"
   ]
  },
  {
   "cell_type": "code",
   "execution_count": 59,
   "metadata": {},
   "outputs": [
    {
     "data": {
      "text/plain": [
       "'4.09.2021 13:42:00'"
      ]
     },
     "execution_count": 59,
     "metadata": {},
     "output_type": "execute_result"
    }
   ],
   "source": [
    "suAn=datetime.now()\n",
    "strftimesuAn=datetime.strftime(suAn,\"%c\")\n",
    "strftimesuAn"
   ]
  },
  {
   "cell_type": "markdown",
   "metadata": {},
   "source": [
    "### strptime Fonksiyonu\n",
    "\n",
    "Karakter dizisi şeklinde olan tarih bilgisini ayırmamızı sağlar"
   ]
  },
  {
   "cell_type": "code",
   "execution_count": 60,
   "metadata": {},
   "outputs": [
    {
     "data": {
      "text/plain": [
       "datetime.datetime(2021, 9, 4, 13, 42)"
      ]
     },
     "execution_count": 60,
     "metadata": {},
     "output_type": "execute_result"
    }
   ],
   "source": [
    "suAn=\"4 Eylül 2021 13:42:00\"\n",
    "datetimesuAn=datetime.strptime(suAn,'%d %B %Y %H:%M:%S')\n",
    "datetimesuAn"
   ]
  },
  {
   "cell_type": "markdown",
   "metadata": {},
   "source": [
    "### timestamp Fonksiyonu\n",
    "\n",
    "Datetime objesini saniye cinsine çevirmek için kullanılıyor"
   ]
  },
  {
   "cell_type": "code",
   "execution_count": 61,
   "metadata": {},
   "outputs": [
    {
     "data": {
      "text/plain": [
       "1630752364.614588"
      ]
     },
     "execution_count": 61,
     "metadata": {},
     "output_type": "execute_result"
    }
   ],
   "source": [
    "suAn=datetime.now()\n",
    "saniye=datetime.timestamp(suAn)\n",
    "saniye"
   ]
  },
  {
   "cell_type": "markdown",
   "metadata": {},
   "source": [
    "### fromtimestamp Fonksiyonu\n",
    "\n",
    "Saniye cinsinde olan ifadeyi datetime objeye çevirmek için kullanılıyor"
   ]
  },
  {
   "cell_type": "code",
   "execution_count": 62,
   "metadata": {},
   "outputs": [
    {
     "data": {
      "text/plain": [
       "datetime.datetime(2021, 9, 4, 13, 46, 4, 614588)"
      ]
     },
     "execution_count": 62,
     "metadata": {},
     "output_type": "execute_result"
    }
   ],
   "source": [
    "suAnFTS=datetime.fromtimestamp(saniye)\n",
    "suAnFTS"
   ]
  },
  {
   "cell_type": "code",
   "execution_count": null,
   "metadata": {},
   "outputs": [],
   "source": []
  },
  {
   "cell_type": "code",
   "execution_count": null,
   "metadata": {},
   "outputs": [],
   "source": []
  },
  {
   "cell_type": "code",
   "execution_count": null,
   "metadata": {},
   "outputs": [],
   "source": []
  },
  {
   "cell_type": "code",
   "execution_count": null,
   "metadata": {},
   "outputs": [],
   "source": []
  },
  {
   "cell_type": "code",
   "execution_count": null,
   "metadata": {},
   "outputs": [],
   "source": []
  }
 ],
 "metadata": {
  "kernelspec": {
   "display_name": "Python 3",
   "language": "python",
   "name": "python3"
  },
  "language_info": {
   "codemirror_mode": {
    "name": "ipython",
    "version": 3
   },
   "file_extension": ".py",
   "mimetype": "text/x-python",
   "name": "python",
   "nbconvert_exporter": "python",
   "pygments_lexer": "ipython3",
   "version": "3.8.5"
  }
 },
 "nbformat": 4,
 "nbformat_minor": 4
}

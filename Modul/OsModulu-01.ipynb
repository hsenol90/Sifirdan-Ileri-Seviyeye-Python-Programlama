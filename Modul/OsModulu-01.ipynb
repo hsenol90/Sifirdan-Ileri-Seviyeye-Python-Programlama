{
 "cells": [
  {
   "cell_type": "markdown",
   "metadata": {},
   "source": [
    "## Os Modülü\n",
    "\n",
    "Kullandığınız işletim sistemi ile ilgili bilgi edinmenizi ve kullandığınız işletim sistemi ile çeşitli işlemler yapabilmenizi sağlar"
   ]
  },
  {
   "cell_type": "code",
   "execution_count": 14,
   "metadata": {},
   "outputs": [],
   "source": [
    "import os"
   ]
  },
  {
   "cell_type": "markdown",
   "metadata": {},
   "source": [
    "### name Niteliği\n",
    "\n",
    "İşletim Sisteminin ismini verir;\n",
    "Windows için NT\n",
    "MacOS ve GNU/Linux için POSIX çıktısı verir"
   ]
  },
  {
   "cell_type": "code",
   "execution_count": 15,
   "metadata": {},
   "outputs": [
    {
     "data": {
      "text/plain": [
       "'nt'"
      ]
     },
     "execution_count": 15,
     "metadata": {},
     "output_type": "execute_result"
    }
   ],
   "source": [
    "os.name"
   ]
  },
  {
   "cell_type": "markdown",
   "metadata": {},
   "source": [
    "### sep Niteliği\n",
    "\n",
    "İşletim sistemine göre dosyaların ne ile ayırıldığını verir;\n",
    "Windows için '\\\\'\n",
    "MacOS ve GNU/Linux için '/' çıktısı verir\n"
   ]
  },
  {
   "cell_type": "code",
   "execution_count": 16,
   "metadata": {},
   "outputs": [
    {
     "data": {
      "text/plain": [
       "'\\\\'"
      ]
     },
     "execution_count": 16,
     "metadata": {},
     "output_type": "execute_result"
    }
   ],
   "source": [
    "os.sep"
   ]
  },
  {
   "cell_type": "markdown",
   "metadata": {},
   "source": [
    "### curdir Niteliği\n",
    "\n",
    "O an bulunduğumuz dizini temsil eden karakter dizisini verir. Çoğu işletim sisteminde '.' ile ifade edilir."
   ]
  },
  {
   "cell_type": "code",
   "execution_count": 17,
   "metadata": {},
   "outputs": [
    {
     "data": {
      "text/plain": [
       "'.'"
      ]
     },
     "execution_count": 17,
     "metadata": {},
     "output_type": "execute_result"
    }
   ],
   "source": [
    "os.curdir"
   ]
  },
  {
   "cell_type": "markdown",
   "metadata": {},
   "source": [
    "### pardir Niteliği\n",
    "\n",
    "O an bulunduğumuz dizinin bir üst dizinini temsil eden karakter dizisini verir. Çoğu işletim sisteminde '..' ile ifade edilir."
   ]
  },
  {
   "cell_type": "code",
   "execution_count": 18,
   "metadata": {},
   "outputs": [
    {
     "data": {
      "text/plain": [
       "'..'"
      ]
     },
     "execution_count": 18,
     "metadata": {},
     "output_type": "execute_result"
    }
   ],
   "source": [
    "os.pardir"
   ]
  },
  {
   "cell_type": "markdown",
   "metadata": {},
   "source": [
    "### getcwd Fonksiyonu\n",
    "\n",
    "O an modülün içerisinde bulunduğu dosya dizinini verir"
   ]
  },
  {
   "cell_type": "code",
   "execution_count": 19,
   "metadata": {},
   "outputs": [
    {
     "data": {
      "text/plain": [
       "'C:\\\\Users\\\\olgun\\\\Desktop\\\\PythonProgramlama\\\\Modül'"
      ]
     },
     "execution_count": 19,
     "metadata": {},
     "output_type": "execute_result"
    }
   ],
   "source": [
    "os.getcwd()"
   ]
  },
  {
   "cell_type": "markdown",
   "metadata": {},
   "source": [
    "### chdir Fonksiyonu\n",
    "\n",
    "Bir dizinden başka bir dizine geçme şansı verir."
   ]
  },
  {
   "cell_type": "code",
   "execution_count": 20,
   "metadata": {},
   "outputs": [],
   "source": [
    "os.chdir(r'C:\\\\Users\\\\olgun\\\\Desktop\\\\PythonProgramlama')"
   ]
  },
  {
   "cell_type": "code",
   "execution_count": 21,
   "metadata": {},
   "outputs": [
    {
     "data": {
      "text/plain": [
       "'C:\\\\Users\\\\olgun\\\\Desktop\\\\PythonProgramlama'"
      ]
     },
     "execution_count": 21,
     "metadata": {},
     "output_type": "execute_result"
    }
   ],
   "source": [
    "os.getcwd()"
   ]
  },
  {
   "cell_type": "markdown",
   "metadata": {},
   "source": [
    "### listdir Fonksiyonu\n",
    "\n",
    "Bize bir dizin içindeki dosya ve klasörleri liste yapısı halinde sunar."
   ]
  },
  {
   "cell_type": "code",
   "execution_count": 22,
   "metadata": {},
   "outputs": [
    {
     "data": {
      "text/plain": [
       "['.ipynb_checkpoints',\n",
       " 'Decarator Kavramı',\n",
       " 'Degiskenler',\n",
       " 'DerleyiciKurulumu',\n",
       " 'Donguler',\n",
       " 'DosyaIslemleri',\n",
       " 'Fifa19OyuncularıAnaliz',\n",
       " 'Fonksiyonlar',\n",
       " 'FonksiyonlarEkstra',\n",
       " 'HataYonetimi',\n",
       " 'HazirTanimliFonksiyonlar',\n",
       " 'IteratorGeneratorTanımlama',\n",
       " 'KosulYapilari',\n",
       " 'Listeler-Demetler-Sozlukler-Kumeler',\n",
       " 'Matplotlib',\n",
       " 'Modül',\n",
       " 'NesneTabanliProgramlama',\n",
       " 'Numpy',\n",
       " 'Operatorler',\n",
       " 'Pandas',\n",
       " 'PyQt5',\n",
       " 'Seaborn',\n",
       " 'TemelVeriTurleri',\n",
       " 'VeriTabaniYonetimi']"
      ]
     },
     "execution_count": 22,
     "metadata": {},
     "output_type": "execute_result"
    }
   ],
   "source": [
    "os.listdir()"
   ]
  },
  {
   "cell_type": "code",
   "execution_count": 23,
   "metadata": {},
   "outputs": [
    {
     "name": "stdout",
     "output_type": "stream",
     "text": [
      ".ipynb_checkpoints\n",
      "Decarator Kavramı\n",
      "Degiskenler\n",
      "DerleyiciKurulumu\n",
      "Donguler\n",
      "DosyaIslemleri\n",
      "Fifa19OyuncularıAnaliz\n",
      "Fonksiyonlar\n",
      "FonksiyonlarEkstra\n",
      "HataYonetimi\n",
      "HazirTanimliFonksiyonlar\n",
      "IteratorGeneratorTanımlama\n",
      "KosulYapilari\n",
      "Listeler-Demetler-Sozlukler-Kumeler\n",
      "Matplotlib\n",
      "Modül\n",
      "NesneTabanliProgramlama\n",
      "Numpy\n",
      "Operatorler\n",
      "Pandas\n",
      "PyQt5\n",
      "Seaborn\n",
      "TemelVeriTurleri\n",
      "VeriTabaniYonetimi\n"
     ]
    }
   ],
   "source": [
    "for directory in os.listdir():\n",
    "    print(directory)"
   ]
  },
  {
   "cell_type": "markdown",
   "metadata": {},
   "source": [
    "### startfile Fonksiyonu\n",
    "\n",
    "İçerisine verdiğimiz dosya yolu ve dosya ismine göre dosyayı veya klasörü açmayı sağlar."
   ]
  },
  {
   "cell_type": "code",
   "execution_count": 25,
   "metadata": {},
   "outputs": [],
   "source": [
    "os.startfile('deneme.txt')"
   ]
  },
  {
   "cell_type": "code",
   "execution_count": 29,
   "metadata": {},
   "outputs": [],
   "source": [
    "os.startfile('.')"
   ]
  },
  {
   "cell_type": "markdown",
   "metadata": {},
   "source": [
    "### mkdir Fonksiyonu\n",
    "\n",
    "İçerisine verdiğimiz dosya yolu ve dosya ismine göre yeni dosya dizini oluşturmayı sağlar"
   ]
  },
  {
   "cell_type": "code",
   "execution_count": 30,
   "metadata": {},
   "outputs": [],
   "source": [
    "os.mkdir(r'C:\\Users\\olgun\\Desktop\\PythonProgramlama\\OsModuluIleAcalim')"
   ]
  },
  {
   "cell_type": "code",
   "execution_count": 31,
   "metadata": {},
   "outputs": [
    {
     "name": "stdout",
     "output_type": "stream",
     "text": [
      ".ipynb_checkpoints\n",
      "Decarator Kavramı\n",
      "Degiskenler\n",
      "deneme.txt\n",
      "DerleyiciKurulumu\n",
      "Donguler\n",
      "DosyaIslemleri\n",
      "Fifa19OyuncularıAnaliz\n",
      "Fonksiyonlar\n",
      "FonksiyonlarEkstra\n",
      "HataYonetimi\n",
      "HazirTanimliFonksiyonlar\n",
      "IteratorGeneratorTanımlama\n",
      "KosulYapilari\n",
      "Listeler-Demetler-Sozlukler-Kumeler\n",
      "Matplotlib\n",
      "Modül\n",
      "NesneTabanliProgramlama\n",
      "Numpy\n",
      "Operatorler\n",
      "OsModuluIleAcalim\n",
      "Pandas\n",
      "PyQt5\n",
      "Seaborn\n",
      "TemelVeriTurleri\n",
      "VeriTabaniYonetimi\n"
     ]
    }
   ],
   "source": [
    "for directory in os.listdir():\n",
    "    print(directory)"
   ]
  },
  {
   "cell_type": "markdown",
   "metadata": {},
   "source": [
    "### makedirs Fonksiyonu\n",
    "\n",
    "İçerisine verdiğimiz dosya yolu ve dosya ismine göre iç içe yeni dosya dizini oluşturmayı sağlar"
   ]
  },
  {
   "cell_type": "code",
   "execution_count": 32,
   "metadata": {},
   "outputs": [],
   "source": [
    "os.makedirs(r'C:\\Users\\olgun\\Desktop\\PythonProgramlama\\OsModuluIleAcalim\\OsModuluIleAcalim2')"
   ]
  },
  {
   "cell_type": "markdown",
   "metadata": {},
   "source": [
    "### rename Fonksiyonu\n",
    "\n",
    "Dizinlerin veya dosyaların adlarını değiştirmemizi sağlar"
   ]
  },
  {
   "cell_type": "code",
   "execution_count": 33,
   "metadata": {},
   "outputs": [
    {
     "data": {
      "text/plain": [
       "'C:\\\\Users\\\\olgun\\\\Desktop\\\\PythonProgramlama'"
      ]
     },
     "execution_count": 33,
     "metadata": {},
     "output_type": "execute_result"
    }
   ],
   "source": [
    "os.getcwd()"
   ]
  },
  {
   "cell_type": "code",
   "execution_count": 34,
   "metadata": {},
   "outputs": [],
   "source": [
    "os.rename(\"deneme.txt\",\"yeni.txt\")"
   ]
  },
  {
   "cell_type": "markdown",
   "metadata": {},
   "source": [
    "### remove Fonksiyonu\n",
    "\n",
    "Dizinleri veya dosyaları silmemizi sağlar"
   ]
  },
  {
   "cell_type": "code",
   "execution_count": 35,
   "metadata": {},
   "outputs": [],
   "source": [
    "os.remove(\"yeni.txt\")"
   ]
  },
  {
   "cell_type": "markdown",
   "metadata": {},
   "source": [
    "### rmdir Fonksiyonu\n",
    "\n",
    "İçi boş olan bir dizini silmek için kullanılır, içinde dosya varsa hata verir"
   ]
  },
  {
   "cell_type": "code",
   "execution_count": 36,
   "metadata": {},
   "outputs": [
    {
     "ename": "OSError",
     "evalue": "[WinError 145] Dizin boş değil: 'C:\\\\Users\\\\olgun\\\\Desktop\\\\PythonProgramlama\\\\OsModuluIleAcalim'",
     "output_type": "error",
     "traceback": [
      "\u001b[1;31m---------------------------------------------------------------------------\u001b[0m",
      "\u001b[1;31mOSError\u001b[0m                                   Traceback (most recent call last)",
      "\u001b[1;32m<ipython-input-36-204fa8d95dd3>\u001b[0m in \u001b[0;36m<module>\u001b[1;34m\u001b[0m\n\u001b[1;32m----> 1\u001b[1;33m \u001b[0mos\u001b[0m\u001b[1;33m.\u001b[0m\u001b[0mrmdir\u001b[0m\u001b[1;33m(\u001b[0m\u001b[1;34mr'C:\\Users\\olgun\\Desktop\\PythonProgramlama\\OsModuluIleAcalim'\u001b[0m\u001b[1;33m)\u001b[0m\u001b[1;33m\u001b[0m\u001b[1;33m\u001b[0m\u001b[0m\n\u001b[0m",
      "\u001b[1;31mOSError\u001b[0m: [WinError 145] Dizin boş değil: 'C:\\\\Users\\\\olgun\\\\Desktop\\\\PythonProgramlama\\\\OsModuluIleAcalim'"
     ]
    }
   ],
   "source": [
    "os.rmdir(r'C:\\Users\\olgun\\Desktop\\PythonProgramlama\\OsModuluIleAcalim')"
   ]
  },
  {
   "cell_type": "code",
   "execution_count": 37,
   "metadata": {},
   "outputs": [],
   "source": [
    "os.rmdir(r'C:\\Users\\olgun\\Desktop\\PythonProgramlama\\OsModuluIleAcalim\\OsModuluIleAcalim2')"
   ]
  },
  {
   "cell_type": "markdown",
   "metadata": {},
   "source": [
    "### removedirs Fonksiyonu\n",
    "\n",
    "İçi boş olan dizinleri silmek için kullanılır"
   ]
  },
  {
   "cell_type": "code",
   "execution_count": 38,
   "metadata": {},
   "outputs": [],
   "source": [
    "os.removedirs(r'C:\\Users\\olgun\\Desktop\\PythonProgramlama\\OsModuluIleAcalim\\OsModuluIleAcalim2\\OsModuluIleAcalim3')"
   ]
  },
  {
   "cell_type": "markdown",
   "metadata": {},
   "source": [
    "### path.abspath Fonksiyonu\n",
    "\n",
    "İçerisine verdiğimiz dosyanın tam yolunu verir."
   ]
  },
  {
   "cell_type": "code",
   "execution_count": 39,
   "metadata": {},
   "outputs": [
    {
     "data": {
      "text/plain": [
       "'C:\\\\Users\\\\olgun\\\\Desktop\\\\PythonProgramlama\\\\deneme.txt'"
      ]
     },
     "execution_count": 39,
     "metadata": {},
     "output_type": "execute_result"
    }
   ],
   "source": [
    "os.path.abspath(\"deneme.txt\")"
   ]
  },
  {
   "cell_type": "markdown",
   "metadata": {},
   "source": [
    "### path.dirname Fonksiyonu\n",
    "\n",
    "İçerisine verdiğimiz bir dosya yolunun dizin kısmını verir"
   ]
  },
  {
   "cell_type": "code",
   "execution_count": 40,
   "metadata": {},
   "outputs": [
    {
     "data": {
      "text/plain": [
       "'C:\\\\Users\\\\olgun\\\\Desktop\\\\PythonProgramlama'"
      ]
     },
     "execution_count": 40,
     "metadata": {},
     "output_type": "execute_result"
    }
   ],
   "source": [
    "os.path.dirname(os.path.abspath(\"deneme.txt\"))"
   ]
  },
  {
   "cell_type": "markdown",
   "metadata": {},
   "source": [
    "### path.exists Fonksiyonu\n",
    "\n",
    "İçerisine verdiğimiz dosya veya dizinin olup olmadığını kontrol eder."
   ]
  },
  {
   "cell_type": "code",
   "execution_count": 41,
   "metadata": {},
   "outputs": [
    {
     "data": {
      "text/plain": [
       "True"
      ]
     },
     "execution_count": 41,
     "metadata": {},
     "output_type": "execute_result"
    }
   ],
   "source": [
    "os.path.exists(os.path.abspath(\"deneme.txt\"))"
   ]
  },
  {
   "cell_type": "code",
   "execution_count": 42,
   "metadata": {},
   "outputs": [
    {
     "data": {
      "text/plain": [
       "False"
      ]
     },
     "execution_count": 42,
     "metadata": {},
     "output_type": "execute_result"
    }
   ],
   "source": [
    "os.path.exists(os.path.abspath(\"deneme2.txt\"))"
   ]
  },
  {
   "cell_type": "markdown",
   "metadata": {},
   "source": [
    "### path.isdir Fonksiyonu\n",
    "\n",
    "İçerisine verdiğimiz parametrenin bir dizin(klasör) olup olmadığını kontrol eder"
   ]
  },
  {
   "cell_type": "code",
   "execution_count": 44,
   "metadata": {},
   "outputs": [
    {
     "data": {
      "text/plain": [
       "True"
      ]
     },
     "execution_count": 44,
     "metadata": {},
     "output_type": "execute_result"
    }
   ],
   "source": [
    "os.path.isdir(\"C:\\\\Users\\\\olgun\\\\Desktop\\\\PythonProgramlama\")"
   ]
  },
  {
   "cell_type": "code",
   "execution_count": 45,
   "metadata": {},
   "outputs": [
    {
     "data": {
      "text/plain": [
       "False"
      ]
     },
     "execution_count": 45,
     "metadata": {},
     "output_type": "execute_result"
    }
   ],
   "source": [
    "os.path.isdir(\"C:\\\\Users\\\\olgun\\\\Desktop\\\\PythonProgramlama\\\\deneme.txt\")"
   ]
  },
  {
   "cell_type": "markdown",
   "metadata": {},
   "source": [
    "### path.isfile Fonksiyonu\n",
    "\n",
    "İçerisine verdiğimiz parametrenin bir dosya olup olmadığını kontrol eder"
   ]
  },
  {
   "cell_type": "code",
   "execution_count": 46,
   "metadata": {},
   "outputs": [
    {
     "data": {
      "text/plain": [
       "False"
      ]
     },
     "execution_count": 46,
     "metadata": {},
     "output_type": "execute_result"
    }
   ],
   "source": [
    "os.path.isfile(\"C:\\\\Users\\\\olgun\\\\Desktop\\\\PythonProgramlama\")"
   ]
  },
  {
   "cell_type": "code",
   "execution_count": 47,
   "metadata": {},
   "outputs": [
    {
     "data": {
      "text/plain": [
       "True"
      ]
     },
     "execution_count": 47,
     "metadata": {},
     "output_type": "execute_result"
    }
   ],
   "source": [
    "os.path.isfile(\"C:\\\\Users\\\\olgun\\\\Desktop\\\\PythonProgramlama\\deneme.txt\")"
   ]
  },
  {
   "cell_type": "markdown",
   "metadata": {},
   "source": [
    "### path.join Fonksiyonu\n",
    "\n",
    "Verilen parametreler ile bir dosya yolu oluşturur"
   ]
  },
  {
   "cell_type": "code",
   "execution_count": 50,
   "metadata": {},
   "outputs": [
    {
     "data": {
      "text/plain": [
       "'dosyaustdizin\\\\dosyaaltdizin'"
      ]
     },
     "execution_count": 50,
     "metadata": {},
     "output_type": "execute_result"
    }
   ],
   "source": [
    "os.path.join(\"dosyaustdizin\",\"dosyaaltdizin\")"
   ]
  },
  {
   "cell_type": "markdown",
   "metadata": {},
   "source": [
    "### path.split Fonksiyonu\n",
    "\n",
    "Verilen dosya yolunun son kısmını ayırır"
   ]
  },
  {
   "cell_type": "code",
   "execution_count": 52,
   "metadata": {},
   "outputs": [
    {
     "data": {
      "text/plain": [
       "('C:\\\\Users\\\\olgun\\\\Desktop', 'PythonProgramlama')"
      ]
     },
     "execution_count": 52,
     "metadata": {},
     "output_type": "execute_result"
    }
   ],
   "source": [
    "os.path.split(\"C:\\\\Users\\\\olgun\\\\Desktop\\\\PythonProgramlama\")"
   ]
  },
  {
   "cell_type": "markdown",
   "metadata": {},
   "source": [
    "### path.splitext Fonksiyonu\n",
    "\n",
    "Verilen dosyanın uzantısı ve ismini birbirinden ayırır"
   ]
  },
  {
   "cell_type": "code",
   "execution_count": 53,
   "metadata": {},
   "outputs": [
    {
     "data": {
      "text/plain": [
       "('deneme', '.txt')"
      ]
     },
     "execution_count": 53,
     "metadata": {},
     "output_type": "execute_result"
    }
   ],
   "source": [
    "os.path.splitext(\"deneme.txt\")"
   ]
  }
 ],
 "metadata": {
  "kernelspec": {
   "display_name": "Python 3",
   "language": "python",
   "name": "python3"
  },
  "language_info": {
   "codemirror_mode": {
    "name": "ipython",
    "version": 3
   },
   "file_extension": ".py",
   "mimetype": "text/x-python",
   "name": "python",
   "nbconvert_exporter": "python",
   "pygments_lexer": "ipython3",
   "version": "3.8.5"
  }
 },
 "nbformat": 4,
 "nbformat_minor": 4
}

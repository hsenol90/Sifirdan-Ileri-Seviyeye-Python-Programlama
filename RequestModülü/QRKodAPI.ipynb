{
 "cells": [
  {
   "cell_type": "markdown",
   "metadata": {},
   "source": [
    "## qrserver API ile QR Kod Oluşturma"
   ]
  },
  {
   "cell_type": "code",
   "execution_count": 2,
   "metadata": {},
   "outputs": [],
   "source": [
    "import urllib.parse\n",
    "import urllib.request"
   ]
  },
  {
   "cell_type": "code",
   "execution_count": 3,
   "metadata": {},
   "outputs": [
    {
     "name": "stdout",
     "output_type": "stream",
     "text": [
      "Lutfen olusturulacak QR kodun boyutunu giriniz:300\n",
      "Lutfen olusturulacak QR kodun verisini giriniz:bakimmmmmmmmmmm\n",
      "Indirme basarili!\n"
     ]
    }
   ],
   "source": [
    "try:\n",
    "    boyut=input(\"Lutfen olusturulacak QR kodun boyutunu giriniz:\")\n",
    "    veri=input(\"Lutfen olusturulacak QR kodun verisini giriniz:\")\n",
    "    \n",
    "    veriler={\n",
    "        \"size\":boyut+\"x\"+boyut,\n",
    "        \"data\":veri\n",
    "    }\n",
    "    veriler=urllib.parse.urlencode(veriler)\n",
    "    api_url=\"https://api.qrserver.com/v1/create-qr-code/?\"+veriler\n",
    "    dosya_adi=\".\\\\QR_\"+veri+\".png\"\n",
    "    urllib.request.urlretrieve(api_url,dosya_adi)\n",
    "    print(\"Indirme basarili!\")\n",
    "except:\n",
    "    print(\"Hata meydana geldi!!!\")"
   ]
  },
  {
   "cell_type": "code",
   "execution_count": null,
   "metadata": {},
   "outputs": [],
   "source": []
  }
 ],
 "metadata": {
  "kernelspec": {
   "display_name": "Python 3",
   "language": "python",
   "name": "python3"
  },
  "language_info": {
   "codemirror_mode": {
    "name": "ipython",
    "version": 3
   },
   "file_extension": ".py",
   "mimetype": "text/x-python",
   "name": "python",
   "nbconvert_exporter": "python",
   "pygments_lexer": "ipython3",
   "version": "3.8.5"
  }
 },
 "nbformat": 4,
 "nbformat_minor": 4
}

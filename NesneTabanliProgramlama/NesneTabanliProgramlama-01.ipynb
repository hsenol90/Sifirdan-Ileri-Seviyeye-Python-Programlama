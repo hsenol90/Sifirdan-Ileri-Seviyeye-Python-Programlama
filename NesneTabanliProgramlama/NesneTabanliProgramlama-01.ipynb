{
 "cells": [
  {
   "cell_type": "markdown",
   "metadata": {},
   "source": [
    "## Nesne Tabanlı Programlama"
   ]
  },
  {
   "cell_type": "markdown",
   "metadata": {},
   "source": [
    "#### Neden İhtiyacımız Var?"
   ]
  },
  {
   "cell_type": "markdown",
   "metadata": {},
   "source": [
    "Nesne Tabanlı Programlama, birçok yazılım geliştirme yöntemlerinden bir tanesidir.\n",
    "\n",
    "1. Nesneye Yönelik Programlama;\n",
    "-> yazdığımız kodları karışık ve anlaşılması güç yapısından kurtararak daha anlaşılabilir bir kod yapısı oluşturulmasını\n",
    "\n",
    "-> kodların küçük parçalara ayrılarak daha fazla işlev kazanmasını\n",
    "\n",
    "-> bir kez yazılan kodların tekrar tekrar kullanılmasını \n",
    "\n",
    "sağlamaktadır.\n",
    "\n",
    "\n",
    "#### Sınıf Nedir?\n",
    "\n",
    "Ortak davranış ve özelliklere sahip nesneleri tanımlamak için kullandığımız kavramdır.Daha önceden gördüğümüz liste,demet,string gibi veri tiplerinin her biri hazır sınıflardan ürettiğimiz nesnelerdi. İşte biz de kendi nesnelerimizi oluşturabilmek için kendi sınıflarımızı oluşturacağız.\n",
    "\n",
    "Örneğin, bir sınıftaki öğrencileri düşünelim; tüm öğrencilerin ortak olarak kendine ait isim,soyisim,ders notları gibi bilgileri vardır ve herkesin bilgileri kendine özeldir.\n",
    "\n",
    "#### Nesne Nedir?\n",
    "\n",
    "Bir sınıftan oluşturduğumuz örneklere(instance) nesne ismi verilir. \n",
    "Örneğin Ogrenci sınıfından üreteceğimiz Ogun,Burak,Beril,Eda öğrencileri Ogrenci sınıfının bir örneği ve nesnesi olacaktır. Hepsinde ortak olarak isim,soyisim, ders notları gibi ozellikler bulunabilir ancak hepsinin değerleri farklı olabilir. \n"
   ]
  },
  {
   "cell_type": "code",
   "execution_count": 1,
   "metadata": {},
   "outputs": [
    {
     "name": "stdout",
     "output_type": "stream",
     "text": [
      "<class 'str'>\n"
     ]
    }
   ],
   "source": [
    "mystring=\"\"\n",
    "print(type(mystring))"
   ]
  },
  {
   "cell_type": "markdown",
   "metadata": {},
   "source": [
    "###### Kodlamaya geçmeden önce bahsetmek istediğim 4 farklı konsept var;\n",
    "\n",
    "##### 1-Encapsulation(Kapsülleme)\n",
    "Bir nesnenin metotlarını ve bilgilerini diğer nesnelerden saklayarak ve bunlara erişimini sınırlandırarak yanlış kullanımlardan koruyan bir konsepttir.\n",
    "\n",
    "##### 2-Inheritance(Miras)\n",
    "Bir sınıftan başka bir sınıf oluştururken aralarında alt-üst hiyerarşisi oluşturmak ve bu sınıflar arasında ortak yapılar oluşturmak için kullanılır.\n",
    "\n",
    "##### 3-Polymorphism(Çok Biçimlilik)\n",
    "Çok biçimlilik anlamına gelmektedir. Bir metodun bir çok nesne tarafından kullanılması anlamına gelmektedir. \n",
    "\n",
    "##### 4-Abstraction(Soyutlama)\n",
    "Gereksiz karmaşıklığın gizlenerek oluşturulan nesnelerin sadece gerekli kısımlarının yazılımın diğer kısımlarına sunulması işlemidir.\n"
   ]
  },
  {
   "cell_type": "markdown",
   "metadata": {},
   "source": [
    "#### Boş Bir Sınıf Tanımlayalım\n",
    "\n",
    "##### Syntax Yapısı:\n",
    "\n",
    "class sinifIsmi():\n",
    "\n",
    "    yazilacak_kodlar"
   ]
  },
  {
   "cell_type": "code",
   "execution_count": 2,
   "metadata": {},
   "outputs": [
    {
     "name": "stdout",
     "output_type": "stream",
     "text": [
      "Ogrenci sinifi olusturuldu\n"
     ]
    }
   ],
   "source": [
    "class Ogrenci():\n",
    "    print(\"Ogrenci sinifi olusturuldu\")"
   ]
  },
  {
   "cell_type": "code",
   "execution_count": 3,
   "metadata": {},
   "outputs": [
    {
     "name": "stdout",
     "output_type": "stream",
     "text": [
      "Ogrenci sinifi olusturuldu\n"
     ]
    }
   ],
   "source": [
    "class Ogrenci:\n",
    "    print(\"Ogrenci sinifi olusturuldu\")"
   ]
  },
  {
   "cell_type": "markdown",
   "metadata": {},
   "source": [
    "#### 1.Sınıf Nitelikleri(Class Attribute)\n",
    "\n",
    "Sınıflara eklediğimiz özellikler, sınıf nitelikleri olarak adlandırılır. Örneğin; Ogrenci sınıfını ele alırsak, bir Ogrenci sınıfının nitelikleri ad,soyad ve dersleri olabilir. \n",
    "\n"
   ]
  },
  {
   "cell_type": "code",
   "execution_count": 11,
   "metadata": {},
   "outputs": [],
   "source": [
    "class Ogrenci:\n",
    "    isim=\"Ogun\"\n",
    "    soyisim=\"Birinci\"\n",
    "    dersler=[\"Matematik\",\"Turkce\",\"Fizik\"]"
   ]
  },
  {
   "cell_type": "code",
   "execution_count": 15,
   "metadata": {},
   "outputs": [
    {
     "name": "stdout",
     "output_type": "stream",
     "text": [
      "Ogunnnn\n",
      "Birinci\n",
      "['Matematik', 'Turkce', 'Fizik']\n"
     ]
    }
   ],
   "source": [
    "print(Ogrenci.isim)\n",
    "print(Ogrenci.soyisim)\n",
    "print(Ogrenci.dersler)"
   ]
  },
  {
   "cell_type": "markdown",
   "metadata": {},
   "source": [
    "##### DİKKAT\n",
    "Her öğrencinin adı,soyadı aynı olmayacağı için bu şekilde sınıf niteliğine değer atamak yanlış olabilir!"
   ]
  },
  {
   "cell_type": "markdown",
   "metadata": {},
   "source": [
    "##### Sınıftan Nesne(Örnek-Instance) Oluşturma"
   ]
  },
  {
   "cell_type": "code",
   "execution_count": 17,
   "metadata": {},
   "outputs": [
    {
     "name": "stdout",
     "output_type": "stream",
     "text": [
      "Ogun\n",
      "Birinci\n",
      "['Turkce']\n",
      "Burak\n",
      "Ikinci\n"
     ]
    }
   ],
   "source": [
    "class Ogrenci():\n",
    "    isim=\"\"\n",
    "    soyisim=\"\"\n",
    "    dersler=[]\n",
    "    \n",
    "ogrenci1=Ogrenci()\n",
    "ogrenci2=Ogrenci()\n",
    "\n",
    "ogrenci1.isim=\"Ogun\"\n",
    "ogrenci1.soyisim=\"Birinci\"\n",
    "ogrenci1.dersler.append(\"Turkce\")\n",
    "\n",
    "ogrenci2.isim=\"Burak\"\n",
    "ogrenci2.soyisim=\"Ikinci\"\n",
    "\n",
    "print(ogrenci1.isim)\n",
    "print(ogrenci1.soyisim)\n",
    "print(ogrenci1.dersler)\n",
    "\n",
    "print(ogrenci2.isim)+\n",
    "print(ogrenci2.soyisim)"
   ]
  },
  {
   "cell_type": "markdown",
   "metadata": {},
   "source": [
    "##### DİKKAT\n",
    "Sınıf niteliğine uyguladığınız bir işlem, iki nesne için de uygulanmış olacaktır."
   ]
  },
  {
   "cell_type": "code",
   "execution_count": 18,
   "metadata": {},
   "outputs": [
    {
     "name": "stdout",
     "output_type": "stream",
     "text": [
      "['Turkce']\n",
      "['Turkce']\n"
     ]
    }
   ],
   "source": [
    "print(ogrenci1.dersler)\n",
    "print(ogrenci2.dersler)"
   ]
  },
  {
   "cell_type": "markdown",
   "metadata": {},
   "source": [
    "#### 2. Nesne Nitelikleri(Örneklem Nitelikleri)\n",
    "\n",
    "Önceki derslerde sınıf niteliklerini nasıl tanımlayabileceğimizi öğrenmiştik, şimdi de her nesnenin kendine ait nitelikleri nasıl belirlenebilir bunu göreceğiz.\n"
   ]
  },
  {
   "cell_type": "markdown",
   "metadata": {},
   "source": [
    "##### __init__(self) Fonksiyonu ve Constructor(Yapıcı) Kavramı\n",
    "\n",
    "__init__ fonksiyonu Python içerisinde tanımlanmış özel bir fonksiyondur, bir sınıftan nesne tanımladığımız zaman gerekli nitelikleri tanımlamak ve yapılacak işlemleri gerçekleştirmek için kullanılır. \n",
    "\n",
    "###### UYARI: \n",
    "__init__ metodundan önce bir de __new__ metodu çalışır ve sınıfı inşa etmek için kullanılır ancak biz kodlarımızda buna çok fazla yer vermeyeceğiz.\n",
    "\n",
    "###### DİKKAT\n",
    "Fonksiyonun ilk parametresi her zaman self olmak zorundadır!! Buradaki self anahtar kelimesi, nesneyi temsil eder gibi düşünebilirsiniz !"
   ]
  },
  {
   "cell_type": "code",
   "execution_count": 19,
   "metadata": {},
   "outputs": [],
   "source": [
    "class Ogrenci:\n",
    "    def __init__(self):\n",
    "        self.ogrenciAd=\"\"\n",
    "        print(\"Ogrenci Adi:\",self.ogrenciAd)"
   ]
  },
  {
   "cell_type": "markdown",
   "metadata": {},
   "source": [
    "###### Neden Çıktı Vermedi?\n",
    "\n",
    "Çünkü; buradaki nitelik bir nesnenin niteliğidir. Eğer ki çalışmasını istiyorsanız, o sınıftan bir nesne oluşturmanız gerekmektedir. Nesne oluşturmazsanız eğer, bir nesnenin niteliği olamaz!"
   ]
  },
  {
   "cell_type": "code",
   "execution_count": 22,
   "metadata": {},
   "outputs": [
    {
     "name": "stdout",
     "output_type": "stream",
     "text": [
      "Ogrenci Adi: \n",
      "ogun\n"
     ]
    }
   ],
   "source": [
    "ogrenci=Ogrenci()\n",
    "ogrenci.ogrenciAd=\"ogun\"\n",
    "print(ogrenci.ogrenciAd)"
   ]
  },
  {
   "cell_type": "markdown",
   "metadata": {},
   "source": [
    "##### __init__(self) Fonksiyonu İle Nesneye Değer Atama"
   ]
  },
  {
   "cell_type": "code",
   "execution_count": 23,
   "metadata": {},
   "outputs": [],
   "source": [
    "class Ogrenci():\n",
    "    def __init__(self,isim,soyisim,dersler):\n",
    "        self.ogrenciAd=isim\n",
    "        self.ogrenciSoyad=soyisim\n",
    "        self.ogrenciDersler=dersler\n",
    "        print(\"Ogrenci Adi:\",self.ogrenciAd)\n",
    "        print(\"Ogrenci Soyadi:\",self.ogrenciSoyad)\n",
    "        print(\"Ogrenci Dersleri:\",self.ogrenciDersler)"
   ]
  },
  {
   "cell_type": "code",
   "execution_count": 25,
   "metadata": {},
   "outputs": [
    {
     "name": "stdout",
     "output_type": "stream",
     "text": [
      "Ogrenci Adi: ogun\n",
      "Ogrenci Soyadi: birinci\n",
      "Ogrenci Dersleri: ['C', 'C++']\n",
      "Ogrenci Adi: burak\n",
      "Ogrenci Soyadi: ikinci\n",
      "Ogrenci Dersleri: ['Java', 'C++']\n"
     ]
    }
   ],
   "source": [
    "ogrenci1=Ogrenci(\"ogun\",\"birinci\",[\"C\",\"C++\"])\n",
    "ogrenci2=Ogrenci(\"burak\",\"ikinci\",[\"Java\",\"C++\"])"
   ]
  },
  {
   "cell_type": "markdown",
   "metadata": {},
   "source": [
    "#### 3. Nesne Metotları(Örneklem Metotları)\n",
    "\n",
    "Daha önce, bir sınıftaki ve nesnedeki nitelikleri öğrenmiştik. Şimdi de bu derste nesneye ait bazı fonksiyonlar tanımlayalım. Örneğin bir Araba sınıfını düşünecek olursak; arabanın hızı,modeli gibi özellikler arabanın niteliklerini, arabanın hızının artması, azalması, kontak açıp kapatma gibi işlemler ise bu arabanın fonksiyonlarını ifade eder."
   ]
  },
  {
   "cell_type": "code",
   "execution_count": 8,
   "metadata": {},
   "outputs": [],
   "source": [
    "class Araba:\n",
    "    def __init__(self,marka,hizArtis,hizAzalis):\n",
    "        self.hiz=0\n",
    "        self.marka=marka\n",
    "        self.hizArtis=hizArtis\n",
    "        self.hizAzalis=hizAzalis\n",
    "    def bilgiYazdir(self):\n",
    "        print(self.marka)\n",
    "        print(self.hiz)\n",
    "    def hizArttir(self):\n",
    "        self.hiz+=self.hizArtis\n",
    "    def hizAzalt(self):\n",
    "        self.hiz-=self.hizAzalis"
   ]
  },
  {
   "cell_type": "code",
   "execution_count": 9,
   "metadata": {},
   "outputs": [
    {
     "name": "stdout",
     "output_type": "stream",
     "text": [
      "Honda\n",
      "0\n",
      "BMW\n",
      "0\n",
      "Honda\n",
      "50\n",
      "BMW\n",
      "100\n",
      "Honda\n",
      "20\n",
      "BMW\n",
      "40\n"
     ]
    }
   ],
   "source": [
    "araba1=Araba(\"Honda\",50,30)\n",
    "araba2=Araba(\"BMW\",100,60)\n",
    "\n",
    "\n",
    "araba1.bilgiYazdir()\n",
    "araba2.bilgiYazdir()\n",
    "\n",
    "araba1.hizArttir()\n",
    "araba2.hizArttir()\n",
    "\n",
    "araba1.bilgiYazdir()\n",
    "araba2.bilgiYazdir()\n",
    "\n",
    "araba1.hizAzalt()\n",
    "araba2.hizAzalt()\n",
    "\n",
    "araba1.bilgiYazdir()\n",
    "araba2.bilgiYazdir()"
   ]
  },
  {
   "cell_type": "markdown",
   "metadata": {},
   "source": [
    "#### 4. Sınıf Metotları, @classmethod ve cls Kavramı:\n",
    "\n",
    "Öncesinde; sınıf niteliği,nesne niteliği,nesne metodu tanımlamayı görmüştük. Bu dersimizde de bir sınıfa ait metot nasıl tanımlanır bunu göreceğiz. Sınıf metodu tanımlayabilmek için @classmethod adı verilen bir decorator(bezeyici) kullanıyoruz ve normal bir fonksiyonu sınıf metoduna çevirmiş oluyoruz.\n",
    "\n",
    "##### Ne Zaman Kullanacağız?\n",
    "Bir nesneyi değil de genel olarak tüm sınıfı ilgilendiren fonksiyonlarda kullanacağız."
   ]
  },
  {
   "cell_type": "code",
   "execution_count": 18,
   "metadata": {},
   "outputs": [],
   "source": [
    "class Araba:\n",
    "    arabaListesi=[]\n",
    "    def __init__(self,marka,hizArtis,hizAzalis):\n",
    "        self.hiz=0\n",
    "        self.marka=marka\n",
    "        self.hizArtis=hizArtis\n",
    "        self.hizAzalis=hizAzalis\n",
    "        self.arabaListesi.append(marka)\n",
    "    def bilgiYazdir(self):\n",
    "        print(self.marka)\n",
    "        print(self.hiz)\n",
    "    def hizArttir(self):\n",
    "        self.hiz+=self.hizArtis\n",
    "    def hizAzalt(self):\n",
    "        self.hiz-=self.hizAzalis\n",
    "        \n",
    "    @classmethod\n",
    "    def arabalariYazdir(cls):\n",
    "        for araba in cls.arabaListesi:\n",
    "            print(araba)"
   ]
  },
  {
   "cell_type": "code",
   "execution_count": 19,
   "metadata": {},
   "outputs": [],
   "source": [
    "araba1=Araba(\"Honda\",50,30)\n",
    "araba2=Araba(\"BMW\",100,60)"
   ]
  },
  {
   "cell_type": "code",
   "execution_count": 24,
   "metadata": {},
   "outputs": [
    {
     "name": "stdout",
     "output_type": "stream",
     "text": [
      "Honda\n",
      "BMW\n",
      "Honda\n",
      "BMW\n",
      "Honda\n",
      "BMW\n"
     ]
    }
   ],
   "source": [
    "araba1.arabalariYazdir()\n",
    "araba2.arabalariYazdir()\n",
    "Araba.arabalariYazdir()"
   ]
  },
  {
   "cell_type": "markdown",
   "metadata": {},
   "source": [
    "#### 5. Statik Metotlar\n",
    "\n",
    "Yine sınıf metotları gibi, sınıf ile ilgili olan metotlardır ancak bu sefer; sınıfın herhangi bir niteliğine erişmesine gerek yoktur. \n",
    "\n",
    "###### Ne Zaman Kullanacağız?\n",
    "Sınıf ile belirli bir ilişkisi olan ancak sınıfın niteliklerini kulllanmayacak olan fonksiyonları statik olarak tanımlayabiliriz."
   ]
  },
  {
   "cell_type": "code",
   "execution_count": 36,
   "metadata": {},
   "outputs": [],
   "source": [
    "class MyString:\n",
    "    stringListesi=[]\n",
    "    \n",
    "    def __init__(self,string):\n",
    "        print(string,\" listeye ekleniyor...\")\n",
    "        self.string=string\n",
    "        self.stringListesi.append(string)\n",
    "        \n",
    "    @classmethod\n",
    "    def listeyiYazdir(cls):\n",
    "        for string in cls.stringListesi:\n",
    "            print(string)\n",
    "            \n",
    "    @staticmethod\n",
    "    def tersiniYazdir(string):\n",
    "        print(string[::-1])"
   ]
  },
  {
   "cell_type": "code",
   "execution_count": 37,
   "metadata": {},
   "outputs": [
    {
     "name": "stdout",
     "output_type": "stream",
     "text": [
      "C  listeye ekleniyor...\n",
      "Python  listeye ekleniyor...\n",
      "C++  listeye ekleniyor...\n"
     ]
    }
   ],
   "source": [
    "string1=MyString(\"C\")\n",
    "string2=MyString(\"Python\")\n",
    "string3=MyString(\"C++\")"
   ]
  },
  {
   "cell_type": "code",
   "execution_count": 38,
   "metadata": {},
   "outputs": [
    {
     "name": "stdout",
     "output_type": "stream",
     "text": [
      "C\n",
      "Python\n",
      "C++\n"
     ]
    }
   ],
   "source": [
    "MyString.listeyiYazdir()"
   ]
  },
  {
   "cell_type": "code",
   "execution_count": 39,
   "metadata": {},
   "outputs": [
    {
     "name": "stdout",
     "output_type": "stream",
     "text": [
      "nohtyP\n"
     ]
    }
   ],
   "source": [
    "MyString.tersiniYazdir(string2.string)"
   ]
  },
  {
   "cell_type": "markdown",
   "metadata": {},
   "source": [
    "##### Public(Açık)-Private(Gizli)-SemiPrivate(Yarı Gizli) Üyeler\n",
    "\n",
    "1. Public Üyeler: Sınıf dışından direkt olarak erişebildiğimiz nitelik ve metotlar public üyeler olarak adlandırılır.\n",
    "2. Private Üyeler: Sınıf dışından direkt olarak erişemediğimiz nitelik ve metotlar private üyeler olarak adlandırılır.\n",
    "2. Semi-Private Üyeler: Sınıf dışından direkt olarak erişebildiğimiz ancak sınıf dışından bu öğeyi değiştirmememiz gereken nitelik ve metotlar semi-private üyeler olarak adlandırılır."
   ]
  },
  {
   "cell_type": "code",
   "execution_count": 44,
   "metadata": {},
   "outputs": [],
   "source": [
    "class OrnekSinif:\n",
    "    publicUye=\"publicUye\"\n",
    "    __privateUye=\"privateUye\"\n",
    "    _semiPrivateUye=\"semiPrivateUye\""
   ]
  },
  {
   "cell_type": "code",
   "execution_count": 45,
   "metadata": {},
   "outputs": [
    {
     "name": "stdout",
     "output_type": "stream",
     "text": [
      "publicUye\n"
     ]
    }
   ],
   "source": [
    "print(OrnekSinif.publicUye)"
   ]
  },
  {
   "cell_type": "code",
   "execution_count": 46,
   "metadata": {},
   "outputs": [
    {
     "ename": "AttributeError",
     "evalue": "type object 'OrnekSinif' has no attribute '__privateUye'",
     "output_type": "error",
     "traceback": [
      "\u001b[1;31m---------------------------------------------------------------------------\u001b[0m",
      "\u001b[1;31mAttributeError\u001b[0m                            Traceback (most recent call last)",
      "\u001b[1;32m<ipython-input-46-bb2180732207>\u001b[0m in \u001b[0;36m<module>\u001b[1;34m\u001b[0m\n\u001b[1;32m----> 1\u001b[1;33m \u001b[0mprint\u001b[0m\u001b[1;33m(\u001b[0m\u001b[0mOrnekSinif\u001b[0m\u001b[1;33m.\u001b[0m\u001b[0m__privateUye\u001b[0m\u001b[1;33m)\u001b[0m\u001b[1;33m\u001b[0m\u001b[1;33m\u001b[0m\u001b[0m\n\u001b[0m",
      "\u001b[1;31mAttributeError\u001b[0m: type object 'OrnekSinif' has no attribute '__privateUye'"
     ]
    }
   ],
   "source": [
    "print(OrnekSinif.__privateUye)"
   ]
  },
  {
   "cell_type": "code",
   "execution_count": 47,
   "metadata": {},
   "outputs": [
    {
     "name": "stdout",
     "output_type": "stream",
     "text": [
      "privateUye\n"
     ]
    }
   ],
   "source": [
    "uye=OrnekSinif()\n",
    "print(uye._OrnekSinif__privateUye)"
   ]
  },
  {
   "cell_type": "code",
   "execution_count": 48,
   "metadata": {},
   "outputs": [
    {
     "name": "stdout",
     "output_type": "stream",
     "text": [
      "semiPrivateUye\n"
     ]
    }
   ],
   "source": [
    "print(OrnekSinif._semiPrivateUye)"
   ]
  },
  {
   "cell_type": "markdown",
   "metadata": {},
   "source": [
    "##### Miras İşlemleri(Inheritance)\n",
    "\n",
    "Nesneye tabanlı programlamanın bize sunduğu en faydalı konseptlerden bir tanesi miras alma yani \"inheritance\" işlemidir. Miras işlemleri sayesinde sınıflar arasında belirli bir hiyerarşi oluşturabiliyor ve kodları daha alt parçalara ayırabiliyoruz. Bir kez yazdığımız kodları tekrar tekrar kullanmamızı sağladığı için de kod tekrarına düşmekten bizi kurtarıyor.\n",
    "\n",
    "1. Taban Sınıf(Parent-Super-Base Class): Birkaç farklı sınıfın ortak niteliklerini ve metotlarını barındıran sınıf'a verilen isimdir. Taban sınıftan miras alınarak daha alt sınıflar oluşturulabilir.\n",
    "\n",
    "2. Alt Sınıf(SubClass): Bir taban sınıftan miras alınarak oluşturulmuş sınıf'a verilen isimdir. Taban sınıftan türetildiği için, taban sınıfın niteliklerine ve metotlarına sahip olacaktır.\n",
    "\n",
    "Örneğin; Ogrenci ve Ogretmen sınıflarını düşündüğümüzde bu iki sınıfta ortak olarak isim,soyisim,okul,yaş gibi nitelikler bulunmaktadır. Bu nitelikler Insan isminde bir sınıfta toplanabilir. Burada Insan taban sınıf, Ogrenci ve Ogretmen ise alt sınıflar olacaktır."
   ]
  },
  {
   "cell_type": "markdown",
   "metadata": {},
   "source": [
    "###### Nasıl Miras Alınıyor?\n",
    "\n",
    "Syntax Yapısı:\n",
    "\n",
    "class sinif_ismi(miras_alinacak_sinifin_ismi):\n",
    "\n",
    "    sinif_icindeki_kodlar"
   ]
  },
  {
   "cell_type": "code",
   "execution_count": 1,
   "metadata": {},
   "outputs": [],
   "source": [
    "class Insan:\n",
    "    def __init__(self,isim,soyisim,okul,yas):\n",
    "        self.isim=isim\n",
    "        self.soyisim=soyisim\n",
    "        self.okul=okul\n",
    "        self.yas=yas\n",
    "    def bilgileriYazdir(self):\n",
    "        print(\"Isim:\",self.isim)\n",
    "        print(\"Soyisim:\",self.soyisim)\n",
    "        print(\"Okul:\",self.okul)\n",
    "        print(\"Yas:\",self.yas)"
   ]
  },
  {
   "cell_type": "code",
   "execution_count": 2,
   "metadata": {},
   "outputs": [],
   "source": [
    "class Ogretmen(Insan):\n",
    "    pass"
   ]
  },
  {
   "cell_type": "code",
   "execution_count": 3,
   "metadata": {},
   "outputs": [
    {
     "name": "stdout",
     "output_type": "stream",
     "text": [
      "Isim: ogun\n",
      "Soyisim: birinci\n",
      "Okul: IKU\n",
      "Yas: 22\n"
     ]
    }
   ],
   "source": [
    "ogretmen1=Ogretmen(\"ogun\",\"birinci\",\"IKU\",22)\n",
    "ogretmen1.bilgileriYazdir()"
   ]
  },
  {
   "cell_type": "code",
   "execution_count": 4,
   "metadata": {},
   "outputs": [],
   "source": [
    "class Ogrenci(Insan):\n",
    "    pass"
   ]
  },
  {
   "cell_type": "code",
   "execution_count": 5,
   "metadata": {},
   "outputs": [
    {
     "name": "stdout",
     "output_type": "stream",
     "text": [
      "Isim: burak\n",
      "Soyisim: ikinci\n",
      "Okul: IKU\n",
      "Yas: 22\n"
     ]
    }
   ],
   "source": [
    "ogrenci1=Ogrenci(\"burak\",\"ikinci\",\"IKU\",22)\n",
    "ogrenci1.bilgileriYazdir()"
   ]
  },
  {
   "cell_type": "markdown",
   "metadata": {},
   "source": [
    "###### Miras Alma Çeşitleri\n",
    "\n",
    "Bir alt sınıf, üst sınıftan miras alırken tüm nitelik ve metotları miras almak zorunda değildir. Gerekli durumlarda, miras alınan nitelik ve metotlar değiştirilebilir.\n",
    "1. Tüm nitelik ve metotları da alabilir.\n",
    "2. Bazı nitelik ve metotlar miras alınıp değiştirilebilir.\n",
    "3. Bazı nitelik ve metotlar miras alınıp tamamen baştan tanımlanabilir."
   ]
  },
  {
   "cell_type": "markdown",
   "metadata": {},
   "source": [
    "###### Metotları Miras Alınan Sınıflarda Farklı Şekilde Kullanabiliriz"
   ]
  },
  {
   "cell_type": "code",
   "execution_count": 6,
   "metadata": {},
   "outputs": [],
   "source": [
    "class Insan:\n",
    "    def __init__(self,isim,soyisim,okul,yas):\n",
    "        self.isim=isim\n",
    "        self.soyisim=soyisim\n",
    "        self.okul=okul\n",
    "        self.yas=yas\n",
    "    def bilgileriYazdir(self):\n",
    "        print(\"Isim:\",self.isim)\n",
    "        print(\"Soyisim:\",self.soyisim)\n",
    "        print(\"Okul:\",self.okul)\n",
    "        print(\"Yas:\",self.yas)\n",
    "\n",
    "class Ogretmen(Insan):\n",
    "    def bilgileriYazdir(self):\n",
    "        print(\"Ogretmen Bilgileri:\")\n",
    "        print(\"Isim:\",self.isim)\n",
    "        print(\"Soyisim:\",self.soyisim)\n",
    "        print(\"Okul:\",self.okul)\n",
    "        print(\"Yas:\",self.yas)\n",
    "\n",
    "class Ogrenci(Insan):\n",
    "    def bilgileriYazdir(self):\n",
    "        print(\"Ogrenci Bilgileri:\")\n",
    "        print(\"Isim:\",self.isim)\n",
    "        print(\"Soyisim:\",self.soyisim)\n",
    "        print(\"Okul:\",self.okul)\n",
    "        print(\"Yas:\",self.yas)"
   ]
  },
  {
   "cell_type": "code",
   "execution_count": 7,
   "metadata": {},
   "outputs": [
    {
     "name": "stdout",
     "output_type": "stream",
     "text": [
      "Ogretmen Bilgileri:\n",
      "Isim: ogun\n",
      "Soyisim: birinci\n",
      "Okul: IKU\n",
      "Yas: 22\n",
      "Ogrenci Bilgileri:\n",
      "Isim: burak\n",
      "Soyisim: ikinci\n",
      "Okul: IKU\n",
      "Yas: 22\n"
     ]
    }
   ],
   "source": [
    "ogretmen1=Ogretmen(\"ogun\",\"birinci\",\"IKU\",22)\n",
    "ogretmen1.bilgileriYazdir()\n",
    "ogrenci1=Ogrenci(\"burak\",\"ikinci\",\"IKU\",22)\n",
    "ogrenci1.bilgileriYazdir()"
   ]
  },
  {
   "cell_type": "markdown",
   "metadata": {},
   "source": [
    "###### Veya Miras Alınan Sınıflara Farklı Nitelikler Ekleyebiliriz"
   ]
  },
  {
   "cell_type": "code",
   "execution_count": 8,
   "metadata": {},
   "outputs": [],
   "source": [
    "class Insan:\n",
    "    def __init__(self,isim,soyisim,okul,yas):\n",
    "        self.isim=isim\n",
    "        self.soyisim=soyisim\n",
    "        self.okul=okul\n",
    "        self.yas=yas\n",
    "    def bilgileriYazdir(self):\n",
    "        print(\"Isim:\",self.isim)\n",
    "        print(\"Soyisim:\",self.soyisim)\n",
    "        print(\"Okul:\",self.okul)\n",
    "        print(\"Yas:\",self.yas)\n",
    "\n",
    "class Ogretmen(Insan):\n",
    "    def __init__(self,isim,soyisim,okul,yas,bolum):\n",
    "        self.isim=isim\n",
    "        self.soyisim=soyisim\n",
    "        self.okul=okul\n",
    "        self.yas=yas\n",
    "        self.bolum=bolum\n",
    "    \n",
    "    def bilgileriYazdir(self):\n",
    "        print(\"Ogretmen Bilgileri:\")\n",
    "        print(\"Isim:\",self.isim)\n",
    "        print(\"Soyisim:\",self.soyisim)\n",
    "        print(\"Okul:\",self.okul)\n",
    "        print(\"Yas:\",self.yas)\n",
    "        print(\"Bolum:\",self.bolum)\n",
    "\n",
    "class Ogrenci(Insan):\n",
    "    def __init__(self,isim,soyisim,okul,yas,sinif):\n",
    "        self.isim=isim\n",
    "        self.soyisim=soyisim\n",
    "        self.okul=okul\n",
    "        self.yas=yas\n",
    "        self.sinif=sinif\n",
    "    def bilgileriYazdir(self):\n",
    "        print(\"Ogrenci Bilgileri:\")\n",
    "        print(\"Isim:\",self.isim)\n",
    "        print(\"Soyisim:\",self.soyisim)\n",
    "        print(\"Okul:\",self.okul)\n",
    "        print(\"Yas:\",self.yas)\n",
    "        print(\"Sinif:\",self.sinif)"
   ]
  },
  {
   "cell_type": "code",
   "execution_count": 10,
   "metadata": {},
   "outputs": [
    {
     "name": "stdout",
     "output_type": "stream",
     "text": [
      "Ogretmen Bilgileri:\n",
      "Isim: ogun\n",
      "Soyisim: birinci\n",
      "Okul: IKU\n",
      "Yas: 22\n",
      "Bolum: Turkce\n",
      "Ogrenci Bilgileri:\n",
      "Isim: burak\n",
      "Soyisim: ikinci\n",
      "Okul: IKU\n",
      "Yas: 22\n",
      "Sinif: 11\n"
     ]
    }
   ],
   "source": [
    "ogretmen1=Ogretmen(\"ogun\",\"birinci\",\"IKU\",22,\"Turkce\")\n",
    "ogretmen1.bilgileriYazdir()\n",
    "ogrenci1=Ogrenci(\"burak\",\"ikinci\",\"IKU\",22,\"11\")\n",
    "ogrenci1.bilgileriYazdir()"
   ]
  },
  {
   "cell_type": "markdown",
   "metadata": {},
   "source": [
    "###### Bu Şekilde Tekrar Değer Atamak Sizce Mantıklı mı?\n",
    "\n",
    "Hayır. Biz ne demiştik? Nesneye Yönelik Programlama konsepti, bizim kod tekrarına düşmemizi engelliyordu. Peki o zaman, alt sınıfta tekrar değer atamak için aynı kodları yazmak ne kadar doğru? İşte burada karşımıza super() anahtar kelimesi çıkıyor.\n",
    "\n",
    "###### Super Anahtar Kelimesi\n",
    "\n",
    "super() anahtar kelimesi sayesinde, miras aldığımız ve alt sınıfta tekrar tanımladığımız fonksiyonlarda değiştirmek istemediğimiz kısımları koruyabiliyoruz."
   ]
  },
  {
   "cell_type": "code",
   "execution_count": 11,
   "metadata": {},
   "outputs": [],
   "source": [
    "class Insan:\n",
    "    def __init__(self,isim,soyisim,okul,yas):\n",
    "        self.isim=isim\n",
    "        self.soyisim=soyisim\n",
    "        self.okul=okul\n",
    "        self.yas=yas\n",
    "    def bilgileriYazdir(self):\n",
    "        print(\"Isim:\",self.isim)\n",
    "        print(\"Soyisim:\",self.soyisim)\n",
    "        print(\"Okul:\",self.okul)\n",
    "        print(\"Yas:\",self.yas)\n",
    "\n",
    "class Ogretmen(Insan):\n",
    "    def __init__(self,isim,soyisim,okul,yas,bolum):\n",
    "        super().__init__(isim,soyisim,okul,yas)\n",
    "        self.bolum=bolum\n",
    "    def bilgileriYazdir(self):\n",
    "        print(\"Ogretmen Bilgileri:\")\n",
    "        super().bilgileriYazdir()\n",
    "        print(\"Bolumu:\",self.bolum)\n",
    "\n",
    "class Ogrenci(Insan):\n",
    "    def __init__(self,isim,soyisim,okul,yas,sinif):\n",
    "        super().__init__(isim,soyisim,okul,yas)\n",
    "        self.sinif=sinif\n",
    "    def bilgileriYazdir(self):\n",
    "        print(\"Ogrenci Bilgileri:\")\n",
    "        super().bilgileriYazdir()\n",
    "        print(\"Sinifi:\",self.sinif)"
   ]
  },
  {
   "cell_type": "code",
   "execution_count": 12,
   "metadata": {
    "scrolled": true
   },
   "outputs": [
    {
     "name": "stdout",
     "output_type": "stream",
     "text": [
      "Ogretmen Bilgileri:\n",
      "Isim: ogun\n",
      "Soyisim: birinci\n",
      "Okul: IKU\n",
      "Yas: 22\n",
      "Bolumu: Turkce\n",
      "Ogrenci Bilgileri:\n",
      "Isim: burak\n",
      "Soyisim: ikinci\n",
      "Okul: IKU\n",
      "Yas: 22\n",
      "Sinifi: 11\n"
     ]
    }
   ],
   "source": [
    "ogretmen1=Ogretmen(\"ogun\",\"birinci\",\"IKU\",22,\"Turkce\")\n",
    "ogretmen1.bilgileriYazdir()\n",
    "ogrenci1=Ogrenci(\"burak\",\"ikinci\",\"IKU\",22,\"11\")\n",
    "ogrenci1.bilgileriYazdir()"
   ]
  },
  {
   "cell_type": "markdown",
   "metadata": {},
   "source": [
    "###### Birden Çok Sınıftan Miras Alma\n",
    "Tabii ki sadece tek bir sınıftan değil, birden çok sınıftan miras alarak da yeni bir sınıf oluşturmak mümkün.\n",
    "\n",
    "Syntax Yapısı:\n",
    "\n",
    "class altSinif(tabanSinif1,tabanSinif2...):\n",
    "\n",
    "    alt_sinif_kodlari"
   ]
  },
  {
   "cell_type": "code",
   "execution_count": 20,
   "metadata": {},
   "outputs": [],
   "source": [
    "class A:\n",
    "    def yazdir(self):\n",
    "        print(\"A\")\n",
    "    def yazdir2(self):\n",
    "        print(\"A2\")\n",
    "class B:\n",
    "    def yazdir(self):\n",
    "        print(\"B\")\n",
    "    def yazdir3(self):\n",
    "        print(\"B3\")\n",
    "class C(A,B):\n",
    "    def yazdir(self):\n",
    "        print(\"C\")"
   ]
  },
  {
   "cell_type": "code",
   "execution_count": 21,
   "metadata": {},
   "outputs": [
    {
     "name": "stdout",
     "output_type": "stream",
     "text": [
      "C\n",
      "A2\n",
      "B3\n"
     ]
    }
   ],
   "source": [
    "cNesnesi=C()\n",
    "cNesnesi.yazdir()\n",
    "cNesnesi.yazdir2()\n",
    "cNesnesi.yazdir3()"
   ]
  },
  {
   "cell_type": "code",
   "execution_count": null,
   "metadata": {},
   "outputs": [],
   "source": []
  }
 ],
 "metadata": {
  "kernelspec": {
   "display_name": "Python 3",
   "language": "python",
   "name": "python3"
  },
  "language_info": {
   "codemirror_mode": {
    "name": "ipython",
    "version": 3
   },
   "file_extension": ".py",
   "mimetype": "text/x-python",
   "name": "python",
   "nbconvert_exporter": "python",
   "pygments_lexer": "ipython3",
   "version": "3.8.5"
  }
 },
 "nbformat": 4,
 "nbformat_minor": 4
}

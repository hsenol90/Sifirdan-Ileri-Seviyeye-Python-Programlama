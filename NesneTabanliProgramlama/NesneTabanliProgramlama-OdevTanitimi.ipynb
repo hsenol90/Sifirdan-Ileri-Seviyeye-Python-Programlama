{
 "cells": [
  {
   "cell_type": "markdown",
   "metadata": {},
   "source": [
    "## Banka Sınıfı:\n",
    "\n",
    "#### Açıklama:\n",
    "\n",
    "bankaSinifi isminde bir sınıf oluşturun ve aşağıdaki nitelik,metotlara sahip olsun.\n",
    "\n",
    "\n",
    "###### Nesne Nitelikleri:\n",
    "isim,soyisim,bakiye\n",
    "\n",
    "###### Metotlar\n",
    "\n",
    "isimSoyIsimKontrol: Fonksiyon statik olarak tanımlanacak ve dışarıdan isim veya soyisim bilgilerini alacak. Tüm karakterlerin alfabetik olup olmadığını kontrol edecek, eğer alfabetik değilse False değer dönecek. Bu fonksiyon isim,soyisim değerleri atanmadan önce __init__ fonksiyonu içerisinde çağırılacak.\n",
    "\n",
    "profilGoruntule: Fonksiyon hangi nesne üzerinden çağırıldıysa, o banka hesabının bilgilerini yazdıracak.\n",
    "\n",
    "paraYatirma: Fonksiyon dışarıdan yatırılacak para miktarını alacak ve hangi nesne üzerinden çağırıldıysa, o banka hesabına para yatırma işlemi yapılacak.\n",
    "\n",
    "paraCekme: Fonksiyon dışarıdan çekilecek para miktarını alacak ve hangi nesne üzerinden çağırıldıysa, o banka hesabından  eğer ki yeterli para varsa para çekme işlemi yapılacak.\n",
    "\n",
    "paraGonderme: Fonksiyon dışarıdan gönderilecek para miktarı ve paranın gönderileceği nesneyi(banka hesabını) alacak ve yeteri kadar para varsa para gönderme işlemini yapacak.\n"
   ]
  },
  {
   "cell_type": "markdown",
   "metadata": {},
   "source": [
    "## Üçgen Sınıfı:\n",
    "\n",
    "#### Açıklama:\n",
    "\n",
    "Ucgen isminde bir sınıf oluşturun ve aşağıdaki nitelik,metotlara sahip olsun.\n",
    "\n",
    "\n",
    "###### Nesne Nitelikleri:\n",
    "a,b,c kenar bilgileri\n",
    "\n",
    "###### Metotlar\n",
    "\n",
    "ucgenOlusabilirMi: Statik olarak tanımlanan bu fonksiyon dışarıdan a,b,c kenar bilgilerini alacak ve a,b,c kenarlarına göre üçgen oluşabiliyorsa True, oluşamıyorsa False değer dönecek.\n",
    "\n",
    "eskenarUcgenMi: Fonksiyon hangi nesne üzerinden çağırıldıysa o nesnenin eşkenar üçgen olup olmadığı sonucunu dönecek.\n",
    "\n",
    "ikizkenarUcgenMi: Fonksiyon hangi nesne üzerinden çağırıldıysa o nesnenin ikizkenar üçgen olup olmadığı sonucunu dönecek.\n",
    "\n",
    "cesitkenarUcgenMi: Fonksiyon hangi nesne üzerinden çağırıldıysa o nesnenin çeşitkenar üçgen olup olmadığı sonucunu dönecek.\n",
    "\n",
    "ucgenTipiniYazdir: Fonksiyon hangi nesne üzerinden çağırıldıysa o nesnenin hangi tipte üçgen olduğunu yazdıracak.\n",
    "\n",
    "alanHesapla: Fonksiyon hangi nesne üzerinden çağırıldıysa o nesnenin(üçgenin) alanını hesaplayacak ve sonucu döndürecek."
   ]
  }
 ],
 "metadata": {
  "kernelspec": {
   "display_name": "Python 3",
   "language": "python",
   "name": "python3"
  },
  "language_info": {
   "codemirror_mode": {
    "name": "ipython",
    "version": 3
   },
   "file_extension": ".py",
   "mimetype": "text/x-python",
   "name": "python",
   "nbconvert_exporter": "python",
   "pygments_lexer": "ipython3",
   "version": "3.8.5"
  }
 },
 "nbformat": 4,
 "nbformat_minor": 4
}

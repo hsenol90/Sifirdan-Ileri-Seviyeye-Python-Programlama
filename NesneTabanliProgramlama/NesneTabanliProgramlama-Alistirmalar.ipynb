{
 "cells": [
  {
   "cell_type": "markdown",
   "metadata": {},
   "source": [
    "## Kompleks Sayılar Sınıfı\n",
    "\n",
    "#### Açıklama:\n",
    "\n",
    "complexNumber isminde bir sınıf oluşturun ve aşağıdaki nitelik,metotlara sahip olsun.\n",
    "\n",
    "###### Nesne Nitelikleri:\n",
    "gercekKisim,sanalKisim\n",
    "\n",
    "###### Metotlar\n",
    "\n",
    "complexToplam: Fonksiyon dışarıdan bir complexSayi nesnesi alacak ve hangi nesne üzerinden çağırıldıysa bu iki complexSayiyi toplayıp sonucu döndürecek.\n",
    "\n",
    "complexCarpim: Fonksiyon dışarıdan bir complexSayi nesnesi alacak ve hangi nesne üzerinden çağırıldıysa bu iki complexSayiyi çarpıp sonucu döndürecek.\n",
    "\n",
    "NOT: gercekKisim=ilkSayinin gercekKismi*ikinciSayinin gercekKismi-ilkSayinin sanalKismi*ikinciSayinin sanalKismi\n",
    "\n",
    "     sanalKisim=ilkSayinin gercekKismi*ikinciSayinin sanalKismi+ilkSayinin sanalKismi*ikinciSayinin gercekKismi\n",
    "     \n",
    "\n",
    "sabitCarpim: Fonksiyon dışarıdan bir sabit değer alacak, hangi nesne üzerinden çağırıldıysa bu complexSayiyi sabit ile çarpıp sonucu geri dönecek\n",
    "\n",
    "negatifeCevir: Fonksiyon dışarıdan bir complexSayi nesnesi alacak ve hangi nesne üzerinden çağırıldıysa bu complexSayiyi negatife çevirecek\n",
    "\n",
    "complexCikarma: Fonksiyon dışarıdan bir complexSayi nesnesi alacak ve hangi nesne üzerinden çağırıldıysa bu iki complexSayiyi çıkartıp sonucu döndürecek."
   ]
  },
  {
   "cell_type": "code",
   "execution_count": 9,
   "metadata": {},
   "outputs": [],
   "source": [
    "class ComplexNumber:\n",
    "    def __init__(self,gercekKisim=0,sanalKisim=0):\n",
    "        self.gercekKisim=gercekKisim\n",
    "        self.sanalKisim=sanalKisim\n",
    "    def complexToplam(self,complexSayi):\n",
    "        toplamComplex=ComplexNumber()\n",
    "        toplamComplex.gercekKisim=self.gercekKisim+complexSayi.gercekKisim\n",
    "        toplamComplex.sanalKisim=self.sanalKisim+complexSayi.sanalKisim\n",
    "        return toplamComplex\n",
    "    def complexCarpim(self,complexSayi):\n",
    "        carpimComplex=ComplexNumber()\n",
    "        carpimComplex.gercekKisim=self.gercekKisim*complexSayi.gercekKisim-self.sanalKisim*complexSayi.sanalKisim\n",
    "        carpimComplex.sanalKisim=self.gercekKisim*complexSayi.sanalKisim+self.sanalKisim*complexSayi.gercekKisim\n",
    "        return carpimComplex\n",
    "    \n",
    "    def sabitCarpim(self,sabit):\n",
    "        sabitComplex=ComplexNumber()\n",
    "        sabitComplex.gercekKisim=self.gercekKisim*sabit\n",
    "        sabitComplex.sanalKisim=self.sanalKisim*sabit\n",
    "        return sabitComplex\n",
    "    \n",
    "    def negatifeCevir(self):\n",
    "        self.gercekKisim*=-1\n",
    "        self.sanalKisim*=-1\n",
    "        \n",
    "    def complexCikarma(self,complexSayi):\n",
    "        complexSayi.negatifeCevir()\n",
    "        cikarmaComplex=self.complexToplam(complexSayi)\n",
    "        return cikarmaComplex\n",
    "    \n",
    "    def complexYazdir(self):\n",
    "        if self.sanalKisim>=0:\n",
    "            print(\"{}+{}i\".format(self.gercekKisim,self.sanalKisim))\n",
    "        else:\n",
    "            print(\"{}{}i\".format(self.gercekKisim,self.sanalKisim))"
   ]
  },
  {
   "cell_type": "code",
   "execution_count": 10,
   "metadata": {},
   "outputs": [
    {
     "name": "stdout",
     "output_type": "stream",
     "text": [
      "5+2i\n",
      "3-8i\n",
      "8-6i\n",
      "31-34i\n",
      "25+10i\n",
      "2+10i\n"
     ]
    }
   ],
   "source": [
    "complex1=ComplexNumber(5,2)\n",
    "complex1.complexYazdir()\n",
    "complex2=ComplexNumber(3,-8)\n",
    "complex2.complexYazdir()\n",
    "complexToplam=complex1.complexToplam(complex2)\n",
    "complexToplam.complexYazdir()\n",
    "complexCarpim=complex1.complexCarpim(complex2)\n",
    "complexCarpim.complexYazdir()\n",
    "sabitCarpim=complex1.sabitCarpim(5)\n",
    "sabitCarpim.complexYazdir()\n",
    "complexCikarma=complex1.complexCikarma(complex2)\n",
    "complexCikarma.complexYazdir()\n"
   ]
  },
  {
   "cell_type": "markdown",
   "metadata": {},
   "source": [
    "## Tarih Sınıfı:\n",
    "\n",
    "#### Açıklama:\n",
    "\n",
    "Tarih isminde bir sınıf oluşturun ve aşağıdaki nitelik,metotlara sahip olsun.\n",
    "\n",
    "###### Sınıf Nitelikleri:\n",
    "aylaraGoreGunler=[31,29,31,30,31,30,31,31,30,31,30,31]\n",
    "\n",
    "ayListesi=[\"Ocak\",\"Subat\",\"Mart\",\"Nisan\",\"Mayis\",\"Haziran\",\"Temmuz\",\"Agustos\",\"Eylul\",\"Ekim\",\"Kasim\",\"Aralik\"]\n",
    "\n",
    "###### Nesne Nitelikleri:\n",
    "gun,ay,yil\n",
    "\n",
    "###### Metotlar\n",
    "\n",
    "gunArttir: Fonksiyon her çağırıldığında, hangi nesne üzerinden çağırılmış ise gün değeri 1 arttırılacak. Eğer ki ay sonu veya yıl sonuna gelindiyse, ay ve yıl değerleri de arttırılacak.\n",
    "\n",
    "tarihYazdir: Fonksiyon hangi nesne üzerinden çağırıldıysa o nesnenin gün,ay,yıl bilgilerini yazdıracak.\n",
    "\n",
    "tarihKarsilastir: Fonksiyon dışarıdan bir Tarih nesnesi alacak ve hangi nesne üzerinden çağırıldıysa bu iki Tarih'i karşılaştıracak."
   ]
  },
  {
   "cell_type": "code",
   "execution_count": 11,
   "metadata": {},
   "outputs": [],
   "source": [
    "class Tarih:\n",
    "    aylaraGoreGunler=[31,29,31,30,31,30,31,31,30,31,30,31]\n",
    "    ayListesi=[\"Ocak\",\"Subat\",\"Mart\",\"Nisan\",\"Mayis\",\"Haziran\",\"Temmuz\",\"Agustos\",\"Eylul\",\"Ekim\",\"Kasim\",\"Aralik\"]\n",
    "    def __init__(self,gun,ay,yil):\n",
    "        self.ay=int()\n",
    "        self.gun=int()\n",
    "        self.yil=int()\n",
    "        if ay>=1 and ay<=12:\n",
    "            self.ay=ay\n",
    "        else:\n",
    "            self.ay=1\n",
    "        if gun>=1 and gun<=self.aylaraGoreGunler[ay-1]:\n",
    "            self.gun=gun\n",
    "        else:\n",
    "            self.gun=1\n",
    "        \n",
    "        if yil>=1900 and yil<=2021:\n",
    "            self.yil=yil\n",
    "        else:\n",
    "            self.yil=1900\n",
    "        \n",
    "    def gunArttir(self):\n",
    "        if self.gun<self.aylaraGoreGunler[self.ay-1]:\n",
    "            self.gun+=1\n",
    "        else:\n",
    "            self.gun=1\n",
    "            if self.ay<12:\n",
    "                self.ay+=1\n",
    "            else:\n",
    "                self.ay=1\n",
    "                self.yil+=1\n",
    "                \n",
    "    def tarihYazdir(self):\n",
    "        print(\"{} {} {}\".format(self.gun,self.ayListesi[self.ay-1],self.yil))\n",
    "        \n",
    "    def tarihKarsilastir(self,ikinciTarih):\n",
    "        if self.yil>ikinciTarih.yil or (self.yil==ikinciTarih.yil and self.ay>ikinciTarih.ay) or (self.yil==ikinciTarih.yil and self.ay==ikinciTarih.ay and self.gun>ikinciTarih.gun):\n",
    "            print(\"Ilk tarih daha buyuktur!\")\n",
    "        elif self.yil==ikinciTarih.yil and self.ay==ikinciTarih.ay and self.gun==ikinciTarih.gun:\n",
    "            print(\"Tarihler esit.\")\n",
    "        else:\n",
    "            print(\"Ikinci tarih daha buyuktur!\")   "
   ]
  },
  {
   "cell_type": "code",
   "execution_count": 19,
   "metadata": {},
   "outputs": [
    {
     "name": "stdout",
     "output_type": "stream",
     "text": [
      "1 Aralik 1999\n",
      "31 Temmuz 1999\n",
      "Ilk tarih daha buyuktur!\n",
      "2 Aralik 1999\n",
      "3 Aralik 1999\n",
      "Ilk tarih daha buyuktur!\n"
     ]
    }
   ],
   "source": [
    "tarih1=Tarih(-5,12,1999)\n",
    "tarih2=Tarih(31,7,1999)\n",
    "\n",
    "tarih1.tarihYazdir()\n",
    "tarih2.tarihYazdir()\n",
    "tarih1.tarihKarsilastir(tarih2)\n",
    "tarih1.gunArttir()\n",
    "tarih1.tarihYazdir()\n",
    "tarih1.gunArttir()\n",
    "tarih1.tarihYazdir()\n",
    "tarih1.tarihKarsilastir(tarih2)"
   ]
  },
  {
   "cell_type": "markdown",
   "metadata": {},
   "source": [
    "## Insan-Ogrenci-Ogretmen Sınıfları:\n",
    "\n",
    "#### Açıklama:\n",
    "\n",
    "Taban sınıf olarak Insan sınıfı, alt sınıflar olarak da Ogrenci ve Ogretmen isminde sınıflar tanımlayınız.\n",
    "\n",
    "### Insan Sınıfı\n",
    "\n",
    "###### Nesne Nitelikleri:\n",
    "\n",
    "isim,soyisim\n",
    "\n",
    "###### Metotlar\n",
    "\n",
    "bilgileriYazdir: Fonksiyon hangi nesne üzerinden çağırıldıysa o nesnenin isim ve soyisim bilgilerini yazdıracak.\n",
    "\n",
    "### Ogrenci Sınıfı\n",
    "\n",
    "###### Sınıf Nitelikleri: \n",
    "ogrenciListesi=[]\n",
    "\n",
    "###### Açıklama:\n",
    "\n",
    "Her yeni Ogrenci nesnesi uretildiğinde bu listeye eklenecek.\n",
    "\n",
    "###### Nesne Nitelikleri:\n",
    "\n",
    "isim,soyisim,ogrenciNo,ogrenciPuan,ogrenciGecmeKalma\n",
    "\n",
    "###### Metotlar\n",
    "\n",
    "bilgileriYazdir: Fonksiyon hangi nesne üzerinden çağırıldıysa o nesnenin isim soyisim,ogrenciNo ve ogrenciPuan bilgilerini yazdıracak.\n",
    "\n",
    "### Ogretmen Sınıfı\n",
    "\n",
    "\n",
    "###### Nesne Nitelikleri:\n",
    "\n",
    "isim,soyisim,departman\n",
    "\n",
    "###### Metotlar\n",
    "\n",
    "bilgileriYazdir: Fonksiyon hangi nesne üzerinden çağırıldıysa o nesnenin isim soyisim,departman bilgilerini yazdıracak.\n",
    "\n",
    "ogrenciGecmeKalmaBelirleme: ogrenciListesi içerisindeki tüm öğrencilerin notlarıyla birlikte bir ortalama hesaplanacak, ortalamadan yüksek olanlar dersi geçecek, düşük olanlar dersten kalacak ve ogrenciGecmeKalma bilgilerine True-False şeklinde atanacak.\n",
    "\n",
    "ogrenciBilgileriniYazdir: Fonksiyon, tüm öğrencilerin bilgilerini dersten geçme-kalma bilgileriyle birlikte yazdıracak.\n",
    "\n"
   ]
  },
  {
   "cell_type": "code",
   "execution_count": 1,
   "metadata": {},
   "outputs": [],
   "source": [
    "class Insan:\n",
    "    def __init__(self,isim,soyisim):\n",
    "        self.isim=isim\n",
    "        self.soyisim=soyisim\n",
    "    def bilgileriYazdir(self):\n",
    "        print(\"Isim:\",self.isim)\n",
    "        print(\"Soyisim:\",self.soyisim)\n",
    "\n",
    "class Ogrenci(Insan):\n",
    "    ogrenciListesi=[]\n",
    "    def __init__(self,isim,soyisim,ogrenciNo,ogrenciPuan):\n",
    "        super().__init__(isim,soyisim)\n",
    "        self.ogrenciNo=ogrenciNo\n",
    "        self.ogrenciPuan=ogrenciPuan\n",
    "        self.ogrenciGecmeKalma=bool()\n",
    "        self.ogrenciListesi.append(self)\n",
    "    def bilgileriYazdir(self):\n",
    "        super().bilgileriYazdir()\n",
    "        print(\"Ogrenci No:\",self.ogrenciNo)\n",
    "        print(\"Ogrenci Puan:\",self.ogrenciPuan)\n",
    "\n",
    "class Ogretmen(Insan):\n",
    "    def __init__(self,isim,soyisim,departman):\n",
    "        super().__init__(isim,soyisim)\n",
    "        self.departman=departman\n",
    "    \n",
    "    def bilgileriYazdir(self):\n",
    "        super().bilgileriYazdir()\n",
    "        print(\"Departman:\",self.departman)\n",
    "    \n",
    "    def ogrenciGecmeKalmaBelirleme(self):\n",
    "        toplamPuan=0.0\n",
    "        for ogrenci in Ogrenci.ogrenciListesi:\n",
    "            toplamPuan+=ogrenci.ogrenciPuan\n",
    "        ortalama=toplamPuan/len(Ogrenci.ogrenciListesi)\n",
    "        print(\"Sinif Ortalamasi:\",ortalama)\n",
    "        for ogrenci in Ogrenci.ogrenciListesi:\n",
    "            if ogrenci.ogrenciPuan>=ortalama:\n",
    "                ogrenci.ogrenciGecmeKalma=True\n",
    "            else:\n",
    "                ogrenci.ogrenciGecmeKalma=False\n",
    "    def ogrenciBilgileriniYazdir(self):\n",
    "        for ogrenci in Ogrenci.ogrenciListesi:\n",
    "            ogrenci.bilgileriYazdir()\n",
    "            if ogrenci.ogrenciGecmeKalma==True:\n",
    "                print(\"Gecme Durumu: Basarili\")\n",
    "            else:\n",
    "                print(\"Gecme Durumu: Basarisiz\")"
   ]
  },
  {
   "cell_type": "code",
   "execution_count": 2,
   "metadata": {},
   "outputs": [],
   "source": [
    "ogretmen=Ogretmen(\"Ogun\",\"Birinci\",\"Turkce\")\n",
    "ogrenci1=Ogrenci(\"Burak\",\"Ikinci\",1,80)\n",
    "ogrenci2=Ogrenci(\"Eda\",\"Deniz\",2,70)\n",
    "ogrenci3=Ogrenci(\"Beril\",\"Kucukdilek\",3,60)\n",
    "ogrenci4=Ogrenci(\"Ahmet\",\"Ozer\",4,50)"
   ]
  },
  {
   "cell_type": "code",
   "execution_count": 3,
   "metadata": {},
   "outputs": [
    {
     "name": "stdout",
     "output_type": "stream",
     "text": [
      "Isim: Ogun\n",
      "Soyisim: Birinci\n",
      "Departman: Turkce\n"
     ]
    }
   ],
   "source": [
    "ogretmen.bilgileriYazdir()"
   ]
  },
  {
   "cell_type": "code",
   "execution_count": 4,
   "metadata": {},
   "outputs": [
    {
     "name": "stdout",
     "output_type": "stream",
     "text": [
      "Sinif Ortalamasi: 65.0\n"
     ]
    }
   ],
   "source": [
    "ogretmen.ogrenciGecmeKalmaBelirleme()"
   ]
  },
  {
   "cell_type": "code",
   "execution_count": 5,
   "metadata": {},
   "outputs": [
    {
     "name": "stdout",
     "output_type": "stream",
     "text": [
      "Isim: Burak\n",
      "Soyisim: Ikinci\n",
      "Ogrenci No: 1\n",
      "Ogrenci Puan: 80\n",
      "Gecme Durumu: Basarili\n",
      "Isim: Eda\n",
      "Soyisim: Deniz\n",
      "Ogrenci No: 2\n",
      "Ogrenci Puan: 70\n",
      "Gecme Durumu: Basarili\n",
      "Isim: Beril\n",
      "Soyisim: Kucukdilek\n",
      "Ogrenci No: 3\n",
      "Ogrenci Puan: 60\n",
      "Gecme Durumu: Basarisiz\n",
      "Isim: Ahmet\n",
      "Soyisim: Ozet\n",
      "Ogrenci No: 4\n",
      "Ogrenci Puan: 50\n",
      "Gecme Durumu: Basarisiz\n"
     ]
    }
   ],
   "source": [
    "ogretmen.ogrenciBilgileriniYazdir()"
   ]
  },
  {
   "cell_type": "code",
   "execution_count": null,
   "metadata": {},
   "outputs": [],
   "source": []
  },
  {
   "cell_type": "code",
   "execution_count": null,
   "metadata": {},
   "outputs": [],
   "source": []
  },
  {
   "cell_type": "code",
   "execution_count": null,
   "metadata": {},
   "outputs": [],
   "source": []
  },
  {
   "cell_type": "code",
   "execution_count": null,
   "metadata": {},
   "outputs": [],
   "source": []
  }
 ],
 "metadata": {
  "kernelspec": {
   "display_name": "Python 3",
   "language": "python",
   "name": "python3"
  },
  "language_info": {
   "codemirror_mode": {
    "name": "ipython",
    "version": 3
   },
   "file_extension": ".py",
   "mimetype": "text/x-python",
   "name": "python",
   "nbconvert_exporter": "python",
   "pygments_lexer": "ipython3",
   "version": "3.8.5"
  }
 },
 "nbformat": 4,
 "nbformat_minor": 4
}

{
 "cells": [
  {
   "cell_type": "markdown",
   "metadata": {},
   "source": [
    "## Banka Sınıfı:\n",
    "\n",
    "#### Açıklama:\n",
    "\n",
    "bankaSinifi isminde bir sınıf oluşturun ve aşağıdaki nitelik,metotlara sahip olsun.\n",
    "\n",
    "\n",
    "###### Nesne Nitelikleri:\n",
    "isim,soyisim,bakiye\n",
    "\n",
    "###### Metotlar\n",
    "\n",
    "isimSoyIsimKontrol: Fonksiyon statik olarak tanımlanacak ve dışarıdan isim veya soyisim bilgilerini alacak. Tüm karakterlerin alfabetik olup olmadığını kontrol edecek, eğer alfabetik değilse False değer dönecek. Bu fonksiyon isim,soyisim değerleri atanmadan önce __init__ fonksiyonu içerisinde çağırılacak.\n",
    "\n",
    "profilGoruntule: Fonksiyon hangi nesne üzerinden çağırıldıysa, o banka hesabının bilgilerini yazdıracak.\n",
    "\n",
    "paraYatirma: Fonksiyon dışarıdan yatırılacak para miktarını alacak ve hangi nesne üzerinden çağırıldıysa, o banka hesabına para yatırma işlemi yapılacak.\n",
    "\n",
    "paraCekme: Fonksiyon dışarıdan çekilecek para miktarını alacak ve hangi nesne üzerinden çağırıldıysa, o banka hesabından  eğer ki yeterli para varsa para çekme işlemi yapılacak.\n",
    "\n",
    "paraGonderme: Fonksiyon dışarıdan gönderilecek para miktarı ve paranın gönderileceği nesneyi(banka hesabını) alacak ve yeteri kadar para varsa para gönderme işlemini yapacak.\n"
   ]
  },
  {
   "cell_type": "code",
   "execution_count": 3,
   "metadata": {},
   "outputs": [],
   "source": [
    "class bankaSinifi():\n",
    "    def __init__(self,isim,soyisim):\n",
    "        if(self.isimSoyisimKontrol(isim)==True and self.isimSoyisimKontrol(soyisim)==True):\n",
    "            self.isim=isim\n",
    "            self.soyisim=soyisim\n",
    "            self.bakiye=0\n",
    "        else:\n",
    "            raise ValueError(\"Isim veya soyisim sadece karakter icerebilir!\")\n",
    "    @staticmethod\n",
    "    def isimSoyisimKontrol(isimVeyaSoyisim):\n",
    "        for karakter in isimVeyaSoyisim:\n",
    "            if not karakter.isalpha():\n",
    "                return False\n",
    "        return True\n",
    "    \n",
    "    def profilGoruntule(self):\n",
    "        print(\"Hesap Sahibi:{} {}\".format(self.isim,self.soyisim))\n",
    "        print(\"Hesap Bakiyesi:{}₺\".format(self.bakiye))\n",
    "    \n",
    "    def paraYatirma(self,yatirilacakParaMiktari):\n",
    "        if yatirilacakParaMiktari<=0:\n",
    "            print(\"Para Yatirma Basarisiz!\")\n",
    "        else:\n",
    "            self.bakiye+=yatirilacakParaMiktari\n",
    "            print(\"Yeni Bakiye:{}\".format(self.bakiye))\n",
    "    \n",
    "    def paraCekme(self,cekilecekParaMiktari):\n",
    "        if cekilecekParaMiktari>self.bakiye:\n",
    "            print(\"Para Cekme Basarisiz!\")\n",
    "        else:\n",
    "            self.bakiye-=cekilecekParaMiktari\n",
    "            print(\"Yeni Bakiye:{}\".format(self.bakiye))\n",
    "\n",
    "    def paraGonderme(self,gonderilecekParaMiktari,gonderilecekHesap):\n",
    "        if gonderilecekParaMiktari>self.bakiye:\n",
    "            print(\"Para Gonderme Basarisiz!\")\n",
    "        else:\n",
    "            self.bakiye-=gonderilecekParaMiktari\n",
    "            gonderilecekHesap.bakiye+=gonderilecekParaMiktari\n",
    "            print(\"Yeni Bakiye:{}\".format(self.bakiye))"
   ]
  },
  {
   "cell_type": "code",
   "execution_count": 12,
   "metadata": {},
   "outputs": [
    {
     "name": "stdout",
     "output_type": "stream",
     "text": [
      "Hesap Sahibi:Ogun Birinci\n",
      "Hesap Bakiyesi:0₺\n",
      "Hesap Sahibi:Burak Ikinci\n",
      "Hesap Bakiyesi:0₺\n",
      "Yeni Bakiye:200\n",
      "Hesap Sahibi:Ogun Birinci\n",
      "Hesap Bakiyesi:200₺\n",
      "Yeni Bakiye:100\n",
      "Hesap Sahibi:Ogun Birinci\n",
      "Hesap Bakiyesi:100₺\n",
      "Yeni Bakiye:0\n",
      "Hesap Sahibi:Ogun Birinci\n",
      "Hesap Bakiyesi:0₺\n",
      "Hesap Sahibi:Burak Ikinci\n",
      "Hesap Bakiyesi:100₺\n"
     ]
    }
   ],
   "source": [
    "hesap1=bankaSinifi(\"Ogun\",\"Birinci\")\n",
    "hesap2=bankaSinifi(\"Burak\",\"Ikinci\")\n",
    "hesap1.profilGoruntule()\n",
    "hesap2.profilGoruntule()\n",
    "hesap1.paraYatirma(200)\n",
    "hesap1.profilGoruntule()\n",
    "hesap1.paraCekme(100)\n",
    "hesap1.profilGoruntule()\n",
    "hesap1.paraGonderme(100,hesap2)\n",
    "hesap1.profilGoruntule()\n",
    "hesap2.profilGoruntule()"
   ]
  },
  {
   "cell_type": "markdown",
   "metadata": {},
   "source": [
    "## Üçgen Sınıfı:\n",
    "\n",
    "#### Açıklama:\n",
    "\n",
    "Ucgen isminde bir sınıf oluşturun ve aşağıdaki nitelik,metotlara sahip olsun.\n",
    "\n",
    "\n",
    "###### Nesne Nitelikleri:\n",
    "a,b,c kenar bilgileri\n",
    "\n",
    "###### Metotlar\n",
    "\n",
    "ucgenOlusabilirMi: Statik olarak tanımlanan bu fonksiyon dışarıdan a,b,c kenar bilgilerini alacak ve a,b,c kenarlarına göre üçgen oluşabiliyorsa True, oluşamıyorsa False değer dönecek.\n",
    "\n",
    "eskenarUcgenMi: Fonksiyon hangi nesne üzerinden çağırıldıysa o nesnenin eşkenar üçgen olup olmadığı sonucunu dönecek.\n",
    "\n",
    "ikizkenarUcgenMi: Fonksiyon hangi nesne üzerinden çağırıldıysa o nesnenin ikizkenar üçgen olup olmadığı sonucunu dönecek.\n",
    "\n",
    "cesitkenarUcgenMi: Fonksiyon hangi nesne üzerinden çağırıldıysa o nesnenin çeşitkenar üçgen olup olmadığı sonucunu dönecek.\n",
    "\n",
    "ucgenTipiniYazdir: Fonksiyon hangi nesne üzerinden çağırıldıysa o nesnenin hangi tipte üçgen olduğunu yazdıracak.\n",
    "\n",
    "alanHesapla: Fonksiyon hangi nesne üzerinden çağırıldıysa o nesnenin(üçgenin) alanını hesaplayacak ve sonucu döndürecek."
   ]
  },
  {
   "cell_type": "code",
   "execution_count": 13,
   "metadata": {},
   "outputs": [],
   "source": [
    "class Ucgen:\n",
    "    def __init__(self,a,b,c):\n",
    "        while not self.ucgenOlusabilirMi(a,b,c):\n",
    "            a,b,c=map(int,input(\"Lutfen sirasiyla a,b,c kenar bilgilerini tekrar giriniz:\").split(\",\"))\n",
    "        self.a=a\n",
    "        self.b=b\n",
    "        self.c=c\n",
    "    \n",
    "    @staticmethod\n",
    "    def ucgenOlusabilirMi(a,b,c):\n",
    "        if not ((abs(b-c)<a) and (a<b+c)):\n",
    "            print(\"Hatali A degeri!\")\n",
    "            return False\n",
    "        elif not ((abs(a-c)<b) and (b<a+c)):\n",
    "            print(\"Hatali B degeri\")\n",
    "            return False\n",
    "        elif not ((abs(a-b)<c) and (c<a+b)):\n",
    "            print(\"Hatali C degeri\")\n",
    "            return False\n",
    "        return True\n",
    "        \n",
    "    def eskenarUcgenMi(self):\n",
    "        return self.a==self.b and self.b==self.c\n",
    "    \n",
    "    def ikizkenarUcgenMi(self):\n",
    "        return self.a==self.b or self.a==self.c or self.b==self.c\n",
    "    \n",
    "    def cesitkenarUcgenMi(self):\n",
    "        return not self.ikizkenarUcgenMi()\n",
    "    \n",
    "    def ucgenTipiniYazdir(self):\n",
    "        if self.eskenarUcgenMi():\n",
    "            print(\"Eskenar Ucgen\")\n",
    "        elif self.ikizkenarUcgenMi():\n",
    "            print(\"Ikizkenar Ucgen\")\n",
    "        else:\n",
    "            print(\"Cesitkenar Ucgen\")\n",
    "            \n",
    "    def alanHesapla(self):\n",
    "        yaricap=(self.a+self.b+self.c)/2\n",
    "        return (yaricap*(yaricap-self.a)*(yaricap-self.b)*(yaricap-self.c))**0.5"
   ]
  },
  {
   "cell_type": "code",
   "execution_count": 20,
   "metadata": {},
   "outputs": [
    {
     "name": "stdout",
     "output_type": "stream",
     "text": [
      "Cesitkenar Ucgen\n",
      "6.0\n"
     ]
    }
   ],
   "source": [
    "ucgen1=Ucgen(3,4,5)\n",
    "ucgen1.ucgenTipiniYazdir()\n",
    "print(ucgen1.alanHesapla())"
   ]
  },
  {
   "cell_type": "code",
   "execution_count": null,
   "metadata": {},
   "outputs": [],
   "source": []
  }
 ],
 "metadata": {
  "kernelspec": {
   "display_name": "Python 3",
   "language": "python",
   "name": "python3"
  },
  "language_info": {
   "codemirror_mode": {
    "name": "ipython",
    "version": 3
   },
   "file_extension": ".py",
   "mimetype": "text/x-python",
   "name": "python",
   "nbconvert_exporter": "python",
   "pygments_lexer": "ipython3",
   "version": "3.8.5"
  }
 },
 "nbformat": 4,
 "nbformat_minor": 4
}

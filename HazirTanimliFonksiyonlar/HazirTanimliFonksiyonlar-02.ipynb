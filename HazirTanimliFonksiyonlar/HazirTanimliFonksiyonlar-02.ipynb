{
 "cells": [
  {
   "cell_type": "markdown",
   "metadata": {},
   "source": [
    "## Hazır Tanımlı Fonksiyonlar - String Fonksiyonları"
   ]
  },
  {
   "cell_type": "markdown",
   "metadata": {},
   "source": [
    "#### Stringteki Belirli Karakterleri Değiştirme\n",
    "1. replace() komutu: Bir string içerisindeki belirli bir karakter veya karakterleri değiştirmek için kullanılır"
   ]
  },
  {
   "cell_type": "code",
   "execution_count": 23,
   "metadata": {},
   "outputs": [
    {
     "name": "stdout",
     "output_type": "stream",
     "text": [
      "ogunb*r*nc*\n",
      "*birinci\n",
      "ogunb*rinci\n"
     ]
    }
   ],
   "source": [
    "string=string2=string3=\"ogunbirinci\"\n",
    "\n",
    "string=string.replace(\"i\",\"*\")\n",
    "string2=string2.replace(\"ogun\",\"*\")\n",
    "string3=string3.replace(\"i\",\"*\",1)\n",
    "\n",
    "print(string)\n",
    "print(string2)\n",
    "print(string3)"
   ]
  },
  {
   "cell_type": "markdown",
   "metadata": {},
   "source": [
    "#### Stringi Büyük-Küçük Harfe Çevirme\n",
    "1. upper() komutu: Tüm karakterleri büyük harfe çevirmek için kullanılır\n",
    "2. lower() komutu: Tüm karakterleri küçük harfe çevirmek için kullanılır"
   ]
  },
  {
   "cell_type": "code",
   "execution_count": 25,
   "metadata": {},
   "outputs": [
    {
     "name": "stdout",
     "output_type": "stream",
     "text": [
      "OGUN\n",
      "ogun\n"
     ]
    }
   ],
   "source": [
    "string=\"ogun\"\n",
    "string=string.upper()\n",
    "print(string)\n",
    "string=string.lower()\n",
    "print(string)"
   ]
  },
  {
   "cell_type": "markdown",
   "metadata": {},
   "source": [
    "#### Stringin İlk Harfini Büyük Harfe Çevirme- Tüm Kelimeleri Büyük Harfe Çevirme-  Büyük Harfleri Küçük & Küçük Harfleri Büyük Harfe Çevirme\n",
    "1. capitalize() komutu: Stringin sadece ilk harfini büyük harfe çevirmek için kullanılır\n",
    "2. title() komutu: Her kelimenin ilk harfini büyük harfe çevirmek için kullanılır\n",
    "3. swapcase() komutu: Stringteki tüm büyük harfleri küçük harfe, küçük harfleri de büyük harfe  çevirmek için kullanılır"
   ]
  },
  {
   "cell_type": "code",
   "execution_count": 26,
   "metadata": {},
   "outputs": [
    {
     "name": "stdout",
     "output_type": "stream",
     "text": [
      "Ogun birinci su an python programlama dersi hazirliyor\n",
      "Ogun Birinci Su An Python Programlama Dersi Hazirliyor\n",
      "OGUN bIRInCI SU aN pYTHON PROgRAMLaMA DErSI HAZIRLIyOR\n"
     ]
    }
   ],
   "source": [
    "string=\"ogun BiriNci su An Python proGramlAma deRsi hazirliYor\"\n",
    "\n",
    "capitalizeString=string.capitalize()\n",
    "titleString=string.title()\n",
    "swapcaseString=string.swapcase()\n",
    "\n",
    "print(capitalizeString)\n",
    "print(titleString)\n",
    "print(swapcaseString)"
   ]
  },
  {
   "cell_type": "markdown",
   "metadata": {},
   "source": [
    "#### Stringteki Gereksiz Karakterlerden Kurtulma\n",
    "1. strip() komutu: Bir stringteki \"\\n\",\" \",\"\\t\",\"\\r\",\"\\v\" karakterlerinden kurtulmak için kullanılır\n",
    "2. lstrip() komutu: Bir stringin solundaki \"\\n\",\" \",\"\\t\",\"\\r\",\"\\v\" karakterlerinden kurtulmak için kullanılır\n",
    "3. rstrip() komutu: Bir stringin sağındaki \"\\n\",\" \",\"\\t\",\"\\r\",\"\\v\" karakterlerinden kurtulmak için kullanılır"
   ]
  },
  {
   "cell_type": "code",
   "execution_count": 30,
   "metadata": {},
   "outputs": [
    {
     "name": "stdout",
     "output_type": "stream",
     "text": [
      "53\n",
      "42\n",
      "48\n",
      "47\n",
      "     ogun birinci su an python kursu hazirliyor    \t\t\n",
      "ogun birinci su an python kursu hazirliyor\n",
      "ogun birinci su an python kursu hazirliyor    \t\t\n",
      "     ogun birinci su an python kursu hazirliyor\n"
     ]
    }
   ],
   "source": [
    "string=\"     ogun birinci su an python kursu hazirliyor    \\t\\t\"\n",
    "stringStrip=string.strip()\n",
    "stringLStrip=string.lstrip()\n",
    "stringRStrip=string.rstrip()\n",
    "\n",
    "print(len(string))\n",
    "print(len(stringStrip))\n",
    "print(len(stringLStrip))\n",
    "print(len(stringRStrip))\n",
    "\n",
    "print(string)\n",
    "print(stringStrip)\n",
    "print(stringLStrip)\n",
    "print(stringRStrip)"
   ]
  },
  {
   "cell_type": "markdown",
   "metadata": {},
   "source": [
    "#### Stringin Başlangıç ve Bitişini Kontrol Etme\n",
    "1. startswith() komutu: Bir stringin verilen karakter veya karakterler ile başlayıp başlamadığını sorgulamak için kullanılır.\n",
    "2. endswith() komutu: Bir stringin verilen karakter veya karakterler ile bitip bitmediğini sorgulamak için kullanılır."
   ]
  },
  {
   "cell_type": "code",
   "execution_count": 36,
   "metadata": {},
   "outputs": [
    {
     "name": "stdout",
     "output_type": "stream",
     "text": [
      "True\n",
      "False\n",
      "True\n",
      "False\n"
     ]
    }
   ],
   "source": [
    "string=\"ogun birinci su an python kursu hazirliyor\"\n",
    "\n",
    "print(string.startswith(\"ogun\"))\n",
    "print(string.startswith(\"no\"))\n",
    "print(string.endswith(\"r\"))\n",
    "print(string.endswith(\"yorrrrr\"))"
   ]
  },
  {
   "cell_type": "code",
   "execution_count": null,
   "metadata": {},
   "outputs": [],
   "source": []
  },
  {
   "cell_type": "code",
   "execution_count": null,
   "metadata": {},
   "outputs": [],
   "source": []
  },
  {
   "cell_type": "code",
   "execution_count": null,
   "metadata": {},
   "outputs": [],
   "source": []
  }
 ],
 "metadata": {
  "kernelspec": {
   "display_name": "Python 3",
   "language": "python",
   "name": "python3"
  },
  "language_info": {
   "codemirror_mode": {
    "name": "ipython",
    "version": 3
   },
   "file_extension": ".py",
   "mimetype": "text/x-python",
   "name": "python",
   "nbconvert_exporter": "python",
   "pygments_lexer": "ipython3",
   "version": "3.8.5"
  }
 },
 "nbformat": 4,
 "nbformat_minor": 4
}

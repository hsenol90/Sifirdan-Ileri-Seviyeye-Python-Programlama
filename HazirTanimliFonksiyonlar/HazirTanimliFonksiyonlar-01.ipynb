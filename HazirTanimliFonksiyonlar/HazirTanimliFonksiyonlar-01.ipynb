{
 "cells": [
  {
   "cell_type": "markdown",
   "metadata": {},
   "source": [
    "## Hazır Tanımlı Fonksiyonlar - Matematiksel Fonksiyonlar"
   ]
  },
  {
   "cell_type": "markdown",
   "metadata": {},
   "source": [
    "#### Mutlak Değer Alma\n",
    "1. abs() komutu: Bir sayının mutlak değerini hesaplamak için kullanılır"
   ]
  },
  {
   "cell_type": "code",
   "execution_count": 6,
   "metadata": {},
   "outputs": [
    {
     "name": "stdout",
     "output_type": "stream",
     "text": [
      "5\n",
      "10\n"
     ]
    }
   ],
   "source": [
    "x=-5\n",
    "y=10\n",
    "print(abs(x))\n",
    "print(abs(y))"
   ]
  },
  {
   "cell_type": "markdown",
   "metadata": {},
   "source": [
    "#### Sayı Yuvarlama\n",
    "1. ceil() komutu: Ondalıklı kısmı bulunan sayıları bir üstteki tamsayıya yuvarlamak için kullanılır.\n",
    "2. floor() komutu: Ondalıklı kısmı bulunan sayıları bir alttaki tamsayıya yuvarlamak için kullanılır.\n",
    "3. round() komutu: Ondalıklı kısmı bulunan sayıları; ondalıklı kısım 0.5'ten büyükse üstteki tamsayıya, ondalıklı kısım 0.5'ten küçükse alttaki tam sayıya yuvarlamak için kullanılır"
   ]
  },
  {
   "cell_type": "code",
   "execution_count": 9,
   "metadata": {},
   "outputs": [
    {
     "name": "stdout",
     "output_type": "stream",
     "text": [
      "2 4\n",
      "1 3\n",
      "1 4\n"
     ]
    }
   ],
   "source": [
    "import math\n",
    "\n",
    "x=1.35\n",
    "y=3.95\n",
    "print(math.ceil(x),math.ceil(y))\n",
    "print(math.floor(x),math.floor(y))\n",
    "print(round(x),round(y))"
   ]
  },
  {
   "cell_type": "markdown",
   "metadata": {},
   "source": [
    "#### Üs Alma\n",
    "1. pow() komutu: Üs alma işlemi için kullanılıyor; ilk parametre taban ve ikinci parametre üst değerini belirtir"
   ]
  },
  {
   "cell_type": "code",
   "execution_count": 12,
   "metadata": {},
   "outputs": [
    {
     "name": "stdout",
     "output_type": "stream",
     "text": [
      "243.0\n",
      "125.0\n",
      "243\n",
      "125\n"
     ]
    }
   ],
   "source": [
    "print(math.pow(3,5))\n",
    "print(math.pow(5,3))\n",
    "print(3**5)\n",
    "print(5**3)"
   ]
  },
  {
   "cell_type": "markdown",
   "metadata": {},
   "source": [
    "#### Kök Alma\n",
    "1. sqrt() komutu: Karekök alma işlemi için kullanılır."
   ]
  },
  {
   "cell_type": "code",
   "execution_count": 14,
   "metadata": {},
   "outputs": [
    {
     "name": "stdout",
     "output_type": "stream",
     "text": [
      "9.0\n",
      "4.47213595499958\n"
     ]
    }
   ],
   "source": [
    "print(math.sqrt(81))\n",
    "print(math.sqrt(20))"
   ]
  },
  {
   "cell_type": "markdown",
   "metadata": {},
   "source": [
    "#### Log Alma İşlemi\n",
    "1. log() komutu: Matematikteki log alma işleminin karşılığıdır, bir sayı başka bir sayının kaçıncı kuvvetidir bunu hesaplar."
   ]
  },
  {
   "cell_type": "code",
   "execution_count": 21,
   "metadata": {},
   "outputs": [
    {
     "name": "stdout",
     "output_type": "stream",
     "text": [
      "2.0\n",
      "3.0\n",
      "2.9299470414358537\n"
     ]
    }
   ],
   "source": [
    "print(math.log(81,9))\n",
    "print(math.log(27,3))\n",
    "print(math.log(25,3))\n"
   ]
  },
  {
   "cell_type": "markdown",
   "metadata": {},
   "source": [
    "#### Trigonometrik İşlemler\n",
    "1. sin() komutu: Sinus değerini hesaplamak için kullanılır.\n",
    "2. cos() komutu: Cosinus değerini hesaplamak için kullanılır.\n",
    "3. tan() komutu: Tanjant değerini hesaplamak için kullanılır.\n",
    "4. radians() komutu: Yukarıdaki fonksiyonları kullanabilmek için açı derecelerini ilk olarak radyan cinsine çevirmemiz gereklidir."
   ]
  },
  {
   "cell_type": "code",
   "execution_count": 22,
   "metadata": {},
   "outputs": [
    {
     "name": "stdout",
     "output_type": "stream",
     "text": [
      "1.5707963267948966\n",
      "1.0\n",
      "6.123233995736766e-17\n",
      "1.633123935319537e+16\n"
     ]
    }
   ],
   "source": [
    "derece=math.radians(90)\n",
    "print(derece)\n",
    "print(math.sin(derece))\n",
    "print(math.cos(derece))\n",
    "print(math.tan(derece))"
   ]
  },
  {
   "cell_type": "markdown",
   "metadata": {},
   "source": [
    "#### İkili Tabana Dönüştürme\n",
    "1. bin() komutu: Bir sayıyı ikili taban karşılığına dönüştürmek için kullanılır"
   ]
  },
  {
   "cell_type": "code",
   "execution_count": 25,
   "metadata": {},
   "outputs": [
    {
     "name": "stdout",
     "output_type": "stream",
     "text": [
      "0b10000000\n",
      "0b100\n",
      "0b10011100\n"
     ]
    }
   ],
   "source": [
    "print(bin(128))\n",
    "print(bin(4))\n",
    "print(bin(156))"
   ]
  },
  {
   "cell_type": "markdown",
   "metadata": {},
   "source": [
    "#### Bölüm ve Kalan Bulma\n",
    "1. divmod() komutu: Bir sayının başka bir sayıya bölümünü ve kalanı verir"
   ]
  },
  {
   "cell_type": "code",
   "execution_count": 26,
   "metadata": {},
   "outputs": [
    {
     "name": "stdout",
     "output_type": "stream",
     "text": [
      "(2, 2)\n"
     ]
    }
   ],
   "source": [
    "print(divmod(8,3))"
   ]
  },
  {
   "cell_type": "code",
   "execution_count": null,
   "metadata": {},
   "outputs": [],
   "source": []
  }
 ],
 "metadata": {
  "kernelspec": {
   "display_name": "Python 3",
   "language": "python",
   "name": "python3"
  },
  "language_info": {
   "codemirror_mode": {
    "name": "ipython",
    "version": 3
   },
   "file_extension": ".py",
   "mimetype": "text/x-python",
   "name": "python",
   "nbconvert_exporter": "python",
   "pygments_lexer": "ipython3",
   "version": "3.8.5"
  }
 },
 "nbformat": 4,
 "nbformat_minor": 4
}

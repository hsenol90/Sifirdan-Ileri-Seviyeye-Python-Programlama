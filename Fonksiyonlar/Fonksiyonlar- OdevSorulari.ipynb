{
 "cells": [
  {
   "cell_type": "markdown",
   "metadata": {},
   "source": [
    "## Fonksiyonlar- Ödev Soruları"
   ]
  },
  {
   "cell_type": "markdown",
   "metadata": {},
   "source": [
    "#### Ünlü Harf Sayısı Hesaplama Fonksiyonu\n",
    "Fonksiyon Açıklaması:\n",
    "\n",
    "Fonksiyon dışarıdan bir string alacak ve stringteki ünlü harflerin sayısını yazdıracak\n",
    "\n",
    "unluHarfler=['a','e','i','u','o']"
   ]
  },
  {
   "cell_type": "markdown",
   "metadata": {},
   "source": [
    "#### Cümledeki Ortalama Karakter Sayısını Hesaplayan Fonksiyon\n",
    "Fonksiyon Açıklaması:\n",
    "\n",
    "Fonksiyon dışarıdan bir cümle alacak ve bir kelimedeki ortalama karakter sayısını return edecek.\n",
    "\n",
    "ortalama karakter sayısı= toplam karakter / toplam kelime şeklinde hesaplayabilirsiniz"
   ]
  },
  {
   "cell_type": "markdown",
   "metadata": {},
   "source": [
    "#### Cümledeki Eşsiz Karakter Sayısını Hesaplama Fonksiyonu\n",
    "\n",
    "Fonksiyon Açıklaması:\n",
    "\n",
    "Fonksiyon dışarıdan bir String alacak ve Stringteki eşsiz karakterlerin sayısını return edecek\n",
    "\n",
    "Eşsiz Karakter: Her karakter 1 kere sayılacak, tekrar eden kelimeler 2.kere sayılmayacak"
   ]
  },
  {
   "cell_type": "markdown",
   "metadata": {},
   "source": [
    "#### Listedeki En Büyük ve En Küçük N. Sayıyı Hesaplayan Fonksiyon\n",
    "\n",
    "Fonksiyon Açıklaması:\n",
    "Fonksiyon dışarıdan bir liste ve bir N sayısı alacak, sırasıyla listenin en büyük ve en küçük N. sayısını return edecek\n",
    "\n",
    "Örneğin liste: 1,54,32,65,23,93, N sayısı 2 ise\n",
    "\n",
    "65 ve 23 sonuçlarını döndürecek\n"
   ]
  },
  {
   "cell_type": "markdown",
   "metadata": {},
   "source": [
    "#### Recursive OBEB-OKEK Hesaplayan Fonksiyon\n",
    "\n",
    "Fonksiyon Açıklaması:\n",
    "\n",
    "Fonksiyon dışarıdan 2 sayı alacak ve Recursive olarak OBEB-OKEK değerlerini hesaplayacak. Bunun için GCD algoritmasını inceleyebilirsiniz"
   ]
  }
 ],
 "metadata": {
  "kernelspec": {
   "display_name": "Python 3",
   "language": "python",
   "name": "python3"
  },
  "language_info": {
   "codemirror_mode": {
    "name": "ipython",
    "version": 3
   },
   "file_extension": ".py",
   "mimetype": "text/x-python",
   "name": "python",
   "nbconvert_exporter": "python",
   "pygments_lexer": "ipython3",
   "version": "3.8.5"
  }
 },
 "nbformat": 4,
 "nbformat_minor": 4
}

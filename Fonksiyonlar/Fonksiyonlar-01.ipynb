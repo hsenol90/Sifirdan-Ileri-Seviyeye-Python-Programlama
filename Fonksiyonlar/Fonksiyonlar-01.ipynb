{
 "cells": [
  {
   "cell_type": "markdown",
   "metadata": {},
   "source": [
    "## Fonksiyonlar"
   ]
  },
  {
   "cell_type": "markdown",
   "metadata": {},
   "source": [
    "#### Neden İhtiyacımız Var?\n",
    "\n",
    "1. Yazacağımız kodları alt parçalara bölebilmek ve kodun anlaşılabilirliğini arttırmak için\n",
    "2. Program içerisinde birden çok kez tekrar edicek durumları tek bir fonksiyon içerisinde yazıp kod tekrarını önlemek için"
   ]
  },
  {
   "cell_type": "markdown",
   "metadata": {},
   "source": [
    "#### Fonksiyon Tanımlanması\n",
    "\n",
    "###### Syntax Yapısı:\n",
    "\n",
    "def fonksiyon_ismi(fonksiyon_argumanlari):\n",
    "\n",
    "    fonksiyonda_yapilacak_islemler\n",
    "    \n",
    "#### ÖNEMLİ!\n",
    "Her fonksiyon bir argüman almak zorunda değildir, eğer ki argüman almıyorsa parantez içerisi boş bırakılır. Fonksiyonun parametre alıp almayacağı fonksiyonun yapacağı işe bağlıdır."
   ]
  },
  {
   "cell_type": "markdown",
   "metadata": {},
   "source": [
    "#### Parametresiz Fonksiyon ve Fonksiyon Çağrısı\n",
    "Eğer ki fonksiyon bir parametre almayacaksa, direkt olarak fonksiyon_ismi() şeklinde çağrılabilir"
   ]
  },
  {
   "cell_type": "code",
   "execution_count": 4,
   "metadata": {},
   "outputs": [
    {
     "name": "stdout",
     "output_type": "stream",
     "text": [
      "Merhaba\n"
     ]
    }
   ],
   "source": [
    "def selamla():\n",
    "    print(\"Merhaba\")\n",
    "selamla()"
   ]
  },
  {
   "cell_type": "markdown",
   "metadata": {},
   "source": [
    "#### Parametreli Fonksiyon ve Fonksiyon Çağrısı\n",
    "Eğer ki fonksiyon bir parametre alacaksa, fonksiyon_ismi(arguman) şeklinde çağrılabilir"
   ]
  },
  {
   "cell_type": "code",
   "execution_count": 8,
   "metadata": {},
   "outputs": [
    {
     "name": "stdout",
     "output_type": "stream",
     "text": [
      "<class 'str'>\n",
      "Merhaba Ogun\n",
      "<class 'str'>\n",
      "Merhaba Oguz\n",
      "<class 'int'>\n",
      "Merhaba 5\n"
     ]
    }
   ],
   "source": [
    "def selamla2(isim):\n",
    "    print(type(isim))\n",
    "    print(\"Merhaba\",isim)\n",
    "    \n",
    "selamla2(\"Ogun\")\n",
    "selamla2(\"Oguz\")\n",
    "selamla2(5)"
   ]
  },
  {
   "cell_type": "markdown",
   "metadata": {},
   "source": [
    "#### Varsayılan Parametre\n",
    "Bazı durumlarda dışarıdan alacağımız parametrelere varsayılan değerler atamamız gerekebilir. Eğer ki parametreli tanımlanmış fonksiyona çağrılma esnasında bir parametre gönderilmezse, TypeError hatası alacağız. İşte bu duruma önlem için varsayılan parametre tanımlanır, ve parametre gönderilmediği durumda varsayılan parametre kullanılır."
   ]
  },
  {
   "cell_type": "code",
   "execution_count": 11,
   "metadata": {},
   "outputs": [
    {
     "name": "stdout",
     "output_type": "stream",
     "text": [
      "Merhaba Ogun\n",
      "Merhaba Oguz\n"
     ]
    }
   ],
   "source": [
    "def selamla(isim=\"Oguz\"):\n",
    "    print(\"Merhaba\",isim)\n",
    "selamla(\"Ogun\")\n",
    "selamla()"
   ]
  },
  {
   "cell_type": "markdown",
   "metadata": {},
   "source": [
    "##### ÖNEMLİ\n",
    "\n",
    "Eğer ki fonksiyon birden fazla parametre alıyorsa ve ilk parametre varsayılan değere sahipse, ondan sonraki parametre de varsayılan değere sahip olmak zorundadır"
   ]
  },
  {
   "cell_type": "code",
   "execution_count": 16,
   "metadata": {},
   "outputs": [
    {
     "name": "stdout",
     "output_type": "stream",
     "text": [
      "Merhaba Ogun ve Oguz\n",
      "Merhaba Osman ve Neriman\n"
     ]
    }
   ],
   "source": [
    "def selamla2(isim=\"Ogun\",isim2=\"Oguz\"):\n",
    "    print(\"Merhaba {} ve {}\".format(isim,isim2))\n",
    "selamla2(\"Ogun\",\"Oguz\")\n",
    "selamla2(\"Osman\",\"Neriman\")"
   ]
  },
  {
   "cell_type": "markdown",
   "metadata": {},
   "source": [
    "#### Parametre İsmi ile Fonksiyon Çağrısı\n",
    "\n",
    "Fonksiyon çağırılırken eğer ki parametre ismi verirsek parametrelerin sırasının bir önemi yoktur."
   ]
  },
  {
   "cell_type": "code",
   "execution_count": 17,
   "metadata": {},
   "outputs": [
    {
     "name": "stdout",
     "output_type": "stream",
     "text": [
      "Merhaba Osman ve Neriman\n"
     ]
    }
   ],
   "source": [
    "selamla2(isim2=\"Neriman\",isim=\"Osman\")"
   ]
  },
  {
   "cell_type": "markdown",
   "metadata": {},
   "source": [
    "#### Değişken Sayıda Parametre\n",
    "\n",
    "Fonksiyon tanımlanması esnasında kaç adet parametre tanımlandıysa, fonksiyon çağrısı esnasında da o kadar sayıda parametre vermemiz gerekir. Ancak bazı durumlarda fonksiyonun alacağı parametre sayısı değişkenlik gösterebilir."
   ]
  },
  {
   "cell_type": "code",
   "execution_count": 21,
   "metadata": {},
   "outputs": [
    {
     "name": "stdout",
     "output_type": "stream",
     "text": [
      "1 12 3 84 54 121 \n",
      "5 \n",
      "12 54 36 \n",
      "\n"
     ]
    }
   ],
   "source": [
    "def elemanYazdir(*sayilar):\n",
    "    for sayi in sayilar:\n",
    "        print(sayi,end=\" \")\n",
    "    print(end=\"\\n\")\n",
    "    \n",
    "elemanYazdir(1,12,3,84,54,121)\n",
    "elemanYazdir(5)\n",
    "elemanYazdir(12,54,36)\n",
    "elemanYazdir()"
   ]
  },
  {
   "cell_type": "markdown",
   "metadata": {},
   "source": [
    "#### Fonksiyonların Geriye Sonuç Döndürmesi\n",
    "Fonksiyonlar, işlem yapıldıktan sonra geriye bir veya birden fazla sonuç döndürebilir. Döndürülen sonuçlar değişken veya değişkenlerde saklanmalıdır. Sonuç veya sonuçlar return keywordü ile geriye döndürülür, return komutu çalıştığı zaman fonksiyon sonlandırılır."
   ]
  },
  {
   "cell_type": "markdown",
   "metadata": {},
   "source": [
    "##### Fonksiyonların Geriye Tek Bir Sonuç Döndürmesi"
   ]
  },
  {
   "cell_type": "code",
   "execution_count": 26,
   "metadata": {},
   "outputs": [
    {
     "name": "stdout",
     "output_type": "stream",
     "text": [
      "65\n"
     ]
    }
   ],
   "source": [
    "def topla(sayi1,sayi2):\n",
    "    return sayi1+sayi2\n",
    "    \n",
    "sonuc=topla(15,50)\n",
    "print(sonuc)"
   ]
  },
  {
   "cell_type": "markdown",
   "metadata": {},
   "source": [
    "##### Fonksiyonların Geriye Birden Çok Sonuç Döndürmesi"
   ]
  },
  {
   "cell_type": "code",
   "execution_count": 29,
   "metadata": {},
   "outputs": [
    {
     "name": "stdout",
     "output_type": "stream",
     "text": [
      "1 96\n"
     ]
    }
   ],
   "source": [
    "def listeBuyukKucuk(liste):\n",
    "    liste.sort()\n",
    "    return liste[-1],liste[0]\n",
    "buyuk,kucuk=listeBuyukKucuk([1,7,12,3,5,96,35])\n",
    "print(kucuk,buyuk)"
   ]
  },
  {
   "cell_type": "markdown",
   "metadata": {},
   "source": [
    "#### Özyinelemeli Fonksiyonlar\n",
    "\n",
    "Kendi kendini çağıran fonksiyonlara özyinelemeli fonksiyon denilir. Bazı durumlarda fonksiyon içerisinde tekrar fonksiyon çağırılması gerekebilir"
   ]
  },
  {
   "cell_type": "code",
   "execution_count": 37,
   "metadata": {},
   "outputs": [
    {
     "name": "stdout",
     "output_type": "stream",
     "text": [
      "120\n"
     ]
    }
   ],
   "source": [
    "def faktoriyelHesapla(sayi):\n",
    "    if sayi==1:\n",
    "        return 1\n",
    "    return sayi*faktoriyelHesapla(sayi-1)\n",
    "print(faktoriyelHesapla(5))"
   ]
  },
  {
   "cell_type": "markdown",
   "metadata": {},
   "source": [
    "##### Yukarıdaki Kodun Çalışma Mantığı\n",
    "\n",
    "İlk olarak fonksiyon 5 sayısı ile çağırılmıştır ve sayi değişkenine 5 atanır\n",
    "\n",
    "1. Fonksiyon Çağrısı-> return 5*faktoriyelHesapla(4)         -> Kendi içerisinde faktoriyelHesapla fonksiyonu 4 ile çağırılır\n",
    "\n",
    "2. Fonksiyon Çağrısı-> return 4*faktoriyelHesapla(3)         -> Kendi içerisinde faktoriyelHesapla fonksiyonu 3 ile çağırılır\n",
    "\n",
    "3. Fonksiyon Çağrısı-> return 3*faktoriyelHesapla(2)         -> Kendi içerisinde faktoriyelHesapla fonksiyonu 2 ile çağırılır\n",
    "\n",
    "4. Fonksiyon Çağrısı-> return 2*faktoriyelHesapla(1)         -> Kendi içerisinde faktoriyelHesapla fonksiyonu 1 ile çağırılır\n",
    "\n",
    "5. Fonksiyon Çağrısı-> return 1\n",
    "\n",
    "Yani,\n",
    "\n",
    "faktoriyelHesapla(1) sonucu-> 1\n",
    "\n",
    "faktoriyelHesapla(2) sonucu-> 2*faktoriyelHesapla(1)=2\n",
    "\n",
    "faktoriyelHesapla(3) sonucu-> 3*faktoriyelHesapla(2)=6\n",
    "\n",
    "faktoriyelHesapla(4) sonucu-> 4*faktoriyelHesapla(3)=24\n",
    "\n",
    "faktoriyelHesapla(5) sonucu-> 5*faktoriyelHesapla(4)=120\n"
   ]
  },
  {
   "cell_type": "markdown",
   "metadata": {},
   "source": [
    "#### Local ve Global Kavramı\n",
    "Fonksiyon içerisinde tanımladığımız değişkenler local değişkenlerdir ve sadece fonksiyon blokları içerisinde kullanılabilir.\n",
    "Main fonksiyon içerisinde tanımladığımız değişkenler ise global değişkenlerdir ve tüm kod blokları içerisinde kullanılabilir."
   ]
  },
  {
   "cell_type": "code",
   "execution_count": 41,
   "metadata": {},
   "outputs": [
    {
     "name": "stdout",
     "output_type": "stream",
     "text": [
      "50\n",
      "50\n"
     ]
    }
   ],
   "source": [
    "def sayiDegistir(x):\n",
    "    print(y)\n",
    "    z=int()#local degisken\n",
    "    x=5#local degisken\n",
    "y=50#global degisken\n",
    "sayiDegistir(y)\n",
    "print(y)"
   ]
  }
 ],
 "metadata": {
  "kernelspec": {
   "display_name": "Python 3",
   "language": "python",
   "name": "python3"
  },
  "language_info": {
   "codemirror_mode": {
    "name": "ipython",
    "version": 3
   },
   "file_extension": ".py",
   "mimetype": "text/x-python",
   "name": "python",
   "nbconvert_exporter": "python",
   "pygments_lexer": "ipython3",
   "version": "3.8.5"
  }
 },
 "nbformat": 4,
 "nbformat_minor": 4
}

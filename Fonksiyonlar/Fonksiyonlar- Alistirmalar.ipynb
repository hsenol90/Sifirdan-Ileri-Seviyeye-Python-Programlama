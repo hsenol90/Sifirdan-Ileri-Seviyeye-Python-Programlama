{
 "cells": [
  {
   "cell_type": "markdown",
   "metadata": {},
   "source": [
    "## Fonksiyon- Alıştırmalar"
   ]
  },
  {
   "cell_type": "markdown",
   "metadata": {},
   "source": [
    "####  Cümledeki İstenen Karakteri Başka Bir İstenen Karakter İle Değiştiren Fonksiyon\n",
    "Fonksiyon Açıklaması:\n",
    "\n",
    "Fonksiyon cumle,eskiKarakter ve yeniKarakter parametreleri alacak ve cümledeki eski karakteri yeni karakter ile değiştirecek ve ardından yeni cumleyi return edecek\n",
    "\n",
    "Örneğin;\n",
    "\n",
    "cumle= \"ogunbirinci\", eski karakter=\"i\", yeni karakter de \"-\" olsun\n",
    "\n",
    "yeni cumle=\"ogunb-r-nc-\" olmalı"
   ]
  },
  {
   "cell_type": "code",
   "execution_count": 82,
   "metadata": {},
   "outputs": [],
   "source": [
    "def harfDegistir(cumle,eskiKarakter,yeniKarakter):\n",
    "    cumle=list(cumle)#listeye ceviriyorum\n",
    "    for indis in range(len(cumle)):\n",
    "        if cumle[indis]==eskiKarakter:\n",
    "            cumle[indis]=yeniKarakter\n",
    "    return cumle#liste"
   ]
  },
  {
   "cell_type": "code",
   "execution_count": 84,
   "metadata": {},
   "outputs": [
    {
     "name": "stdout",
     "output_type": "stream",
     "text": [
      "Lutfen degistirilecek cumleyi giriniz:fonksiyonlaralistirma\n",
      "Lutfen sirasiyla eski ve yeni karakterleri giriniz:i,*\n",
      "['f', 'o', 'n', 'k', 's', '*', 'y', 'o', 'n', 'l', 'a', 'r', 'a', 'l', '*', 's', 't', '*', 'r', 'm', 'a']\n"
     ]
    }
   ],
   "source": [
    "girilenCumle=input(\"Lutfen degistirilecek cumleyi giriniz:\")\n",
    "eskiHarf,yeniHarf=input(\"Lutfen sirasiyla eski ve yeni karakterleri giriniz:\").split(\",\")\n",
    "girilenCumle=str(harfDegistir(girilenCumle,eskiHarf,yeniHarf))\n",
    "print(girilenCumle)"
   ]
  },
  {
   "cell_type": "markdown",
   "metadata": {},
   "source": [
    "#### Cümlenin İlk Harflerini Büyük Harfe Çeviren Fonksiyon\n",
    "\n",
    "Fonksiyon Açıklaması: Fonksiyon dışarıdan bir cümle alacak ve tüm cümleleri büyük harfe çevirecek ve yeni cumleyi return edecek\n",
    "\n",
    "Örneğin;\n",
    "\n",
    "\"ogun birinci python kursu hazirliyor.lutfen dikkatli izle\" cümlesini\n",
    "\n",
    "\"Ogun birinci python kursu hazirliyor.Lutfen dikkatli izle\" cümlesine çevirilmelidir"
   ]
  },
  {
   "cell_type": "code",
   "execution_count": 90,
   "metadata": {},
   "outputs": [],
   "source": [
    "def buyukHarfeCevir(cumle):\n",
    "    cumle=list(cumle)#listeye cevirdik\n",
    "    cumle[0]=cumle[0].upper()\n",
    "    for indis in range(len(cumle)):\n",
    "        if cumle[indis]=='.':\n",
    "            if indis+1==len(cumle):\n",
    "                return cumle\n",
    "            indis+=1\n",
    "            cumle[indis]=cumle[indis].upper()\n",
    "    return cumle"
   ]
  },
  {
   "cell_type": "code",
   "execution_count": 91,
   "metadata": {},
   "outputs": [
    {
     "name": "stdout",
     "output_type": "stream",
     "text": [
      "Lutfen buyuk harfe cevrilecek cumleleri giriniz:ogun birinci python kursu hazirliyor.lutfen dikkatli izle\n",
      "['O', 'g', 'u', 'n', ' ', 'b', 'i', 'r', 'i', 'n', 'c', 'i', ' ', 'p', 'y', 't', 'h', 'o', 'n', ' ', 'k', 'u', 'r', 's', 'u', ' ', 'h', 'a', 'z', 'i', 'r', 'l', 'i', 'y', 'o', 'r', '.', 'L', 'u', 't', 'f', 'e', 'n', ' ', 'd', 'i', 'k', 'k', 'a', 't', 'l', 'i', ' ', 'i', 'z', 'l', 'e']\n"
     ]
    }
   ],
   "source": [
    "girilenCumle=input(\"Lutfen buyuk harfe cevrilecek cumleleri giriniz:\")\n",
    "girilenCumle=str(buyukHarfeCevir(girilenCumle))\n",
    "print(girilenCumle)"
   ]
  },
  {
   "cell_type": "markdown",
   "metadata": {},
   "source": [
    "#### Anagram Kontrol Fonksiyonu\n",
    "\n",
    "Fonksiyon Açıklaması:\n",
    "\n",
    "Fonksiyon dışarıdan 2 adet kelime alacak ve iki kelimenin birbirinin anagramı olup olmadığını sorgulayacak, eğer ki Anagram ise True değilse False sonuç döndürecek\n",
    "\n",
    "Anagram: Kelimenin harflerinin yerleri değiştirilerek başka bir kelime elde edilmesi."
   ]
  },
  {
   "cell_type": "code",
   "execution_count": 94,
   "metadata": {},
   "outputs": [],
   "source": [
    "def anagramKontrol(kelime1,kelime2):\n",
    "    if len(kelime1)!=len(kelime2):\n",
    "        return False\n",
    "    kelime1List,kelime2List=list(kelime1),list(kelime2)\n",
    "    kelime1List.sort()\n",
    "    kelime2List.sort()\n",
    "    print(kelime1List)\n",
    "    print(kelime2List)\n",
    "    for indis in range(len(kelime1List)):\n",
    "        if kelime1List[indis]!=kelime2List[indis]:\n",
    "            return False\n",
    "    return True"
   ]
  },
  {
   "cell_type": "code",
   "execution_count": 98,
   "metadata": {},
   "outputs": [
    {
     "name": "stdout",
     "output_type": "stream",
     "text": [
      "['a', 'a', 's', 'y']\n",
      "['a', 'a', 's', 'y']\n",
      "True\n"
     ]
    }
   ],
   "source": [
    "print(anagramKontrol(\"asya\",\"yasa\"))"
   ]
  },
  {
   "cell_type": "markdown",
   "metadata": {},
   "source": [
    "#### Palindrom Sorgu Fonksiyonu\n",
    "\n",
    "Fonksiyon Açıklaması:\n",
    "\n",
    "Fonksiyon dışarıdan bir string alacak ve Palindrom String olup olmadığını sorgulayacak. Eğer ki Palindrom ise True değilse False sonuç döndürecek\n",
    "\n",
    "Palindrom String: Kelimenin normal hali ve tersi  aynı olan kelimelere palindrom denilir."
   ]
  },
  {
   "cell_type": "code",
   "execution_count": 99,
   "metadata": {},
   "outputs": [],
   "source": [
    "def palindromSorgu(string):\n",
    "    stringTers=string[::-1]\n",
    "    if string==stringTers:\n",
    "        return True\n",
    "    return False"
   ]
  },
  {
   "cell_type": "code",
   "execution_count": 104,
   "metadata": {},
   "outputs": [
    {
     "name": "stdout",
     "output_type": "stream",
     "text": [
      "True\n"
     ]
    }
   ],
   "source": [
    "print(palindromSorgu(\"abccba\"))"
   ]
  },
  {
   "cell_type": "markdown",
   "metadata": {},
   "source": [
    "#### Recursive Fibonacci Serisi Yazdırma Fonksiyonu\n",
    "\n",
    "Fonksiyon Açıklaması:\n",
    "\n",
    "Fonksiyon dışarıdan bir sayı alacak ve o Fibonacci serisinin o kadar basamağını gösterecek\n",
    "\n",
    "Örneğin sayı 4 olsun;\n",
    "\n",
    "İlk olarak fonksiyon 4 sayısı ile çağırılmıştır ve sayi değişkenine 4 atanır\n",
    "\n",
    "Fonksiyon Çağrısı-> return recursiveFibonacci(3)+recursiveFibonacci(2)    \n",
    "\n",
    "Fonksiyon Çağrısı-> return recursiveFibonacci(2)+recursiveFibonacci(1)\n",
    "\n",
    "Fonksiyon Çağrısı-> return recursiveFibonacci(1)+recursiveFibonacci(0)\n",
    "\n",
    "\n",
    "Yani,\n",
    "\n",
    "recursiveFibonacci(0) sonucu-> 0\n",
    "\n",
    "recursiveFibonacci(1) sonucu-> 1\n",
    "\n",
    "recursiveFibonacci(2) sonucu-> recursiveFibonaci(1)+recursiveFibonacci(0)= 1\n",
    "\n",
    "recursiveFibonacci(3) sonucu-> recursiveFibonaci(2)+recursiveFibonacci(1)= 2\n",
    "\n",
    "recursiveFibonacci(4) sonucu-> recursiveFibonaci(3)+recursiveFibonacci(2)= 3"
   ]
  },
  {
   "cell_type": "code",
   "execution_count": 105,
   "metadata": {},
   "outputs": [],
   "source": [
    "def recursiveFibonacci(sayi):\n",
    "    if sayi==0 or sayi==1:\n",
    "        return sayi\n",
    "    return recursiveFibonacci(sayi-1)+recursiveFibonacci(sayi-2)"
   ]
  },
  {
   "cell_type": "code",
   "execution_count": 110,
   "metadata": {},
   "outputs": [
    {
     "name": "stdout",
     "output_type": "stream",
     "text": [
      "0\n",
      "1\n",
      "1\n",
      "2\n",
      "3\n",
      "5\n",
      "8\n",
      "13\n",
      "21\n",
      "34\n"
     ]
    }
   ],
   "source": [
    "for i in range(10):\n",
    "    print(recursiveFibonacci(i))"
   ]
  }
 ],
 "metadata": {
  "kernelspec": {
   "display_name": "Python 3",
   "language": "python",
   "name": "python3"
  },
  "language_info": {
   "codemirror_mode": {
    "name": "ipython",
    "version": 3
   },
   "file_extension": ".py",
   "mimetype": "text/x-python",
   "name": "python",
   "nbconvert_exporter": "python",
   "pygments_lexer": "ipython3",
   "version": "3.8.5"
  }
 },
 "nbformat": 4,
 "nbformat_minor": 4
}

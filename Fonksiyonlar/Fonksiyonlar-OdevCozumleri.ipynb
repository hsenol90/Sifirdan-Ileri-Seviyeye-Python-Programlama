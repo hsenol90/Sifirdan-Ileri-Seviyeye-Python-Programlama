{
 "cells": [
  {
   "cell_type": "markdown",
   "metadata": {},
   "source": [
    "#### Ünlü Harf Sayısı Hesaplama Fonksiyonu\n",
    "Fonksiyon Açıklaması:\n",
    "\n",
    "Fonksiyon dışarıdan bir string alacak ve stringteki ünlü harflerin sayısını yazdıracak\n",
    "\n",
    "unluHarfler=['a','e','i','u','o']"
   ]
  },
  {
   "cell_type": "code",
   "execution_count": 1,
   "metadata": {},
   "outputs": [],
   "source": [
    "def unluHarfHesapla(string):\n",
    "    unluHarfler=['a','e','i','u','o']\n",
    "    unluHarfSayilari=[0 for i in range(5)]\n",
    "    for indeks in range(len(unluHarfler)):\n",
    "        if unluHarfler[indeks] in string:\n",
    "            sayi=string.count(unluHarfler[indeks])\n",
    "            unluHarfSayilari[indeks]=sayi\n",
    "    for indeks in range(len(unluHarfler)):\n",
    "        print(\"{} harfi {} kere gecmektedir.\".format(unluHarfler[indeks],unluHarfSayilari[indeks]))"
   ]
  },
  {
   "cell_type": "code",
   "execution_count": 3,
   "metadata": {},
   "outputs": [
    {
     "name": "stdout",
     "output_type": "stream",
     "text": [
      "a harfi 3 kere gecmektedir.\n",
      "e harfi 2 kere gecmektedir.\n",
      "i harfi 4 kere gecmektedir.\n",
      "u harfi 1 kere gecmektedir.\n",
      "o harfi 0 kere gecmektedir.\n"
     ]
    }
   ],
   "source": [
    "unluHarfHesapla(\"aaaeeiiiiu\")"
   ]
  },
  {
   "cell_type": "markdown",
   "metadata": {},
   "source": [
    "#### Cümledeki Ortalama Karakter Sayısını Hesaplayan Fonksiyon\n",
    "Fonksiyon Açıklaması:\n",
    "\n",
    "Fonksiyon dışarıdan bir cümle alacak ve bir kelimedeki ortalama karakter sayısını return edecek.\n",
    "\n",
    "ortalama karakter sayısı= toplam karakter / toplam kelime şeklinde hesaplayabilirsiniz"
   ]
  },
  {
   "cell_type": "code",
   "execution_count": 9,
   "metadata": {},
   "outputs": [],
   "source": [
    "def ortalamaHarfSayisiHesapla(string):\n",
    "    toplamKelime=0\n",
    "    toplamKarakter=0\n",
    "    for ch in string:\n",
    "        if ch==\" \":\n",
    "            toplamKelime+=1\n",
    "        toplamKarakter+=1\n",
    "    toplamKelime+=1\n",
    "    print(\"Toplam karakter sayisi {} ve toplam kelime sayisi {}\".format(toplamKarakter,toplamKelime))\n",
    "    return toplamKarakter//toplamKelime"
   ]
  },
  {
   "cell_type": "code",
   "execution_count": 10,
   "metadata": {},
   "outputs": [
    {
     "name": "stdout",
     "output_type": "stream",
     "text": [
      "Toplam karakter sayisi 54 ve toplam kelime sayisi 8\n",
      "6\n"
     ]
    }
   ],
   "source": [
    "print(ortalamaHarfSayisiHesapla(\"Ogun Birinci su an Python programlama kursu hazirliyor\"))"
   ]
  },
  {
   "cell_type": "markdown",
   "metadata": {},
   "source": [
    "#### Cümledeki Eşsiz Karakter Sayısını Hesaplama Fonksiyonu\n",
    "\n",
    "Fonksiyon Açıklaması:\n",
    "\n",
    "Fonksiyon dışarıdan bir String alacak ve Stringteki eşsiz karakterlerin sayısını return edecek\n",
    "\n",
    "Eşsiz Karakter: Her karakter 1 kere sayılacak, tekrar eden harfler 2.kere sayılmayacak"
   ]
  },
  {
   "cell_type": "code",
   "execution_count": 13,
   "metadata": {},
   "outputs": [],
   "source": [
    "def essizKarakterHesapla(string):\n",
    "    harfListesi=[]\n",
    "    for ch in string:\n",
    "        if ch not in harfListesi:\n",
    "            harfListesi.append(ch)\n",
    "    print(harfListesi)\n",
    "    return len(harfListesi)\n",
    "        "
   ]
  },
  {
   "cell_type": "code",
   "execution_count": 14,
   "metadata": {},
   "outputs": [
    {
     "name": "stdout",
     "output_type": "stream",
     "text": [
      "['o', 'g', 'u', 'n', 'b', 'i', 'r', 'c']\n",
      "8\n"
     ]
    }
   ],
   "source": [
    "print(essizKarakterHesapla(\"ogunbirinci\"))"
   ]
  },
  {
   "cell_type": "markdown",
   "metadata": {},
   "source": [
    "#### Listedeki En Büyük ve En Küçük N. Sayıyı Hesaplayan Fonksiyon\n",
    "\n",
    "Fonksiyon Açıklaması:\n",
    "Fonksiyon dışarıdan bir liste ve bir N sayısı alacak, sırasıyla listenin en büyük ve en küçük N. sayısını return edecek\n",
    "\n",
    "Örneğin liste: 1,54,32,65,23,93, N sayısı 2 ise\n",
    "\n",
    "65 ve 23 sonuçlarını döndürecek\n"
   ]
  },
  {
   "cell_type": "code",
   "execution_count": 24,
   "metadata": {},
   "outputs": [],
   "source": [
    "def enBuyukNenKucukN(liste,N):\n",
    "    liste.sort()\n",
    "    print(liste)\n",
    "    return liste[-N],liste[N-1]"
   ]
  },
  {
   "cell_type": "code",
   "execution_count": 26,
   "metadata": {},
   "outputs": [
    {
     "name": "stdout",
     "output_type": "stream",
     "text": [
      "[1, 23, 32, 54, 65, 93]\n",
      "54 ve 32\n"
     ]
    }
   ],
   "source": [
    "buyukN,kucukN=enBuyukNenKucukN([1,54,32,65,23,93],3)\n",
    "print(\"{} ve {}\".format(buyukN,kucukN))"
   ]
  },
  {
   "cell_type": "markdown",
   "metadata": {},
   "source": [
    "#### Recursive OBEB-OKEK Hesaplayan Fonksiyon\n",
    "\n",
    "Fonksiyon Açıklaması:\n",
    "\n",
    "Fonksiyon dışarıdan 2 sayı alacak ve Recursive olarak OBEB-OKEK değerlerini hesaplayacak. Bunun için GCD algoritmasını inceleyebilirsiniz"
   ]
  },
  {
   "cell_type": "code",
   "execution_count": 5,
   "metadata": {},
   "outputs": [],
   "source": [
    "def recursiveOBEB(sayi1,sayi2):\n",
    "    if sayi2==0:\n",
    "        return sayi1\n",
    "    return recursiveOBEB(sayi2,sayi1%sayi2)\n",
    "\n",
    "def recursiveOKEK(sayi1,sayi2):\n",
    "    return sayi1*sayi2//recursiveOBEB(sayi1,sayi2)"
   ]
  },
  {
   "cell_type": "code",
   "execution_count": 7,
   "metadata": {},
   "outputs": [
    {
     "name": "stdout",
     "output_type": "stream",
     "text": [
      "4 ve 7 sayilarinin OBEB ve OKEK sonuclari sirasiyla:1 ve 28.\n"
     ]
    }
   ],
   "source": [
    "print(\"{} ve {} sayilarinin OBEB ve OKEK sonuclari sirasiyla:{} ve {}.\".format(4,7,recursiveOBEB(4,7),recursiveOKEK(4,7)))"
   ]
  },
  {
   "cell_type": "markdown",
   "metadata": {},
   "source": [
    "##### Yukarıdaki Kodun Açıklaması:\n",
    "\n",
    "recursiveOBEB(3,5)\n",
    "\n",
    "Fonksiyon Çağrısı-> return recursiveOBEB(5,3)\n",
    "\n",
    "Fonksiyon Çağrısı-> return recursiveOBEB(3,2)\n",
    "\n",
    "Fonksiyon Çağrısı-> return recursiveOBEB(2,1)\n",
    "\n",
    "Fonksiyon Çağrısı-> return recursiveOBEB(1,0) sonuc olarak 1 donecek\n",
    "\n",
    "recursiveOKEK(3,5)\n",
    "\n",
    "Fonksiyon Çağrısı: return 3*5//recursiveOBEB(3,5)-> 15/1= 15 sonuc olarak donecek\n"
   ]
  }
 ],
 "metadata": {
  "kernelspec": {
   "display_name": "Python 3",
   "language": "python",
   "name": "python3"
  },
  "language_info": {
   "codemirror_mode": {
    "name": "ipython",
    "version": 3
   },
   "file_extension": ".py",
   "mimetype": "text/x-python",
   "name": "python",
   "nbconvert_exporter": "python",
   "pygments_lexer": "ipython3",
   "version": "3.8.5"
  }
 },
 "nbformat": 4,
 "nbformat_minor": 4
}

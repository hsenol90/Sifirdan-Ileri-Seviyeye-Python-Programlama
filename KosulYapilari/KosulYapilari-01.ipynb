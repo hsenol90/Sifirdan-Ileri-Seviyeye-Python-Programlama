{
 "cells": [
  {
   "cell_type": "markdown",
   "metadata": {},
   "source": [
    "## If-Else-Elif Yapıları\n",
    "\n",
    "Eğer ki sorguladığımız koşul durumunun sonucu True(0 veya null değil) ise if veya elif bloğu çalışacaktır.\n",
    "\n",
    "Eğer ki sorguladığımız koşul durumu için if-else if blokları çalışmazsa else bloğu çalışacaktır.\n",
    "\n",
    "#### Syntax Yapısı:\n",
    "\n",
    "if sorgulanacak durum:\n",
    "\n",
    "    if blogunun icerisine yazilacak kod\n",
    "    \n",
    "elif sorgulanacak durum:\n",
    "\n",
    "    elif blogunun icerisine yazilacak kod\n",
    "..\n",
    "\n",
    "else:\n",
    "  \n",
    "    else blogunun icerisine yazilacak kod\n"
   ]
  },
  {
   "cell_type": "code",
   "execution_count": 7,
   "metadata": {},
   "outputs": [
    {
     "name": "stdout",
     "output_type": "stream",
     "text": [
      "Else bloguna girdi\n"
     ]
    }
   ],
   "source": [
    "if 2>3:\n",
    "    print(\"If bloguna girdi.\")\n",
    "elif 6>7:\n",
    "    print(\"Elif bloguna girdi.\")\n",
    "else:\n",
    "    print(\"Else bloguna girdi\") \n"
   ]
  },
  {
   "cell_type": "markdown",
   "metadata": {},
   "source": [
    "#### Çift-Tek Sorgusu Yapalım"
   ]
  },
  {
   "cell_type": "code",
   "execution_count": 31,
   "metadata": {},
   "outputs": [
    {
     "name": "stdout",
     "output_type": "stream",
     "text": [
      "Sorgulanacak sayiyi giriniz:25\n",
      "25 tek sayidir\n"
     ]
    }
   ],
   "source": [
    "sayi=int(input(\"Sorgulanacak sayiyi giriniz:\"))\n",
    "if sayi%2:\n",
    "    print(sayi,\"tek sayidir\")\n",
    "else:\n",
    "    print(sayi,\"cift sayidir\")"
   ]
  },
  {
   "cell_type": "markdown",
   "metadata": {},
   "source": [
    "#### İki Sayıyı Karşılaştıralım"
   ]
  },
  {
   "cell_type": "code",
   "execution_count": 30,
   "metadata": {},
   "outputs": [
    {
     "name": "stdout",
     "output_type": "stream",
     "text": [
      "Ilk sayi:2 ve ikinci sayi:1\n",
      "2 sayisi 1 sayisindan daha buyuktur\n"
     ]
    }
   ],
   "source": [
    "import random\n",
    "sayi1=random.randint(1,5)\n",
    "sayi2=random.randint(1,5)\n",
    "\n",
    "print(\"Ilk sayi:{} ve ikinci sayi:{}\".format(sayi1,sayi2))\n",
    "\n",
    "if sayi1>sayi2:\n",
    "    print(\"{} sayisi {} sayisindan daha buyuktur\".format(sayi1,sayi2))\n",
    "elif sayi2>sayi1:\n",
    "    print(\"{} sayisi {} sayisindan daha kucuktur\".format(sayi1,sayi2))\n",
    "else:\n",
    "    print(\"{} sayisi {} sayisina esittir\".format(sayi1,sayi2))"
   ]
  },
  {
   "cell_type": "code",
   "execution_count": null,
   "metadata": {},
   "outputs": [],
   "source": []
  }
 ],
 "metadata": {
  "kernelspec": {
   "display_name": "Python 3",
   "language": "python",
   "name": "python3"
  },
  "language_info": {
   "codemirror_mode": {
    "name": "ipython",
    "version": 3
   },
   "file_extension": ".py",
   "mimetype": "text/x-python",
   "name": "python",
   "nbconvert_exporter": "python",
   "pygments_lexer": "ipython3",
   "version": "3.8.5"
  }
 },
 "nbformat": 4,
 "nbformat_minor": 4
}

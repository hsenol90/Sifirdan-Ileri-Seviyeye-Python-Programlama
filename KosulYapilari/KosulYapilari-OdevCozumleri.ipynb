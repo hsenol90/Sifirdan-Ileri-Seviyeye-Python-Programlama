{
 "cells": [
  {
   "cell_type": "markdown",
   "metadata": {},
   "source": [
    "## Koşul Yapıları- Ödev Çözümleri\n"
   ]
  },
  {
   "cell_type": "markdown",
   "metadata": {},
   "source": [
    "### 1.Soru: Basamak Sayısı Hesaplama\n",
    "Soru Açıklaması:\n",
    "\n",
    "Maksimum 5 basamaklı üreteceğiniz bir rastgele sayının kaç basamaklı olduğunu hesaplayın.\n"
   ]
  },
  {
   "cell_type": "code",
   "execution_count": 68,
   "metadata": {},
   "outputs": [
    {
     "name": "stdout",
     "output_type": "stream",
     "text": [
      "79049 sayisi 5 basamaklidir.\n"
     ]
    }
   ],
   "source": [
    "import random\n",
    "uretilenSayi=random.randint(1,99999)\n",
    "\n",
    "if uretilenSayi<10:\n",
    "    print(\"{} sayisi 1 basamaklidir.\".format(uretilenSayi))\n",
    "elif uretilenSayi<100:\n",
    "    print(\"{} sayisi 2 basamaklidir.\".format(uretilenSayi))\n",
    "elif uretilenSayi<1000:\n",
    "    print(\"{} sayisi 3 basamaklidir.\".format(uretilenSayi))\n",
    "elif uretilenSayi<10000:\n",
    "    print(\"{} sayisi 4 basamaklidir.\".format(uretilenSayi))\n",
    "else:\n",
    "    print(\"{} sayisi 5 basamaklidir.\".format(uretilenSayi))"
   ]
  },
  {
   "cell_type": "markdown",
   "metadata": {},
   "source": [
    "### 2.Soru: Alışveriş-Fiyat Hesaplama\n",
    "Soru Açıklaması:\n",
    "\n",
    "Bir fiyat hesaplama programı yaptığınızı düşünün, kullanıcının taksit isteyip istemediği ve alışveriş kartının olup\n",
    "olmadığına göre fiyat güncellemesi yapın.\n",
    "\n",
    "Koşul 1-> Eğer ki taksit istiyorsa 3 taksit için %3, 6 taksit için %6, 9 taksit için %9 fiyat artışı olacak.\n",
    "\n",
    "Koşul 2-> Eğer ki alışveriş kartı varsa, %10 indirim sağlanacak"
   ]
  },
  {
   "cell_type": "code",
   "execution_count": 79,
   "metadata": {},
   "outputs": [
    {
     "name": "stdout",
     "output_type": "stream",
     "text": [
      "Yaptiginiz alisveris tutari: 8185₺\n",
      "Taksit ister misiniz?(E-H)E\n",
      "Taksit Uygulama Ekrani\n",
      "Kac taksit uygulanmasini istersiniz(3-6-9):12\n",
      "Gecersiz bir taksit miktari girdiniz!\n",
      "Alisveris kartiniz var mi(E-H)H\n",
      "Herhangi bir indirim uygulanmadi!\n",
      "Son Tutar:8185₺\n"
     ]
    }
   ],
   "source": [
    "import random\n",
    "alisverisTutari=random.randint(1,10000)\n",
    "print(\"Yaptiginiz alisveris tutari: {}₺\".format(alisverisTutari))\n",
    "taksitKontrol=input(\"Taksit ister misiniz?(E-H)\")\n",
    "if taksitKontrol=='E' or taksitKontrol=='e':\n",
    "    print(\"Taksit Uygulama Ekrani\")\n",
    "    taksitMiktari=int(input(\"Kac taksit uygulanmasini istersiniz(3-6-9):\"))\n",
    "    if taksitMiktari==3:\n",
    "        print(\"3 Taksit Uygulaniyor...\")\n",
    "        alisverisTutari+=alisverisTutari*0.03\n",
    "        print(\"Taksit sonrasi tutar:{}₺\".format(alisverisTutari))\n",
    "    elif taksitMiktari==6:\n",
    "        print(\"6 Taksit Uygulaniyor...\")\n",
    "        alisverisTutari+=alisverisTutari*0.06\n",
    "        print(\"Taksit sonrasi tutar:{}₺\".format(alisverisTutari))\n",
    "    elif taksitMiktari==9:\n",
    "        print(\"9 Taksit Uygulaniyor...\")\n",
    "        alisverisTutari+=alisverisTutari*0.09\n",
    "        print(\"Taksit sonrasi tutar:{}₺\".format(alisverisTutari))\n",
    "    else:\n",
    "        print(\"Gecersiz bir taksit miktari girdiniz!\")\n",
    "else:\n",
    "    print(\"Taksit Uygulanmayacak!\")\n",
    "kartKontrol=input(\"Alisveris kartiniz var mi(E-H)\")\n",
    "if kartKontrol=='E' or kartKontrol=='e':\n",
    "    print(\"Kart Indirim Ekrani\")\n",
    "    alisverisTutari-=alisverisTutari*0.1\n",
    "    print(\"Indirim sonrasi tutar:{}₺\".format(alisverisTutari))\n",
    "else:\n",
    "    print(\"Herhangi bir indirim uygulanmadi!\")\n",
    "print(\"Son Tutar:{}₺\".format(alisverisTutari))"
   ]
  },
  {
   "cell_type": "markdown",
   "metadata": {},
   "source": [
    "### 3.Soru: Üçgen Oluşturma Şartı Hesaplama\n",
    "Soru Açıklaması:\n",
    "\n",
    "Kullanıcıdan bir üçgenin üç kenar bilgisini alın, ardından bu 3 kenar bilgisine göre (x,y,z) bir üçgen oluşturulabiliyor mu bunu kontrol edin.\n",
    "\n",
    "Koşul 1-> x kenarı için: |y-z| < x < y+z olmalı\n",
    "\n",
    "Koşul 2-> y kenarı için: |x-z| < y < x+z olmalı\n",
    "\n",
    "Koşul 3-> z kenarı için: |x-y| < z < x+y olmalı"
   ]
  },
  {
   "cell_type": "code",
   "execution_count": 83,
   "metadata": {},
   "outputs": [
    {
     "name": "stdout",
     "output_type": "stream",
     "text": [
      "Lutfen sirasiyla 3 kenar bilgisini ',' ile ayirarak giriniz: 3,18,97\n",
      "x kenari ucgen sartini saglamiyor!\n"
     ]
    }
   ],
   "source": [
    "x,y,z=map(int,input(\"Lutfen sirasiyla 3 kenar bilgisini ',' ile ayirarak giriniz: \").split(\",\"))\n",
    "\n",
    "if abs(y-z)>=x or x>=y+z:\n",
    "    print(\"x kenari ucgen sartini saglamiyor!\")\n",
    "elif abs(x-z)>=y or y>=x+z:\n",
    "    print(\"y kenari ucgen sartini saglamiyor!\")\n",
    "elif abs(x-y)>=z or z>=x+y:\n",
    "    print(\"z kenari ucgen sartini saglamiyor!\")\n",
    "else:\n",
    "    print(\"Ucgen olusabilir!\")"
   ]
  },
  {
   "cell_type": "code",
   "execution_count": null,
   "metadata": {},
   "outputs": [],
   "source": []
  },
  {
   "cell_type": "code",
   "execution_count": null,
   "metadata": {},
   "outputs": [],
   "source": []
  },
  {
   "cell_type": "code",
   "execution_count": null,
   "metadata": {},
   "outputs": [],
   "source": []
  },
  {
   "cell_type": "code",
   "execution_count": null,
   "metadata": {},
   "outputs": [],
   "source": []
  },
  {
   "cell_type": "code",
   "execution_count": null,
   "metadata": {},
   "outputs": [],
   "source": []
  },
  {
   "cell_type": "code",
   "execution_count": null,
   "metadata": {},
   "outputs": [],
   "source": []
  },
  {
   "cell_type": "code",
   "execution_count": null,
   "metadata": {},
   "outputs": [],
   "source": []
  },
  {
   "cell_type": "code",
   "execution_count": null,
   "metadata": {},
   "outputs": [],
   "source": []
  },
  {
   "cell_type": "code",
   "execution_count": null,
   "metadata": {},
   "outputs": [],
   "source": []
  }
 ],
 "metadata": {
  "kernelspec": {
   "display_name": "Python 3",
   "language": "python",
   "name": "python3"
  },
  "language_info": {
   "codemirror_mode": {
    "name": "ipython",
    "version": 3
   },
   "file_extension": ".py",
   "mimetype": "text/x-python",
   "name": "python",
   "nbconvert_exporter": "python",
   "pygments_lexer": "ipython3",
   "version": "3.8.5"
  }
 },
 "nbformat": 4,
 "nbformat_minor": 4
}

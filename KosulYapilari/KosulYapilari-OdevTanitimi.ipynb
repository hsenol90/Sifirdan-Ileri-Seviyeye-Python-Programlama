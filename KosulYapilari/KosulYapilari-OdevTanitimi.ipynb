{
 "cells": [
  {
   "cell_type": "markdown",
   "metadata": {},
   "source": [
    "## Koşul Yapıları- Ödev Soruları\n"
   ]
  },
  {
   "cell_type": "markdown",
   "metadata": {},
   "source": [
    "### 1.Soru: Basamak Sayısı Hesaplama\n",
    "Soru Açıklaması:\n",
    "\n",
    "Maksimum 5 basamaklı üreteceğiniz bir rastgele sayının kaç basamaklı olduğunu hesaplayın.\n"
   ]
  },
  {
   "cell_type": "markdown",
   "metadata": {},
   "source": [
    "### 2.Soru: Alışveriş-Fiyat Hesaplama\n",
    "Soru Açıklaması:\n",
    "\n",
    "Bir fiyat hesaplama programı yaptığınızı düşünün, kullanıcının taksit isteyip istemediği ve alışveriş kartının olup\n",
    "olmadığına göre fiyat güncellemesi yapın.\n",
    "\n",
    "Koşul 1-> Eğer ki taksit istiyorsa 3 taksit için %3, 6 taksit için %6, 9 taksit için %9 fiyat artışı olacak.\n",
    "Koşul 2-> Eğer ki alışveriş kartı varsa, %10 indirim sağlanacak"
   ]
  },
  {
   "cell_type": "markdown",
   "metadata": {},
   "source": [
    "### 3.Soru: Üçgen Oluşturma Şartı Hesaplama\n",
    "Soru Açıklaması:\n",
    "\n",
    "Kullanıcıdan bir üçgenin üç kenar bilgisini alın, ardından bu 3 kenar bilgisine göre (x,y,z) bir üçgen oluşturulabiliyor mu bunu kontrol edin.\n",
    "\n",
    "Koşul 1-> x kenarı için: |y-z| < x < y+z olmalı\n",
    "Koşul 2-> y kenarı için: |x-z| < y < x+z olmalı\n",
    "Koşul 3-> z kenarı için: |x-y| < z < x+y olmalı"
   ]
  }
 ],
 "metadata": {
  "kernelspec": {
   "display_name": "Python 3",
   "language": "python",
   "name": "python3"
  },
  "language_info": {
   "codemirror_mode": {
    "name": "ipython",
    "version": 3
   },
   "file_extension": ".py",
   "mimetype": "text/x-python",
   "name": "python",
   "nbconvert_exporter": "python",
   "pygments_lexer": "ipython3",
   "version": "3.8.5"
  }
 },
 "nbformat": 4,
 "nbformat_minor": 4
}

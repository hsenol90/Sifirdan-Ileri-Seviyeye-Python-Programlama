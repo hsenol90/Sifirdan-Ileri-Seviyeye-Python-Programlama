{
 "cells": [
  {
   "cell_type": "markdown",
   "metadata": {},
   "source": [
    "## Koşul Yapıları- Alıştırma"
   ]
  },
  {
   "cell_type": "markdown",
   "metadata": {},
   "source": [
    "#### Hesap Makinesi Yapalım\n",
    "\n",
    "Kullanıcının basit aritmetik işlemleri yaptırabileceği bir hesap makinesi yapacağız; toplama,çıkarma,çarpma,bölme,üs ve mod alma işlemlerinin sonucu hesaplanabilecek.\n",
    "\n",
    "Koşul 1-> Girilen operatör (+,-,*,/,^,%) olmalı"
   ]
  },
  {
   "cell_type": "code",
   "execution_count": 8,
   "metadata": {},
   "outputs": [
    {
     "name": "stdout",
     "output_type": "stream",
     "text": [
      "\n",
      "\t\t Hesap Makinesine Hosgeldiniz\n",
      "\t\t 1. Toplama Islemi Icin: '+'\n",
      "\t\t 2. Cikarma Islemi Icin: '-'\n",
      "\t\t 3. Carpma Islemi Icin:  '*'\n",
      "\t\t 4. Bolme Islemi Icin:   '/'\n",
      "\t\t 5. Us Alma Islemi Icin: '^'\n",
      "\t\t 6. Mod Alma Islemi Icin: '%'\n",
      "\n",
      "Lutfen Yapilacak Islemin Operatorunu Giriniz:^\n",
      "Sirasiyla 2 sayiyi giriniz8,4\n",
      "Islem Sonucu: 4096\n"
     ]
    }
   ],
   "source": [
    "girisEkranMetni=\"\"\"\n",
    "\\t\\t Hesap Makinesine Hosgeldiniz\n",
    "\\t\\t 1. Toplama Islemi Icin: '+'\n",
    "\\t\\t 2. Cikarma Islemi Icin: '-'\n",
    "\\t\\t 3. Carpma Islemi Icin:  '*'\n",
    "\\t\\t 4. Bolme Islemi Icin:   '/'\n",
    "\\t\\t 5. Us Alma Islemi Icin: '^'\n",
    "\\t\\t 6. Mod Alma Islemi Icin: '%'\n",
    "\"\"\"\n",
    "print(girisEkranMetni)\n",
    "yapilacakIslem=input(\"Lutfen Yapilacak Islemin Operatorunu Giriniz:\")\n",
    "if yapilacakIslem=='+' or yapilacakIslem=='-' or yapilacakIslem=='*' or yapilacakIslem=='/' or yapilacakIslem=='^' or yapilacakIslem=='%':\n",
    "    sayi1,sayi2=map(int,input(\"Sirasiyla 2 sayiyi giriniz\").split(\",\"))\n",
    "    if yapilacakIslem=='+':\n",
    "        print(\"Islem Sonucu:\",sayi1+sayi2)\n",
    "    elif yapilacakIslem=='-':\n",
    "        print(\"Islem Sonucu:\",sayi1-sayi2)\n",
    "    elif yapilacakIslem=='*':\n",
    "        print(\"Islem Sonucu:\",sayi1*sayi2)\n",
    "    elif yapilacakIslem=='/':\n",
    "        print(\"Islem Sonucu:\",sayi1/sayi2)\n",
    "    elif yapilacakIslem=='^':\n",
    "        print(\"Islem Sonucu:\",sayi1**sayi2)\n",
    "    elif yapilacakIslem=='%':\n",
    "        print(\"Islem Sonucu:\",sayi1%sayi2)\n",
    "    \n",
    "else:\n",
    "    print(\"Hata! Yanlis tuslama\")\n",
    "    "
   ]
  },
  {
   "cell_type": "markdown",
   "metadata": {},
   "source": [
    "#### Bankamatik Programı Yapalım\n",
    "\n",
    "Kullanıcının belirli bir bakiyesinin ve günlük para çekme limitinin olduğu bir bankamatik programı yapacağız. Kullanıcı para çekme, para yatırma ve bakiye görüntüleme işlemlerini belirli sorgulara göre yapabilecek.\n",
    "\n",
    "Koşul 1-> Kullanıcının çekmek istediği para miktarı bakiyesinden fazla olamaz!\n",
    "\n",
    "Koşul 2-> Kullanıcının çekmek istediği para miktarı günlük para çekme limitinden fazla olamaz!"
   ]
  },
  {
   "cell_type": "code",
   "execution_count": 21,
   "metadata": {},
   "outputs": [
    {
     "name": "stdout",
     "output_type": "stream",
     "text": [
      "\n",
      "\t\t ATM'ye Hosgeldiniz\n",
      "\t\t 1. Para Cekmek Icin: 1\n",
      "\t\t 2. Para Yatirmak Icin: 2\n",
      "\t\t 3. Bakiye Goruntulemek Icin: 3 \n",
      "\n",
      "Lutfen yapmak istediginiz islemi giriniz:2\n",
      "Para Yatirma Ekrani\n",
      "Lutfen yatirmak istediginiz para miktarini giriniz:500\n",
      "Guncel Bakiye: 1750.0\n"
     ]
    }
   ],
   "source": [
    "kullaniciBakiyesi,gunlukLimit=1250.0,500.0\n",
    "girisEkranMetni=\"\"\"\n",
    "\\t\\t ATM'ye Hosgeldiniz\n",
    "\\t\\t 1. Para Cekmek Icin: 1\n",
    "\\t\\t 2. Para Yatirmak Icin: 2\n",
    "\\t\\t 3. Bakiye Goruntulemek Icin: 3 \n",
    "\"\"\"\n",
    "print(girisEkranMetni)\n",
    "kullaniciGirisi=int(input(\"Lutfen yapmak istediginiz islemi giriniz:\"))\n",
    "\n",
    "if kullaniciGirisi==1:\n",
    "    print(\"Para Cekme Ekrani\")\n",
    "    miktar=int(input(\"Lutfen cekmek istediginiz para miktarini giriniz:\"))\n",
    "    if miktar>kullaniciBakiyesi:\n",
    "        print(\"Cekmek istediginiz para miktari bakiyenizden fazla olamaz!\")\n",
    "    elif miktar>gunlukLimit:\n",
    "        print(\"Cekmek istediginiz para miktari gunluk para cekme limitinizden fazla olamaz!\")\n",
    "    else:\n",
    "        kullaniciBakiyesi-=miktar #kullaniciBakiyesi=kullaniciBakiyesi-miktar\n",
    "    print(\"Guncel Bakiye:\",kullaniciBakiyesi)      \n",
    "elif kullaniciGirisi==2:\n",
    "    print(\"Para Yatirma Ekrani\")\n",
    "    miktar=int(input(\"Lutfen yatirmak istediginiz para miktarini giriniz:\"))\n",
    "    if miktar<=0:\n",
    "        print(\"Yatirmak istediginiz para miktari 0'dan buyuk olmalidir\")\n",
    "    else:\n",
    "        kullaniciBakiyesi+=miktar\n",
    "    print(\"Guncel Bakiye:\",kullaniciBakiyesi)    \n",
    "elif kullaniciGirisi==3:\n",
    "    print(\"Bakiye Goruntuleme Ekrani\")\n",
    "    print(\"Guncel Bakiye:\",kullaniciBakiyesi)    \n",
    "else:\n",
    "    print(\"Hata! Cikis Yapiliyor...\")\n",
    "    "
   ]
  },
  {
   "cell_type": "code",
   "execution_count": null,
   "metadata": {},
   "outputs": [],
   "source": []
  },
  {
   "cell_type": "code",
   "execution_count": null,
   "metadata": {},
   "outputs": [],
   "source": []
  },
  {
   "cell_type": "code",
   "execution_count": null,
   "metadata": {},
   "outputs": [],
   "source": []
  },
  {
   "cell_type": "code",
   "execution_count": null,
   "metadata": {},
   "outputs": [],
   "source": []
  },
  {
   "cell_type": "code",
   "execution_count": null,
   "metadata": {},
   "outputs": [],
   "source": []
  },
  {
   "cell_type": "code",
   "execution_count": null,
   "metadata": {},
   "outputs": [],
   "source": []
  },
  {
   "cell_type": "code",
   "execution_count": null,
   "metadata": {},
   "outputs": [],
   "source": []
  },
  {
   "cell_type": "code",
   "execution_count": null,
   "metadata": {},
   "outputs": [],
   "source": []
  },
  {
   "cell_type": "code",
   "execution_count": null,
   "metadata": {},
   "outputs": [],
   "source": []
  },
  {
   "cell_type": "code",
   "execution_count": null,
   "metadata": {},
   "outputs": [],
   "source": []
  }
 ],
 "metadata": {
  "kernelspec": {
   "display_name": "Python 3",
   "language": "python",
   "name": "python3"
  },
  "language_info": {
   "codemirror_mode": {
    "name": "ipython",
    "version": 3
   },
   "file_extension": ".py",
   "mimetype": "text/x-python",
   "name": "python",
   "nbconvert_exporter": "python",
   "pygments_lexer": "ipython3",
   "version": "3.8.5"
  }
 },
 "nbformat": 4,
 "nbformat_minor": 4
}
